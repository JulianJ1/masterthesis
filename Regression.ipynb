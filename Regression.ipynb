{
 "cells": [
  {
   "cell_type": "markdown",
   "metadata": {},
   "source": [
    "# Masterthesis\n",
    "## Regression\n",
    "\n",
    "#### Julian Jetz"
   ]
  },
  {
   "cell_type": "code",
   "execution_count": 1,
   "metadata": {},
   "outputs": [
    {
     "name": "stderr",
     "output_type": "stream",
     "text": [
      "Using TensorFlow backend.\n"
     ]
    }
   ],
   "source": [
    "import pandas as pd\n",
    "import numpy as np\n",
    "import tensorflow as tf\n",
    "import category_encoders as ce\n",
    "from tensorflow.python.data import Dataset\n",
    "from tensorflow.keras.models import Sequential\n",
    "from tensorflow.keras.layers import Dense, Dropout, BatchNormalization\n",
    "from tensorflow.keras import Input, Model\n",
    "from tensorflow.keras.utils import plot_model\n",
    "from tensorflow.keras.callbacks import EarlyStopping\n",
    "from keras.wrappers.scikit_learn import KerasRegressor \n",
    "from sklearn.model_selection import RandomizedSearchCV, KFold \n",
    "from sklearn.preprocessing import LabelEncoder, OneHotEncoder, OrdinalEncoder, MinMaxScaler, StandardScaler, LabelBinarizer, PolynomialFeatures\n",
    "from sklearn.model_selection import train_test_split\n",
    "from sklearn.metrics import mean_squared_error, r2_score, mean_absolute_error, mean_squared_log_error\n",
    "from sklearn.linear_model import LinearRegression, ElasticNet, Lasso, Ridge\n",
    "import matplotlib.pyplot as plt\n",
    "from scipy import stats"
   ]
  },
  {
   "cell_type": "code",
   "execution_count": 2,
   "metadata": {},
   "outputs": [],
   "source": [
    "na_values = ['nan', 'N/A', 'NaN', 'NaT']"
   ]
  },
  {
   "cell_type": "code",
   "execution_count": 3,
   "metadata": {},
   "outputs": [
    {
     "data": {
      "text/plain": [
       "70759"
      ]
     },
     "execution_count": 3,
     "metadata": {},
     "output_type": "execute_result"
    }
   ],
   "source": [
    "df = pd.read_csv('resources/accident_data.csv', sep=\";\", na_values=na_values, index_col=False, dtype = {\"STATE\" : \"str\", \"TYPE\" : \"str\", \"TYPEQ\" : \"str\", \"WEATHER\" : \"str\", \"VISIBLTY\" : \"str\", \"SPD_TOO_HIGH\" : \"str\"})\n",
    "df.shape[0]"
   ]
  },
  {
   "cell_type": "code",
   "execution_count": 4,
   "metadata": {},
   "outputs": [],
   "source": [
    "df=df.dropna(subset=['INFRASTRUCTURE_DMG', 'YEAR4', 'LOCOMOTIVES1', 'LOADF1', 'LOADP1', 'EMPTYF1', 'EMPTYP1','LOCOMOTIVES2', 'LOADF2', 'EMPTYF2', 'TONS', 'TEMP_CLUSTER', 'SPEED', 'ACCCAUSE_LVL1', 'EQUIPMENT_TYPE', 'TYPTRK', 'VISIBLTY', 'WEATHER', 'STATE', 'SPD_TOO_HIGH', 'ACCIDENT_TYPE', 'Jahreszeit'])"
   ]
  },
  {
   "cell_type": "code",
   "execution_count": 5,
   "metadata": {},
   "outputs": [],
   "source": [
    "std_dev = 2\n",
    "#df = df[(np.abs(stats.zscore(df[['LOCOMOTIVES1','LOADF1', 'LOADP1', 'EMPTYF1', 'EMPTYP1','LOCOMOTIVES2','LOADF2', 'EMPTYF2', 'INFRASTRUCTURE_DMG']])) < float(std_dev)).all(axis=1)]"
   ]
  },
  {
   "cell_type": "code",
   "execution_count": 6,
   "metadata": {},
   "outputs": [],
   "source": [
    "pd.set_option('display.max_columns', 500)\n",
    "#df.head(50)"
   ]
  },
  {
   "cell_type": "code",
   "execution_count": 7,
   "metadata": {
    "scrolled": true
   },
   "outputs": [
    {
     "data": {
      "text/plain": [
       "0"
      ]
     },
     "execution_count": 7,
     "metadata": {},
     "output_type": "execute_result"
    }
   ],
   "source": [
    "df[df['TONS']==0].shape[0]"
   ]
  },
  {
   "cell_type": "code",
   "execution_count": 8,
   "metadata": {},
   "outputs": [
    {
     "data": {
      "text/plain": [
       "1159"
      ]
     },
     "execution_count": 8,
     "metadata": {},
     "output_type": "execute_result"
    }
   ],
   "source": [
    "df[df['SPEED']==0].shape[0]"
   ]
  },
  {
   "cell_type": "code",
   "execution_count": 9,
   "metadata": {},
   "outputs": [
    {
     "data": {
      "text/plain": [
       "7"
      ]
     },
     "execution_count": 9,
     "metadata": {},
     "output_type": "execute_result"
    }
   ],
   "source": [
    "df[df['INFRASTRUCTURE_DMG']==0].shape[0]"
   ]
  },
  {
   "cell_type": "code",
   "execution_count": 10,
   "metadata": {},
   "outputs": [
    {
     "data": {
      "text/plain": [
       "True"
      ]
     },
     "execution_count": 10,
     "metadata": {},
     "output_type": "execute_result"
    }
   ],
   "source": [
    "df.isnull().values.any()"
   ]
  },
  {
   "cell_type": "code",
   "execution_count": 11,
   "metadata": {},
   "outputs": [],
   "source": [
    "#df.isnull().sum()"
   ]
  },
  {
   "cell_type": "markdown",
   "metadata": {},
   "source": [
    "## Vorbereitungen"
   ]
  },
  {
   "cell_type": "markdown",
   "metadata": {},
   "source": [
    "Festlegen der abhängigen Variablen X und der vorherzusagenden Variable y"
   ]
  },
  {
   "cell_type": "code",
   "execution_count": 12,
   "metadata": {},
   "outputs": [],
   "source": [
    "#x_data = df[['YEAR4', 'LOCOMOTIVES1', 'LOADF1', 'LOADP1', 'EMPTYF1', 'EMPTYP1','LOCOMOTIVES2', 'LOADF2', 'EMPTYF2', 'TONS', 'TEMP_CLUSTER', 'SPEED', 'ACCCAUSE_LVL1', 'TYPE', 'EQUIPMENT_TYPE', 'TYPTRK', 'VISIBLTY', 'WEATHER', 'STATE', 'SPD_TOO_HIGH', 'ACCTYPE', 'ACCIDENT_TYPE', 'Jahreszeit']]\n",
    "y = df['INFRASTRUCTURE_DMG']"
   ]
  },
  {
   "cell_type": "code",
   "execution_count": 13,
   "metadata": {},
   "outputs": [],
   "source": [
    "x_data = df[['TEMP', 'TYPEQ', 'TRKCLAS', 'ACCCAUSE_LVL1', 'ACCCAUSE_LVL2', 'ACCAUSE', 'YEAR4', 'STATE', 'MONTH', 'LOCOMOTIVES1', 'LOADF1', 'LOADP1', 'EMPTYF1', 'EMPTYP1','LOCOMOTIVES2', 'LOADF2', 'EMPTYF2', 'LOADP2', 'EMPTYP2', 'TONS', 'TEMP_CLUSTER', 'SPEED', 'ACCCAUSE_LVL1', 'TYPE', 'EQUIPMENT_TYPE', 'TYPTRK', 'VISIBLTY', 'WEATHER', 'SPD_TOO_HIGH', 'ACCTYPE', 'ACCIDENT_TYPE', 'Jahreszeit']]"
   ]
  },
  {
   "cell_type": "code",
   "execution_count": 14,
   "metadata": {},
   "outputs": [
    {
     "data": {
      "text/plain": [
       "70715"
      ]
     },
     "execution_count": 14,
     "metadata": {},
     "output_type": "execute_result"
    }
   ],
   "source": [
    "x_data.shape[0]"
   ]
  },
  {
   "cell_type": "code",
   "execution_count": 15,
   "metadata": {},
   "outputs": [
    {
     "name": "stdout",
     "output_type": "stream",
     "text": [
      "TEMP              0\n",
      "TYPEQ             0\n",
      "TRKCLAS           0\n",
      "ACCCAUSE_LVL1     0\n",
      "ACCCAUSE_LVL2     0\n",
      "ACCAUSE           0\n",
      "YEAR4             0\n",
      "STATE             0\n",
      "MONTH             0\n",
      "LOCOMOTIVES1      0\n",
      "LOADF1            0\n",
      "LOADP1            0\n",
      "EMPTYF1           0\n",
      "EMPTYP1           0\n",
      "LOCOMOTIVES2      0\n",
      "LOADF2            0\n",
      "EMPTYF2           0\n",
      "LOADP2            0\n",
      "EMPTYP2           0\n",
      "TONS              0\n",
      "TEMP_CLUSTER      0\n",
      "SPEED             0\n",
      "ACCCAUSE_LVL1     0\n",
      "TYPE              0\n",
      "EQUIPMENT_TYPE    0\n",
      "TYPTRK            0\n",
      "VISIBLTY          0\n",
      "WEATHER           0\n",
      "SPD_TOO_HIGH      0\n",
      "ACCTYPE           0\n",
      "ACCIDENT_TYPE     0\n",
      "Jahreszeit        0\n",
      "dtype: int64\n"
     ]
    }
   ],
   "source": [
    "print(x_data.isnull().sum())"
   ]
  },
  {
   "cell_type": "code",
   "execution_count": 16,
   "metadata": {},
   "outputs": [
    {
     "name": "stdout",
     "output_type": "stream",
     "text": [
      "0\n"
     ]
    }
   ],
   "source": [
    "print(y.isnull().sum())"
   ]
  },
  {
   "cell_type": "markdown",
   "metadata": {},
   "source": [
    "#### Aufteilen der Daten in Train und Test Datensatz"
   ]
  },
  {
   "cell_type": "code",
   "execution_count": 17,
   "metadata": {},
   "outputs": [],
   "source": [
    "def prepare_inputs_One_Hot(x):\n",
    "    encoder = OneHotEncoder(sparse=False)\n",
    "    encoder.fit(x)\n",
    "    x_enc = encoder.transform(x)\n",
    "    return x_enc"
   ]
  },
  {
   "cell_type": "code",
   "execution_count": 18,
   "metadata": {},
   "outputs": [],
   "source": [
    "def prepare_inputs_Ordinal(x):\n",
    "    encoder = OrdinalEncoder()\n",
    "    encoder.fit(x)\n",
    "    x_enc = encoder.transform(x)\n",
    "    return x_enc"
   ]
  },
  {
   "cell_type": "code",
   "execution_count": 19,
   "metadata": {},
   "outputs": [],
   "source": [
    "def prepare_inputs_Binary(x, cats):\n",
    "    encoder = ce.BinaryEncoder(cols=cats, return_df=True)\n",
    "    encoder.fit(x[cats])\n",
    "    df_bin = encoder.transform(x[cats])\n",
    "    return df_bin"
   ]
  },
  {
   "cell_type": "code",
   "execution_count": 20,
   "metadata": {},
   "outputs": [],
   "source": [
    "def prepare_inputs_Target(x, Y, cats, smoothing):\n",
    "    encoder = ce.TargetEncoder(cols=cats, return_df=True, min_samples_leaf = 5, smoothing=smoothing)\n",
    "    encoder.fit(x[cats], Y)\n",
    "    df_te = encoder.transform(x[cats], Y)\n",
    "    return df_te"
   ]
  },
  {
   "cell_type": "code",
   "execution_count": 21,
   "metadata": {},
   "outputs": [],
   "source": [
    "def prepare_inputs_Leave_One_Out(x, Y, cats):\n",
    "    encoder = ce.LeaveOneOutEncoder(cols=cats, return_df=True)\n",
    "    encoder.fit(x[cats], Y)\n",
    "    df_loo = encoder.transform(x[cats], Y)\n",
    "    return df_loo"
   ]
  },
  {
   "cell_type": "code",
   "execution_count": 22,
   "metadata": {},
   "outputs": [],
   "source": [
    "def prepare_inputs_HelmertEncoder(x, cats):\n",
    "    encoder = ce.HelmertEncoder(cols=cats, return_df=True)\n",
    "    encoder.fit(x[cats])\n",
    "    df_woe = encoder.transform(x[cats])\n",
    "    return df_woe"
   ]
  },
  {
   "cell_type": "markdown",
   "metadata": {},
   "source": [
    "## Features\n",
    "\n",
    "\n",
    "\n"
   ]
  },
  {
   "cell_type": "code",
   "execution_count": 23,
   "metadata": {},
   "outputs": [],
   "source": [
    "#cat = ['TEMP_CLUSTER', 'Jahreszeit', 'EQUIPMENT_TYPE', 'ACCIDENT_TYPE', 'TYPTRK', 'WEATHER', 'VISIBLTY', 'STATE', 'ACCCAUSE_LVL1', 'SPD_TOO_HIGH', 'ACCTYPE', 'TRKCLAS']"
   ]
  },
  {
   "cell_type": "code",
   "execution_count": 24,
   "metadata": {},
   "outputs": [],
   "source": [
    "#con = ['SPEED', 'TONS', 'YEAR4', 'LOADF1', 'EMPTYF1', 'LOADP1', 'EMPTYP1', 'LOCOMOTIVES1', 'LOADF2', 'EMPTYF2', 'LOADP2', 'EMPTYP2', 'LOCOMOTIVES2']"
   ]
  },
  {
   "cell_type": "code",
   "execution_count": 25,
   "metadata": {},
   "outputs": [],
   "source": [
    "cat = ['TEMP_CLUSTER', 'Jahreszeit', 'EQUIPMENT_TYPE', 'ACCIDENT_TYPE', 'STATE']"
   ]
  },
  {
   "cell_type": "code",
   "execution_count": 26,
   "metadata": {},
   "outputs": [],
   "source": [
    "con = ['SPEED', 'TONS', 'YEAR4', 'LOADF1', 'EMPTYF1', 'LOADP1', 'EMPTYP1', 'LOCOMOTIVES1' , 'LOADF2', 'EMPTYF2', 'LOADP2', 'EMPTYP2', 'LOCOMOTIVES2']"
   ]
  },
  {
   "cell_type": "markdown",
   "metadata": {},
   "source": [
    "\n",
    "\n",
    "\n",
    "\n",
    "\n"
   ]
  },
  {
   "cell_type": "code",
   "execution_count": 27,
   "metadata": {},
   "outputs": [],
   "source": [
    "x_enc_cat = prepare_inputs_Ordinal(x_data[cat])"
   ]
  },
  {
   "cell_type": "code",
   "execution_count": 28,
   "metadata": {},
   "outputs": [],
   "source": [
    "#x_enc_cat = prepare_inputs_One_Hot(x_data[cat])"
   ]
  },
  {
   "cell_type": "code",
   "execution_count": 29,
   "metadata": {},
   "outputs": [],
   "source": [
    "#x_enc_cat = prepare_inputs_Binary(x_data, cat)"
   ]
  },
  {
   "cell_type": "code",
   "execution_count": 30,
   "metadata": {},
   "outputs": [],
   "source": [
    "#x_enc_cat = prepare_inputs_Target(x_data, y, cat, 1.0)"
   ]
  },
  {
   "cell_type": "code",
   "execution_count": 31,
   "metadata": {},
   "outputs": [],
   "source": [
    "#x_enc_cat = prepare_inputs_Target(x_data, y, cat, 10)"
   ]
  },
  {
   "cell_type": "code",
   "execution_count": 32,
   "metadata": {},
   "outputs": [],
   "source": [
    "#x_enc_cat = prepare_inputs_Leave_One_Out(x_data, y, cat)"
   ]
  },
  {
   "cell_type": "code",
   "execution_count": 33,
   "metadata": {},
   "outputs": [],
   "source": [
    "#x_enc_cat = prepare_inputs_HelmertEncoder(x_data, cat)"
   ]
  },
  {
   "cell_type": "code",
   "execution_count": 34,
   "metadata": {},
   "outputs": [],
   "source": [
    "#cs = MinMaxScaler().fit(x_data[con])\n",
    "cs = StandardScaler().fit(x_data[con])\n",
    "x_enc_con = cs.transform(x_data[con])\n",
    "#x_enc_con = x_data[con]"
   ]
  },
  {
   "cell_type": "code",
   "execution_count": 35,
   "metadata": {},
   "outputs": [],
   "source": [
    "#cs_y = MinMaxScaler().fit(y.reshape(1, -1))\n",
    "cs_y = StandardScaler().fit(y.values.reshape(-1, 1))\n",
    "#y = cs_y.transform(y.values.reshape(-1, 1))"
   ]
  },
  {
   "cell_type": "code",
   "execution_count": 36,
   "metadata": {},
   "outputs": [],
   "source": [
    "X_Data = np.hstack([x_enc_cat, x_enc_con])"
   ]
  },
  {
   "cell_type": "code",
   "execution_count": 37,
   "metadata": {},
   "outputs": [],
   "source": [
    "X_train, X_test, y_train, y_test = train_test_split(X_Data, y, test_size=0.3, random_state=42)"
   ]
  },
  {
   "cell_type": "code",
   "execution_count": 38,
   "metadata": {},
   "outputs": [],
   "source": [
    "n_features = X_train.shape[1]"
   ]
  },
  {
   "cell_type": "markdown",
   "metadata": {},
   "source": [
    "## Sequential regression model"
   ]
  },
  {
   "cell_type": "code",
   "execution_count": 39,
   "metadata": {},
   "outputs": [],
   "source": [
    "def create_model(learning_rate = 0.01, activation = 'relu'):\n",
    "    seq_model = Sequential()\n",
    "    opt = tf.keras.optimizers.Adam(learning_rate=learning_rate)\n",
    "    \n",
    "    seq_model.add(Dense(32, activation = activation, input_shape=(n_features,)))\n",
    "    seq_model.add(BatchNormalization())\n",
    "    seq_model.add(Dropout(0.5))\n",
    "    seq_model.add(Dense(64, activation = activation))\n",
    "    seq_model.add(Dropout(0.5))\n",
    "    #seq_model.add(Dense(128, activation = activation))\n",
    "    #seq_model.add(Dropout(0.5))\n",
    "    #seq_model.add(Dense(64, activation = activation))\n",
    "    #seq_model.add(Dropout(0.5))\n",
    "    #seq_model.add(Dense(32, activation = activation))\n",
    "    #seq_model.add(Dropout(0.5))\n",
    "    seq_model.add(Dense(1, activation = activation))\n",
    "    seq_model.summary()\n",
    "    seq_model.compile(optimizer=opt, loss='mse', metrics=['mse', tf.keras.metrics.RootMeanSquaredError(name='rmse'), 'mae', 'msle', 'mape'])\n",
    "    return seq_model"
   ]
  },
  {
   "cell_type": "code",
   "execution_count": 40,
   "metadata": {},
   "outputs": [],
   "source": [
    "model = KerasRegressor(build_fn = create_model)"
   ]
  },
  {
   "cell_type": "code",
   "execution_count": 41,
   "metadata": {},
   "outputs": [],
   "source": [
    "params = {'activation': [\"relu\", \"tanh\", \"sigmoid\", \"selu\", \"softmax\"],'batch_size': [32, 64], 'epochs': [50, 100, 300, 1000],'learning_rate': [0.1, 0.01, 0.005, 0.001, 0.0001]}"
   ]
  },
  {
   "cell_type": "code",
   "execution_count": 42,
   "metadata": {},
   "outputs": [],
   "source": [
    "random_search = RandomizedSearchCV(model, param_distributions = params,cv = KFold(10))"
   ]
  },
  {
   "cell_type": "code",
   "execution_count": 43,
   "metadata": {},
   "outputs": [],
   "source": [
    "#random_search_results = random_search.fit(X_train, y_train)"
   ]
  },
  {
   "cell_type": "code",
   "execution_count": 44,
   "metadata": {},
   "outputs": [],
   "source": [
    "#print(\"Best Score: \",random_search_results.best_score_,\"and Best Params: \",random_search_results.best_params_)"
   ]
  },
  {
   "cell_type": "markdown",
   "metadata": {},
   "source": [
    "### Regression Allgemein"
   ]
  },
  {
   "cell_type": "code",
   "execution_count": 45,
   "metadata": {},
   "outputs": [],
   "source": [
    "epochs = 150"
   ]
  },
  {
   "cell_type": "code",
   "execution_count": 46,
   "metadata": {},
   "outputs": [],
   "source": [
    "learning_rate = 0.01"
   ]
  },
  {
   "cell_type": "code",
   "execution_count": 47,
   "metadata": {},
   "outputs": [],
   "source": [
    "activation = 'relu'"
   ]
  },
  {
   "cell_type": "code",
   "execution_count": 48,
   "metadata": {},
   "outputs": [],
   "source": [
    "dropout = 0"
   ]
  },
  {
   "cell_type": "code",
   "execution_count": 49,
   "metadata": {},
   "outputs": [],
   "source": [
    "metrics = ['mse', tf.keras.metrics.RootMeanSquaredError(name='rmse'), 'mae', 'mape']"
   ]
  },
  {
   "cell_type": "code",
   "execution_count": 50,
   "metadata": {},
   "outputs": [],
   "source": [
    "#opt = tf.keras.optimizers.Adam(learning_rate=learning_rate)\n",
    "#opt = tf.keras.optimizers.SGD(learning_rate=learning_rate , nesterov=True)\n",
    "opt = tf.keras.optimizers.Adadelta(learning_rate=learning_rate)\n",
    "\n"
   ]
  },
  {
   "cell_type": "markdown",
   "metadata": {},
   "source": [
    "## Sequential Regression with Keras"
   ]
  },
  {
   "cell_type": "code",
   "execution_count": 51,
   "metadata": {},
   "outputs": [],
   "source": [
    "seq_model = Sequential()\n",
    "\n",
    "seq_model.add(Dense(512, activation=activation, input_shape=(n_features,)))\n",
    "seq_model.add(BatchNormalization())\n",
    "seq_model.add(Dropout(dropout))\n",
    "seq_model.add(Dense(256, activation=activation))\n",
    "#seq_model.add(BatchNormalization())\n",
    "#seq_model.add(Dense(128, activation=activation))\n",
    "#seq_model.add(Dropout(dropout))\n",
    "#seq_model.add(Dense(64, activation=activation))\n",
    "#seq_model.add(Dropout(dropout))\n",
    "#seq_model.add(Dense(32, activation=activation))\n",
    "#seq_model.add(Dropout(dropout))\n",
    "seq_model.add(Dense(1))\n",
    "seq_model.compile(optimizer=opt, loss='mse', metrics=metrics)"
   ]
  },
  {
   "cell_type": "code",
   "execution_count": 52,
   "metadata": {},
   "outputs": [
    {
     "name": "stdout",
     "output_type": "stream",
     "text": [
      "Model: \"sequential\"\n",
      "_________________________________________________________________\n",
      "Layer (type)                 Output Shape              Param #   \n",
      "=================================================================\n",
      "dense (Dense)                (None, 512)               9728      \n",
      "_________________________________________________________________\n",
      "batch_normalization (BatchNo (None, 512)               2048      \n",
      "_________________________________________________________________\n",
      "dropout (Dropout)            (None, 512)               0         \n",
      "_________________________________________________________________\n",
      "dense_1 (Dense)              (None, 256)               131328    \n",
      "_________________________________________________________________\n",
      "dense_2 (Dense)              (None, 1)                 257       \n",
      "=================================================================\n",
      "Total params: 143,361\n",
      "Trainable params: 142,337\n",
      "Non-trainable params: 1,024\n",
      "_________________________________________________________________\n"
     ]
    }
   ],
   "source": [
    "seq_model.summary()"
   ]
  },
  {
   "cell_type": "code",
   "execution_count": 53,
   "metadata": {
    "scrolled": true
   },
   "outputs": [
    {
     "data": {
      "image/png": "[encoded data removed]",
      "text/plain": [
       "<IPython.core.display.Image object>"
      ]
     },
     "execution_count": 53,
     "metadata": {},
     "output_type": "execute_result"
    }
   ],
   "source": [
    "plot_model(seq_model, 'Images/Sequential Regression Model.png', show_shapes=True)"
   ]
  },
  {
   "cell_type": "code",
   "execution_count": 54,
   "metadata": {},
   "outputs": [],
   "source": [
    "es = EarlyStopping(monitor='val_loss', patience=5)"
   ]
  },
  {
   "cell_type": "code",
   "execution_count": null,
   "metadata": {
    "scrolled": true
   },
   "outputs": [
    {
     "name": "stdout",
     "output_type": "stream",
     "text": [
      "Epoch 1/150\n",
      "1547/1547 [==============================] - 4s 2ms/step - loss: 174464450560.0000 - mse: 174464450560.0000 - rmse: 417689.4062 - mae: 108245.2500 - mape: 548277.1250 - val_loss: 120805015552.0000 - val_mse: 120805015552.0000 - val_rmse: 347570.1562 - val_mae: 106732.8516 - val_mape: 380396.6250\n",
      "Epoch 2/150\n",
      "1547/1547 [==============================] - 3s 2ms/step - loss: 174461763584.0000 - mse: 174461763584.0000 - rmse: 417686.1875 - mae: 108233.7578 - mape: 1390720.6250 - val_loss: 120802025472.0000 - val_mse: 120802025472.0000 - val_rmse: 347565.8438 - val_mae: 106719.6719 - val_mape: 799884.9375\n",
      "Epoch 3/150\n",
      "1547/1547 [==============================] - 3s 2ms/step - loss: 174458257408.0000 - mse: 174458257408.0000 - rmse: 417682.0000 - mae: 108219.1016 - mape: 2557090.5000 - val_loss: 120798117888.0000 - val_mse: 120798117888.0000 - val_rmse: 347560.2500 - val_mae: 106702.2812 - val_mape: 1407991.1250\n",
      "Epoch 4/150\n",
      "1547/1547 [==============================] - 3s 2ms/step - loss: 174454145024.0000 - mse: 174454145024.0000 - rmse: 417677.0938 - mae: 108200.9609 - mape: 3387399.5000 - val_loss: 120793415680.0000 - val_mse: 120793415680.0000 - val_rmse: 347553.4688 - val_mae: 106682.8828 - val_mape: 2073495.2500\n",
      "Epoch 5/150\n",
      "1547/1547 [==============================] - 3s 2ms/step - loss: 174448951296.0000 - mse: 174448951296.0000 - rmse: 417670.8750 - mae: 108179.6250 - mape: 6399218.5000 - val_loss: 120787820544.0000 - val_mse: 120787820544.0000 - val_rmse: 347545.4375 - val_mae: 106659.5469 - val_mape: 2972700.0000\n",
      "Epoch 6/150\n",
      "1547/1547 [==============================] - 3s 2ms/step - loss: 174442889216.0000 - mse: 174442889216.0000 - rmse: 417663.5938 - mae: 108153.9766 - mape: 7004465.0000 - val_loss: 120780300288.0000 - val_mse: 120780300288.0000 - val_rmse: 347534.5938 - val_mae: 106629.7656 - val_mape: 3491311.7500\n",
      "Epoch 7/150\n",
      "1547/1547 [==============================] - 3s 2ms/step - loss: 174435172352.0000 - mse: 174435172352.0000 - rmse: 417654.3750 - mae: 108123.0156 - mape: 9181283.0000 - val_loss: 120772354048.0000 - val_mse: 120772354048.0000 - val_rmse: 347523.1562 - val_mae: 106597.3281 - val_mape: 4828238.5000\n",
      "Epoch 8/150\n",
      "1547/1547 [==============================] - 3s 2ms/step - loss: 174426783744.0000 - mse: 174426783744.0000 - rmse: 417644.3125 - mae: 108089.0547 - mape: 13243322.0000 - val_loss: 120763793408.0000 - val_mse: 120763793408.0000 - val_rmse: 347510.8438 - val_mae: 106561.4766 - val_mape: 6061594.0000\n",
      "Epoch 9/150\n",
      "1547/1547 [==============================] - 4s 2ms/step - loss: 174416871424.0000 - mse: 174416871424.0000 - rmse: 417632.4688 - mae: 108049.3047 - mape: 15471650.0000 - val_loss: 120752652288.0000 - val_mse: 120752652288.0000 - val_rmse: 347494.8125 - val_mae: 106518.8203 - val_mape: 7252105.0000\n",
      "Epoch 10/150\n",
      "1547/1547 [==============================] - 3s 2ms/step - loss: 174405255168.0000 - mse: 174405255168.0000 - rmse: 417618.5625 - mae: 108004.7266 - mape: 14557930.0000 - val_loss: 120737734656.0000 - val_mse: 120737734656.0000 - val_rmse: 347473.3438 - val_mae: 106465.1953 - val_mape: 8792543.0000\n",
      "Epoch 11/150\n",
      "1547/1547 [==============================] - 3s 2ms/step - loss: 174392033280.0000 - mse: 174392033280.0000 - rmse: 417602.7188 - mae: 107953.7344 - mape: 22983938.0000 - val_loss: 120724791296.0000 - val_mse: 120724791296.0000 - val_rmse: 347454.7188 - val_mae: 106415.3594 - val_mape: 10407078.0000\n",
      "Epoch 12/150\n",
      "1547/1547 [==============================] - 3s 2ms/step - loss: 174377189376.0000 - mse: 174377189376.0000 - rmse: 417584.9375 - mae: 107897.4922 - mape: 24261392.0000 - val_loss: 120707080192.0000 - val_mse: 120707080192.0000 - val_rmse: 347429.2500 - val_mae: 106351.5312 - val_mape: 12777418.0000\n",
      "Epoch 13/150\n",
      "1547/1547 [==============================] - 3s 2ms/step - loss: 174358134784.0000 - mse: 174358134784.0000 - rmse: 417562.1250 - mae: 107827.4141 - mape: 29136414.0000 - val_loss: 120687091712.0000 - val_mse: 120687091712.0000 - val_rmse: 347400.4688 - val_mae: 106280.5234 - val_mape: 14513570.0000\n",
      "Epoch 14/150\n",
      "1547/1547 [==============================] - 3s 2ms/step - loss: 174338621440.0000 - mse: 174338621440.0000 - rmse: 417538.7812 - mae: 107754.9531 - mape: 28887720.0000 - val_loss: 120664604672.0000 - val_mse: 120664604672.0000 - val_rmse: 347368.1250 - val_mae: 106202.6250 - val_mape: 16767073.0000\n",
      "Epoch 15/150\n",
      "1547/1547 [==============================] - 4s 2ms/step - loss: 174317699072.0000 - mse: 174317699072.0000 - rmse: 417513.7188 - mae: 107681.6562 - mape: 34196696.0000 - val_loss: 120643141632.0000 - val_mse: 120643141632.0000 - val_rmse: 347337.2188 - val_mae: 106126.6172 - val_mape: 18384130.0000\n",
      "Epoch 16/150\n",
      "1547/1547 [==============================] - 4s 3ms/step - loss: 174294695936.0000 - mse: 174294695936.0000 - rmse: 417486.1562 - mae: 107600.2031 - mape: 42701680.0000 - val_loss: 120614297600.0000 - val_mse: 120614297600.0000 - val_rmse: 347295.6875 - val_mae: 106036.6016 - val_mape: 21452978.0000\n",
      "Epoch 17/150\n",
      "1547/1547 [==============================] - 5s 3ms/step - loss: 174269480960.0000 - mse: 174269480960.0000 - rmse: 417455.9688 - mae: 107515.1875 - mape: 47412620.0000 - val_loss: 120588419072.0000 - val_mse: 120588419072.0000 - val_rmse: 347258.4375 - val_mae: 105950.1641 - val_mape: 24785004.0000\n",
      "Epoch 18/150\n",
      "1547/1547 [==============================] - 4s 2ms/step - loss: 174240628736.0000 - mse: 174240628736.0000 - rmse: 417421.4062 - mae: 107424.3984 - mape: 55805416.0000 - val_loss: 120556838912.0000 - val_mse: 120556838912.0000 - val_rmse: 347212.9688 - val_mae: 105853.4375 - val_mape: 28028940.0000\n",
      "Epoch 19/150\n",
      "1547/1547 [==============================] - 3s 2ms/step - loss: 174210334720.0000 - mse: 174210334720.0000 - rmse: 417385.1250 - mae: 107323.5391 - mape: 75974808.0000 - val_loss: 120524783616.0000 - val_mse: 120524783616.0000 - val_rmse: 347166.7812 - val_mae: 105751.4062 - val_mape: 31655058.0000\n",
      "Epoch 20/150\n",
      "1547/1547 [==============================] - 3s 2ms/step - loss: 174177533952.0000 - mse: 174177533952.0000 - rmse: 417345.8125 - mae: 107217.1016 - mape: 78446448.0000 - val_loss: 120490483712.0000 - val_mse: 120490483712.0000 - val_rmse: 347117.4062 - val_mae: 105641.0703 - val_mape: 35382244.0000\n",
      "Epoch 21/150\n",
      "1547/1547 [==============================] - 3s 2ms/step - loss: 174139031552.0000 - mse: 174139031552.0000 - rmse: 417299.6875 - mae: 107101.6094 - mape: 63841608.0000 - val_loss: 120443273216.0000 - val_mse: 120443273216.0000 - val_rmse: 347049.3750 - val_mae: 105523.8516 - val_mape: 39580872.0000\n",
      "Epoch 22/150\n",
      "1547/1547 [==============================] - 3s 2ms/step - loss: 174100414464.0000 - mse: 174100414464.0000 - rmse: 417253.4062 - mae: 106984.3828 - mape: 94077128.0000 - val_loss: 120390483968.0000 - val_mse: 120390483968.0000 - val_rmse: 346973.3125 - val_mae: 105385.5312 - val_mape: 45631788.0000\n",
      "Epoch 23/150\n",
      "1547/1547 [==============================] - 3s 2ms/step - loss: 174054850560.0000 - mse: 174054850560.0000 - rmse: 417198.8125 - mae: 106855.9922 - mape: 90362368.0000 - val_loss: 120350023680.0000 - val_mse: 120350023680.0000 - val_rmse: 346915.0000 - val_mae: 105268.2500 - val_mape: 48158196.0000\n",
      "Epoch 24/150\n",
      "1547/1547 [==============================] - 3s 2ms/step - loss: 174005108736.0000 - mse: 174005108736.0000 - rmse: 417139.1875 - mae: 106718.8281 - mape: 97036264.0000 - val_loss: 120306270208.0000 - val_mse: 120306270208.0000 - val_rmse: 346851.9375 - val_mae: 105133.4531 - val_mape: 54383192.0000\n",
      "Epoch 25/150\n",
      "1547/1547 [==============================] - 3s 2ms/step - loss: 173956808704.0000 - mse: 173956808704.0000 - rmse: 417081.3125 - mae: 106576.7578 - mape: 100660808.0000 - val_loss: 120240357376.0000 - val_mse: 120240357376.0000 - val_rmse: 346756.9062 - val_mae: 104975.0625 - val_mape: 59741556.0000\n",
      "Epoch 26/150\n",
      "1547/1547 [==============================] - 3s 2ms/step - loss: 173899857920.0000 - mse: 173899857920.0000 - rmse: 417013.0312 - mae: 106430.0156 - mape: 92658576.0000 - val_loss: 120174698496.0000 - val_mse: 120174698496.0000 - val_rmse: 346662.2188 - val_mae: 104831.2109 - val_mape: 64821108.0000\n",
      "Epoch 27/150\n"
     ]
    },
    {
     "name": "stdout",
     "output_type": "stream",
     "text": [
      "1547/1547 [==============================] - 3s 2ms/step - loss: 173830897664.0000 - mse: 173830897664.0000 - rmse: 416930.3125 - mae: 106267.3672 - mape: 119346752.0000 - val_loss: 120081981440.0000 - val_mse: 120081981440.0000 - val_rmse: 346528.4688 - val_mae: 104641.2734 - val_mape: 74812192.0000\n",
      "Epoch 28/150\n",
      "1547/1547 [==============================] - 3s 2ms/step - loss: 173765246976.0000 - mse: 173765246976.0000 - rmse: 416851.5938 - mae: 106104.9453 - mape: 124016776.0000 - val_loss: 120014577664.0000 - val_mse: 120014577664.0000 - val_rmse: 346431.1875 - val_mae: 104487.8594 - val_mape: 80144488.0000\n",
      "Epoch 29/150\n",
      "1547/1547 [==============================] - 3s 2ms/step - loss: 173689323520.0000 - mse: 173689323520.0000 - rmse: 416760.5000 - mae: 105933.6172 - mape: 135106448.0000 - val_loss: 119933444096.0000 - val_mse: 119933444096.0000 - val_rmse: 346314.0938 - val_mae: 104300.2188 - val_mape: 90660504.0000\n",
      "Epoch 30/150\n",
      "1547/1547 [==============================] - 3s 2ms/step - loss: 173604143104.0000 - mse: 173604143104.0000 - rmse: 416658.3125 - mae: 105753.9844 - mape: 109816984.0000 - val_loss: 119835688960.0000 - val_mse: 119835688960.0000 - val_rmse: 346172.9062 - val_mae: 104117.9688 - val_mape: 95322632.0000\n",
      "Epoch 31/150\n",
      "1547/1547 [==============================] - 3s 2ms/step - loss: 173515325440.0000 - mse: 173515325440.0000 - rmse: 416551.7188 - mae: 105565.7188 - mape: 131118360.0000 - val_loss: 119713988608.0000 - val_mse: 119713988608.0000 - val_rmse: 345997.0938 - val_mae: 103932.3594 - val_mape: 101311064.0000\n",
      "Epoch 32/150\n",
      "1547/1547 [==============================] - 3s 2ms/step - loss: 173418954752.0000 - mse: 173418954752.0000 - rmse: 416436.0000 - mae: 105376.5312 - mape: 127212328.0000 - val_loss: 119606206464.0000 - val_mse: 119606206464.0000 - val_rmse: 345841.3125 - val_mae: 103735.1250 - val_mape: 107533744.0000\n",
      "Epoch 33/150\n",
      "1547/1547 [==============================] - 3s 2ms/step - loss: 173317013504.0000 - mse: 173317013504.0000 - rmse: 416313.5938 - mae: 105180.7422 - mape: 145872528.0000 - val_loss: 119462985728.0000 - val_mse: 119462985728.0000 - val_rmse: 345634.1875 - val_mae: 103502.7109 - val_mape: 117626552.0000\n",
      "Epoch 34/150\n",
      "1547/1547 [==============================] - 3s 2ms/step - loss: 173212008448.0000 - mse: 173212008448.0000 - rmse: 416187.4688 - mae: 104973.3984 - mape: 175740464.0000 - val_loss: 119386603520.0000 - val_mse: 119386603520.0000 - val_rmse: 345523.6562 - val_mae: 103358.2812 - val_mape: 122743864.0000\n",
      "Epoch 35/150\n",
      "1547/1547 [==============================] - 3s 2ms/step - loss: 173077774336.0000 - mse: 173077774336.0000 - rmse: 416026.1562 - mae: 104745.7969 - mape: 181504992.0000 - val_loss: 119273660416.0000 - val_mse: 119273660416.0000 - val_rmse: 345360.1875 - val_mae: 103174.1641 - val_mape: 129165856.0000\n",
      "Epoch 36/150\n",
      "1547/1547 [==============================] - 3s 2ms/step - loss: 172940623872.0000 - mse: 172940623872.0000 - rmse: 415861.3125 - mae: 104517.7891 - mape: 121834216.0000 - val_loss: 119052181504.0000 - val_mse: 119052181504.0000 - val_rmse: 345039.4062 - val_mae: 102876.3906 - val_mape: 139893328.0000\n",
      "Epoch 37/150\n",
      "1547/1547 [==============================] - 3s 2ms/step - loss: 172796231680.0000 - mse: 172796231680.0000 - rmse: 415687.6562 - mae: 104282.8281 - mape: 165538480.0000 - val_loss: 118941515776.0000 - val_mse: 118941515776.0000 - val_rmse: 344879.0000 - val_mae: 102684.2109 - val_mape: 150587504.0000\n",
      "Epoch 38/150\n",
      "1547/1547 [==============================] - 3s 2ms/step - loss: 172636749824.0000 - mse: 172636749824.0000 - rmse: 415495.7812 - mae: 104025.0156 - mape: 186039344.0000 - val_loss: 118697148416.0000 - val_mse: 118697148416.0000 - val_rmse: 344524.5312 - val_mae: 102357.3672 - val_mape: 171570272.0000\n",
      "Epoch 39/150\n",
      "1547/1547 [==============================] - 3s 2ms/step - loss: 172465111040.0000 - mse: 172465111040.0000 - rmse: 415289.1875 - mae: 103781.7578 - mape: 206905776.0000 - val_loss: 118570704896.0000 - val_mse: 118570704896.0000 - val_rmse: 344340.9688 - val_mae: 102158.8047 - val_mape: 174026720.0000\n",
      "Epoch 40/150\n",
      "1547/1547 [==============================] - 3s 2ms/step - loss: 172278087680.0000 - mse: 172278087680.0000 - rmse: 415063.9688 - mae: 103494.1094 - mape: 214658288.0000 - val_loss: 118361587712.0000 - val_mse: 118361587712.0000 - val_rmse: 344037.1875 - val_mae: 101908.1641 - val_mape: 182957824.0000\n",
      "Epoch 41/150\n",
      "1547/1547 [==============================] - 3s 2ms/step - loss: 172079497216.0000 - mse: 172079497216.0000 - rmse: 414824.6562 - mae: 103227.9922 - mape: 216528800.0000 - val_loss: 118126755840.0000 - val_mse: 118126755840.0000 - val_rmse: 343695.7188 - val_mae: 101643.3281 - val_mape: 197036544.0000\n",
      "Epoch 42/150\n",
      "1547/1547 [==============================] - 3s 2ms/step - loss: 171862704128.0000 - mse: 171862704128.0000 - rmse: 414563.2812 - mae: 102935.6016 - mape: 264362400.0000 - val_loss: 117872492544.0000 - val_mse: 117872492544.0000 - val_rmse: 343325.6250 - val_mae: 101367.8828 - val_mape: 209891904.0000\n",
      "Epoch 43/150\n",
      "1547/1547 [==============================] - 3s 2ms/step - loss: 171641290752.0000 - mse: 171641290752.0000 - rmse: 414296.1250 - mae: 102642.4531 - mape: 193719008.0000 - val_loss: 117530394624.0000 - val_mse: 117530394624.0000 - val_rmse: 342827.0625 - val_mae: 100893.0156 - val_mape: 241387936.0000\n",
      "Epoch 44/150\n",
      "1547/1547 [==============================] - 3s 2ms/step - loss: 171399168000.0000 - mse: 171399168000.0000 - rmse: 414003.8125 - mae: 102326.7266 - mape: 143243632.0000 - val_loss: 117369421824.0000 - val_mse: 117369421824.0000 - val_rmse: 342592.2188 - val_mae: 100815.5703 - val_mape: 245916256.0000\n",
      "Epoch 45/150\n",
      "1547/1547 [==============================] - 3s 2ms/step - loss: 171130208256.0000 - mse: 171130208256.0000 - rmse: 413678.8750 - mae: 102004.2422 - mape: 247475424.0000 - val_loss: 117021507584.0000 - val_mse: 117021507584.0000 - val_rmse: 342084.0625 - val_mae: 100357.5703 - val_mape: 278885120.0000\n",
      "Epoch 46/150\n",
      "1547/1547 [==============================] - 3s 2ms/step - loss: 170873847808.0000 - mse: 170873847808.0000 - rmse: 413368.9062 - mae: 101663.4766 - mape: 186807392.0000 - val_loss: 116704813056.0000 - val_mse: 116704813056.0000 - val_rmse: 341620.8750 - val_mae: 100080.0703 - val_mape: 299274880.0000\n",
      "Epoch 47/150\n",
      "1547/1547 [==============================] - 3s 2ms/step - loss: 170558717952.0000 - mse: 170558717952.0000 - rmse: 412987.5625 - mae: 101315.9062 - mape: 204024384.0000 - val_loss: 116223705088.0000 - val_mse: 116223705088.0000 - val_rmse: 340915.9688 - val_mae: 99547.2578 - val_mape: 337098432.0000\n",
      "Epoch 48/150\n",
      "1547/1547 [==============================] - 3s 2ms/step - loss: 170229481472.0000 - mse: 170229481472.0000 - rmse: 412588.7500 - mae: 100947.5312 - mape: 299520768.0000 - val_loss: 115809550336.0000 - val_mse: 115809550336.0000 - val_rmse: 340308.0312 - val_mae: 99006.4062 - val_mape: 379150688.0000\n",
      "Epoch 49/150\n",
      "1547/1547 [==============================] - 3s 2ms/step - loss: 169919152128.0000 - mse: 169919152128.0000 - rmse: 412212.5000 - mae: 100579.8594 - mape: 371871744.0000 - val_loss: 115597901824.0000 - val_mse: 115597901824.0000 - val_rmse: 339996.9062 - val_mae: 98769.6797 - val_mape: 403771264.0000\n",
      "Epoch 50/150\n",
      "1547/1547 [==============================] - 3s 2ms/step - loss: 169554771968.0000 - mse: 169554771968.0000 - rmse: 411770.2812 - mae: 100191.4297 - mape: 278332544.0000 - val_loss: 115289948160.0000 - val_mse: 115289948160.0000 - val_rmse: 339543.7500 - val_mae: 98604.5078 - val_mape: 418226272.0000\n",
      "Epoch 51/150\n",
      "1547/1547 [==============================] - 3s 2ms/step - loss: 169226502144.0000 - mse: 169226502144.0000 - rmse: 411371.5000 - mae: 99829.8203 - mape: 204716032.0000 - val_loss: 114813050880.0000 - val_mse: 114813050880.0000 - val_rmse: 338840.7500 - val_mae: 98031.0703 - val_mape: 463660480.0000\n",
      "Epoch 52/150\n",
      "1547/1547 [==============================] - 3s 2ms/step - loss: 168842788864.0000 - mse: 168842788864.0000 - rmse: 410904.8438 - mae: 99391.2891 - mape: 322019072.0000 - val_loss: 114360016896.0000 - val_mse: 114360016896.0000 - val_rmse: 338171.5938 - val_mae: 97629.8906 - val_mape: 496534368.0000\n",
      "Epoch 53/150\n"
     ]
    },
    {
     "name": "stdout",
     "output_type": "stream",
     "text": [
      "1547/1547 [==============================] - 3s 2ms/step - loss: 168472494080.0000 - mse: 168472494080.0000 - rmse: 410454.0000 - mae: 98990.8047 - mape: 312474240.0000 - val_loss: 114059788288.0000 - val_mse: 114059788288.0000 - val_rmse: 337727.3750 - val_mae: 97285.8359 - val_mape: 530231040.0000\n",
      "Epoch 54/150\n",
      "1547/1547 [==============================] - 3s 2ms/step - loss: 168076705792.0000 - mse: 168076705792.0000 - rmse: 409971.5938 - mae: 98564.8906 - mape: 360874560.0000 - val_loss: 113565024256.0000 - val_mse: 113565024256.0000 - val_rmse: 336994.0938 - val_mae: 96864.5156 - val_mape: 566070464.0000\n",
      "Epoch 55/150\n",
      "1547/1547 [==============================] - 3s 2ms/step - loss: 167674658816.0000 - mse: 167674658816.0000 - rmse: 409480.9688 - mae: 98135.1328 - mape: 326060480.0000 - val_loss: 112882835456.0000 - val_mse: 112882835456.0000 - val_rmse: 335980.4062 - val_mae: 96158.3750 - val_mape: 622984256.0000\n",
      "Epoch 56/150\n",
      "1547/1547 [==============================] - 3s 2ms/step - loss: 167240728576.0000 - mse: 167240728576.0000 - rmse: 408950.7500 - mae: 97673.8750 - mape: 377607776.0000 - val_loss: 112571293696.0000 - val_mse: 112571293696.0000 - val_rmse: 335516.4688 - val_mae: 95902.2266 - val_mape: 652840576.0000\n",
      "Epoch 57/150\n",
      "1547/1547 [==============================] - 3s 2ms/step - loss: 166809452544.0000 - mse: 166809452544.0000 - rmse: 408423.1250 - mae: 97228.6016 - mape: 271328864.0000 - val_loss: 112188547072.0000 - val_mse: 112188547072.0000 - val_rmse: 334945.5938 - val_mae: 95577.2188 - val_mape: 684276608.0000\n",
      "Epoch 58/150\n",
      "1547/1547 [==============================] - 3s 2ms/step - loss: 166398607360.0000 - mse: 166398607360.0000 - rmse: 407919.8438 - mae: 96771.0703 - mape: 391665248.0000 - val_loss: 111385845760.0000 - val_mse: 111385845760.0000 - val_rmse: 333745.1875 - val_mae: 94811.9375 - val_mape: 751374016.0000\n",
      "Epoch 59/150\n",
      "1547/1547 [==============================] - 3s 2ms/step - loss: 165870895104.0000 - mse: 165870895104.0000 - rmse: 407272.5000 - mae: 96329.5547 - mape: 417799584.0000 - val_loss: 111096782848.0000 - val_mse: 111096782848.0000 - val_rmse: 333311.8438 - val_mae: 94467.4609 - val_mape: 792157696.0000\n",
      "Epoch 60/150\n",
      "1547/1547 [==============================] - 3s 2ms/step - loss: 165400887296.0000 - mse: 165400887296.0000 - rmse: 406695.0938 - mae: 95909.8359 - mape: 460317056.0000 - val_loss: 110657519616.0000 - val_mse: 110657519616.0000 - val_rmse: 332652.2500 - val_mae: 94116.1797 - val_mape: 825927936.0000\n",
      "Epoch 61/150\n",
      "1547/1547 [==============================] - 3s 2ms/step - loss: 164981686272.0000 - mse: 164981686272.0000 - rmse: 406179.3750 - mae: 95452.4062 - mape: 508764672.0000 - val_loss: 109894025216.0000 - val_mse: 109894025216.0000 - val_rmse: 331502.6875 - val_mae: 93484.1172 - val_mape: 884065472.0000\n",
      "Epoch 62/150\n",
      "1547/1547 [==============================] - 3s 2ms/step - loss: 164507664384.0000 - mse: 164507664384.0000 - rmse: 405595.4375 - mae: 94957.7578 - mape: 461398304.0000 - val_loss: 109482213376.0000 - val_mse: 109482213376.0000 - val_rmse: 330880.9688 - val_mae: 93040.3906 - val_mape: 938387520.0000\n",
      "Epoch 63/150\n",
      "1547/1547 [==============================] - 3s 2ms/step - loss: 163955965952.0000 - mse: 163955965952.0000 - rmse: 404914.7500 - mae: 94530.6094 - mape: 473770208.0000 - val_loss: 108766576640.0000 - val_mse: 108766576640.0000 - val_rmse: 329797.7812 - val_mae: 92416.7266 - val_mape: 994912640.0000\n",
      "Epoch 64/150\n",
      "1547/1547 [==============================] - 3s 2ms/step - loss: 163456286720.0000 - mse: 163456286720.0000 - rmse: 404297.2812 - mae: 94088.9922 - mape: 343509632.0000 - val_loss: 108477988864.0000 - val_mse: 108477988864.0000 - val_rmse: 329359.9688 - val_mae: 92159.4062 - val_mape: 1028850880.0000\n",
      "Epoch 65/150\n",
      "1547/1547 [==============================] - 3s 2ms/step - loss: 162996764672.0000 - mse: 162996764672.0000 - rmse: 403728.5625 - mae: 93724.4766 - mape: 804170240.0000 - val_loss: 107912241152.0000 - val_mse: 107912241152.0000 - val_rmse: 328500.0000 - val_mae: 91738.0312 - val_mape: 1072962688.0000\n",
      "Epoch 66/150\n",
      "1547/1547 [==============================] - 3s 2ms/step - loss: 162381070336.0000 - mse: 162381070336.0000 - rmse: 402965.3438 - mae: 93214.3906 - mape: 826082816.0000 - val_loss: 107266654208.0000 - val_mse: 107266654208.0000 - val_rmse: 327515.8750 - val_mae: 91201.2500 - val_mape: 1140910848.0000\n",
      "Epoch 67/150\n",
      "1547/1547 [==============================] - 3s 2ms/step - loss: 161908113408.0000 - mse: 161908113408.0000 - rmse: 402378.0625 - mae: 92827.9609 - mape: 899121024.0000 - val_loss: 106897416192.0000 - val_mse: 106897416192.0000 - val_rmse: 326951.7188 - val_mae: 91024.0391 - val_mape: 1161544960.0000\n",
      "Epoch 68/150\n",
      "1547/1547 [==============================] - 3s 2ms/step - loss: 161331363840.0000 - mse: 161331363840.0000 - rmse: 401660.7500 - mae: 92424.2578 - mape: 631718720.0000 - val_loss: 105561235456.0000 - val_mse: 105561235456.0000 - val_rmse: 324901.8750 - val_mae: 90063.2109 - val_mape: 1262049920.0000\n",
      "Epoch 69/150\n",
      "1547/1547 [==============================] - 3s 2ms/step - loss: 160876855296.0000 - mse: 160876855296.0000 - rmse: 401094.5625 - mae: 92010.5469 - mape: 995846208.0000 - val_loss: 105211002880.0000 - val_mse: 105211002880.0000 - val_rmse: 324362.4688 - val_mae: 89781.7422 - val_mape: 1311321856.0000\n",
      "Epoch 70/150\n",
      "1547/1547 [==============================] - 3s 2ms/step - loss: 160234389504.0000 - mse: 160234389504.0000 - rmse: 400292.8750 - mae: 91594.2969 - mape: 674145664.0000 - val_loss: 105300869120.0000 - val_mse: 105300869120.0000 - val_rmse: 324500.9688 - val_mae: 89741.3672 - val_mape: 1332221952.0000\n",
      "Epoch 71/150\n",
      "1547/1547 [==============================] - 3s 2ms/step - loss: 159811026944.0000 - mse: 159811026944.0000 - rmse: 399763.7188 - mae: 91281.9453 - mape: 479454816.0000 - val_loss: 104460812288.0000 - val_mse: 104460812288.0000 - val_rmse: 323203.9688 - val_mae: 89292.6562 - val_mape: 1388485120.0000.0000 - mse: 134605053952.0000 - rmse: 3668\n",
      "Epoch 72/150\n",
      "1547/1547 [==============================] - 3s 2ms/step - loss: 159167430656.0000 - mse: 159167430656.0000 - rmse: 398957.9375 - mae: 90906.0469 - mape: 815545920.0000 - val_loss: 103433551872.0000 - val_mse: 103433551872.0000 - val_rmse: 321610.8750 - val_mae: 88450.3438 - val_mape: 1502865792.0000\n",
      "Epoch 73/150\n",
      "1547/1547 [==============================] - 3s 2ms/step - loss: 158573232128.0000 - mse: 158573232128.0000 - rmse: 398212.5312 - mae: 90640.6562 - mape: 685001920.0000 - val_loss: 102817292288.0000 - val_mse: 102817292288.0000 - val_rmse: 320651.3438 - val_mae: 88130.3047 - val_mape: 1546361984.0000\n",
      "Epoch 74/150\n",
      "1547/1547 [==============================] - 3s 2ms/step - loss: 158181556224.0000 - mse: 158181556224.0000 - rmse: 397720.4375 - mae: 90329.5000 - mape: 569253760.0000 - val_loss: 102820937728.0000 - val_mse: 102820937728.0000 - val_rmse: 320657.0312 - val_mae: 88073.2891 - val_mape: 1575690240.0000\n",
      "Epoch 75/150\n",
      "1547/1547 [==============================] - 3s 2ms/step - loss: 157526540288.0000 - mse: 157526540288.0000 - rmse: 396896.1250 - mae: 89910.4766 - mape: 812611136.0000 - val_loss: 101864710144.0000 - val_mse: 101864710144.0000 - val_rmse: 319162.5000 - val_mae: 87521.8594 - val_mape: 1668366080.0000\n",
      "Epoch 76/150\n",
      "1547/1547 [==============================] - 3s 2ms/step - loss: 157125935104.0000 - mse: 157125935104.0000 - rmse: 396391.1250 - mae: 89747.9922 - mape: 674262016.0000 - val_loss: 101439750144.0000 - val_mse: 101439750144.0000 - val_rmse: 318496.0625 - val_mae: 87235.9062 - val_mape: 1721009664.0000\n",
      "Epoch 77/150\n",
      "1547/1547 [==============================] - 3s 2ms/step - loss: 156643393536.0000 - mse: 156643393536.0000 - rmse: 395782.0000 - mae: 89456.2188 - mape: 762072576.0000 - val_loss: 100434886656.0000 - val_mse: 100434886656.0000 - val_rmse: 316914.6250 - val_mae: 86781.3672 - val_mape: 1799109248.0000\n",
      "Epoch 78/150\n",
      "1547/1547 [==============================] - 3s 2ms/step - loss: 155947286528.0000 - mse: 155947286528.0000 - rmse: 394901.6250 - mae: 89039.0000 - mape: 676284928.0000 - val_loss: 99925483520.0000 - val_mse: 99925483520.0000 - val_rmse: 316109.9375 - val_mae: 86523.5391 - val_mape: 1829579520.0000\n"
     ]
    },
    {
     "name": "stdout",
     "output_type": "stream",
     "text": [
      "Epoch 79/150\n",
      "1547/1547 [==============================] - 3s 2ms/step - loss: 155308998656.0000 - mse: 155308998656.0000 - rmse: 394092.6250 - mae: 88768.1016 - mape: 685867584.0000 - val_loss: 99207954432.0000 - val_mse: 99207954432.0000 - val_rmse: 314972.9375 - val_mae: 86064.0547 - val_mape: 1929908096.0000\n",
      "Epoch 80/150\n",
      "1547/1547 [==============================] - 3s 2ms/step - loss: 154751893504.0000 - mse: 154751893504.0000 - rmse: 393385.1875 - mae: 88659.5547 - mape: 983868544.0000 - val_loss: 98083553280.0000 - val_mse: 98083553280.0000 - val_rmse: 313182.9375 - val_mae: 85579.4922 - val_mape: 1996584832.0000\n",
      "Epoch 81/150\n",
      "1547/1547 [==============================] - 3s 2ms/step - loss: 154245922816.0000 - mse: 154245922816.0000 - rmse: 392741.5625 - mae: 88382.8359 - mape: 1053831616.0000 - val_loss: 98151489536.0000 - val_mse: 98151489536.0000 - val_rmse: 313291.3750 - val_mae: 85576.2969 - val_mape: 2049320704.0000\n",
      "Epoch 82/150\n",
      "1547/1547 [==============================] - 3s 2ms/step - loss: 153750585344.0000 - mse: 153750585344.0000 - rmse: 392110.4375 - mae: 88146.5312 - mape: 876823936.0000 - val_loss: 97442193408.0000 - val_mse: 97442193408.0000 - val_rmse: 312157.3125 - val_mae: 85339.2500 - val_mape: 2070858624.0000\n",
      "Epoch 83/150\n",
      "1547/1547 [==============================] - 3s 2ms/step - loss: 153311084544.0000 - mse: 153311084544.0000 - rmse: 391549.5938 - mae: 88079.7188 - mape: 994331840.0000 - val_loss: 97302241280.0000 - val_mse: 97302241280.0000 - val_rmse: 311933.0625 - val_mae: 85272.7734 - val_mape: 2102222976.0000\n",
      "Epoch 84/150\n",
      "1547/1547 [==============================] - 3s 2ms/step - loss: 152584617984.0000 - mse: 152584617984.0000 - rmse: 390620.8125 - mae: 87750.7109 - mape: 964350912.0000 - val_loss: 96049733632.0000 - val_mse: 96049733632.0000 - val_rmse: 309918.9062 - val_mae: 84775.2656 - val_mape: 2217342208.0000\n",
      "Epoch 85/150\n",
      "1547/1547 [==============================] - 3s 2ms/step - loss: 152160436224.0000 - mse: 152160436224.0000 - rmse: 390077.4688 - mae: 87629.6875 - mape: 1226814208.0000 - val_loss: 95856312320.0000 - val_mse: 95856312320.0000 - val_rmse: 309606.7188 - val_mae: 84668.6875 - val_mape: 2231577600.0000\n",
      "Epoch 86/150\n",
      "1547/1547 [==============================] - 3s 2ms/step - loss: 151634395136.0000 - mse: 151634395136.0000 - rmse: 389402.6250 - mae: 87441.1016 - mape: 1363600896.0000 - val_loss: 95349202944.0000 - val_mse: 95349202944.0000 - val_rmse: 308786.6562 - val_mae: 84505.2344 - val_mape: 2318982656.0000\n",
      "Epoch 87/150\n",
      "1547/1547 [==============================] - 3s 2ms/step - loss: 151174840320.0000 - mse: 151174840320.0000 - rmse: 388812.0938 - mae: 87316.9219 - mape: 803469760.0000 - val_loss: 94133329920.0000 - val_mse: 94133329920.0000 - val_rmse: 306811.5625 - val_mae: 84066.5078 - val_mape: 2424780800.0000\n",
      "Epoch 88/150\n",
      "1547/1547 [==============================] - 3s 2ms/step - loss: 150622961664.0000 - mse: 150622961664.0000 - rmse: 388101.7500 - mae: 87201.1953 - mape: 1198494464.0000 - val_loss: 93895327744.0000 - val_mse: 93895327744.0000 - val_rmse: 306423.4375 - val_mae: 83996.0703 - val_mape: 2442935296.0000\n",
      "Epoch 89/150\n",
      "1547/1547 [==============================] - 3s 2ms/step - loss: 150081667072.0000 - mse: 150081667072.0000 - rmse: 387403.7500 - mae: 87055.4922 - mape: 713220800.0000 - val_loss: 93293420544.0000 - val_mse: 93293420544.0000 - val_rmse: 305439.7188 - val_mae: 83814.1172 - val_mape: 2475126016.0000\n",
      "Epoch 90/150\n",
      "1547/1547 [==============================] - 3s 2ms/step - loss: 149393588224.0000 - mse: 149393588224.0000 - rmse: 386514.6562 - mae: 86851.6797 - mape: 1658467456.0000 - val_loss: 93641089024.0000 - val_mse: 93641089024.0000 - val_rmse: 306008.3125 - val_mae: 83936.0312 - val_mape: 2487431168.0000\n",
      "Epoch 91/150\n",
      "1547/1547 [==============================] - 3s 2ms/step - loss: 148899102720.0000 - mse: 148899102720.0000 - rmse: 385874.4688 - mae: 86847.9297 - mape: 1326917120.0000 - val_loss: 92114370560.0000 - val_mse: 92114370560.0000 - val_rmse: 303503.5000 - val_mae: 83402.0469 - val_mape: 2556006912.0000\n",
      "Epoch 92/150\n",
      "1547/1547 [==============================] - 3s 2ms/step - loss: 148912979968.0000 - mse: 148912979968.0000 - rmse: 385892.4375 - mae: 86826.1406 - mape: 1301137024.0000 - val_loss: 92646244352.0000 - val_mse: 92646244352.0000 - val_rmse: 304378.4688 - val_mae: 83668.1250 - val_mape: 2567227904.0000\n",
      "Epoch 93/150\n",
      "1547/1547 [==============================] - 3s 2ms/step - loss: 148156104704.0000 - mse: 148156104704.0000 - rmse: 384910.5000 - mae: 86837.2188 - mape: 1814704896.0000 - val_loss: 91699814400.0000 - val_mse: 91699814400.0000 - val_rmse: 302819.7812 - val_mae: 83382.5547 - val_mape: 2656594688.0000\n",
      "Epoch 94/150\n",
      "1547/1547 [==============================] - 3s 2ms/step - loss: 147798310912.0000 - mse: 147798310912.0000 - rmse: 384445.4688 - mae: 86700.9766 - mape: 1843649280.0000 - val_loss: 89847963648.0000 - val_mse: 89847963648.0000 - val_rmse: 299746.5000 - val_mae: 82858.3906 - val_mape: 2815505152.0000\n",
      "Epoch 95/150\n",
      "1547/1547 [==============================] - 3s 2ms/step - loss: 147110100992.0000 - mse: 147110100992.0000 - rmse: 383549.3438 - mae: 86540.6172 - mape: 859876032.0000 - val_loss: 89845751808.0000 - val_mse: 89845751808.0000 - val_rmse: 299742.8125 - val_mae: 82931.9375 - val_mape: 2842623232.0000\n",
      "Epoch 96/150\n",
      "1547/1547 [==============================] - 3s 2ms/step - loss: 146609537024.0000 - mse: 146609537024.0000 - rmse: 382896.2500 - mae: 86664.7109 - mape: 1229809408.0000 - val_loss: 89605398528.0000 - val_mse: 89605398528.0000 - val_rmse: 299341.5938 - val_mae: 83021.1719 - val_mape: 2900752896.0000\n",
      "Epoch 97/150\n",
      "1547/1547 [==============================] - 3s 2ms/step - loss: 146255052800.0000 - mse: 146255052800.0000 - rmse: 382433.0625 - mae: 86674.6719 - mape: 1426082176.0000 - val_loss: 88915042304.0000 - val_mse: 88915042304.0000 - val_rmse: 298186.2500 - val_mae: 82903.9531 - val_mape: 2962176512.0000\n",
      "Epoch 98/150\n",
      "1547/1547 [==============================] - 3s 2ms/step - loss: 145947508736.0000 - mse: 145947508736.0000 - rmse: 382030.7812 - mae: 86701.1250 - mape: 1290947840.0000 - val_loss: 88131256320.0000 - val_mse: 88131256320.0000 - val_rmse: 296869.0938 - val_mae: 82588.7891 - val_mape: 2963533056.0000\n",
      "Epoch 99/150\n",
      "1547/1547 [==============================] - 3s 2ms/step - loss: 145428103168.0000 - mse: 145428103168.0000 - rmse: 381350.3750 - mae: 86567.7812 - mape: 1519838976.0000 - val_loss: 88157503488.0000 - val_mse: 88157503488.0000 - val_rmse: 296913.2812 - val_mae: 82563.7031 - val_mape: 2947311360.0000\n",
      "Epoch 100/150\n",
      "1547/1547 [==============================] - 3s 2ms/step - loss: 144621273088.0000 - mse: 144621273088.0000 - rmse: 380291.0312 - mae: 86288.2656 - mape: 1270589568.0000 - val_loss: 87664918528.0000 - val_mse: 87664918528.0000 - val_rmse: 296082.6250 - val_mae: 82521.7891 - val_mape: 3004116224.0000\n",
      "Epoch 101/150\n",
      "1547/1547 [==============================] - 3s 2ms/step - loss: 144451354624.0000 - mse: 144451354624.0000 - rmse: 380067.5625 - mae: 86704.2500 - mape: 1470811776.0000 - val_loss: 87502544896.0000 - val_mse: 87502544896.0000 - val_rmse: 295808.2812 - val_mae: 82859.6016 - val_mape: 3141293824.0000\n",
      "Epoch 102/150\n",
      "1547/1547 [==============================] - 3s 2ms/step - loss: 143888039936.0000 - mse: 143888039936.0000 - rmse: 379325.7812 - mae: 86512.5781 - mape: 1194224128.0000 - val_loss: 86434717696.0000 - val_mse: 86434717696.0000 - val_rmse: 293997.8125 - val_mae: 82475.8906 - val_mape: 3168079872.0000\n",
      "Epoch 103/150\n",
      "1547/1547 [==============================] - 3s 2ms/step - loss: 143624765440.0000 - mse: 143624765440.0000 - rmse: 378978.5938 - mae: 86768.7344 - mape: 1705942400.0000 - val_loss: 85646688256.0000 - val_mse: 85646688256.0000 - val_rmse: 292654.5625 - val_mae: 82306.6953 - val_mape: 3226309632.0000\n",
      "Epoch 104/150\n",
      "1547/1547 [==============================] - 3s 2ms/step - loss: 143234695168.0000 - mse: 143234695168.0000 - rmse: 378463.5938 - mae: 86791.3125 - mape: 1303293824.0000 - val_loss: 84790435840.0000 - val_mse: 84790435840.0000 - val_rmse: 291187.9688 - val_mae: 82120.6328 - val_mape: 3260283904.0000\n",
      "Epoch 105/150\n"
     ]
    },
    {
     "name": "stdout",
     "output_type": "stream",
     "text": [
      "1547/1547 [==============================] - 3s 2ms/step - loss: 142653308928.0000 - mse: 142653308928.0000 - rmse: 377694.7188 - mae: 86768.3828 - mape: 1564519680.0000 - val_loss: 85106081792.0000 - val_mse: 85106081792.0000 - val_rmse: 291729.4688 - val_mae: 82498.4297 - val_mape: 3336591616.0000\n",
      "Epoch 106/150\n",
      "1547/1547 [==============================] - 3s 2ms/step - loss: 142241480704.0000 - mse: 142241480704.0000 - rmse: 377149.1562 - mae: 86837.5000 - mape: 1847415040.0000 - val_loss: 84945944576.0000 - val_mse: 84945944576.0000 - val_rmse: 291454.8750 - val_mae: 82481.1641 - val_mape: 3347450368.0000\n",
      "Epoch 107/150\n",
      "1547/1547 [==============================] - 3s 2ms/step - loss: 142027145216.0000 - mse: 142027145216.0000 - rmse: 376864.8750 - mae: 86913.9688 - mape: 1891410688.0000 - val_loss: 84520722432.0000 - val_mse: 84520722432.0000 - val_rmse: 290724.4688 - val_mae: 82670.5859 - val_mape: 3448509184.0000\n",
      "Epoch 108/150\n",
      "1547/1547 [==============================] - 3s 2ms/step - loss: 141824573440.0000 - mse: 141824573440.0000 - rmse: 376596.0312 - mae: 87169.3984 - mape: 1244825728.0000 - val_loss: 83169591296.0000 - val_mse: 83169591296.0000 - val_rmse: 288391.3750 - val_mae: 82290.4219 - val_mape: 3502799872.0000\n",
      "Epoch 109/150\n",
      "1547/1547 [==============================] - 3s 2ms/step - loss: 141411090432.0000 - mse: 141411090432.0000 - rmse: 376046.6562 - mae: 87019.5625 - mape: 1621047680.0000 - val_loss: 82680856576.0000 - val_mse: 82680856576.0000 - val_rmse: 287542.7812 - val_mae: 82160.9609 - val_mape: 3524385280.0000\n",
      "Epoch 110/150\n",
      "1547/1547 [==============================] - 3s 2ms/step - loss: 141239320576.0000 - mse: 141239320576.0000 - rmse: 375818.1875 - mae: 87373.4297 - mape: 1239822976.0000 - val_loss: 82525913088.0000 - val_mse: 82525913088.0000 - val_rmse: 287273.2500 - val_mae: 82280.7969 - val_mape: 3590987776.0000\n",
      "Epoch 111/150\n",
      "1547/1547 [==============================] - 3s 2ms/step - loss: 140541755392.0000 - mse: 140541755392.0000 - rmse: 374889.0000 - mae: 87238.2812 - mape: 1905194240.0000 - val_loss: 81794949120.0000 - val_mse: 81794949120.0000 - val_rmse: 285998.1562 - val_mae: 81986.5156 - val_mape: 3588330240.0000\n",
      "Epoch 112/150\n",
      "1547/1547 [==============================] - 3s 2ms/step - loss: 140333105152.0000 - mse: 140333105152.0000 - rmse: 374610.5938 - mae: 87496.6250 - mape: 1852349696.0000 - val_loss: 81496440832.0000 - val_mse: 81496440832.0000 - val_rmse: 285475.8125 - val_mae: 82162.9531 - val_mape: 3669386752.0000\n",
      "Epoch 113/150\n",
      "1547/1547 [==============================] - 3s 2ms/step - loss: 139955896320.0000 - mse: 139955896320.0000 - rmse: 374106.8125 - mae: 87414.6250 - mape: 2316553472.0000 - val_loss: 81882316800.0000 - val_mse: 81882316800.0000 - val_rmse: 286150.8750 - val_mae: 82964.7109 - val_mape: 3812838144.0000\n",
      "Epoch 114/150\n",
      "1547/1547 [==============================] - 3s 2ms/step - loss: 139423809536.0000 - mse: 139423809536.0000 - rmse: 373394.9688 - mae: 87321.6484 - mape: 2007761280.0000 - val_loss: 81816625152.0000 - val_mse: 81816625152.0000 - val_rmse: 286036.0625 - val_mae: 82286.2109 - val_mape: 3692749056.0000\n",
      "Epoch 115/150\n",
      "1547/1547 [==============================] - 3s 2ms/step - loss: 139125391360.0000 - mse: 139125391360.0000 - rmse: 372995.1562 - mae: 87823.7969 - mape: 1293867136.0000 - val_loss: 80070402048.0000 - val_mse: 80070402048.0000 - val_rmse: 282967.1250 - val_mae: 82131.4688 - val_mape: 3815981056.0000\n",
      "Epoch 116/150\n",
      "1547/1547 [==============================] - 3s 2ms/step - loss: 138893295616.0000 - mse: 138893295616.0000 - rmse: 372683.9062 - mae: 87951.7734 - mape: 1425300480.0000 - val_loss: 79418023936.0000 - val_mse: 79418023936.0000 - val_rmse: 281812.0312 - val_mae: 82514.6875 - val_mape: 3949334784.0000\n",
      "Epoch 117/150\n",
      "1547/1547 [==============================] - 3s 2ms/step - loss: 138786291712.0000 - mse: 138786291712.0000 - rmse: 372540.3125 - mae: 87706.4297 - mape: 1672493824.0000 - val_loss: 80294502400.0000 - val_mse: 80294502400.0000 - val_rmse: 283362.8438 - val_mae: 82848.7891 - val_mape: 3960450560.0000\n",
      "Epoch 118/150\n",
      "1547/1547 [==============================] - 3s 2ms/step - loss: 138292625408.0000 - mse: 138292625408.0000 - rmse: 371877.1562 - mae: 88006.3125 - mape: 1460648832.0000 - val_loss: 78335328256.0000 - val_mse: 78335328256.0000 - val_rmse: 279884.5000 - val_mae: 82510.3047 - val_mape: 4067266816.0000\n",
      "Epoch 119/150\n",
      "1547/1547 [==============================] - 3s 2ms/step - loss: 137902145536.0000 - mse: 137902145536.0000 - rmse: 371351.7812 - mae: 88067.5547 - mape: 1937217024.0000 - val_loss: 79388098560.0000 - val_mse: 79388098560.0000 - val_rmse: 281758.9375 - val_mae: 82675.3750 - val_mape: 4032996864.0000\n",
      "Epoch 120/150\n",
      "1547/1547 [==============================] - 3s 2ms/step - loss: 137672212480.0000 - mse: 137672212480.0000 - rmse: 371042.0625 - mae: 88161.0312 - mape: 1906674688.0000 - val_loss: 77889978368.0000 - val_mse: 77889978368.0000 - val_rmse: 279087.7500 - val_mae: 82106.9141 - val_mape: 4053351936.0000\n",
      "Epoch 121/150\n",
      "1547/1547 [==============================] - 4s 3ms/step - loss: 137392111616.0000 - mse: 137392111616.0000 - rmse: 370664.4062 - mae: 88383.5781 - mape: 2291135232.0000 - val_loss: 77108592640.0000 - val_mse: 77108592640.0000 - val_rmse: 277684.3438 - val_mae: 82324.7734 - val_mape: 4162073088.0000\n",
      "Epoch 122/150\n",
      "1547/1547 [==============================] - 4s 3ms/step - loss: 137021595648.0000 - mse: 137021595648.0000 - rmse: 370164.2812 - mae: 88283.3984 - mape: 1624583552.0000 - val_loss: 78149640192.0000 - val_mse: 78149640192.0000 - val_rmse: 279552.5625 - val_mae: 82789.9766 - val_mape: 4186808576.0000\n",
      "Epoch 123/150\n",
      "1547/1547 [==============================] - 4s 3ms/step - loss: 136494718976.0000 - mse: 136494718976.0000 - rmse: 369451.9062 - mae: 88137.0781 - mape: 1569900032.0000 - val_loss: 77170040832.0000 - val_mse: 77170040832.0000 - val_rmse: 277794.9688 - val_mae: 82806.0312 - val_mape: 4263039488.0000\n",
      "Epoch 124/150\n",
      "1547/1547 [==============================] - 4s 3ms/step - loss: 136521834496.0000 - mse: 136521834496.0000 - rmse: 369488.6250 - mae: 88570.0547 - mape: 1715585280.0000 - val_loss: 77460807680.0000 - val_mse: 77460807680.0000 - val_rmse: 278317.8125 - val_mae: 82467.6094 - val_mape: 4199545600.0000\n",
      "Epoch 125/150\n",
      "1547/1547 [==============================] - 4s 2ms/step - loss: 136460222464.0000 - mse: 136460222464.0000 - rmse: 369405.2188 - mae: 88854.2812 - mape: 1507992832.0000 - val_loss: 76543107072.0000 - val_mse: 76543107072.0000 - val_rmse: 276664.2500 - val_mae: 83133.4922 - val_mape: 4375214592.0000\n",
      "Epoch 126/150\n",
      "1547/1547 [==============================] - 3s 2ms/step - loss: 135918837760.0000 - mse: 135918837760.0000 - rmse: 368671.7188 - mae: 88872.3047 - mape: 1469373440.0000 - val_loss: 77644980224.0000 - val_mse: 77644980224.0000 - val_rmse: 278648.5000 - val_mae: 83519.0781 - val_mape: 4389630464.0000\n",
      "Epoch 127/150\n",
      "1547/1547 [==============================] - 3s 2ms/step - loss: 135886733312.0000 - mse: 135886733312.0000 - rmse: 368628.1875 - mae: 89173.6328 - mape: 1578432640.0000 - val_loss: 76167266304.0000 - val_mse: 76167266304.0000 - val_rmse: 275984.1875 - val_mae: 82551.1172 - val_mape: 4345287168.0000\n",
      "Epoch 128/150\n",
      "1547/1547 [==============================] - 3s 2ms/step - loss: 135335231488.0000 - mse: 135335231488.0000 - rmse: 367879.3750 - mae: 88911.7188 - mape: 2488410112.0000 - val_loss: 77633339392.0000 - val_mse: 77633339392.0000 - val_rmse: 278627.5938 - val_mae: 82737.8516 - val_mape: 4308707328.0000\n",
      "Epoch 129/150\n",
      "1547/1547 [==============================] - 3s 2ms/step - loss: 135751008256.0000 - mse: 135751008256.0000 - rmse: 368444.0312 - mae: 89411.3125 - mape: 2068272768.0000 - val_loss: 76094906368.0000 - val_mse: 76094906368.0000 - val_rmse: 275853.0625 - val_mae: 83100.2578 - val_mape: 4483873792.0000\n",
      "Epoch 130/150\n",
      "1547/1547 [==============================] - 3s 2ms/step - loss: 134974619648.0000 - mse: 134974619648.0000 - rmse: 367388.9062 - mae: 89363.9219 - mape: 2652812544.0000 - val_loss: 76149112832.0000 - val_mse: 76149112832.0000 - val_rmse: 275951.2812 - val_mae: 82966.8594 - val_mape: 4466888704.0000\n",
      "Epoch 131/150\n"
     ]
    },
    {
     "name": "stdout",
     "output_type": "stream",
     "text": [
      "1223/1547 [======================>.......] - ETA: 0s - loss: 147105529856.0000 - mse: 147105529856.0000 - rmse: 383543.3750 - mae: 89883.4453 - mape: 536858528.0000"
     ]
    }
   ],
   "source": [
    "history = seq_model.fit(X_train, y_train, validation_data=(X_test, y_test), \n",
    "                        epochs=epochs, batch_size=32)"
   ]
  },
  {
   "cell_type": "code",
   "execution_count": null,
   "metadata": {},
   "outputs": [],
   "source": [
    "plt.figure(figsize=(10,10))\n",
    "plt.plot(history.history['loss'], label='train')\n",
    "plt.plot(history.history['val_loss'], label='val')\n",
    "plt.title('Learning Curves')\n",
    "plt.xlabel('Epoch')\n",
    "plt.ylabel('Cross Entropy')\n",
    "plt.legend()\n",
    "plt.show()"
   ]
  },
  {
   "cell_type": "code",
   "execution_count": null,
   "metadata": {},
   "outputs": [],
   "source": [
    "error = seq_model.evaluate(X_test, y_test)"
   ]
  },
  {
   "cell_type": "code",
   "execution_count": null,
   "metadata": {},
   "outputs": [],
   "source": [
    "print('MSE: %.3f, RMSE: %.3f, MAE: %.3f, MAPE: %.3f' % \n",
    "      (error[1], error[2], error[3], error[4]))"
   ]
  },
  {
   "cell_type": "code",
   "execution_count": null,
   "metadata": {},
   "outputs": [],
   "source": [
    "predictions= seq_model.predict(X_test)\n",
    "plt.plot(y_test, predictions, 'o')\n",
    "plt.xlabel('Actual values (test data)')\n",
    "plt.ylabel('predicted values (test data)')"
   ]
  },
  {
   "cell_type": "code",
   "execution_count": null,
   "metadata": {},
   "outputs": [],
   "source": [
    "r2_seq = r2_score(y_test, predictions)\n",
    "r2_seq"
   ]
  },
  {
   "cell_type": "code",
   "execution_count": null,
   "metadata": {},
   "outputs": [],
   "source": [
    "adj_r2_seq = 1-(1-r2_seq)*((len(X_test)-1)/(len(X_test)-(len(cat)+len(con))))"
   ]
  },
  {
   "cell_type": "code",
   "execution_count": null,
   "metadata": {
    "scrolled": true
   },
   "outputs": [],
   "source": [
    "print(('%.6f \\t %.6f \\t %.0f  \\t %.0f \\t %.0f  \\t %.0f ' % \n",
    "      (r2_seq, adj_r2_seq, error[2], error[1], error[3], error[4])).replace('.', ','))"
   ]
  },
  {
   "cell_type": "code",
   "execution_count": null,
   "metadata": {},
   "outputs": [],
   "source": [
    "train_predictions = seq_model.predict(X_train)\n",
    "plt.plot(y_train, train_predictions, 'o')\n",
    "plt.xlabel('Actual values (train data)')\n",
    "plt.ylabel('predicted values (train data)')"
   ]
  },
  {
   "cell_type": "code",
   "execution_count": null,
   "metadata": {},
   "outputs": [],
   "source": [
    "predictions = predictions.flatten()"
   ]
  },
  {
   "cell_type": "code",
   "execution_count": null,
   "metadata": {},
   "outputs": [],
   "source": [
    "train_predictions = train_predictions.flatten()"
   ]
  },
  {
   "cell_type": "code",
   "execution_count": null,
   "metadata": {},
   "outputs": [],
   "source": [
    "pred = pd.DataFrame({'Actual': y_test, 'Predicted': predictions})\n",
    "pred1 = pred.sample(50)\n",
    "\n",
    "pred1.plot(kind='bar',figsize=(20,16))\n",
    "plt.grid(which='major', linestyle='-', linewidth='0.5', color='green')\n",
    "plt.grid(which='minor', linestyle=':', linewidth='0.5', color='black')\n",
    "plt.show()"
   ]
  },
  {
   "cell_type": "code",
   "execution_count": null,
   "metadata": {},
   "outputs": [],
   "source": [
    "plt.scatter(train_predictions, train_predictions - y_train, c='b', s=40, alpha=0.5, label='Train Data')\n",
    "plt.scatter(predictions, predictions - y_test, c='g', s=40, label='Test Data')\n",
    "plt.hlines(y=0, xmin=-0.03, xmax=0.2)\n",
    "plt.title('Residual Plot of DNN Regression')\n",
    "plt.ylabel('Residuals')\n",
    "plt.xlabel('Accident Damage')\n",
    "plt.legend()\n",
    "plt.show()"
   ]
  },
  {
   "cell_type": "markdown",
   "metadata": {},
   "source": [
    "## Functional API Regression Model with Keras"
   ]
  },
  {
   "cell_type": "code",
   "execution_count": null,
   "metadata": {},
   "outputs": [],
   "source": [
    "x_in = Input(shape=(n_features,))\n",
    "dense = Dense(1024, activation=activation)\n",
    "x = dense(x_in)\n",
    "x = Dropout(dropout)(x)\n",
    "x = Dense(512, activation=activation)(x)\n",
    "#x = Dense(256, activation=activation)(x)\n",
    "#x = Dropout(dropout)(x)\n",
    "#x = Dense(128, activation=activation)(x)\n",
    "#x = Dropout(dropout)(x)\n",
    "#x = Dense(64, activation=activation)(x)\n",
    "#x = Dropout(dropout)(x)\n",
    "x_out = Dense(1)(x)\n",
    "func_model = Model(inputs=x_in, outputs=x_out)"
   ]
  },
  {
   "cell_type": "code",
   "execution_count": null,
   "metadata": {},
   "outputs": [],
   "source": [
    "func_model.summary()"
   ]
  },
  {
   "cell_type": "code",
   "execution_count": null,
   "metadata": {},
   "outputs": [],
   "source": [
    "plot_model(func_model, 'Images/Functional API Regression Model.png', show_shapes=True)"
   ]
  },
  {
   "cell_type": "code",
   "execution_count": null,
   "metadata": {},
   "outputs": [],
   "source": [
    "func_model.compile(optimizer=opt, loss='mse', metrics=metrics)"
   ]
  },
  {
   "cell_type": "code",
   "execution_count": null,
   "metadata": {},
   "outputs": [],
   "source": [
    "es = EarlyStopping(monitor='val_loss', patience=5)"
   ]
  },
  {
   "cell_type": "code",
   "execution_count": null,
   "metadata": {
    "scrolled": true
   },
   "outputs": [],
   "source": [
    "func_history = func_model.fit(X_train, y_train, validation_data=(X_test, y_test), \n",
    "                        epochs=epochs, batch_size=32)"
   ]
  },
  {
   "cell_type": "code",
   "execution_count": null,
   "metadata": {},
   "outputs": [],
   "source": [
    "plt.figure(figsize=(20,10))\n",
    "plt.plot(func_history.history['loss'], label='train')\n",
    "plt.plot(func_history.history['val_loss'], label='val')\n",
    "plt.title('Learning Curves')\n",
    "plt.xlabel('Epoch')\n",
    "plt.ylabel('Cross Entropy')\n",
    "plt.legend()\n",
    "plt.show()"
   ]
  },
  {
   "cell_type": "code",
   "execution_count": null,
   "metadata": {},
   "outputs": [],
   "source": [
    "mse = func_model.evaluate(X_test, y_test, verbose=0)\n",
    "print('MSE: %.3f, RMSE: %.3f, MAE: %.3f, MAPE: %.3f' % \n",
    "      (mse[1], mse[2], mse[3], mse[4]))"
   ]
  },
  {
   "cell_type": "code",
   "execution_count": null,
   "metadata": {},
   "outputs": [],
   "source": [
    "func_predictions=func_model.predict(X_test)\n",
    "plt.plot(y_test, func_predictions, 'o')\n",
    "plt.xlabel('Actual values (test data)')\n",
    "plt.ylabel('predicted values (test data)')"
   ]
  },
  {
   "cell_type": "code",
   "execution_count": null,
   "metadata": {},
   "outputs": [],
   "source": [
    "r2_func = r2_score(y_test, func_predictions)\n",
    "r2_func"
   ]
  },
  {
   "cell_type": "code",
   "execution_count": null,
   "metadata": {},
   "outputs": [],
   "source": [
    "adj_r2_func = 1-(1-r2_func)*((len(X_test)-1)/(len(X_test)-(len(cat)+len(con))))\n",
    "adj_r2_func"
   ]
  },
  {
   "cell_type": "code",
   "execution_count": null,
   "metadata": {
    "scrolled": false
   },
   "outputs": [],
   "source": [
    "print(('%.6f \\t %.6f \\t %.0f  \\t %.0f \\t %.0f  \\t %.0f ' % \n",
    "      (r2_func, adj_r2_func, mse[2], mse[1], mse[3], mse[4])).replace('.', ','))"
   ]
  },
  {
   "cell_type": "code",
   "execution_count": null,
   "metadata": {},
   "outputs": [],
   "source": [
    "func_train_predictions=func_model.predict(X_train)\n",
    "plt.plot(y_train, func_train_predictions, 'o')\n",
    "plt.xlabel('Actual values (train data)')\n",
    "plt.ylabel('predicted values (train data)')"
   ]
  },
  {
   "cell_type": "code",
   "execution_count": null,
   "metadata": {},
   "outputs": [],
   "source": [
    "func_predictions = func_predictions.flatten()"
   ]
  },
  {
   "cell_type": "code",
   "execution_count": null,
   "metadata": {},
   "outputs": [],
   "source": [
    "func_train_predictions = func_train_predictions.flatten()"
   ]
  },
  {
   "cell_type": "code",
   "execution_count": null,
   "metadata": {},
   "outputs": [],
   "source": [
    "pred = pd.DataFrame({'Actual': y_test, 'Predicted': func_predictions})\n",
    "pred1 = pred.sample(50)\n",
    "\n",
    "pred1.plot(kind='bar',figsize=(20,16))\n",
    "plt.grid(which='major', linestyle='-', linewidth='0.5', color='green')\n",
    "plt.grid(which='minor', linestyle=':', linewidth='0.5', color='black')\n",
    "plt.show()"
   ]
  },
  {
   "cell_type": "code",
   "execution_count": null,
   "metadata": {},
   "outputs": [],
   "source": [
    "plt.scatter(func_train_predictions, func_train_predictions - y_train, c='b', s=40, alpha=0.5, label='Train Data')\n",
    "plt.scatter(func_predictions, func_predictions - y_test, c='g', s=40, label='Test Data')\n",
    "plt.hlines(y=0, xmin=-0.03, xmax=0.2)\n",
    "plt.title('Residual Plot of DNN Regression')\n",
    "plt.ylabel('Residuals')\n",
    "plt.xlabel('Accident Damage')\n",
    "plt.legend()\n",
    "plt.show()"
   ]
  },
  {
   "cell_type": "markdown",
   "metadata": {},
   "source": [
    "## Polynomial Regression with Scikit-Learn\n",
    "* Polynomial Regression\n",
    "* Polynomial Regression with Lasso => Lasso Regression schrumpft Koeffizienten um absoluten Wert -> ausselektieren.\n",
    "* Polynomial Regression with Ridge (Ridge Regression or Tikhonov regularization) => Ridge Regression schrumpft Koeffizienten um relativen Wert."
   ]
  },
  {
   "cell_type": "code",
   "execution_count": null,
   "metadata": {},
   "outputs": [],
   "source": [
    "def poly_regression(X_train, X_test, Y_train, Y_test, reg):\n",
    "    reg.fit(X_train, Y_train)\n",
    "    y_pred = reg.predict(X_test)\n",
    "    coef = reg.coef_\n",
    "    intercept = reg.intercept_\n",
    "    r2 = r2_score(Y_test, y_pred)\n",
    "    MSA = mean_absolute_error(Y_test, y_pred) \n",
    "    MSE = mean_squared_error(Y_test, y_pred)\n",
    "    RMSE = np.sqrt(MSE)\n",
    "    MSLE = mean_squared_log_error(Y_test, y_pred)\n",
    "    \n",
    "    return [r2, MSA, MSE, RMSE, MSLE]"
   ]
  },
  {
   "cell_type": "code",
   "execution_count": null,
   "metadata": {},
   "outputs": [],
   "source": [
    "def create_polynomial_regression_model(degree, reg):  \n",
    "    poly_feat = PolynomialFeatures(degree=degree)\n",
    "    X_train_poly = poly_feat.fit_transform(X_train)\n",
    "    poly = reg[1].fit(X_train_poly, y_train)\n",
    "    y_train_pred = poly.predict(X_train_poly)\n",
    "    y_pred = poly.predict(poly_feat.fit_transform(X_test))\n",
    "    r2 = r2_score(y_test, y_pred)\n",
    "    adj_r2 = 1-(1-r2)*((len(X_test)-1)/(len(X_test)-(len(cat)+len(con))))\n",
    "    MSA = mean_absolute_error(y_test, y_pred) \n",
    "    MSE = mean_squared_error(y_test, y_pred)\n",
    "    RMSE = np.sqrt(MSE)\n",
    "    #MSLE = mean_squared_log_error(y_test, y_pred)\n",
    "    \n",
    "    #print(\"The model performance with %s and a degree of %s\" % (reg[0], degree))\n",
    "    #print(\"R2 score of test set is %s\" % (r2))\n",
    "    #print(\"RMSE score of test set is %s\" % (RMSE))\n",
    "    #print(\"MSE score of test set is %s\" % (MSE))\n",
    "    #print(\"-------------------------------------------\")\n",
    "    #print((\"%s \\t %s \\t %.6f \\t %.0f \\t %.4f\" % (reg[0], degree, r2, RMSE, MSE)).replace('.', ','))\n",
    "    print((\"%.6f \\t %.6f \\t %.0f \\t %.0f \\t %.0f\" % (r2, adj_r2, RMSE, MSE, MAE)).replace('.', ','))\n",
    "    return [r2, adj_r2, MSA, MSE, RMSE, reg[1].coef_]"
   ]
  },
  {
   "cell_type": "code",
   "execution_count": null,
   "metadata": {},
   "outputs": [],
   "source": [
    "#poly = PolynomialFeatures(n_features)"
   ]
  },
  {
   "cell_type": "code",
   "execution_count": null,
   "metadata": {},
   "outputs": [],
   "source": [
    "degrees = [10, 15, 20]\n",
    "poly_models = [[\"Lasso\", Lasso()], [\"ElasticNet\", ElasticNet()]]"
   ]
  },
  {
   "cell_type": "code",
   "execution_count": null,
   "metadata": {},
   "outputs": [],
   "source": [
    "import warnings\n",
    "warnings.filterwarnings(\"ignore\")"
   ]
  },
  {
   "cell_type": "code",
   "execution_count": null,
   "metadata": {
    "scrolled": false
   },
   "outputs": [],
   "source": [
    "#for mod in poly_models:\n",
    "#    for deg in degrees:\n",
    "#        poly_reg = create_polynomial_regression_model(deg, mod)"
   ]
  },
  {
   "cell_type": "code",
   "execution_count": null,
   "metadata": {},
   "outputs": [],
   "source": [
    "#poly_reg = poly_regression(X_train_poly, Y_train, X_test_poly, Y_test, LinearRegression())"
   ]
  },
  {
   "cell_type": "code",
   "execution_count": null,
   "metadata": {},
   "outputs": [],
   "source": [
    "#poly_lasso_reg = poly_regression(X_train_poly, Y_train, X_test_poly, Y_test, Lasso())"
   ]
  },
  {
   "cell_type": "code",
   "execution_count": null,
   "metadata": {},
   "outputs": [],
   "source": [
    "#poly_ridge_reg = poly_regression(X_train_poly, Y_train, X_test_poly, Y_test, Ridge())"
   ]
  },
  {
   "cell_type": "markdown",
   "metadata": {},
   "source": [
    "## Regression Results"
   ]
  },
  {
   "cell_type": "code",
   "execution_count": null,
   "metadata": {},
   "outputs": [],
   "source": [
    "\"\"\"regressionresults = [\n",
    "                                [\n",
    "                                    r2_func ,mse[1], mse[2], mse[4], mse[3], mse[5]\n",
    "                                ],\n",
    "                                [\n",
    "                                    r2_seq ,error[1], error[2], error[4], error[3], error[5]\n",
    "                                ],\n",
    "                                [\n",
    "                                    r2, polyerror[1], polyerror[2], polyerror[4], polyerror[3], polyerror[5]\n",
    "                                ],\n",
    "                                [\n",
    "                                    poly_reg[0],  poly_reg[2], poly_reg[3], poly_reg[4], poly_reg[1], np.NaN\n",
    "                                ],\n",
    "                                [\n",
    "                                    poly_lasso_reg[0],  poly_lasso_reg[2], poly_lasso_reg[3], poly_lasso_reg[4], poly_lasso_reg[1], np.NaN\n",
    "                                ],\n",
    "                                [\n",
    "                                    poly_ridge_reg[0],  poly_ridge_reg[2], poly_ridge_reg[3], poly_ridge_reg[4], poly_ridge_reg[1], np.NaN\n",
    "                                ]\n",
    "                            ]\n",
    "reg_results = pd.DataFrame(regressionresults,columns=[\"R2\", \"MSE\", \"RMSE\",\"MSLE\", \"MAE\", \"MAPE\"], index=[\"Functional Neural Network Regression (Keras)\", \"Sequential Neural Network Regression (Keras)\", \"Polynomial Regression (Keras)\", \"Polynomial Regression (Scikit-Learn)\", \"Polynomial Regression with Lasso (Scikit-Learn)\", \"Polynomial Regression with Ridge (Scikit-Learn)\"]).style.format(\"{:,.1f}\")\n",
    "\"\"\""
   ]
  },
  {
   "cell_type": "code",
   "execution_count": null,
   "metadata": {},
   "outputs": [],
   "source": [
    "#reg_results"
   ]
  }
 ],
 "metadata": {
  "kernelspec": {
   "display_name": "Python (Master)",
   "language": "python",
   "name": "masterthesis"
  },
  "language_info": {
   "codemirror_mode": {
    "name": "ipython",
    "version": 3
   },
   "file_extension": ".py",
   "mimetype": "text/x-python",
   "name": "python",
   "nbconvert_exporter": "python",
   "pygments_lexer": "ipython3",
   "version": "3.7.3"
  }
 },
 "nbformat": 4,
 "nbformat_minor": 2
}
