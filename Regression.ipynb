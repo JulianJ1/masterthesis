{
 "cells": [
  {
   "cell_type": "markdown",
   "metadata": {},
   "source": [
    "# Masterthesis\n",
    "## Regression\n",
    "\n",
    "#### Julian Jetz"
   ]
  },
  {
   "cell_type": "code",
   "execution_count": 1,
   "metadata": {},
   "outputs": [
    {
     "name": "stderr",
     "output_type": "stream",
     "text": [
      "Using TensorFlow backend.\n"
     ]
    }
   ],
   "source": [
    "import pandas as pd\n",
    "import numpy as np\n",
    "import tensorflow as tf\n",
    "import category_encoders as ce\n",
    "import sklearn as sk\n",
    "import seaborn as sns\n",
    "from tensorflow.python.data import Dataset\n",
    "from tensorflow.keras.models import Sequential\n",
    "from tensorflow.keras.layers import Dense, Dropout, BatchNormalization\n",
    "from tensorflow.keras import Input, Model\n",
    "from tensorflow.keras.utils import plot_model\n",
    "from tensorflow.keras.callbacks import EarlyStopping, ReduceLROnPlateau\n",
    "from keras.wrappers.scikit_learn import KerasRegressor \n",
    "from sklearn.model_selection import RandomizedSearchCV, KFold \n",
    "from sklearn.preprocessing import LabelEncoder, OneHotEncoder, OrdinalEncoder, MinMaxScaler, StandardScaler, LabelBinarizer, PolynomialFeatures\n",
    "from sklearn.model_selection import train_test_split\n",
    "from sklearn.metrics import mean_squared_error, r2_score, mean_absolute_error, make_scorer\n",
    "from sklearn.linear_model import LinearRegression, Ridge, Lasso, ElasticNet, SGDRegressor\n",
    "from sklearn.ensemble import RandomForestRegressor \n",
    "import matplotlib.pyplot as plt\n",
    "from scipy import stats"
   ]
  },
  {
   "cell_type": "code",
   "execution_count": 2,
   "metadata": {},
   "outputs": [],
   "source": [
    "na_values = ['nan', 'N/A', 'NaN', 'NaT']"
   ]
  },
  {
   "cell_type": "code",
   "execution_count": 3,
   "metadata": {},
   "outputs": [],
   "source": [
    "df = pd.read_csv('resources/accident_data.csv', sep=\";\", na_values=na_values, index_col=False, dtype = {\"STATE\" : \"str\", \"TYPE\" : \"str\", \"TYPEQ\" : \"str\", \"WEATHER\" : \"str\", \"VISIBLTY\" : \"str\", \"SPD_TOO_HIGH\" : \"str\"})"
   ]
  },
  {
   "cell_type": "code",
   "execution_count": 4,
   "metadata": {},
   "outputs": [],
   "source": [
    "df=df.dropna(subset=['WEATHER', 'VISIBLTY'])\n",
    "pd.set_option('display.max_columns', 500)\n",
    "#df.head(50)"
   ]
  },
  {
   "cell_type": "markdown",
   "metadata": {},
   "source": [
    "## Vorbereitungen"
   ]
  },
  {
   "cell_type": "markdown",
   "metadata": {},
   "source": [
    "Festlegen der abhängigen Variablen X und der vorherzusagenden Variable y"
   ]
  },
  {
   "cell_type": "code",
   "execution_count": 5,
   "metadata": {},
   "outputs": [],
   "source": [
    "x_data = df[['TEMP', 'TYPEQ', 'TRKCLAS', 'ACCCAUSE_LVL1', 'ACCCAUSE_LVL2', 'ACCAUSE', 'YEAR4', 'STATE', 'MONTH', 'LOCOMOTIVES1', 'LOADF1', 'LOADP1', 'EMPTYF1', 'EMPTYP1','LOCOMOTIVES2', 'LOADF2', 'EMPTYF2', 'LOADP2', 'EMPTYP2', 'TONS', 'TEMP_CLUSTER', 'SPEED', 'ACCCAUSE_LVL1', 'TYPE', 'EQUIPMENT_TYPE', 'TYPTRK', 'VISIBLTY', 'WEATHER', 'SPD_TOO_HIGH', 'ACCTYPE', 'ACCIDENT_TYPE', 'Jahreszeit']]"
   ]
  },
  {
   "cell_type": "code",
   "execution_count": 6,
   "metadata": {},
   "outputs": [],
   "source": [
    "y = df['INFRASTRUCTURE_DMG']"
   ]
  },
  {
   "cell_type": "code",
   "execution_count": 7,
   "metadata": {},
   "outputs": [
    {
     "name": "stdout",
     "output_type": "stream",
     "text": [
      "TEMP              0\n",
      "TYPEQ             0\n",
      "TRKCLAS           0\n",
      "ACCCAUSE_LVL1     0\n",
      "ACCCAUSE_LVL2     0\n",
      "ACCAUSE           0\n",
      "YEAR4             0\n",
      "STATE             0\n",
      "MONTH             0\n",
      "LOCOMOTIVES1      0\n",
      "LOADF1            0\n",
      "LOADP1            0\n",
      "EMPTYF1           0\n",
      "EMPTYP1           0\n",
      "LOCOMOTIVES2      0\n",
      "LOADF2            0\n",
      "EMPTYF2           0\n",
      "LOADP2            0\n",
      "EMPTYP2           0\n",
      "TONS              0\n",
      "TEMP_CLUSTER      0\n",
      "SPEED             0\n",
      "ACCCAUSE_LVL1     0\n",
      "TYPE              0\n",
      "EQUIPMENT_TYPE    0\n",
      "TYPTRK            0\n",
      "VISIBLTY          0\n",
      "WEATHER           0\n",
      "SPD_TOO_HIGH      0\n",
      "ACCTYPE           0\n",
      "ACCIDENT_TYPE     0\n",
      "Jahreszeit        0\n",
      "dtype: int64\n"
     ]
    }
   ],
   "source": [
    "print(x_data.isnull().sum())"
   ]
  },
  {
   "cell_type": "markdown",
   "metadata": {},
   "source": [
    "## Umwandlung der kategorialen Merkmale und Normalisierung der kontinuierlichen Merkmale"
   ]
  },
  {
   "cell_type": "code",
   "execution_count": 8,
   "metadata": {},
   "outputs": [],
   "source": [
    "# Funktion zur Umwandlung der kategorialen Merkmale mit dem One Hot Encoder \n",
    "# x = kategoriale Merkmale\n",
    "def prepare_inputs_One_Hot(x):\n",
    "    encoder = OneHotEncoder(sparse=False)\n",
    "    encoder.fit(x)\n",
    "    x_enc = encoder.transform(x)\n",
    "    return x_enc"
   ]
  },
  {
   "cell_type": "code",
   "execution_count": 9,
   "metadata": {},
   "outputs": [],
   "source": [
    "# Funktion zur Umwandlung der kategorialen Merkmale mit dem Ordinal Encoder \n",
    "# x = kategoriale Merkmale\n",
    "def prepare_inputs_Ordinal(x):\n",
    "    encoder = OrdinalEncoder()\n",
    "    encoder.fit(x)\n",
    "    x_enc = encoder.transform(x)\n",
    "    return x_enc"
   ]
  },
  {
   "cell_type": "code",
   "execution_count": 10,
   "metadata": {},
   "outputs": [],
   "source": [
    "# Funktion zur Umwandlung der kategorialen Merkmale mit dem Binary Encoder\n",
    "# x = Datensatz, cats = Liste mit Spaltenüberschriften der kategorialen Merkmale\n",
    "def prepare_inputs_Binary(x, cats):\n",
    "    encoder = ce.BinaryEncoder(cols=cats, return_df=True)\n",
    "    encoder.fit(x[cats])\n",
    "    df_bin = encoder.transform(x[cats])\n",
    "    return df_bin"
   ]
  },
  {
   "cell_type": "code",
   "execution_count": 11,
   "metadata": {},
   "outputs": [],
   "source": [
    "# Funktion zur Umwandlung der kategorialen Merkmale mit dem Target Encoder\n",
    "# x = Datensatz, cats = Liste mit Spaltenüberschriften der kategorialen Merkmale, Y = unabhägiges Merkmal\n",
    "def prepare_inputs_Target(x, Y, cats, smoothing=1):\n",
    "    encoder = ce.TargetEncoder(cols=cats, return_df=True, min_samples_leaf = 5, smoothing=smoothing)\n",
    "    encoder.fit(x[cats], Y)\n",
    "    df_te = encoder.transform(x[cats], Y)\n",
    "    return df_te"
   ]
  },
  {
   "cell_type": "code",
   "execution_count": 12,
   "metadata": {},
   "outputs": [],
   "source": [
    "# Funktion zur Umwandlung der kategorialen Merkmale mit dem Leave One Out Encoder\n",
    "# x = Datensatz, cats = Liste mit Spaltenüberschriften der kategorialen Merkmale, Y = unabhägiges Merkmal\n",
    "def prepare_inputs_Leave_One_Out(x, Y, cats):\n",
    "    encoder = ce.LeaveOneOutEncoder(cols=cats, return_df=True)\n",
    "    encoder.fit(x[cats], Y)\n",
    "    df_loo = encoder.transform(x[cats], Y)\n",
    "    return df_loo"
   ]
  },
  {
   "cell_type": "markdown",
   "metadata": {},
   "source": [
    "### Merkmale, die betrachtet werden\n",
    "\n",
    "\n",
    "\n"
   ]
  },
  {
   "cell_type": "code",
   "execution_count": 13,
   "metadata": {},
   "outputs": [],
   "source": [
    "#cat = ['TEMP_CLUSTER', 'Jahreszeit', 'EQUIPMENT_TYPE', 'ACCIDENT_TYPE', 'TYPTRK', 'WEATHER', 'VISIBLTY', 'STATE', 'ACCCAUSE_LVL1', 'SPD_TOO_HIGH', 'ACCTYPE', 'TRKCLAS']"
   ]
  },
  {
   "cell_type": "code",
   "execution_count": 14,
   "metadata": {},
   "outputs": [],
   "source": [
    "#con = ['SPEED', 'TONS', 'YEAR4', 'LOADF1', 'EMPTYF1', 'LOADP1', 'EMPTYP1', 'LOCOMOTIVES1', 'LOADF2', 'EMPTYF2', 'LOADP2', 'EMPTYP2', 'LOCOMOTIVES2']"
   ]
  },
  {
   "cell_type": "code",
   "execution_count": 15,
   "metadata": {},
   "outputs": [],
   "source": [
    "cat = ['TEMP_CLUSTER', 'Jahreszeit', 'EQUIPMENT_TYPE', 'ACCIDENT_TYPE', 'ACCTYPE', 'TRKCLAS']"
   ]
  },
  {
   "cell_type": "code",
   "execution_count": 16,
   "metadata": {},
   "outputs": [],
   "source": [
    "con = ['SPEED', 'TONS', 'YEAR4', 'LOADF1', 'EMPTYF1', 'LOADP1', 'EMPTYP1', 'LOCOMOTIVES1' , 'LOADF2', 'EMPTYF2', 'LOADP2', 'EMPTYP2', 'LOCOMOTIVES2']"
   ]
  },
  {
   "cell_type": "markdown",
   "metadata": {},
   "source": [
    "\n",
    "\n",
    "\n",
    "\n",
    "\n"
   ]
  },
  {
   "cell_type": "code",
   "execution_count": 17,
   "metadata": {},
   "outputs": [],
   "source": [
    "#x_enc_cat = prepare_inputs_Ordinal(x_data[cat])"
   ]
  },
  {
   "cell_type": "code",
   "execution_count": 18,
   "metadata": {},
   "outputs": [],
   "source": [
    "x_enc_cat = prepare_inputs_One_Hot(x_data[cat])"
   ]
  },
  {
   "cell_type": "code",
   "execution_count": 19,
   "metadata": {},
   "outputs": [],
   "source": [
    "#x_enc_cat = prepare_inputs_Binary(x_data, cat)"
   ]
  },
  {
   "cell_type": "code",
   "execution_count": 20,
   "metadata": {},
   "outputs": [],
   "source": [
    "#x_enc_cat = prepare_inputs_Target(x_data, y, cat)"
   ]
  },
  {
   "cell_type": "code",
   "execution_count": 21,
   "metadata": {},
   "outputs": [],
   "source": [
    "#x_enc_cat = prepare_inputs_Leave_One_Out(x_data, y, cat)"
   ]
  },
  {
   "cell_type": "code",
   "execution_count": 22,
   "metadata": {},
   "outputs": [],
   "source": [
    "# Normalisierung der kontinuierlichen Merkmale mit dem StandardScaler oder dem MinMaxScaler\n",
    "#cs = MinMaxScaler().fit(x_data[con])\n",
    "cs = StandardScaler().fit(x_data[con])\n",
    "x_enc_con = cs.transform(x_data[con])\n",
    "#x_enc_con = x_data[con]"
   ]
  },
  {
   "cell_type": "code",
   "execution_count": 23,
   "metadata": {},
   "outputs": [],
   "source": [
    "#cs_y = MinMaxScaler().fit(y.values.reshape(-1, 1))\n",
    "#cs_y = StandardScaler().fit(y.values.reshape(-1, 1))\n",
    "#y = cs_y.transform(y.values.reshape(-1, 1))"
   ]
  },
  {
   "cell_type": "markdown",
   "metadata": {},
   "source": [
    "#### Zusammenfügen der kategorialen und kontinuierlichen Merkmale"
   ]
  },
  {
   "cell_type": "code",
   "execution_count": 24,
   "metadata": {},
   "outputs": [],
   "source": [
    "X_Data = np.hstack([x_enc_cat, x_enc_con])"
   ]
  },
  {
   "cell_type": "markdown",
   "metadata": {},
   "source": [
    "#### Aufteilen der Merkmale in Trainings- und Testdaten\n",
    "70% Trainingsdaten & 30 % Testdaten\n",
    "random_state: Kontrolliert die Zufallsverteilung -> Es werden immer die gleichen Werte Trainings- und Testdaten zugeteilt. Sonst könnte es zu Abweichungen bei den Ergebnissen des Modells kommen"
   ]
  },
  {
   "cell_type": "code",
   "execution_count": 25,
   "metadata": {},
   "outputs": [],
   "source": [
    "X_train, X_test, y_train, y_test = train_test_split(X_Data, y, test_size=0.3, random_state=42)"
   ]
  },
  {
   "cell_type": "code",
   "execution_count": 26,
   "metadata": {},
   "outputs": [],
   "source": [
    "n_features = X_train.shape[1]"
   ]
  },
  {
   "cell_type": "markdown",
   "metadata": {},
   "source": [
    "## Sequential regression model"
   ]
  },
  {
   "cell_type": "code",
   "execution_count": 27,
   "metadata": {},
   "outputs": [],
   "source": [
    "def create_model(learning_rate = 0.001, activation = 'relu', activation2='relu', dropout=0, opt = None):\n",
    "    seq_model = Sequential()\n",
    "    \n",
    "    if (opt == None):\n",
    "        opt = tf.keras.optimizers.Adam(learning_rate=learning_rate)\n",
    "     \n",
    "    seq_model.add(Dense(512, activation=activation, input_shape=(n_features,)))\n",
    "    #seq_model.add(BatchNormalization())\n",
    "    seq_model.add(Dropout(dropout))\n",
    "    seq_model.add(Dense(256, activation=activation2))\n",
    "    #seq_model.add(Dense(128, activation=activation))\n",
    "    #seq_model.add(Dropout(dropout))\n",
    "    #seq_model.add(Dense(64, activation=activation))\n",
    "    #seq_model.add(Dropout(dropout))\n",
    "    #seq_model.add(Dense(32, activation=activation))\n",
    "    #seq_model.add(Dropout(dropout))\n",
    "    seq_model.add(Dense(1))\n",
    "    seq_model.compile(optimizer=opt, loss='mse', metrics=['mse', tf.keras.metrics.RootMeanSquaredError(name='rmse'), 'mae'])\n",
    "    return seq_model"
   ]
  },
  {
   "cell_type": "code",
   "execution_count": 28,
   "metadata": {},
   "outputs": [],
   "source": [
    "model = KerasRegressor(build_fn = create_model)"
   ]
  },
  {
   "cell_type": "code",
   "execution_count": 29,
   "metadata": {},
   "outputs": [],
   "source": [
    "params = {'activation': [\"relu\", \"selu\"], 'activation2': [\"relu\", \"selu\"], 'batch_size' : [32, 256, 512], 'epochs': [5, 50, 100, 300, 500],'learning_rate': [0.01, 0.001, 0.0005, 0.0001]}"
   ]
  },
  {
   "cell_type": "code",
   "execution_count": 30,
   "metadata": {},
   "outputs": [],
   "source": [
    "scoring = {'MSE': 'neg_mean_squared_error', 'r2' : 'r2', 'mae': 'neg_mean_absolute_error'}"
   ]
  },
  {
   "cell_type": "code",
   "execution_count": 31,
   "metadata": {},
   "outputs": [],
   "source": [
    "random_search = RandomizedSearchCV(model, param_distributions = params,cv = KFold(20), return_train_score=True, scoring=scoring, refit='MSE')"
   ]
  },
  {
   "cell_type": "code",
   "execution_count": 32,
   "metadata": {},
   "outputs": [],
   "source": [
    "#random_search_results = random_search.fit(X_train, y_train)"
   ]
  },
  {
   "cell_type": "code",
   "execution_count": 33,
   "metadata": {},
   "outputs": [],
   "source": [
    "#print(\"Best Score: \",random_search_results.best_score_,\"and Best Params: \",random_search_results.best_params_)"
   ]
  },
  {
   "cell_type": "code",
   "execution_count": 34,
   "metadata": {},
   "outputs": [],
   "source": [
    "def displaySearchCVResults(result, resultCount=10):\n",
    "\n",
    "\n",
    "    mse_score = result.best_score_\n",
    "    mae_score = result.cv_results_['mean_test_mae'][result.best_index_]\n",
    "    r2_score = result.cv_results_['mean_test_r2'][result.best_index_]\n",
    "    stdev_mse = result.cv_results_['std_test_MSE'][result.best_index_]\n",
    "    stdev_mae = result.cv_results_['std_test_mae'][result.best_index_]\n",
    "    stdev_r2 = result.cv_results_['std_test_r2'][result.best_index_]\n",
    "    cv_results = result.cv_results_\n",
    "\n",
    "    params = result.best_params_\n",
    "    \n",
    "    print(\"Beste Parameter: {}\".format(params))\n",
    "    print(\"Bester MSE Wert:      {:0.5f} (+/-{:0.5f})\".format(mse_score, stdev_mse))\n",
    "    print(\"Bester MAE Wert:      {:0.5f} (+/-{:0.5f})\".format(mae_score, stdev_mae))\n",
    "    print(\"Bester R2 Wert:      {:0.5f} (+/-{:0.5f})\".format(r2_score, stdev_r2))\n",
    "    import pprint\n",
    "    estimator = result.best_estimator_\n",
    "    pprint.pprint(estimator.get_params())\n",
    "\n",
    "    display(pd.DataFrame(cv_results) \\\n",
    "            .sort_values(by='rank_test_MSE').head(resultCount))"
   ]
  },
  {
   "cell_type": "code",
   "execution_count": 35,
   "metadata": {},
   "outputs": [],
   "source": [
    "#displaySearchCVResults(random_search, resultCount=15)"
   ]
  },
  {
   "cell_type": "markdown",
   "metadata": {},
   "source": [
    "### Regression Allgemein"
   ]
  },
  {
   "cell_type": "code",
   "execution_count": 36,
   "metadata": {},
   "outputs": [],
   "source": [
    "epochs = 150"
   ]
  },
  {
   "cell_type": "code",
   "execution_count": 37,
   "metadata": {},
   "outputs": [
    {
     "data": {
      "text/plain": [
       "150"
      ]
     },
     "execution_count": 37,
     "metadata": {},
     "output_type": "execute_result"
    }
   ],
   "source": [
    "epochs"
   ]
  },
  {
   "cell_type": "code",
   "execution_count": 38,
   "metadata": {},
   "outputs": [],
   "source": [
    "learning_rate = 0.01"
   ]
  },
  {
   "cell_type": "code",
   "execution_count": 39,
   "metadata": {},
   "outputs": [
    {
     "data": {
      "text/plain": [
       "0.01"
      ]
     },
     "execution_count": 39,
     "metadata": {},
     "output_type": "execute_result"
    }
   ],
   "source": [
    "learning_rate"
   ]
  },
  {
   "cell_type": "code",
   "execution_count": 40,
   "metadata": {},
   "outputs": [],
   "source": [
    "dropout = 0"
   ]
  },
  {
   "cell_type": "code",
   "execution_count": 41,
   "metadata": {},
   "outputs": [
    {
     "data": {
      "text/plain": [
       "0"
      ]
     },
     "execution_count": 41,
     "metadata": {},
     "output_type": "execute_result"
    }
   ],
   "source": [
    "dropout"
   ]
  },
  {
   "cell_type": "code",
   "execution_count": 42,
   "metadata": {},
   "outputs": [],
   "source": [
    "es = EarlyStopping(monitor='val_loss', patience=8)\n",
    "red_lr = ReduceLROnPlateau(monitor='val_loss', factor=0.2, patience=5, min_lr=0.0001)"
   ]
  },
  {
   "cell_type": "code",
   "execution_count": 43,
   "metadata": {},
   "outputs": [],
   "source": [
    "metrics = ['mse', tf.keras.metrics.RootMeanSquaredError(name='rmse'), 'mae']"
   ]
  },
  {
   "cell_type": "code",
   "execution_count": 44,
   "metadata": {},
   "outputs": [],
   "source": [
    "activation = 'relu'\n",
    "activation2='relu'"
   ]
  },
  {
   "cell_type": "code",
   "execution_count": 45,
   "metadata": {},
   "outputs": [],
   "source": [
    "opt = tf.keras.optimizers.Adam(learning_rate=learning_rate)\n",
    "#opt = tf.keras.optimizers.Adadelta()\n",
    "#opt = tf.keras.optimizers.SGD(learning_rate=learning_rate)"
   ]
  },
  {
   "cell_type": "markdown",
   "metadata": {},
   "source": [
    "## Sequential Regression with Keras"
   ]
  },
  {
   "cell_type": "code",
   "execution_count": 46,
   "metadata": {},
   "outputs": [],
   "source": [
    "seq_model = create_model(learning_rate = learning_rate, activation = activation, activation2=activation2, dropout=dropout, opt=opt)"
   ]
  },
  {
   "cell_type": "code",
   "execution_count": 47,
   "metadata": {},
   "outputs": [
    {
     "data": {
      "text/plain": [
       "\"\\nseq_model = Sequential()\\n\\n#seq_model.add(Dense(int(n_features*2/3), activation=activation, input_shape=(n_features,)))\\nseq_model.add(Dense(512, activation='selu', input_shape=(n_features,)))\\n#seq_model.add(BatchNormalization())\\nseq_model.add(Dropout(dropout))\\nseq_model.add(Dense(256, activation='relu'))\\n#seq_model.add(BatchNormalization())\\n#seq_model.add(Dense(int(n_features*2/3), activation=activation))\\n#seq_model.add(Dropout(dropout))\\n#seq_model.add(Dense(64, activation=activation))\\n#seq_model.add(Dropout(dropout))\\n#seq_model.add(Dense(32, activation=activation))\\n#seq_model.add(Dropout(dropout))\\nseq_model.add(Dense(1))\\nseq_model.compile(optimizer=opt, loss='mse', metrics=metrics)\\n\""
      ]
     },
     "execution_count": 47,
     "metadata": {},
     "output_type": "execute_result"
    }
   ],
   "source": [
    "\"\"\"\n",
    "seq_model = Sequential()\n",
    "\n",
    "#seq_model.add(Dense(int(n_features*2/3), activation=activation, input_shape=(n_features,)))\n",
    "seq_model.add(Dense(512, activation='selu', input_shape=(n_features,)))\n",
    "#seq_model.add(BatchNormalization())\n",
    "seq_model.add(Dropout(dropout))\n",
    "seq_model.add(Dense(256, activation='relu'))\n",
    "#seq_model.add(BatchNormalization())\n",
    "#seq_model.add(Dense(int(n_features*2/3), activation=activation))\n",
    "#seq_model.add(Dropout(dropout))\n",
    "#seq_model.add(Dense(64, activation=activation))\n",
    "#seq_model.add(Dropout(dropout))\n",
    "#seq_model.add(Dense(32, activation=activation))\n",
    "#seq_model.add(Dropout(dropout))\n",
    "seq_model.add(Dense(1))\n",
    "seq_model.compile(optimizer=opt, loss='mse', metrics=metrics)\n",
    "\"\"\""
   ]
  },
  {
   "cell_type": "code",
   "execution_count": 48,
   "metadata": {},
   "outputs": [
    {
     "name": "stdout",
     "output_type": "stream",
     "text": [
      "Model: \"sequential\"\n",
      "_________________________________________________________________\n",
      "Layer (type)                 Output Shape              Param #   \n",
      "=================================================================\n",
      "dense (Dense)                (None, 512)               24576     \n",
      "_________________________________________________________________\n",
      "dropout (Dropout)            (None, 512)               0         \n",
      "_________________________________________________________________\n",
      "dense_1 (Dense)              (None, 256)               131328    \n",
      "_________________________________________________________________\n",
      "dense_2 (Dense)              (None, 1)                 257       \n",
      "=================================================================\n",
      "Total params: 156,161\n",
      "Trainable params: 156,161\n",
      "Non-trainable params: 0\n",
      "_________________________________________________________________\n"
     ]
    }
   ],
   "source": [
    "seq_model.summary()"
   ]
  },
  {
   "cell_type": "code",
   "execution_count": 49,
   "metadata": {
    "scrolled": false
   },
   "outputs": [
    {
     "data": {
      "image/png": "[encoded data removed]",
      "text/plain": [
       "<IPython.core.display.Image object>"
      ]
     },
     "execution_count": 49,
     "metadata": {},
     "output_type": "execute_result"
    }
   ],
   "source": [
    "plot_model(seq_model, 'Images/Sequential Regression Model.png', show_shapes=True)"
   ]
  },
  {
   "cell_type": "code",
   "execution_count": 50,
   "metadata": {
    "scrolled": true
   },
   "outputs": [
    {
     "name": "stdout",
     "output_type": "stream",
     "text": [
      "Epoch 1/150\n",
      "1385/1385 [==============================] - 3s 2ms/step - loss: 8054486528.0000 - mse: 8054486528.0000 - rmse: 89746.7891 - mae: 41542.4922 - val_loss: 6619383808.0000 - val_mse: 6619383808.0000 - val_rmse: 81359.5938 - val_mae: 37231.2266\n",
      "Epoch 2/150\n",
      "1385/1385 [==============================] - 3s 2ms/step - loss: 6693596160.0000 - mse: 6693596160.0000 - rmse: 81814.3984 - mae: 38082.6641 - val_loss: 6308271104.0000 - val_mse: 6308271104.0000 - val_rmse: 79424.6250 - val_mae: 37446.8672\n",
      "Epoch 3/150\n",
      "1385/1385 [==============================] - 3s 2ms/step - loss: 6582933504.0000 - mse: 6582933504.0000 - rmse: 81135.2812 - mae: 37760.0430 - val_loss: 6269397504.0000 - val_mse: 6269397504.0000 - val_rmse: 79179.5234 - val_mae: 37451.7148\n",
      "Epoch 4/150\n",
      "1385/1385 [==============================] - 3s 2ms/step - loss: 6459192320.0000 - mse: 6459192320.0000 - rmse: 80369.1016 - mae: 37452.4375 - val_loss: 6449263104.0000 - val_mse: 6449263104.0000 - val_rmse: 80307.3047 - val_mae: 35856.1094\n",
      "Epoch 5/150\n",
      "1385/1385 [==============================] - 3s 2ms/step - loss: 6410939392.0000 - mse: 6410939392.0000 - rmse: 80068.3438 - mae: 37280.7617 - val_loss: 6229489152.0000 - val_mse: 6229489152.0000 - val_rmse: 78927.1094 - val_mae: 35517.8945\n",
      "Epoch 6/150\n",
      "1385/1385 [==============================] - 3s 2ms/step - loss: 6382520320.0000 - mse: 6382520320.0000 - rmse: 79890.6797 - mae: 37128.3398 - val_loss: 6278382592.0000 - val_mse: 6278382592.0000 - val_rmse: 79236.2422 - val_mae: 36126.8633\n",
      "Epoch 7/150\n",
      "1385/1385 [==============================] - 3s 2ms/step - loss: 6291539968.0000 - mse: 6291539968.0000 - rmse: 79319.2266 - mae: 37070.3789 - val_loss: 6096012800.0000 - val_mse: 6096012800.0000 - val_rmse: 78076.9688 - val_mae: 37019.7578\n",
      "Epoch 8/150\n",
      "1385/1385 [==============================] - 3s 2ms/step - loss: 6268642304.0000 - mse: 6268642304.0000 - rmse: 79174.7578 - mae: 36941.5117 - val_loss: 6138036736.0000 - val_mse: 6138036736.0000 - val_rmse: 78345.6250 - val_mae: 36745.6484\n",
      "Epoch 9/150\n",
      "1385/1385 [==============================] - 3s 2ms/step - loss: 6267719680.0000 - mse: 6267719680.0000 - rmse: 79168.9297 - mae: 36907.5859 - val_loss: 6087938560.0000 - val_mse: 6087938560.0000 - val_rmse: 78025.2422 - val_mae: 35758.8711\n",
      "Epoch 10/150\n",
      "1385/1385 [==============================] - 3s 2ms/step - loss: 6291872256.0000 - mse: 6291872256.0000 - rmse: 79321.3203 - mae: 36867.4727 - val_loss: 6049915904.0000 - val_mse: 6049915904.0000 - val_rmse: 77781.2031 - val_mae: 35697.6055\n",
      "Epoch 11/150\n",
      "1385/1385 [==============================] - 3s 2ms/step - loss: 6222191616.0000 - mse: 6222191616.0000 - rmse: 78880.8672 - mae: 36845.7070 - val_loss: 6035090944.0000 - val_mse: 6035090944.0000 - val_rmse: 77685.8516 - val_mae: 36174.3242\n",
      "Epoch 12/150\n",
      "1385/1385 [==============================] - 3s 2ms/step - loss: 6137488384.0000 - mse: 6137488384.0000 - rmse: 78342.1250 - mae: 36697.5430 - val_loss: 6099699200.0000 - val_mse: 6099699200.0000 - val_rmse: 78100.5703 - val_mae: 35815.7148\n",
      "Epoch 13/150\n",
      "1385/1385 [==============================] - 3s 2ms/step - loss: 6166559744.0000 - mse: 6166559744.0000 - rmse: 78527.4453 - mae: 36707.4570 - val_loss: 6117033984.0000 - val_mse: 6117033984.0000 - val_rmse: 78211.4688 - val_mae: 35204.5625\n",
      "Epoch 14/150\n",
      "1385/1385 [==============================] - 3s 2ms/step - loss: 6084569600.0000 - mse: 6084569600.0000 - rmse: 78003.6484 - mae: 36536.2461 - val_loss: 6150406144.0000 - val_mse: 6150406144.0000 - val_rmse: 78424.5234 - val_mae: 36329.3633\n",
      "Epoch 15/150\n",
      "1385/1385 [==============================] - 3s 2ms/step - loss: 6104441344.0000 - mse: 6104441344.0000 - rmse: 78130.9219 - mae: 36530.1484 - val_loss: 5977249792.0000 - val_mse: 5977249792.0000 - val_rmse: 77312.6719 - val_mae: 36058.4062\n",
      "Epoch 16/150\n",
      "1385/1385 [==============================] - 3s 2ms/step - loss: 6008544256.0000 - mse: 6008544256.0000 - rmse: 77514.7969 - mae: 36326.1211 - val_loss: 6081451008.0000 - val_mse: 6081451008.0000 - val_rmse: 77983.6562 - val_mae: 35827.0234\n",
      "Epoch 17/150\n",
      "1385/1385 [==============================] - 3s 2ms/step - loss: 5995951616.0000 - mse: 5995951616.0000 - rmse: 77433.5312 - mae: 36318.3867 - val_loss: 5982324736.0000 - val_mse: 5982324736.0000 - val_rmse: 77345.4922 - val_mae: 36797.5430\n",
      "Epoch 18/150\n",
      "1385/1385 [==============================] - 3s 2ms/step - loss: 5941082624.0000 - mse: 5941082624.0000 - rmse: 77078.4219 - mae: 36084.4922 - val_loss: 6009552896.0000 - val_mse: 6009552896.0000 - val_rmse: 77521.3047 - val_mae: 36194.9180\n",
      "Epoch 19/150\n",
      "1385/1385 [==============================] - 3s 2ms/step - loss: 5891514880.0000 - mse: 5891514880.0000 - rmse: 76756.2031 - mae: 36032.7969 - val_loss: 6010940928.0000 - val_mse: 6010940928.0000 - val_rmse: 77530.2578 - val_mae: 35617.7305\n",
      "Epoch 20/150\n",
      "1385/1385 [==============================] - 3s 2ms/step - loss: 5866174464.0000 - mse: 5866174464.0000 - rmse: 76590.9531 - mae: 35930.5430 - val_loss: 6013580288.0000 - val_mse: 6013580288.0000 - val_rmse: 77547.2812 - val_mae: 36986.0664\n",
      "Epoch 21/150\n",
      "1385/1385 [==============================] - 3s 2ms/step - loss: 5796100096.0000 - mse: 5796100096.0000 - rmse: 76132.1250 - mae: 35895.7617 - val_loss: 6086082560.0000 - val_mse: 6086082560.0000 - val_rmse: 78013.3516 - val_mae: 36910.0234\n",
      "Epoch 22/150\n",
      "1385/1385 [==============================] - 3s 2ms/step - loss: 5743353856.0000 - mse: 5743353856.0000 - rmse: 75784.9219 - mae: 35733.6094 - val_loss: 6075556864.0000 - val_mse: 6075556864.0000 - val_rmse: 77945.8594 - val_mae: 37166.1680\n",
      "Epoch 23/150\n",
      "1385/1385 [==============================] - 3s 2ms/step - loss: 5727978496.0000 - mse: 5727978496.0000 - rmse: 75683.4062 - mae: 35646.0586 - val_loss: 6123449856.0000 - val_mse: 6123449856.0000 - val_rmse: 78252.4766 - val_mae: 37122.0156\n",
      "Epoch 24/150\n",
      "1385/1385 [==============================] - 3s 2ms/step - loss: 5669513216.0000 - mse: 5669513216.0000 - rmse: 75296.1719 - mae: 35527.7969 - val_loss: 6060273664.0000 - val_mse: 6060273664.0000 - val_rmse: 77847.7578 - val_mae: 36941.6016\n",
      "Epoch 25/150\n",
      "1385/1385 [==============================] - 3s 2ms/step - loss: 5616657920.0000 - mse: 5616657920.0000 - rmse: 74944.3672 - mae: 35457.3594 - val_loss: 6011600896.0000 - val_mse: 6011600896.0000 - val_rmse: 77534.5156 - val_mae: 34817.8008\n",
      "Epoch 26/150\n",
      "1385/1385 [==============================] - 3s 2ms/step - loss: 5543288832.0000 - mse: 5543288832.0000 - rmse: 74453.2656 - mae: 35265.6680 - val_loss: 5974800384.0000 - val_mse: 5974800384.0000 - val_rmse: 77296.8359 - val_mae: 35832.9453\n",
      "Epoch 27/150\n",
      "1385/1385 [==============================] - 3s 2ms/step - loss: 5511740416.0000 - mse: 5511740416.0000 - rmse: 74241.0938 - mae: 35276.4492 - val_loss: 6018588160.0000 - val_mse: 6018588160.0000 - val_rmse: 77579.5625 - val_mae: 36079.9688\n",
      "Epoch 28/150\n",
      "1385/1385 [==============================] - 3s 2ms/step - loss: 5425281024.0000 - mse: 5425281024.0000 - rmse: 73656.5078 - mae: 35095.8008 - val_loss: 6394828288.0000 - val_mse: 6394828288.0000 - val_rmse: 79967.6719 - val_mae: 38560.9297\n",
      "Epoch 29/150\n",
      "1385/1385 [==============================] - 3s 2ms/step - loss: 5409316352.0000 - mse: 5409316352.0000 - rmse: 73548.0547 - mae: 35055.7617 - val_loss: 6005000704.0000 - val_mse: 6005000704.0000 - val_rmse: 77491.9375 - val_mae: 36104.3633\n",
      "Epoch 30/150\n",
      "1385/1385 [==============================] - 3s 2ms/step - loss: 5287474176.0000 - mse: 5287474176.0000 - rmse: 72715.0234 - mae: 34852.9141 - val_loss: 6062250496.0000 - val_mse: 6062250496.0000 - val_rmse: 77860.4531 - val_mae: 36487.1094\n",
      "Epoch 31/150\n",
      "1385/1385 [==============================] - 3s 2ms/step - loss: 5390788096.0000 - mse: 5390788096.0000 - rmse: 73421.9844 - mae: 34778.0508 - val_loss: 6029492736.0000 - val_mse: 6029492736.0000 - val_rmse: 77649.8047 - val_mae: 35240.1367\n",
      "Epoch 32/150\n",
      "1385/1385 [==============================] - 3s 2ms/step - loss: 5185704960.0000 - mse: 5185704960.0000 - rmse: 72011.8359 - mae: 34543.7031 - val_loss: 6179892736.0000 - val_mse: 6179892736.0000 - val_rmse: 78612.2969 - val_mae: 37312.3789\n",
      "Epoch 33/150\n"
     ]
    },
    {
     "name": "stdout",
     "output_type": "stream",
     "text": [
      "1385/1385 [==============================] - 3s 2ms/step - loss: 5140969472.0000 - mse: 5140969472.0000 - rmse: 71700.5547 - mae: 34576.4883 - val_loss: 6142906880.0000 - val_mse: 6142906880.0000 - val_rmse: 78376.6953 - val_mae: 36593.5000\n",
      "Epoch 34/150\n",
      "1385/1385 [==============================] - 3s 2ms/step - loss: 5055643648.0000 - mse: 5055643648.0000 - rmse: 71103.0469 - mae: 34308.9727 - val_loss: 6179369472.0000 - val_mse: 6179369472.0000 - val_rmse: 78608.9688 - val_mae: 36437.1367\n",
      "Epoch 35/150\n",
      "1385/1385 [==============================] - 4s 3ms/step - loss: 5002415104.0000 - mse: 5002415104.0000 - rmse: 70727.7500 - mae: 34166.7578 - val_loss: 6488486912.0000 - val_mse: 6488486912.0000 - val_rmse: 80551.1484 - val_mae: 38654.7109\n",
      "Epoch 36/150\n",
      "1385/1385 [==============================] - 3s 2ms/step - loss: 4899682816.0000 - mse: 4899682816.0000 - rmse: 69997.7344 - mae: 34011.4180 - val_loss: 6438055936.0000 - val_mse: 6438055936.0000 - val_rmse: 80237.5000 - val_mae: 37555.0117\n",
      "Epoch 37/150\n",
      "1385/1385 [==============================] - 3s 2ms/step - loss: 4812775424.0000 - mse: 4812775424.0000 - rmse: 69374.1719 - mae: 33931.4570 - val_loss: 6302554624.0000 - val_mse: 6302554624.0000 - val_rmse: 79388.6328 - val_mae: 37389.0664\n",
      "Epoch 38/150\n",
      "1385/1385 [==============================] - 3s 2ms/step - loss: 4784173056.0000 - mse: 4784173056.0000 - rmse: 69167.7188 - mae: 33902.2031 - val_loss: 6365361152.0000 - val_mse: 6365361152.0000 - val_rmse: 79783.2109 - val_mae: 35514.2031\n",
      "Epoch 39/150\n",
      "1385/1385 [==============================] - 4s 3ms/step - loss: 4700211200.0000 - mse: 4700211200.0000 - rmse: 68558.0859 - mae: 33596.8438 - val_loss: 6480377344.0000 - val_mse: 6480377344.0000 - val_rmse: 80500.7891 - val_mae: 35519.0039\n",
      "Epoch 40/150\n",
      "1385/1385 [==============================] - 3s 3ms/step - loss: 4629838336.0000 - mse: 4629838336.0000 - rmse: 68042.9141 - mae: 33401.0039 - val_loss: 6444056064.0000 - val_mse: 6444056064.0000 - val_rmse: 80274.8750 - val_mae: 36288.1602\n",
      "Epoch 41/150\n",
      "1385/1385 [==============================] - 3s 2ms/step - loss: 4511815680.0000 - mse: 4511815680.0000 - rmse: 67170.0469 - mae: 33199.1914 - val_loss: 6513521152.0000 - val_mse: 6513521152.0000 - val_rmse: 80706.3906 - val_mae: 35466.0469\n",
      "Epoch 42/150\n",
      "1385/1385 [==============================] - 3s 2ms/step - loss: 4429284864.0000 - mse: 4429284864.0000 - rmse: 66552.8750 - mae: 33058.2578 - val_loss: 6411619328.0000 - val_mse: 6411619328.0000 - val_rmse: 80072.5859 - val_mae: 36188.8359\n",
      "Epoch 43/150\n",
      "1385/1385 [==============================] - 3s 2ms/step - loss: 4343102464.0000 - mse: 4343102464.0000 - rmse: 65902.2188 - mae: 32853.9961 - val_loss: 6548879360.0000 - val_mse: 6548879360.0000 - val_rmse: 80925.1484 - val_mae: 35843.1484\n",
      "Epoch 44/150\n",
      "1385/1385 [==============================] - 3s 2ms/step - loss: 4319334912.0000 - mse: 4319334912.0000 - rmse: 65721.6484 - mae: 32837.7422 - val_loss: 6613330432.0000 - val_mse: 6613330432.0000 - val_rmse: 81322.3828 - val_mae: 36526.9062\n",
      "Epoch 45/150\n",
      "1385/1385 [==============================] - 3s 2ms/step - loss: 4239717120.0000 - mse: 4239717120.0000 - rmse: 65113.1094 - mae: 32646.4941 - val_loss: 6646281728.0000 - val_mse: 6646281728.0000 - val_rmse: 81524.7344 - val_mae: 37531.1328\n",
      "Epoch 46/150\n",
      "1385/1385 [==============================] - 3s 2ms/step - loss: 4160322048.0000 - mse: 4160322048.0000 - rmse: 64500.5586 - mae: 32454.0352 - val_loss: 6697903104.0000 - val_mse: 6697903104.0000 - val_rmse: 81840.7188 - val_mae: 36387.3359\n",
      "Epoch 47/150\n",
      "1385/1385 [==============================] - 3s 2ms/step - loss: 4028734976.0000 - mse: 4028734976.0000 - rmse: 63472.3164 - mae: 32180.8535 - val_loss: 6657061376.0000 - val_mse: 6657061376.0000 - val_rmse: 81590.8203 - val_mae: 37187.5820\n",
      "Epoch 48/150\n",
      "1385/1385 [==============================] - 3s 2ms/step - loss: 3953378816.0000 - mse: 3953378816.0000 - rmse: 62875.8984 - mae: 32045.1133 - val_loss: 6668421120.0000 - val_mse: 6668421120.0000 - val_rmse: 81660.3984 - val_mae: 36738.9336\n",
      "Epoch 49/150\n",
      "1385/1385 [==============================] - 3s 2ms/step - loss: 3859759104.0000 - mse: 3859759104.0000 - rmse: 62126.9609 - mae: 31778.8867 - val_loss: 7330785792.0000 - val_mse: 7330785792.0000 - val_rmse: 85620.0078 - val_mae: 38949.7461\n",
      "Epoch 50/150\n",
      "1385/1385 [==============================] - 3s 2ms/step - loss: 3837214976.0000 - mse: 3837214976.0000 - rmse: 61945.2578 - mae: 31744.8926 - val_loss: 6668043776.0000 - val_mse: 6668043776.0000 - val_rmse: 81658.0938 - val_mae: 37317.9062\n",
      "Epoch 51/150\n",
      "1385/1385 [==============================] - 3s 2ms/step - loss: 3820174592.0000 - mse: 3820174592.0000 - rmse: 61807.5625 - mae: 31538.3711 - val_loss: 6791393280.0000 - val_mse: 6791393280.0000 - val_rmse: 82409.9062 - val_mae: 36313.3164\n",
      "Epoch 52/150\n",
      "1385/1385 [==============================] - 3s 2ms/step - loss: 3701828864.0000 - mse: 3701828864.0000 - rmse: 60842.6562 - mae: 31427.0898 - val_loss: 6852638208.0000 - val_mse: 6852638208.0000 - val_rmse: 82780.6641 - val_mae: 36074.7969\n",
      "Epoch 53/150\n",
      "1385/1385 [==============================] - 3s 2ms/step - loss: 3573364480.0000 - mse: 3573364480.0000 - rmse: 59777.6250 - mae: 31156.3789 - val_loss: 6933654528.0000 - val_mse: 6933654528.0000 - val_rmse: 83268.5703 - val_mae: 36110.0938\n",
      "Epoch 54/150\n",
      "1385/1385 [==============================] - 3s 2ms/step - loss: 3541139968.0000 - mse: 3541139968.0000 - rmse: 59507.4766 - mae: 30956.9883 - val_loss: 6900660224.0000 - val_mse: 6900660224.0000 - val_rmse: 83070.2109 - val_mae: 37295.3555\n",
      "Epoch 55/150\n",
      "1385/1385 [==============================] - 3s 2ms/step - loss: 3501773056.0000 - mse: 3501773056.0000 - rmse: 59175.7812 - mae: 30940.0977 - val_loss: 6967408640.0000 - val_mse: 6967408640.0000 - val_rmse: 83471.0078 - val_mae: 36355.2891\n",
      "Epoch 56/150\n",
      "1385/1385 [==============================] - 3s 2ms/step - loss: 3355416576.0000 - mse: 3355416576.0000 - rmse: 57925.9570 - mae: 30609.8730 - val_loss: 7198587904.0000 - val_mse: 7198587904.0000 - val_rmse: 84844.4922 - val_mae: 38068.2773\n",
      "Epoch 57/150\n",
      "1385/1385 [==============================] - 3s 2ms/step - loss: 3356531456.0000 - mse: 3356531456.0000 - rmse: 57935.5820 - mae: 30650.4727 - val_loss: 6974579712.0000 - val_mse: 6974579712.0000 - val_rmse: 83513.9453 - val_mae: 37122.3828\n",
      "Epoch 58/150\n",
      "1385/1385 [==============================] - 3s 2ms/step - loss: 3275786752.0000 - mse: 3275786752.0000 - rmse: 57234.4883 - mae: 30436.0703 - val_loss: 7020505088.0000 - val_mse: 7020505088.0000 - val_rmse: 83788.4531 - val_mae: 36589.2617\n",
      "Epoch 59/150\n",
      "1385/1385 [==============================] - 3s 2ms/step - loss: 3168005120.0000 - mse: 3168005120.0000 - rmse: 56285.0352 - mae: 30144.3477 - val_loss: 6985547264.0000 - val_mse: 6985547264.0000 - val_rmse: 83579.5859 - val_mae: 36105.3398\n",
      "Epoch 60/150\n",
      "1385/1385 [==============================] - 3s 2ms/step - loss: 3128693760.0000 - mse: 3128693760.0000 - rmse: 55934.7266 - mae: 30001.7090 - val_loss: 7356888064.0000 - val_mse: 7356888064.0000 - val_rmse: 85772.3047 - val_mae: 38144.2617\n",
      "Epoch 61/150\n",
      "1385/1385 [==============================] - 3s 2ms/step - loss: 3125860864.0000 - mse: 3125860864.0000 - rmse: 55909.3984 - mae: 29970.4746 - val_loss: 7747742208.0000 - val_mse: 7747742208.0000 - val_rmse: 88021.2578 - val_mae: 38753.5000\n",
      "Epoch 62/150\n",
      "1385/1385 [==============================] - 3s 2ms/step - loss: 3065232128.0000 - mse: 3065232128.0000 - rmse: 55364.5391 - mae: 29837.4941 - val_loss: 7594011648.0000 - val_mse: 7594011648.0000 - val_rmse: 87143.6250 - val_mae: 38711.4609\n",
      "Epoch 63/150\n",
      "1385/1385 [==============================] - 3s 2ms/step - loss: 3011336704.0000 - mse: 3011336704.0000 - rmse: 54875.6484 - mae: 29702.8281 - val_loss: 7448132096.0000 - val_mse: 7448132096.0000 - val_rmse: 86302.5625 - val_mae: 37525.6992\n",
      "Epoch 64/150\n",
      "1385/1385 [==============================] - 3s 2ms/step - loss: 2996731136.0000 - mse: 2996731136.0000 - rmse: 54742.4062 - mae: 29665.6836 - val_loss: 7225772032.0000 - val_mse: 7225772032.0000 - val_rmse: 85004.5391 - val_mae: 37615.7109\n",
      "Epoch 65/150\n"
     ]
    },
    {
     "name": "stdout",
     "output_type": "stream",
     "text": [
      "1385/1385 [==============================] - 3s 2ms/step - loss: 2886577664.0000 - mse: 2886577664.0000 - rmse: 53726.8789 - mae: 29390.8379 - val_loss: 7238032896.0000 - val_mse: 7238032896.0000 - val_rmse: 85076.6328 - val_mae: 37318.4805\n",
      "Epoch 66/150\n",
      "1385/1385 [==============================] - 3s 2ms/step - loss: 2895572224.0000 - mse: 2895572224.0000 - rmse: 53810.5234 - mae: 29404.7188 - val_loss: 7090987520.0000 - val_mse: 7090987520.0000 - val_rmse: 84208.0000 - val_mae: 37560.2852\n",
      "Epoch 67/150\n",
      "1385/1385 [==============================] - 3s 2ms/step - loss: 2823031808.0000 - mse: 2823031808.0000 - rmse: 53132.2109 - mae: 29143.3418 - val_loss: 7587817472.0000 - val_mse: 7587817472.0000 - val_rmse: 87108.0781 - val_mae: 38059.1602\n",
      "Epoch 68/150\n",
      "1385/1385 [==============================] - 3s 2ms/step - loss: 2780725504.0000 - mse: 2780725504.0000 - rmse: 52732.5859 - mae: 29175.5410 - val_loss: 7315142144.0000 - val_mse: 7315142144.0000 - val_rmse: 85528.6016 - val_mae: 37206.9883\n",
      "Epoch 69/150\n",
      "1385/1385 [==============================] - 3s 2ms/step - loss: 2748449280.0000 - mse: 2748449280.0000 - rmse: 52425.6562 - mae: 29048.4316 - val_loss: 7324767744.0000 - val_mse: 7324767744.0000 - val_rmse: 85584.8594 - val_mae: 37505.2656\n",
      "Epoch 70/150\n",
      "1385/1385 [==============================] - 3s 2ms/step - loss: 2693184000.0000 - mse: 2693184000.0000 - rmse: 51895.8945 - mae: 28800.9629 - val_loss: 7571398144.0000 - val_mse: 7571398144.0000 - val_rmse: 87013.7812 - val_mae: 37709.2578\n",
      "Epoch 71/150\n",
      "1385/1385 [==============================] - 3s 2ms/step - loss: 2673598976.0000 - mse: 2673598976.0000 - rmse: 51706.8555 - mae: 28751.8809 - val_loss: 7714903552.0000 - val_mse: 7714903552.0000 - val_rmse: 87834.5234 - val_mae: 37752.0156\n",
      "Epoch 72/150\n",
      "1385/1385 [==============================] - 3s 2ms/step - loss: 2628895488.0000 - mse: 2628895488.0000 - rmse: 51272.7539 - mae: 28585.1562 - val_loss: 7014807040.0000 - val_mse: 7014807040.0000 - val_rmse: 83754.4453 - val_mae: 36831.2070\n",
      "Epoch 73/150\n",
      "1385/1385 [==============================] - 3s 2ms/step - loss: 2592965120.0000 - mse: 2592965120.0000 - rmse: 50921.1641 - mae: 28462.4688 - val_loss: 8102814720.0000 - val_mse: 8102814720.0000 - val_rmse: 90015.6328 - val_mae: 39320.1875\n",
      "Epoch 74/150\n",
      "1385/1385 [==============================] - 3s 2ms/step - loss: 2540377600.0000 - mse: 2540377600.0000 - rmse: 50402.1602 - mae: 28293.4180 - val_loss: 7815386624.0000 - val_mse: 7815386624.0000 - val_rmse: 88404.6719 - val_mae: 38315.2812\n",
      "Epoch 75/150\n",
      "1385/1385 [==============================] - 3s 2ms/step - loss: 2497126400.0000 - mse: 2497126400.0000 - rmse: 49971.2539 - mae: 28202.1992 - val_loss: 8599614464.0000 - val_mse: 8599614464.0000 - val_rmse: 92734.1094 - val_mae: 39669.7734\n",
      "Epoch 76/150\n",
      "1385/1385 [==============================] - 3s 2ms/step - loss: 2566720000.0000 - mse: 2566720000.0000 - rmse: 50662.8086 - mae: 28326.9961 - val_loss: 7488960000.0000 - val_mse: 7488960000.0000 - val_rmse: 86538.7812 - val_mae: 37620.4219\n",
      "Epoch 77/150\n",
      "1385/1385 [==============================] - 3s 2ms/step - loss: 2444676864.0000 - mse: 2444676864.0000 - rmse: 49443.6719 - mae: 28080.3242 - val_loss: 7784935936.0000 - val_mse: 7784935936.0000 - val_rmse: 88232.2812 - val_mae: 38394.8711\n",
      "Epoch 78/150\n",
      "1385/1385 [==============================] - 3s 2ms/step - loss: 2415618304.0000 - mse: 2415618304.0000 - rmse: 49148.9414 - mae: 27986.1172 - val_loss: 8003913728.0000 - val_mse: 8003913728.0000 - val_rmse: 89464.5938 - val_mae: 39386.4414\n",
      "Epoch 79/150\n",
      "1385/1385 [==============================] - 2s 2ms/step - loss: 2401147648.0000 - mse: 2401147648.0000 - rmse: 49001.5078 - mae: 27817.2539 - val_loss: 7602771456.0000 - val_mse: 7602771456.0000 - val_rmse: 87193.8750 - val_mae: 38046.8164\n",
      "Epoch 80/150\n",
      "1385/1385 [==============================] - 2s 2ms/step - loss: 2412403968.0000 - mse: 2412403968.0000 - rmse: 49116.2305 - mae: 27932.6797 - val_loss: 8349269504.0000 - val_mse: 8349269504.0000 - val_rmse: 91374.3359 - val_mae: 39523.7852\n",
      "Epoch 81/150\n",
      "1385/1385 [==============================] - 2s 2ms/step - loss: 2370027008.0000 - mse: 2370027008.0000 - rmse: 48682.9219 - mae: 27770.7891 - val_loss: 7468973568.0000 - val_mse: 7468973568.0000 - val_rmse: 86423.2266 - val_mae: 37836.3711\n",
      "Epoch 82/150\n",
      "1385/1385 [==============================] - 3s 2ms/step - loss: 2300527616.0000 - mse: 2300527616.0000 - rmse: 47963.8164 - mae: 27521.4023 - val_loss: 7702366720.0000 - val_mse: 7702366720.0000 - val_rmse: 87763.1250 - val_mae: 37646.0117\n",
      "Epoch 83/150\n",
      "1385/1385 [==============================] - 3s 2ms/step - loss: 2267476224.0000 - mse: 2267476224.0000 - rmse: 47618.0234 - mae: 27475.0254 - val_loss: 7763305984.0000 - val_mse: 7763305984.0000 - val_rmse: 88109.6250 - val_mae: 37519.7852\n",
      "Epoch 84/150\n",
      "1385/1385 [==============================] - 3s 2ms/step - loss: 2263720960.0000 - mse: 2263720960.0000 - rmse: 47578.5781 - mae: 27472.4258 - val_loss: 8062710784.0000 - val_mse: 8062710784.0000 - val_rmse: 89792.6016 - val_mae: 38473.2188\n",
      "Epoch 85/150\n",
      "1385/1385 [==============================] - 3s 2ms/step - loss: 2232589824.0000 - mse: 2232589824.0000 - rmse: 47250.2891 - mae: 27324.2852 - val_loss: 8096096256.0000 - val_mse: 8096096256.0000 - val_rmse: 89978.3125 - val_mae: 38754.0859\n",
      "Epoch 86/150\n",
      "1385/1385 [==============================] - 3s 2ms/step - loss: 2212499712.0000 - mse: 2212499712.0000 - rmse: 47037.2148 - mae: 27286.9453 - val_loss: 7651601920.0000 - val_mse: 7651601920.0000 - val_rmse: 87473.4375 - val_mae: 38105.8594\n",
      "Epoch 87/150\n",
      "1385/1385 [==============================] - 3s 2ms/step - loss: 2220147712.0000 - mse: 2220147712.0000 - rmse: 47118.4453 - mae: 27232.5684 - val_loss: 7710535168.0000 - val_mse: 7710535168.0000 - val_rmse: 87809.6562 - val_mae: 37826.9883\n",
      "Epoch 88/150\n",
      "1385/1385 [==============================] - 3s 2ms/step - loss: 2137314048.0000 - mse: 2137314048.0000 - rmse: 46231.0938 - mae: 26962.8301 - val_loss: 8269340672.0000 - val_mse: 8269340672.0000 - val_rmse: 90935.9141 - val_mae: 39168.2930\n",
      "Epoch 89/150\n",
      "1385/1385 [==============================] - 3s 2ms/step - loss: 2116689024.0000 - mse: 2116689024.0000 - rmse: 46007.4883 - mae: 26951.0664 - val_loss: 8066440192.0000 - val_mse: 8066440192.0000 - val_rmse: 89813.3594 - val_mae: 38672.8164\n",
      "Epoch 90/150\n",
      "1385/1385 [==============================] - 3s 2ms/step - loss: 2168106752.0000 - mse: 2168106752.0000 - rmse: 46562.9336 - mae: 27119.5898 - val_loss: 7907609088.0000 - val_mse: 7907609088.0000 - val_rmse: 88924.7422 - val_mae: 38583.1367\n",
      "Epoch 91/150\n",
      "1385/1385 [==============================] - 3s 2ms/step - loss: 2105681152.0000 - mse: 2105681152.0000 - rmse: 45887.7031 - mae: 26874.8965 - val_loss: 7938352128.0000 - val_mse: 7938352128.0000 - val_rmse: 89097.4297 - val_mae: 38555.1367\n",
      "Epoch 92/150\n",
      "1385/1385 [==============================] - 3s 2ms/step - loss: 2090071680.0000 - mse: 2090071680.0000 - rmse: 45717.3008 - mae: 26783.0703 - val_loss: 8294299136.0000 - val_mse: 8294299136.0000 - val_rmse: 91073.0391 - val_mae: 38746.2266\n",
      "Epoch 93/150\n",
      "1385/1385 [==============================] - 3s 2ms/step - loss: 2082055296.0000 - mse: 2082055296.0000 - rmse: 45629.5430 - mae: 26729.9219 - val_loss: 7958257664.0000 - val_mse: 7958257664.0000 - val_rmse: 89209.0703 - val_mae: 37566.0664\n",
      "Epoch 94/150\n",
      "1385/1385 [==============================] - 3s 2ms/step - loss: 2084735616.0000 - mse: 2084735616.0000 - rmse: 45658.9062 - mae: 26666.1055 - val_loss: 7964915200.0000 - val_mse: 7964915200.0000 - val_rmse: 89246.3750 - val_mae: 38655.8633\n",
      "Epoch 95/150\n",
      "1385/1385 [==============================] - 2s 2ms/step - loss: 2044734848.0000 - mse: 2044734848.0000 - rmse: 45218.7461 - mae: 26622.1191 - val_loss: 7889977856.0000 - val_mse: 7889977856.0000 - val_rmse: 88825.5469 - val_mae: 37968.9805\n",
      "Epoch 96/150\n",
      "1385/1385 [==============================] - 3s 2ms/step - loss: 2027858688.0000 - mse: 2027858688.0000 - rmse: 45031.7539 - mae: 26399.2266 - val_loss: 8454453248.0000 - val_mse: 8454453248.0000 - val_rmse: 91948.1016 - val_mae: 39718.4844\n",
      "Epoch 97/150\n"
     ]
    },
    {
     "name": "stdout",
     "output_type": "stream",
     "text": [
      "1385/1385 [==============================] - 3s 2ms/step - loss: 2009905536.0000 - mse: 2009905536.0000 - rmse: 44831.9688 - mae: 26479.1738 - val_loss: 8213103616.0000 - val_mse: 8213103616.0000 - val_rmse: 90626.1719 - val_mae: 38678.2344\n",
      "Epoch 98/150\n",
      "1385/1385 [==============================] - 3s 2ms/step - loss: 1979948928.0000 - mse: 1979948928.0000 - rmse: 44496.6172 - mae: 26387.5723 - val_loss: 7961549824.0000 - val_mse: 7961549824.0000 - val_rmse: 89227.5156 - val_mae: 38104.0430\n",
      "Epoch 99/150\n",
      "1385/1385 [==============================] - 3s 2ms/step - loss: 1933756800.0000 - mse: 1933756800.0000 - rmse: 43974.5000 - mae: 26228.5918 - val_loss: 8213564928.0000 - val_mse: 8213564928.0000 - val_rmse: 90628.7188 - val_mae: 37890.2500\n",
      "Epoch 100/150\n",
      "1385/1385 [==============================] - 3s 2ms/step - loss: 1960842624.0000 - mse: 1960842624.0000 - rmse: 44281.4023 - mae: 26208.9707 - val_loss: 8408559616.0000 - val_mse: 8408559616.0000 - val_rmse: 91698.1953 - val_mae: 39441.4688\n",
      "Epoch 101/150\n",
      "1385/1385 [==============================] - 3s 2ms/step - loss: 1900442368.0000 - mse: 1900442368.0000 - rmse: 43594.0625 - mae: 26047.9648 - val_loss: 8189518336.0000 - val_mse: 8189518336.0000 - val_rmse: 90495.9609 - val_mae: 39125.2500\n",
      "Epoch 102/150\n",
      "1385/1385 [==============================] - 3s 2ms/step - loss: 1986485376.0000 - mse: 1986485376.0000 - rmse: 44570.0039 - mae: 26194.9668 - val_loss: 8215128576.0000 - val_mse: 8215128576.0000 - val_rmse: 90637.3438 - val_mae: 38905.2070\n",
      "Epoch 103/150\n",
      "1385/1385 [==============================] - 3s 2ms/step - loss: 1861629184.0000 - mse: 1861629184.0000 - rmse: 43146.6016 - mae: 25918.5879 - val_loss: 8244585984.0000 - val_mse: 8244585984.0000 - val_rmse: 90799.7031 - val_mae: 38866.7930\n",
      "Epoch 104/150\n",
      "1385/1385 [==============================] - 2s 2ms/step - loss: 1822862208.0000 - mse: 1822862208.0000 - rmse: 42694.9922 - mae: 25816.5352 - val_loss: 8032974336.0000 - val_mse: 8032974336.0000 - val_rmse: 89626.8594 - val_mae: 39049.6484\n",
      "Epoch 105/150\n",
      "1385/1385 [==============================] - 3s 2ms/step - loss: 1842650368.0000 - mse: 1842650368.0000 - rmse: 42926.1055 - mae: 25877.9453 - val_loss: 8758309888.0000 - val_mse: 8758309888.0000 - val_rmse: 93585.8438 - val_mae: 39556.3711\n",
      "Epoch 106/150\n",
      "1385/1385 [==============================] - 2s 2ms/step - loss: 1903248768.0000 - mse: 1903248768.0000 - rmse: 43626.2383 - mae: 26014.7070 - val_loss: 8225993216.0000 - val_mse: 8225993216.0000 - val_rmse: 90697.2578 - val_mae: 39079.3359\n",
      "Epoch 107/150\n",
      "1385/1385 [==============================] - 2s 2ms/step - loss: 1871533184.0000 - mse: 1871533184.0000 - rmse: 43261.2188 - mae: 25813.9844 - val_loss: 8072350720.0000 - val_mse: 8072350720.0000 - val_rmse: 89846.2578 - val_mae: 38399.9805\n",
      "Epoch 108/150\n",
      "1385/1385 [==============================] - 3s 2ms/step - loss: 1784156800.0000 - mse: 1784156800.0000 - rmse: 42239.2812 - mae: 25540.4551 - val_loss: 8422993920.0000 - val_mse: 8422993920.0000 - val_rmse: 91776.8672 - val_mae: 39247.3477\n",
      "Epoch 109/150\n",
      "1385/1385 [==============================] - 3s 2ms/step - loss: 1846258816.0000 - mse: 1846258816.0000 - rmse: 42968.1133 - mae: 25736.8086 - val_loss: 8109801472.0000 - val_mse: 8109801472.0000 - val_rmse: 90054.4375 - val_mae: 38551.27342.0000 - mse: 1821720192.0000 - rmse: 42\n",
      "Epoch 110/150\n",
      "1385/1385 [==============================] - 3s 2ms/step - loss: 1780916864.0000 - mse: 1780916864.0000 - rmse: 42200.9102 - mae: 25566.0020 - val_loss: 8338315264.0000 - val_mse: 8338315264.0000 - val_rmse: 91314.3750 - val_mae: 39456.5977\n",
      "Epoch 111/150\n",
      "1385/1385 [==============================] - 3s 2ms/step - loss: 1763554944.0000 - mse: 1763554944.0000 - rmse: 41994.7031 - mae: 25486.8672 - val_loss: 8328412672.0000 - val_mse: 8328412672.0000 - val_rmse: 91260.1406 - val_mae: 38530.9219\n",
      "Epoch 112/150\n",
      "1385/1385 [==============================] - 3s 2ms/step - loss: 1722964224.0000 - mse: 1722964224.0000 - rmse: 41508.6055 - mae: 25287.9531 - val_loss: 8593230848.0000 - val_mse: 8593230848.0000 - val_rmse: 92699.6797 - val_mae: 39762.2461\n",
      "Epoch 113/150\n",
      "1385/1385 [==============================] - 3s 2ms/step - loss: 1812202752.0000 - mse: 1812202752.0000 - rmse: 42569.9766 - mae: 25557.8555 - val_loss: 8305911296.0000 - val_mse: 8305911296.0000 - val_rmse: 91136.7734 - val_mae: 38581.6094\n",
      "Epoch 114/150\n",
      "1385/1385 [==============================] - 2s 2ms/step - loss: 1716021376.0000 - mse: 1716021376.0000 - rmse: 41424.8867 - mae: 25256.3691 - val_loss: 8107442688.0000 - val_mse: 8107442688.0000 - val_rmse: 90041.3359 - val_mae: 38763.0547\n",
      "Epoch 115/150\n",
      "1385/1385 [==============================] - 2s 2ms/step - loss: 1725123584.0000 - mse: 1725123584.0000 - rmse: 41534.6055 - mae: 25338.3828 - val_loss: 8581422080.0000 - val_mse: 8581422080.0000 - val_rmse: 92635.9688 - val_mae: 40030.8594\n",
      "Epoch 116/150\n",
      "1385/1385 [==============================] - 2s 2ms/step - loss: 1679805696.0000 - mse: 1679805696.0000 - rmse: 40985.4336 - mae: 25119.5762 - val_loss: 8042239488.0000 - val_mse: 8042239488.0000 - val_rmse: 89678.5312 - val_mae: 37934.1133\n",
      "Epoch 117/150\n",
      "1385/1385 [==============================] - 2s 2ms/step - loss: 1717774976.0000 - mse: 1717774976.0000 - rmse: 41446.0508 - mae: 25235.3965 - val_loss: 8288934400.0000 - val_mse: 8288934400.0000 - val_rmse: 91043.5859 - val_mae: 39623.4375\n",
      "Epoch 118/150\n",
      "1385/1385 [==============================] - 2s 2ms/step - loss: 1731385600.0000 - mse: 1731385600.0000 - rmse: 41609.9219 - mae: 25161.5078 - val_loss: 8303360000.0000 - val_mse: 8303360000.0000 - val_rmse: 91122.7734 - val_mae: 39245.7578\n",
      "Epoch 119/150\n",
      "1385/1385 [==============================] - 2s 2ms/step - loss: 1613840768.0000 - mse: 1613840768.0000 - rmse: 40172.6367 - mae: 24872.0293 - val_loss: 8690571264.0000 - val_mse: 8690571264.0000 - val_rmse: 93223.2344 - val_mae: 38995.3047\n",
      "Epoch 120/150\n",
      "1385/1385 [==============================] - 2s 2ms/step - loss: 1739614592.0000 - mse: 1739614592.0000 - rmse: 41708.6875 - mae: 25278.3984 - val_loss: 8474880000.0000 - val_mse: 8474880000.0000 - val_rmse: 92059.1094 - val_mae: 39616.7773\n",
      "Epoch 121/150\n",
      "1385/1385 [==============================] - 2s 2ms/step - loss: 1669302272.0000 - mse: 1669302272.0000 - rmse: 40857.0977 - mae: 24949.2383 - val_loss: 8165404672.0000 - val_mse: 8165404672.0000 - val_rmse: 90362.6250 - val_mae: 39456.2031\n",
      "Epoch 122/150\n",
      "1385/1385 [==============================] - 3s 2ms/step - loss: 1642197760.0000 - mse: 1642197760.0000 - rmse: 40524.0391 - mae: 24853.7109 - val_loss: 8938948608.0000 - val_mse: 8938948608.0000 - val_rmse: 94546.0156 - val_mae: 40154.8789\n",
      "Epoch 123/150\n",
      "1385/1385 [==============================] - 2s 2ms/step - loss: 1626917248.0000 - mse: 1626917248.0000 - rmse: 40335.0625 - mae: 24851.3320 - val_loss: 8870809600.0000 - val_mse: 8870809600.0000 - val_rmse: 94184.9766 - val_mae: 39796.3164\n",
      "Epoch 124/150\n",
      "1385/1385 [==============================] - 2s 2ms/step - loss: 1624197248.0000 - mse: 1624197248.0000 - rmse: 40301.3320 - mae: 24800.0391 - val_loss: 8131639296.0000 - val_mse: 8131639296.0000 - val_rmse: 90175.6016 - val_mae: 39071.2188\n",
      "Epoch 125/150\n",
      "1385/1385 [==============================] - 2s 2ms/step - loss: 1644713344.0000 - mse: 1644713344.0000 - rmse: 40555.0664 - mae: 24814.2852 - val_loss: 8283975680.0000 - val_mse: 8283975680.0000 - val_rmse: 91016.3516 - val_mae: 38923.8750\n",
      "Epoch 126/150\n",
      "1385/1385 [==============================] - 3s 2ms/step - loss: 1630502400.0000 - mse: 1630502400.0000 - rmse: 40379.4805 - mae: 24675.1641 - val_loss: 8350482944.0000 - val_mse: 8350482944.0000 - val_rmse: 91380.9766 - val_mae: 39128.1680\n",
      "Epoch 127/150\n",
      "1385/1385 [==============================] - 3s 2ms/step - loss: 1549261696.0000 - mse: 1549261696.0000 - rmse: 39360.6602 - mae: 24415.2910 - val_loss: 8447891456.0000 - val_mse: 8447891456.0000 - val_rmse: 91912.4141 - val_mae: 39523.7305\n",
      "Epoch 128/150\n",
      "1385/1385 [==============================] - 3s 2ms/step - loss: 1576721152.0000 - mse: 1576721152.0000 - rmse: 39707.9492 - mae: 24566.7520 - val_loss: 8222027776.0000 - val_mse: 8222027776.0000 - val_rmse: 90675.3984 - val_mae: 38521.5938\n",
      "Epoch 129/150\n"
     ]
    },
    {
     "name": "stdout",
     "output_type": "stream",
     "text": [
      "1385/1385 [==============================] - 2s 2ms/step - loss: 1609106816.0000 - mse: 1609106816.0000 - rmse: 40113.6719 - mae: 24604.5586 - val_loss: 8349686272.0000 - val_mse: 8349686272.0000 - val_rmse: 91376.6172 - val_mae: 38860.1211\n",
      "Epoch 130/150\n",
      "1385/1385 [==============================] - 2s 2ms/step - loss: 1562591872.0000 - mse: 1562591872.0000 - rmse: 39529.6328 - mae: 24554.2324 - val_loss: 8090421760.0000 - val_mse: 8090421760.0000 - val_rmse: 89946.7734 - val_mae: 38681.3125\n",
      "Epoch 131/150\n",
      "1385/1385 [==============================] - 2s 2ms/step - loss: 1549564800.0000 - mse: 1549564800.0000 - rmse: 39364.5117 - mae: 24366.5938 - val_loss: 8520946688.0000 - val_mse: 8520946688.0000 - val_rmse: 92308.9766 - val_mae: 39353.1680\n",
      "Epoch 132/150\n",
      "1385/1385 [==============================] - 2s 2ms/step - loss: 1596715008.0000 - mse: 1596715008.0000 - rmse: 39958.9180 - mae: 24563.2129 - val_loss: 8399748608.0000 - val_mse: 8399748608.0000 - val_rmse: 91650.1406 - val_mae: 39282.7383\n",
      "Epoch 133/150\n",
      "1385/1385 [==============================] - 2s 2ms/step - loss: 1479011840.0000 - mse: 1479011840.0000 - rmse: 38457.9219 - mae: 24157.0898 - val_loss: 8189661184.0000 - val_mse: 8189661184.0000 - val_rmse: 90496.7500 - val_mae: 38700.8438\n",
      "Epoch 134/150\n",
      "1385/1385 [==============================] - 3s 2ms/step - loss: 1536547712.0000 - mse: 1536547712.0000 - rmse: 39198.8242 - mae: 24312.0645 - val_loss: 8467394560.0000 - val_mse: 8467394560.0000 - val_rmse: 92018.4453 - val_mae: 38991.2656\n",
      "Epoch 135/150\n",
      "1385/1385 [==============================] - 2s 2ms/step - loss: 1508753792.0000 - mse: 1508753792.0000 - rmse: 38842.6797 - mae: 24161.9043 - val_loss: 8179947008.0000 - val_mse: 8179947008.0000 - val_rmse: 90443.0625 - val_mae: 39071.8633\n",
      "Epoch 136/150\n",
      "1385/1385 [==============================] - 2s 2ms/step - loss: 1496729216.0000 - mse: 1496729216.0000 - rmse: 38687.5859 - mae: 24164.9023 - val_loss: 8286285824.0000 - val_mse: 8286285824.0000 - val_rmse: 91029.0391 - val_mae: 38391.3789\n",
      "Epoch 137/150\n",
      "1385/1385 [==============================] - 2s 2ms/step - loss: 1528266240.0000 - mse: 1528266240.0000 - rmse: 39093.0469 - mae: 24250.4902 - val_loss: 8498309632.0000 - val_mse: 8498309632.0000 - val_rmse: 92186.2734 - val_mae: 38990.9648\n",
      "Epoch 138/150\n",
      "1385/1385 [==============================] - 2s 2ms/step - loss: 1528469888.0000 - mse: 1528469888.0000 - rmse: 39095.6523 - mae: 24224.9551 - val_loss: 8264206848.0000 - val_mse: 8264206848.0000 - val_rmse: 90907.6797 - val_mae: 38781.4922\n",
      "Epoch 139/150\n",
      "1385/1385 [==============================] - 2s 2ms/step - loss: 1463227136.0000 - mse: 1463227136.0000 - rmse: 38252.1523 - mae: 23979.5098 - val_loss: 8477799936.0000 - val_mse: 8477799936.0000 - val_rmse: 92074.9688 - val_mae: 39174.4023\n",
      "Epoch 140/150\n",
      "1385/1385 [==============================] - 3s 2ms/step - loss: 1437814912.0000 - mse: 1437814912.0000 - rmse: 37918.5312 - mae: 23864.4902 - val_loss: 8344190464.0000 - val_mse: 8344190464.0000 - val_rmse: 91346.5391 - val_mae: 39037.3789\n",
      "Epoch 141/150\n",
      "1385/1385 [==============================] - 3s 2ms/step - loss: 1519060992.0000 - mse: 1519060992.0000 - rmse: 38975.1328 - mae: 24107.5938 - val_loss: 8499544064.0000 - val_mse: 8499544064.0000 - val_rmse: 92192.9688 - val_mae: 39245.9648\n",
      "Epoch 142/150\n",
      "1385/1385 [==============================] - 3s 2ms/step - loss: 1452768512.0000 - mse: 1452768512.0000 - rmse: 38115.1992 - mae: 23879.7363 - val_loss: 8503020544.0000 - val_mse: 8503020544.0000 - val_rmse: 92211.8281 - val_mae: 39650.1797\n",
      "Epoch 143/150\n",
      "1385/1385 [==============================] - 2s 2ms/step - loss: 1478852736.0000 - mse: 1478852736.0000 - rmse: 38455.8555 - mae: 24010.2109 - val_loss: 8266065408.0000 - val_mse: 8266065408.0000 - val_rmse: 90917.9062 - val_mae: 38794.6328\n",
      "Epoch 144/150\n",
      "1385/1385 [==============================] - 2s 2ms/step - loss: 1435374336.0000 - mse: 1435374336.0000 - rmse: 37886.3359 - mae: 23800.2480 - val_loss: 8506140672.0000 - val_mse: 8506140672.0000 - val_rmse: 92228.7422 - val_mae: 38771.1484\n",
      "Epoch 145/150\n",
      "1385/1385 [==============================] - 2s 2ms/step - loss: 1437763968.0000 - mse: 1437763968.0000 - rmse: 37917.8594 - mae: 23738.3477 - val_loss: 8466028544.0000 - val_mse: 8466028544.0000 - val_rmse: 92011.0234 - val_mae: 39396.7070\n",
      "Epoch 146/150\n",
      "1385/1385 [==============================] - 2s 2ms/step - loss: 1448135808.0000 - mse: 1448135808.0000 - rmse: 38054.3789 - mae: 23886.9297 - val_loss: 9031347200.0000 - val_mse: 9031347200.0000 - val_rmse: 95033.3984 - val_mae: 40690.3125\n",
      "Epoch 147/150\n",
      "1385/1385 [==============================] - 3s 2ms/step - loss: 1415793664.0000 - mse: 1415793664.0000 - rmse: 37627.0352 - mae: 23738.0488 - val_loss: 8360503808.0000 - val_mse: 8360503808.0000 - val_rmse: 91435.7891 - val_mae: 39134.3789\n",
      "Epoch 148/150\n",
      "1385/1385 [==============================] - 2s 2ms/step - loss: 1416905856.0000 - mse: 1416905856.0000 - rmse: 37641.8086 - mae: 23766.8516 - val_loss: 8542381568.0000 - val_mse: 8542381568.0000 - val_rmse: 92425.0078 - val_mae: 39299.0156\n",
      "Epoch 149/150\n",
      "1385/1385 [==============================] - 2s 2ms/step - loss: 1434429696.0000 - mse: 1434429696.0000 - rmse: 37873.8672 - mae: 23691.5352 - val_loss: 8246810112.0000 - val_mse: 8246810112.0000 - val_rmse: 90811.9453 - val_mae: 39073.7969\n",
      "Epoch 150/150\n",
      "1385/1385 [==============================] - 2s 2ms/step - loss: 1372044032.0000 - mse: 1372044032.0000 - rmse: 37041.1133 - mae: 23491.5801 - val_loss: 8532214784.0000 - val_mse: 8532214784.0000 - val_rmse: 92369.9922 - val_mae: 38794.0781\n"
     ]
    }
   ],
   "source": [
    "#history = seq_model.fit(X_train, y_train, validation_data=(X_test, y_test), epochs=epochs, callbacks=[es])\n",
    "#history = seq_model.fit(X_train, y_train, validation_data=(X_test, y_test), epochs=epochs, callbacks=[red_lr])\n",
    "#history = seq_model.fit(X_train, y_train, validation_data=(X_test, y_test), epochs=epochs, callbacks=[es, red_lr])\n",
    "history = seq_model.fit(X_train, y_train, validation_data=(X_test, y_test), epochs=epochs)"
   ]
  },
  {
   "cell_type": "code",
   "execution_count": 51,
   "metadata": {},
   "outputs": [
    {
     "data": {
      "image/png": "[encoded data removed]",
      "text/plain": [
       "<Figure size 720x720 with 1 Axes>"
      ]
     },
     "metadata": {
      "needs_background": "light"
     },
     "output_type": "display_data"
    }
   ],
   "source": [
    "plt.figure(figsize=(10,10))\n",
    "plt.plot(history.history['loss'], label='train')\n",
    "plt.plot(history.history['val_loss'], label='val')\n",
    "plt.title('Learning Curves')\n",
    "plt.xlabel('Epoch')\n",
    "plt.ylabel('Cross Entropy')\n",
    "plt.legend()\n",
    "plt.show()"
   ]
  },
  {
   "cell_type": "code",
   "execution_count": 52,
   "metadata": {},
   "outputs": [
    {
     "name": "stdout",
     "output_type": "stream",
     "text": [
      "594/594 [==============================] - 0s 693us/step - loss: 8532214784.0000 - mse: 8532214784.0000 - rmse: 92369.9922 - mae: 38794.0781\n"
     ]
    }
   ],
   "source": [
    "# Evaluation des Regressionsmodells\n",
    "error = seq_model.evaluate(X_test, y_test)"
   ]
  },
  {
   "cell_type": "code",
   "execution_count": 53,
   "metadata": {},
   "outputs": [
    {
     "name": "stdout",
     "output_type": "stream",
     "text": [
      "MSE: 8532214784.000, RMSE: 92369.992, MAE: 38794.078\n"
     ]
    }
   ],
   "source": [
    "print('MSE: %.3f, RMSE: %.3f, MAE: %.3f' % \n",
    "      (error[1], error[2], error[3]))"
   ]
  },
  {
   "cell_type": "code",
   "execution_count": 54,
   "metadata": {},
   "outputs": [
    {
     "data": {
      "text/plain": [
       "Text(0, 0.5, 'Vorhergesagte Werte (Test Daten)')"
      ]
     },
     "execution_count": 54,
     "metadata": {},
     "output_type": "execute_result"
    },
    {
     "data": {
      "image/png": "[encoded data removed]",
      "text/plain": [
       "<Figure size 432x288 with 1 Axes>"
      ]
     },
     "metadata": {
      "needs_background": "light"
     },
     "output_type": "display_data"
    }
   ],
   "source": [
    "# Scatter Plot mit den tatsächlichen und den vorhergesagten Daten für die Test Data\n",
    "\n",
    "predictions= seq_model.predict(X_test)\n",
    "plt.plot(y_test, predictions, 'o')\n",
    "plt.xlabel('Tatsächliche Werte (Test Daten)')\n",
    "plt.xticks(rotation=90)\n",
    "plt.ylabel('Vorhergesagte Werte (Test Daten)')"
   ]
  },
  {
   "cell_type": "code",
   "execution_count": 55,
   "metadata": {},
   "outputs": [
    {
     "data": {
      "text/plain": [
       "0.5463485111445552"
      ]
     },
     "execution_count": 55,
     "metadata": {},
     "output_type": "execute_result"
    }
   ],
   "source": [
    "# Berechnung des R2-Scores (Bestimmtheitsmaß)\n",
    "r2_seq = r2_score(y_test, predictions)\n",
    "r2_seq"
   ]
  },
  {
   "cell_type": "code",
   "execution_count": 56,
   "metadata": {},
   "outputs": [],
   "source": [
    "# Berechnung des adjustierten R2-Scores (adj. Bestimmtheitsmaß)\n",
    "adj_r2_seq = 1-(1-r2_seq)*((len(X_test)-1)/(len(X_test)-(len(cat)+len(con))))"
   ]
  },
  {
   "cell_type": "code",
   "execution_count": 57,
   "metadata": {
    "scrolled": true
   },
   "outputs": [
    {
     "name": "stdout",
     "output_type": "stream",
     "text": [
      "0,546349 \t 0,545918 \t 92370  \t 8532214784 \t 38794\n"
     ]
    }
   ],
   "source": [
    "print(('%.6f \\t %.6f \\t %.0f  \\t %.0f \\t %.0f' % \n",
    "      (r2_seq, adj_r2_seq, error[2], error[1], error[3])).replace('.', ','))"
   ]
  },
  {
   "cell_type": "code",
   "execution_count": 58,
   "metadata": {},
   "outputs": [
    {
     "data": {
      "text/plain": [
       "Text(0, 0.5, 'Vorhergesagte Werte (Trainings Daten)')"
      ]
     },
     "execution_count": 58,
     "metadata": {},
     "output_type": "execute_result"
    },
    {
     "data": {
      "image/png": "[encoded data removed]",
      "text/plain": [
       "<Figure size 432x288 with 1 Axes>"
      ]
     },
     "metadata": {
      "needs_background": "light"
     },
     "output_type": "display_data"
    }
   ],
   "source": [
    "# Scatter Plot mit den tatsächlichen und den vorhergesagten Daten für die Training Data\n",
    "train_predictions=seq_model.predict(X_train)\n",
    "plt.plot(y_train, train_predictions, 'o')\n",
    "plt.xlabel('Tatsächliche Werte (Trainings Daten)')\n",
    "plt.xticks(rotation=90)\n",
    "plt.ylabel('Vorhergesagte Werte (Trainings Daten)')"
   ]
  },
  {
   "cell_type": "code",
   "execution_count": 59,
   "metadata": {},
   "outputs": [],
   "source": [
    "predictions = predictions.flatten()"
   ]
  },
  {
   "cell_type": "code",
   "execution_count": 60,
   "metadata": {},
   "outputs": [],
   "source": [
    "train_predictions = train_predictions.flatten()"
   ]
  },
  {
   "cell_type": "code",
   "execution_count": 61,
   "metadata": {},
   "outputs": [
    {
     "data": {
      "image/png": "[encoded data removed]",
      "text/plain": [
       "<Figure size 1440x1152 with 1 Axes>"
      ]
     },
     "metadata": {
      "needs_background": "light"
     },
     "output_type": "display_data"
    }
   ],
   "source": [
    "pred = pd.DataFrame({'Actual': y_test, 'Predicted': predictions})\n",
    "pred1 = pred.sample(50)\n",
    "\n",
    "pred1.plot(kind='bar',figsize=(20,16))\n",
    "plt.grid(which='major', linestyle='-', linewidth='0.5', color='green')\n",
    "plt.grid(which='minor', linestyle=':', linewidth='0.5', color='black')\n",
    "plt.show()"
   ]
  },
  {
   "cell_type": "code",
   "execution_count": 62,
   "metadata": {},
   "outputs": [
    {
     "data": {
      "image/png": "[encoded data removed]",
      "text/plain": [
       "<Figure size 432x288 with 1 Axes>"
      ]
     },
     "metadata": {
      "needs_background": "light"
     },
     "output_type": "display_data"
    }
   ],
   "source": [
    "# Differenzen zwischen vorhergesagten und tatsächlichen Werten\n",
    "plt.scatter(train_predictions, train_predictions - y_train, c='b', s=40, alpha=0.5, label='Trainings Daten')\n",
    "plt.scatter(predictions, predictions - y_test, c='g', s=40, label='Test Daten')\n",
    "plt.hlines(y=0, xmin=-0.03, xmax=0.2)\n",
    "plt.title('Residuum Diagramm der Regression')\n",
    "plt.ylabel('Residuum')\n",
    "plt.xlabel('Infrastrukturschaden')\n",
    "plt.legend()\n",
    "plt.show()"
   ]
  },
  {
   "cell_type": "markdown",
   "metadata": {},
   "source": [
    "## Functional API Regression Model with Keras"
   ]
  },
  {
   "cell_type": "code",
   "execution_count": 63,
   "metadata": {},
   "outputs": [],
   "source": [
    "x_in = Input(shape=(n_features,))\n",
    "dense = Dense(1024, activation=activation)\n",
    "x = dense(x_in)\n",
    "x = Dropout(dropout)(x)\n",
    "x = Dense(512, activation=activation2)(x)\n",
    "#x = Dense(256, activation=activation)(x)\n",
    "#x = Dropout(dropout)(x)\n",
    "#x = Dense(128, activation=activation)(x)\n",
    "#x = Dropout(dropout)(x)\n",
    "#x = Dense(64, activation=activation)(x)\n",
    "#x = Dropout(dropout)(x)\n",
    "x_out = Dense(1)(x)\n",
    "func_model = Model(inputs=x_in, outputs=x_out)"
   ]
  },
  {
   "cell_type": "code",
   "execution_count": 64,
   "metadata": {},
   "outputs": [
    {
     "name": "stdout",
     "output_type": "stream",
     "text": [
      "Model: \"model\"\n",
      "_________________________________________________________________\n",
      "Layer (type)                 Output Shape              Param #   \n",
      "=================================================================\n",
      "input_1 (InputLayer)         [(None, 47)]              0         \n",
      "_________________________________________________________________\n",
      "dense_3 (Dense)              (None, 1024)              49152     \n",
      "_________________________________________________________________\n",
      "dropout_1 (Dropout)          (None, 1024)              0         \n",
      "_________________________________________________________________\n",
      "dense_4 (Dense)              (None, 512)               524800    \n",
      "_________________________________________________________________\n",
      "dense_5 (Dense)              (None, 1)                 513       \n",
      "=================================================================\n",
      "Total params: 574,465\n",
      "Trainable params: 574,465\n",
      "Non-trainable params: 0\n",
      "_________________________________________________________________\n"
     ]
    }
   ],
   "source": [
    "func_model.summary()"
   ]
  },
  {
   "cell_type": "code",
   "execution_count": 65,
   "metadata": {},
   "outputs": [
    {
     "data": {
      "image/png": "[encoded data removed]",
      "text/plain": [
       "<IPython.core.display.Image object>"
      ]
     },
     "execution_count": 65,
     "metadata": {},
     "output_type": "execute_result"
    }
   ],
   "source": [
    "plot_model(func_model, 'Images/Functional API Regression Model.png', show_shapes=True)"
   ]
  },
  {
   "cell_type": "code",
   "execution_count": 66,
   "metadata": {},
   "outputs": [],
   "source": [
    "func_model.compile(optimizer=opt, loss='mse', metrics=metrics)"
   ]
  },
  {
   "cell_type": "code",
   "execution_count": null,
   "metadata": {
    "scrolled": true
   },
   "outputs": [
    {
     "name": "stdout",
     "output_type": "stream",
     "text": [
      "Epoch 1/150\n",
      "1385/1385 [==============================] - 6s 4ms/step - loss: 7231261696.0000 - mse: 7231261696.0000 - rmse: 85036.8281 - mae: 39595.6250 - val_loss: 6281569280.0000 - val_mse: 6281569280.0000 - val_rmse: 79256.3516 - val_mae: 37198.7344\n",
      "Epoch 2/150\n",
      "1385/1385 [==============================] - 5s 4ms/step - loss: 6595932672.0000 - mse: 6595932672.0000 - rmse: 81215.3438 - mae: 37697.5000 - val_loss: 6663597056.0000 - val_mse: 6663597056.0000 - val_rmse: 81630.8594 - val_mae: 42070.0273\n",
      "Epoch 3/150\n",
      "1385/1385 [==============================] - 6s 4ms/step - loss: 6376506368.0000 - mse: 6376506368.0000 - rmse: 79853.0312 - mae: 37285.3281 - val_loss: 6016442880.0000 - val_mse: 6016442880.0000 - val_rmse: 77565.7344 - val_mae: 36666.6289\n",
      "Epoch 4/150\n",
      "1385/1385 [==============================] - 6s 4ms/step - loss: 6411863040.0000 - mse: 6411863040.0000 - rmse: 80074.1094 - mae: 36829.4062 - val_loss: 6019052544.0000 - val_mse: 6019052544.0000 - val_rmse: 77582.5547 - val_mae: 34702.7461\n",
      "Epoch 5/150\n",
      "1385/1385 [==============================] - 6s 4ms/step - loss: 6161299456.0000 - mse: 6161299456.0000 - rmse: 78493.9453 - mae: 36599.4570 - val_loss: 5992716288.0000 - val_mse: 5992716288.0000 - val_rmse: 77412.6328 - val_mae: 37155.0664\n",
      "Epoch 6/150\n",
      "1385/1385 [==============================] - 6s 4ms/step - loss: 6145374208.0000 - mse: 6145374208.0000 - rmse: 78392.4375 - mae: 36540.9727 - val_loss: 5889282048.0000 - val_mse: 5889282048.0000 - val_rmse: 76741.6562 - val_mae: 36172.7188\n",
      "Epoch 7/150\n",
      "1385/1385 [==============================] - 6s 4ms/step - loss: 6019544064.0000 - mse: 6019544064.0000 - rmse: 77585.7188 - mae: 36255.1016 - val_loss: 5952608256.0000 - val_mse: 5952608256.0000 - val_rmse: 77153.1484 - val_mae: 36863.4180\n",
      "Epoch 8/150\n",
      "1385/1385 [==============================] - 6s 4ms/step - loss: 5952463360.0000 - mse: 5952463360.0000 - rmse: 77152.2109 - mae: 36025.8203 - val_loss: 5991963648.0000 - val_mse: 5991963648.0000 - val_rmse: 77407.7734 - val_mae: 35690.3711\n",
      "Epoch 9/150\n",
      "1385/1385 [==============================] - 5s 4ms/step - loss: 5936908800.0000 - mse: 5936908800.0000 - rmse: 77051.3359 - mae: 35962.8516 - val_loss: 5934435328.0000 - val_mse: 5934435328.0000 - val_rmse: 77035.2891 - val_mae: 35731.1367\n",
      "Epoch 10/150\n",
      "1385/1385 [==============================] - 6s 4ms/step - loss: 5811882496.0000 - mse: 5811882496.0000 - rmse: 76235.7031 - mae: 35783.3828 - val_loss: 6031312384.0000 - val_mse: 6031312384.0000 - val_rmse: 77661.5234 - val_mae: 34541.3555\n",
      "Epoch 11/150\n",
      "1385/1385 [==============================] - 6s 4ms/step - loss: 5778869760.0000 - mse: 5778869760.0000 - rmse: 76018.8750 - mae: 35712.8281 - val_loss: 5978067968.0000 - val_mse: 5978067968.0000 - val_rmse: 77317.9688 - val_mae: 35229.8828\n",
      "Epoch 12/150\n",
      "1385/1385 [==============================] - 6s 4ms/step - loss: 5673156608.0000 - mse: 5673156608.0000 - rmse: 75320.3594 - mae: 35464.8672 - val_loss: 5961136640.0000 - val_mse: 5961136640.0000 - val_rmse: 77208.3984 - val_mae: 35251.0039\n",
      "Epoch 13/150\n",
      "1385/1385 [==============================] - 6s 4ms/step - loss: 5579258368.0000 - mse: 5579258368.0000 - rmse: 74694.4297 - mae: 35338.0547 - val_loss: 5954444288.0000 - val_mse: 5954444288.0000 - val_rmse: 77165.0469 - val_mae: 35787.3320\n",
      "Epoch 14/150\n",
      "1385/1385 [==============================] - 6s 4ms/step - loss: 5534225408.0000 - mse: 5534225408.0000 - rmse: 74392.3750 - mae: 35363.9961 - val_loss: 5968288768.0000 - val_mse: 5968288768.0000 - val_rmse: 77254.7031 - val_mae: 37522.6562\n",
      "Epoch 15/150\n",
      "1385/1385 [==============================] - 6s 4ms/step - loss: 5507189760.0000 - mse: 5507189760.0000 - rmse: 74210.4453 - mae: 35137.1875 - val_loss: 5879505408.0000 - val_mse: 5879505408.0000 - val_rmse: 76677.9297 - val_mae: 36810.8398\n",
      "Epoch 16/150\n",
      "1385/1385 [==============================] - 6s 4ms/step - loss: 5388823040.0000 - mse: 5388823040.0000 - rmse: 73408.6016 - mae: 34928.9141 - val_loss: 5966837760.0000 - val_mse: 5966837760.0000 - val_rmse: 77245.3125 - val_mae: 35915.7734\n",
      "Epoch 17/150\n",
      "1385/1385 [==============================] - 6s 4ms/step - loss: 5310909440.0000 - mse: 5310909440.0000 - rmse: 72875.9844 - mae: 34787.3750 - val_loss: 5971231232.0000 - val_mse: 5971231232.0000 - val_rmse: 77273.7422 - val_mae: 35328.7070\n",
      "Epoch 18/150\n",
      "1385/1385 [==============================] - 6s 4ms/step - loss: 5306932224.0000 - mse: 5306932224.0000 - rmse: 72848.6953 - mae: 34825.8789 - val_loss: 6092513280.0000 - val_mse: 6092513280.0000 - val_rmse: 78054.5547 - val_mae: 35007.2734\n",
      "Epoch 19/150\n",
      "1385/1385 [==============================] - 6s 4ms/step - loss: 5193195008.0000 - mse: 5193195008.0000 - rmse: 72063.8281 - mae: 34667.4961 - val_loss: 6121078272.0000 - val_mse: 6121078272.0000 - val_rmse: 78237.3203 - val_mae: 35341.9258\n",
      "Epoch 20/150\n",
      "1385/1385 [==============================] - 6s 4ms/step - loss: 5089864704.0000 - mse: 5089864704.0000 - rmse: 71343.2891 - mae: 34375.4609 - val_loss: 6187745792.0000 - val_mse: 6187745792.0000 - val_rmse: 78662.2266 - val_mae: 34618.3359\n",
      "Epoch 21/150\n",
      "1385/1385 [==============================] - 6s 4ms/step - loss: 4999196160.0000 - mse: 4999196160.0000 - rmse: 70704.9922 - mae: 34154.6484 - val_loss: 6201567744.0000 - val_mse: 6201567744.0000 - val_rmse: 78750.0312 - val_mae: 36467.0195\n",
      "Epoch 22/150\n",
      "1385/1385 [==============================] - 6s 4ms/step - loss: 4967211008.0000 - mse: 4967211008.0000 - rmse: 70478.4453 - mae: 34221.7109 - val_loss: 6169245184.0000 - val_mse: 6169245184.0000 - val_rmse: 78544.5391 - val_mae: 34627.4297\n",
      "Epoch 23/150\n",
      "1385/1385 [==============================] - 6s 5ms/step - loss: 4830941696.0000 - mse: 4830941696.0000 - rmse: 69504.9766 - mae: 33934.7109 - val_loss: 6363430912.0000 - val_mse: 6363430912.0000 - val_rmse: 79771.1172 - val_mae: 37108.4844\n",
      "Epoch 24/150\n",
      "1385/1385 [==============================] - 6s 4ms/step - loss: 4784106496.0000 - mse: 4784106496.0000 - rmse: 69167.2344 - mae: 33800.4102 - val_loss: 6128966656.0000 - val_mse: 6128966656.0000 - val_rmse: 78287.7188 - val_mae: 34569.0703\n",
      "Epoch 25/150\n",
      "1385/1385 [==============================] - 6s 4ms/step - loss: 4651770880.0000 - mse: 4651770880.0000 - rmse: 68203.8906 - mae: 33533.1523 - val_loss: 6424332288.0000 - val_mse: 6424332288.0000 - val_rmse: 80151.9297 - val_mae: 37349.3438\n",
      "Epoch 26/150\n",
      "1385/1385 [==============================] - 6s 4ms/step - loss: 4593261056.0000 - mse: 4593261056.0000 - rmse: 67773.6016 - mae: 33394.9141 - val_loss: 6294051840.0000 - val_mse: 6294051840.0000 - val_rmse: 79335.0625 - val_mae: 36020.8438\n",
      "Epoch 27/150\n",
      "1385/1385 [==============================] - 6s 4ms/step - loss: 4517294080.0000 - mse: 4517294080.0000 - rmse: 67210.8203 - mae: 33165.8359 - val_loss: 6378266112.0000 - val_mse: 6378266112.0000 - val_rmse: 79864.0469 - val_mae: 36626.0234\n",
      "Epoch 28/150\n",
      "1385/1385 [==============================] - 6s 4ms/step - loss: 4432118272.0000 - mse: 4432118272.0000 - rmse: 66574.1562 - mae: 33029.2539 - val_loss: 6475227648.0000 - val_mse: 6475227648.0000 - val_rmse: 80468.7969 - val_mae: 37424.3281\n",
      "Epoch 29/150\n",
      "1385/1385 [==============================] - 6s 4ms/step - loss: 4301494272.0000 - mse: 4301494272.0000 - rmse: 65585.7812 - mae: 32820.0781 - val_loss: 6456876544.0000 - val_mse: 6456876544.0000 - val_rmse: 80354.6953 - val_mae: 35273.1016\n",
      "Epoch 30/150\n",
      "1385/1385 [==============================] - 6s 4ms/step - loss: 4230524160.0000 - mse: 4230524160.0000 - rmse: 65042.4805 - mae: 32691.9805 - val_loss: 6527279616.0000 - val_mse: 6527279616.0000 - val_rmse: 80791.5781 - val_mae: 35527.8125\n",
      "Epoch 31/150\n",
      "1385/1385 [==============================] - 6s 4ms/step - loss: 4146552576.0000 - mse: 4146552576.0000 - rmse: 64393.7305 - mae: 32400.6387 - val_loss: 6352127488.0000 - val_mse: 6352127488.0000 - val_rmse: 79700.2344 - val_mae: 35240.4180\n",
      "Epoch 32/150\n",
      "1385/1385 [==============================] - 6s 4ms/step - loss: 4069158656.0000 - mse: 4069158656.0000 - rmse: 63789.9570 - mae: 32210.3223 - val_loss: 6720191488.0000 - val_mse: 6720191488.0000 - val_rmse: 81976.7734 - val_mae: 36258.1797\n",
      "Epoch 33/150\n"
     ]
    },
    {
     "name": "stdout",
     "output_type": "stream",
     "text": [
      "1385/1385 [==============================] - 5s 4ms/step - loss: 3932537856.0000 - mse: 3932537856.0000 - rmse: 62709.9492 - mae: 32037.6562 - val_loss: 6802949632.0000 - val_mse: 6802949632.0000 - val_rmse: 82479.9922 - val_mae: 35986.9062\n",
      "Epoch 34/150\n",
      "1385/1385 [==============================] - 6s 4ms/step - loss: 3866283264.0000 - mse: 3866283264.0000 - rmse: 62179.4453 - mae: 31707.8145 - val_loss: 6712197632.0000 - val_mse: 6712197632.0000 - val_rmse: 81928.0000 - val_mae: 36803.7852\n",
      "Epoch 35/150\n",
      "1385/1385 [==============================] - 5s 4ms/step - loss: 3805338368.0000 - mse: 3805338368.0000 - rmse: 61687.4258 - mae: 31673.0449 - val_loss: 7035562496.0000 - val_mse: 7035562496.0000 - val_rmse: 83878.2578 - val_mae: 35264.6094\n",
      "Epoch 36/150\n",
      "1385/1385 [==============================] - 7s 5ms/step - loss: 3649536256.0000 - mse: 3649536256.0000 - rmse: 60411.3906 - mae: 31299.3164 - val_loss: 6868356608.0000 - val_mse: 6868356608.0000 - val_rmse: 82875.5469 - val_mae: 36209.1641\n",
      "Epoch 37/150\n",
      "1385/1385 [==============================] - 6s 4ms/step - loss: 3598837760.0000 - mse: 3598837760.0000 - rmse: 59990.3125 - mae: 31227.9395 - val_loss: 6970295808.0000 - val_mse: 6970295808.0000 - val_rmse: 83488.2969 - val_mae: 36467.6875\n",
      "Epoch 38/150\n",
      "1385/1385 [==============================] - 6s 4ms/step - loss: 3578621952.0000 - mse: 3578621952.0000 - rmse: 59821.5859 - mae: 31078.9238 - val_loss: 7110500352.0000 - val_mse: 7110500352.0000 - val_rmse: 84323.7812 - val_mae: 38029.0508\n",
      "Epoch 39/150\n",
      "1385/1385 [==============================] - 6s 4ms/step - loss: 3441657600.0000 - mse: 3441657600.0000 - rmse: 58665.6406 - mae: 30776.9824 - val_loss: 6870254080.0000 - val_mse: 6870254080.0000 - val_rmse: 82886.9922 - val_mae: 35614.9531\n",
      "Epoch 40/150\n",
      "1385/1385 [==============================] - 6s 4ms/step - loss: 3414073088.0000 - mse: 3414073088.0000 - rmse: 58430.0703 - mae: 30668.9590 - val_loss: 6765046784.0000 - val_mse: 6765046784.0000 - val_rmse: 82249.9062 - val_mae: 37777.2422\n",
      "Epoch 41/150\n",
      "1385/1385 [==============================] - 5s 4ms/step - loss: 3315048448.0000 - mse: 3315048448.0000 - rmse: 57576.4570 - mae: 30546.8418 - val_loss: 7095341056.0000 - val_mse: 7095341056.0000 - val_rmse: 84233.8438 - val_mae: 36968.5000\n",
      "Epoch 42/150\n",
      "1385/1385 [==============================] - 6s 4ms/step - loss: 3239500800.0000 - mse: 3239500800.0000 - rmse: 56916.6133 - mae: 30275.0684 - val_loss: 7060776960.0000 - val_mse: 7060776960.0000 - val_rmse: 84028.4297 - val_mae: 36059.6602\n",
      "Epoch 43/150\n",
      "1385/1385 [==============================] - 5s 4ms/step - loss: 3213798656.0000 - mse: 3213798656.0000 - rmse: 56690.3750 - mae: 30217.0020 - val_loss: 7130803712.0000 - val_mse: 7130803712.0000 - val_rmse: 84444.0859 - val_mae: 36298.3984\n",
      "Epoch 44/150\n",
      "1385/1385 [==============================] - 5s 4ms/step - loss: 3172084480.0000 - mse: 3172084480.0000 - rmse: 56321.2617 - mae: 30032.8223 - val_loss: 7134524416.0000 - val_mse: 7134524416.0000 - val_rmse: 84466.1172 - val_mae: 37749.4961\n",
      "Epoch 45/150\n",
      "1385/1385 [==============================] - 5s 4ms/step - loss: 3161126144.0000 - mse: 3161126144.0000 - rmse: 56223.8945 - mae: 29981.9082 - val_loss: 7068905984.0000 - val_mse: 7068905984.0000 - val_rmse: 84076.7891 - val_mae: 36335.1523\n",
      "Epoch 46/150\n",
      "1385/1385 [==============================] - 5s 4ms/step - loss: 2988687360.0000 - mse: 2988687360.0000 - rmse: 54668.8867 - mae: 29557.6094 - val_loss: 7178657792.0000 - val_mse: 7178657792.0000 - val_rmse: 84726.9609 - val_mae: 37655.7422\n",
      "Epoch 47/150\n",
      "1385/1385 [==============================] - 6s 4ms/step - loss: 2930699776.0000 - mse: 2930699776.0000 - rmse: 54135.9375 - mae: 29432.6582 - val_loss: 7145343488.0000 - val_mse: 7145343488.0000 - val_rmse: 84530.1328 - val_mae: 37126.9453\n",
      "Epoch 48/150\n",
      "1385/1385 [==============================] - 6s 4ms/step - loss: 2970369792.0000 - mse: 2970369792.0000 - rmse: 54501.0977 - mae: 29491.9102 - val_loss: 7363545088.0000 - val_mse: 7363545088.0000 - val_rmse: 85811.1016 - val_mae: 38137.1211\n",
      "Epoch 49/150\n",
      "1385/1385 [==============================] - 6s 4ms/step - loss: 2917095168.0000 - mse: 2917095168.0000 - rmse: 54010.1406 - mae: 29418.8379 - val_loss: 7287950848.0000 - val_mse: 7287950848.0000 - val_rmse: 85369.4922 - val_mae: 38099.5977\n",
      "Epoch 50/150\n",
      "1385/1385 [==============================] - 6s 4ms/step - loss: 2818667520.0000 - mse: 2818667520.0000 - rmse: 53091.1250 - mae: 29141.4238 - val_loss: 7476804608.0000 - val_mse: 7476804608.0000 - val_rmse: 86468.5156 - val_mae: 38663.5039\n",
      "Epoch 51/150\n",
      "1385/1385 [==============================] - 5s 4ms/step - loss: 2800016640.0000 - mse: 2800016640.0000 - rmse: 52915.1836 - mae: 28967.7676 - val_loss: 7490386944.0000 - val_mse: 7490386944.0000 - val_rmse: 86547.0234 - val_mae: 37925.8594\n",
      "Epoch 52/150\n",
      "1385/1385 [==============================] - 7s 5ms/step - loss: 2830976256.0000 - mse: 2830976256.0000 - rmse: 53206.9180 - mae: 28920.9238 - val_loss: 8678837248.0000 - val_mse: 8678837248.0000 - val_rmse: 93160.2734 - val_mae: 40259.6758\n",
      "Epoch 53/150\n",
      "1385/1385 [==============================] - 6s 4ms/step - loss: 2674016768.0000 - mse: 2674016768.0000 - rmse: 51710.8945 - mae: 28586.0273 - val_loss: 7541316096.0000 - val_mse: 7541316096.0000 - val_rmse: 86840.7500 - val_mae: 38131.0781\n",
      "Epoch 54/150\n",
      "1385/1385 [==============================] - 6s 4ms/step - loss: 2600693248.0000 - mse: 2600693248.0000 - rmse: 50996.9922 - mae: 28462.5625 - val_loss: 7405046784.0000 - val_mse: 7405046784.0000 - val_rmse: 86052.5781 - val_mae: 37560.5977\n",
      "Epoch 55/150\n",
      "1385/1385 [==============================] - 6s 4ms/step - loss: 2603017472.0000 - mse: 2603017472.0000 - rmse: 51019.7734 - mae: 28348.1602 - val_loss: 7951160320.0000 - val_mse: 7951160320.0000 - val_rmse: 89169.2812 - val_mae: 38913.4766\n",
      "Epoch 56/150\n",
      "1385/1385 [==============================] - 6s 4ms/step - loss: 2551053312.0000 - mse: 2551053312.0000 - rmse: 50507.9531 - mae: 28207.8184 - val_loss: 7512359936.0000 - val_mse: 7512359936.0000 - val_rmse: 86673.8750 - val_mae: 39105.4648\n",
      "Epoch 57/150\n",
      "1385/1385 [==============================] - 6s 4ms/step - loss: 2501374976.0000 - mse: 2501374976.0000 - rmse: 50013.7461 - mae: 28107.1680 - val_loss: 7815122944.0000 - val_mse: 7815122944.0000 - val_rmse: 88403.1875 - val_mae: 39015.7305\n",
      "Epoch 58/150\n",
      "1385/1385 [==============================] - 6s 4ms/step - loss: 2423824896.0000 - mse: 2423824896.0000 - rmse: 49232.3555 - mae: 27878.8008 - val_loss: 7804808704.0000 - val_mse: 7804808704.0000 - val_rmse: 88344.8281 - val_mae: 37943.1523\n",
      "Epoch 59/150\n",
      "1385/1385 [==============================] - 6s 4ms/step - loss: 2440228096.0000 - mse: 2440228096.0000 - rmse: 49398.6641 - mae: 27850.3730 - val_loss: 7570308608.0000 - val_mse: 7570308608.0000 - val_rmse: 87007.5234 - val_mae: 37837.4531\n",
      "Epoch 60/150\n",
      "1385/1385 [==============================] - 6s 4ms/step - loss: 2349029632.0000 - mse: 2349029632.0000 - rmse: 48466.7891 - mae: 27624.5879 - val_loss: 7434349056.0000 - val_mse: 7434349056.0000 - val_rmse: 86222.6719 - val_mae: 37770.1680\n",
      "Epoch 61/150\n",
      "1385/1385 [==============================] - 6s 4ms/step - loss: 2297709568.0000 - mse: 2297709568.0000 - rmse: 47934.4297 - mae: 27460.4922 - val_loss: 7562166784.0000 - val_mse: 7562166784.0000 - val_rmse: 86960.7188 - val_mae: 38255.8711\n",
      "Epoch 62/150\n",
      "1385/1385 [==============================] - 6s 4ms/step - loss: 2322655744.0000 - mse: 2322655744.0000 - rmse: 48193.9375 - mae: 27456.5879 - val_loss: 8194362880.0000 - val_mse: 8194362880.0000 - val_rmse: 90522.7188 - val_mae: 38649.9570\n",
      "Epoch 63/150\n",
      "1385/1385 [==============================] - 6s 4ms/step - loss: 2264559104.0000 - mse: 2264559104.0000 - rmse: 47587.3828 - mae: 27189.0098 - val_loss: 7324888576.0000 - val_mse: 7324888576.0000 - val_rmse: 85585.5625 - val_mae: 37119.1328\n",
      "Epoch 64/150\n",
      "1385/1385 [==============================] - 6s 4ms/step - loss: 2251666944.0000 - mse: 2251666944.0000 - rmse: 47451.7344 - mae: 27207.9922 - val_loss: 7891184640.0000 - val_mse: 7891184640.0000 - val_rmse: 88832.3438 - val_mae: 37332.5430\n",
      "Epoch 65/150\n"
     ]
    },
    {
     "name": "stdout",
     "output_type": "stream",
     "text": [
      "1385/1385 [==============================] - 6s 5ms/step - loss: 2185753344.0000 - mse: 2185753344.0000 - rmse: 46752.0430 - mae: 27015.9180 - val_loss: 7796924928.0000 - val_mse: 7796924928.0000 - val_rmse: 88300.1953 - val_mae: 38061.6953\n",
      "Epoch 66/150\n",
      "1385/1385 [==============================] - 5s 4ms/step - loss: 2149527552.0000 - mse: 2149527552.0000 - rmse: 46362.9961 - mae: 26832.5703 - val_loss: 7600983040.0000 - val_mse: 7600983040.0000 - val_rmse: 87183.6172 - val_mae: 37412.5742\n",
      "Epoch 67/150\n",
      "1385/1385 [==============================] - 6s 4ms/step - loss: 2157194496.0000 - mse: 2157194496.0000 - rmse: 46445.6094 - mae: 26829.7617 - val_loss: 7696834048.0000 - val_mse: 7696834048.0000 - val_rmse: 87731.6016 - val_mae: 38659.6680\n",
      "Epoch 68/150\n",
      "1385/1385 [==============================] - 6s 4ms/step - loss: 2095424896.0000 - mse: 2095424896.0000 - rmse: 45775.8125 - mae: 26615.3301 - val_loss: 7388487168.0000 - val_mse: 7388487168.0000 - val_rmse: 85956.3125 - val_mae: 37297.1523\n",
      "Epoch 69/150\n",
      "1385/1385 [==============================] - 6s 4ms/step - loss: 2150283008.0000 - mse: 2150283008.0000 - rmse: 46371.1445 - mae: 26776.6699 - val_loss: 7666524672.0000 - val_mse: 7666524672.0000 - val_rmse: 87558.6953 - val_mae: 38848.8008\n",
      "Epoch 70/150\n",
      "1385/1385 [==============================] - 6s 4ms/step - loss: 2054579072.0000 - mse: 2054579072.0000 - rmse: 45327.4648 - mae: 26483.2656 - val_loss: 7552236544.0000 - val_mse: 7552236544.0000 - val_rmse: 86903.6016 - val_mae: 38007.4531\n",
      "Epoch 71/150\n",
      "1385/1385 [==============================] - 6s 5ms/step - loss: 2000888832.0000 - mse: 2000888832.0000 - rmse: 44731.2969 - mae: 26260.6895 - val_loss: 7911753728.0000 - val_mse: 7911753728.0000 - val_rmse: 88948.0391 - val_mae: 39085.9258\n",
      "Epoch 72/150\n",
      "1385/1385 [==============================] - 6s 4ms/step - loss: 1967060096.0000 - mse: 1967060096.0000 - rmse: 44351.5508 - mae: 26079.6230 - val_loss: 7706819072.0000 - val_mse: 7706819072.0000 - val_rmse: 87788.4922 - val_mae: 38080.6602\n",
      "Epoch 73/150\n",
      "1385/1385 [==============================] - 6s 4ms/step - loss: 2003680000.0000 - mse: 2003680000.0000 - rmse: 44762.4844 - mae: 26285.5449 - val_loss: 7712442368.0000 - val_mse: 7712442368.0000 - val_rmse: 87820.5156 - val_mae: 37662.9531\n",
      "Epoch 74/150\n",
      "1385/1385 [==============================] - 6s 4ms/step - loss: 1966618112.0000 - mse: 1966618112.0000 - rmse: 44346.5664 - mae: 26084.9590 - val_loss: 7900393984.0000 - val_mse: 7900393984.0000 - val_rmse: 88884.1641 - val_mae: 38053.9805\n",
      "Epoch 75/150\n",
      "1385/1385 [==============================] - 6s 4ms/step - loss: 1949693312.0000 - mse: 1949693312.0000 - rmse: 44155.3320 - mae: 25897.5449 - val_loss: 8339574784.0000 - val_mse: 8339574784.0000 - val_rmse: 91321.2734 - val_mae: 40371.0391\n",
      "Epoch 76/150\n",
      "1385/1385 [==============================] - 6s 4ms/step - loss: 1892957440.0000 - mse: 1892957440.0000 - rmse: 43508.1289 - mae: 25719.8906 - val_loss: 7733103616.0000 - val_mse: 7733103616.0000 - val_rmse: 87938.0703 - val_mae: 37642.5703\n",
      "Epoch 77/150\n",
      "1385/1385 [==============================] - 6s 4ms/step - loss: 1860164096.0000 - mse: 1860164096.0000 - rmse: 43129.6211 - mae: 25683.3125 - val_loss: 7821023232.0000 - val_mse: 7821023232.0000 - val_rmse: 88436.5469 - val_mae: 37959.5547\n",
      "Epoch 78/150\n",
      "1385/1385 [==============================] - 6s 4ms/step - loss: 1831906688.0000 - mse: 1831906688.0000 - rmse: 42800.7773 - mae: 25488.3184 - val_loss: 8071881728.0000 - val_mse: 8071881728.0000 - val_rmse: 89843.6484 - val_mae: 38750.9766\n",
      "Epoch 79/150\n",
      "1385/1385 [==============================] - 6s 4ms/step - loss: 1808971392.0000 - mse: 1808971392.0000 - rmse: 42532.0039 - mae: 25432.6934 - val_loss: 7728059904.0000 - val_mse: 7728059904.0000 - val_rmse: 87909.3828 - val_mae: 38174.9336\n",
      "Epoch 80/150\n",
      "1385/1385 [==============================] - 6s 4ms/step - loss: 1856667776.0000 - mse: 1856667776.0000 - rmse: 43089.0664 - mae: 25459.0996 - val_loss: 7497914880.0000 - val_mse: 7497914880.0000 - val_rmse: 86590.5000 - val_mae: 38280.7500\n",
      "Epoch 81/150\n",
      "1385/1385 [==============================] - 6s 4ms/step - loss: 1795498880.0000 - mse: 1795498880.0000 - rmse: 42373.3281 - mae: 25293.0332 - val_loss: 7868292608.0000 - val_mse: 7868292608.0000 - val_rmse: 88703.3984 - val_mae: 38386.8672\n",
      "Epoch 82/150\n",
      "1385/1385 [==============================] - 6s 4ms/step - loss: 1755457792.0000 - mse: 1755457792.0000 - rmse: 41898.1836 - mae: 25179.8418 - val_loss: 7550337536.0000 - val_mse: 7550337536.0000 - val_rmse: 86892.6797 - val_mae: 37139.7734\n",
      "Epoch 83/150\n",
      "1385/1385 [==============================] - 5s 4ms/step - loss: 1755637888.0000 - mse: 1755637888.0000 - rmse: 41900.3320 - mae: 25224.6816 - val_loss: 7717530624.0000 - val_mse: 7717530624.0000 - val_rmse: 87849.4766 - val_mae: 38740.5703\n",
      "Epoch 84/150\n",
      "1385/1385 [==============================] - 5s 4ms/step - loss: 1795114624.0000 - mse: 1795114624.0000 - rmse: 42368.7930 - mae: 25257.2773 - val_loss: 7871254016.0000 - val_mse: 7871254016.0000 - val_rmse: 88720.0859 - val_mae: 39013.9453\n",
      "Epoch 85/150\n",
      "1385/1385 [==============================] - 5s 4ms/step - loss: 1691443584.0000 - mse: 1691443584.0000 - rmse: 41127.1641 - mae: 24813.1797 - val_loss: 7955720704.0000 - val_mse: 7955720704.0000 - val_rmse: 89194.8438 - val_mae: 38936.3906\n",
      "Epoch 86/150\n",
      "1385/1385 [==============================] - 5s 4ms/step - loss: 1664912640.0000 - mse: 1664912640.0000 - rmse: 40803.3398 - mae: 24725.3145 - val_loss: 8291191808.0000 - val_mse: 8291191808.0000 - val_rmse: 91055.9844 - val_mae: 39096.8438\n",
      "Epoch 87/150\n",
      "1385/1385 [==============================] - 5s 4ms/step - loss: 1696425216.0000 - mse: 1696425216.0000 - rmse: 41187.6836 - mae: 24791.5645 - val_loss: 8162605056.0000 - val_mse: 8162605056.0000 - val_rmse: 90347.1328 - val_mae: 39056.5938\n",
      "Epoch 88/150\n",
      "1385/1385 [==============================] - 6s 4ms/step - loss: 1648251392.0000 - mse: 1648251392.0000 - rmse: 40598.6641 - mae: 24663.9805 - val_loss: 7668592640.0000 - val_mse: 7668592640.0000 - val_rmse: 87570.5000 - val_mae: 37932.0508\n",
      "Epoch 89/150\n",
      "1385/1385 [==============================] - 6s 4ms/step - loss: 1644578176.0000 - mse: 1644578176.0000 - rmse: 40553.3984 - mae: 24591.5781 - val_loss: 8048175616.0000 - val_mse: 8048175616.0000 - val_rmse: 89711.6250 - val_mae: 38832.0508\n",
      "Epoch 90/150\n",
      "1385/1385 [==============================] - 6s 4ms/step - loss: 1647416960.0000 - mse: 1647416960.0000 - rmse: 40588.3828 - mae: 24585.0273 - val_loss: 7968779776.0000 - val_mse: 7968779776.0000 - val_rmse: 89268.0234 - val_mae: 38541.5508\n",
      "Epoch 91/150\n",
      "1385/1385 [==============================] - 6s 4ms/step - loss: 1564998912.0000 - mse: 1564998912.0000 - rmse: 39560.0664 - mae: 24221.2148 - val_loss: 7671470592.0000 - val_mse: 7671470592.0000 - val_rmse: 87586.9297 - val_mae: 38480.3867\n",
      "Epoch 92/150\n",
      "1385/1385 [==============================] - 5s 4ms/step - loss: 1574700800.0000 - mse: 1574700800.0000 - rmse: 39682.5000 - mae: 24204.5117 - val_loss: 8158135808.0000 - val_mse: 8158135808.0000 - val_rmse: 90322.3984 - val_mae: 40402.2734\n",
      "Epoch 93/150\n",
      "1385/1385 [==============================] - 5s 4ms/step - loss: 1590696192.0000 - mse: 1590696192.0000 - rmse: 39883.5312 - mae: 24237.9805 - val_loss: 7851525632.0000 - val_mse: 7851525632.0000 - val_rmse: 88608.8359 - val_mae: 38290.0742\n",
      "Epoch 94/150\n",
      "1385/1385 [==============================] - 6s 4ms/step - loss: 1565896064.0000 - mse: 1565896064.0000 - rmse: 39571.4062 - mae: 24274.6172 - val_loss: 7896598528.0000 - val_mse: 7896598528.0000 - val_rmse: 88862.8047 - val_mae: 38822.0859\n",
      "Epoch 95/150\n",
      "1385/1385 [==============================] - 6s 4ms/step - loss: 1575685888.0000 - mse: 1575685888.0000 - rmse: 39694.9102 - mae: 24233.3887 - val_loss: 7891985920.0000 - val_mse: 7891985920.0000 - val_rmse: 88836.8516 - val_mae: 38716.4180\n",
      "Epoch 96/150\n",
      "1385/1385 [==============================] - 5s 4ms/step - loss: 1509886976.0000 - mse: 1509886976.0000 - rmse: 38857.2656 - mae: 23914.1016 - val_loss: 8035233792.0000 - val_mse: 8035233792.0000 - val_rmse: 89639.4688 - val_mae: 38903.6836\n",
      "Epoch 97/150\n"
     ]
    },
    {
     "name": "stdout",
     "output_type": "stream",
     "text": [
      "1385/1385 [==============================] - 5s 4ms/step - loss: 1497965568.0000 - mse: 1497965568.0000 - rmse: 38703.5586 - mae: 23839.7871 - val_loss: 7810866176.0000 - val_mse: 7810866176.0000 - val_rmse: 88379.1016 - val_mae: 38728.0156\n",
      "Epoch 98/150\n",
      "1385/1385 [==============================] - 5s 4ms/step - loss: 1568432768.0000 - mse: 1568432768.0000 - rmse: 39603.4453 - mae: 24130.6387 - val_loss: 7956288000.0000 - val_mse: 7956288000.0000 - val_rmse: 89198.0234 - val_mae: 38336.0352\n",
      "Epoch 99/150\n",
      "1385/1385 [==============================] - 5s 4ms/step - loss: 1516151168.0000 - mse: 1516151168.0000 - rmse: 38937.7852 - mae: 23800.7109 - val_loss: 8022659072.0000 - val_mse: 8022659072.0000 - val_rmse: 89569.2969 - val_mae: 38396.3945\n",
      "Epoch 100/150\n",
      "1385/1385 [==============================] - 5s 4ms/step - loss: 1441700224.0000 - mse: 1441700224.0000 - rmse: 37969.7266 - mae: 23585.9316 - val_loss: 7719899136.0000 - val_mse: 7719899136.0000 - val_rmse: 87862.9531 - val_mae: 39108.2266\n",
      "Epoch 101/150\n",
      "1385/1385 [==============================] - 6s 4ms/step - loss: 1433683200.0000 - mse: 1433683200.0000 - rmse: 37864.0078 - mae: 23547.2051 - val_loss: 8115385344.0000 - val_mse: 8115385344.0000 - val_rmse: 90085.4297 - val_mae: 38873.3125\n",
      "Epoch 102/150\n",
      "1385/1385 [==============================] - 6s 4ms/step - loss: 1468359424.0000 - mse: 1468359424.0000 - rmse: 38319.1797 - mae: 23643.9082 - val_loss: 8203902976.0000 - val_mse: 8203902976.0000 - val_rmse: 90575.3984 - val_mae: 39949.2344\n",
      "Epoch 103/150\n",
      "1385/1385 [==============================] - 6s 4ms/step - loss: 1441743872.0000 - mse: 1441743872.0000 - rmse: 37970.3008 - mae: 23546.2051 - val_loss: 8004437504.0000 - val_mse: 8004437504.0000 - val_rmse: 89467.5234 - val_mae: 38451.2070\n",
      "Epoch 104/150\n",
      "1385/1385 [==============================] - 6s 4ms/step - loss: 1401760512.0000 - mse: 1401760512.0000 - rmse: 37440.0938 - mae: 23449.4746 - val_loss: 7958443520.0000 - val_mse: 7958443520.0000 - val_rmse: 89210.1094 - val_mae: 38701.6445\n",
      "Epoch 105/150\n",
      "1385/1385 [==============================] - 6s 4ms/step - loss: 1412517504.0000 - mse: 1412517504.0000 - rmse: 37583.4727 - mae: 23395.0996 - val_loss: 8210865152.0000 - val_mse: 8210865152.0000 - val_rmse: 90613.8281 - val_mae: 39266.9414\n",
      "Epoch 106/150\n",
      "1385/1385 [==============================] - 6s 4ms/step - loss: 1398640128.0000 - mse: 1398640128.0000 - rmse: 37398.3984 - mae: 23292.7930 - val_loss: 8404635136.0000 - val_mse: 8404635136.0000 - val_rmse: 91676.7969 - val_mae: 39252.7852\n",
      "Epoch 107/150\n",
      "1385/1385 [==============================] - 6s 4ms/step - loss: 1435849472.0000 - mse: 1435849472.0000 - rmse: 37892.6055 - mae: 23380.1738 - val_loss: 8172371456.0000 - val_mse: 8172371456.0000 - val_rmse: 90401.1719 - val_mae: 38064.3711\n",
      "Epoch 108/150\n",
      "1385/1385 [==============================] - 6s 4ms/step - loss: 1398426240.0000 - mse: 1398426240.0000 - rmse: 37395.5391 - mae: 23244.9434 - val_loss: 7978022400.0000 - val_mse: 7978022400.0000 - val_rmse: 89319.7734 - val_mae: 38741.1562\n",
      "Epoch 109/150\n",
      "1385/1385 [==============================] - 6s 4ms/step - loss: 1358948352.0000 - mse: 1358948352.0000 - rmse: 36863.9180 - mae: 23100.3984 - val_loss: 8031521280.0000 - val_mse: 8031521280.0000 - val_rmse: 89618.7578 - val_mae: 38640.8984\n",
      "Epoch 110/150\n",
      "1385/1385 [==============================] - 6s 4ms/step - loss: 1377496832.0000 - mse: 1377496832.0000 - rmse: 37114.6445 - mae: 23049.8027 - val_loss: 8322259968.0000 - val_mse: 8322259968.0000 - val_rmse: 91226.4219 - val_mae: 39340.2461\n",
      "Epoch 111/150\n",
      "1377/1385 [============================>.] - ETA: 0s - loss: 1321095040.0000 - mse: 1321095040.0000 - rmse: 36346.8711 - mae: 22887.0625"
     ]
    }
   ],
   "source": [
    "#func_history = func_model.fit(X_train, y_train, validation_data=(X_test, y_test), epochs=epochs, callbacks=[es])\n",
    "#func_history = func_model.fit(X_train, y_train, validation_data=(X_test, y_test), epochs=epochs, callbacks=[red_lr])\n",
    "#func_history = func_model.fit(X_train, y_train, validation_data=(X_test, y_test), epochs=epochs, callbacks=[es, red_lr])\n",
    "func_history = func_model.fit(X_train, y_train, validation_data=(X_test, y_test), \n",
    "                        epochs=epochs, batch_size=32)"
   ]
  },
  {
   "cell_type": "code",
   "execution_count": null,
   "metadata": {},
   "outputs": [],
   "source": [
    "plt.figure(figsize=(20,10))\n",
    "plt.plot(func_history.history['loss'], label='train')\n",
    "plt.plot(func_history.history['val_loss'], label='val')\n",
    "plt.title('Learning Curves')\n",
    "plt.xlabel('Epoch')\n",
    "plt.ylabel('Cross Entropy')\n",
    "plt.legend()\n",
    "plt.show()"
   ]
  },
  {
   "cell_type": "code",
   "execution_count": null,
   "metadata": {},
   "outputs": [],
   "source": [
    "# Evaluation des Regressionsmodells\n",
    "error_func = func_model.evaluate(X_test, y_test, verbose=0)\n",
    "print('MSE: %.3f, RMSE: %.3f, MAE: %.3f' % \n",
    "      (error_func[1], error_func[2], error_func[3]))"
   ]
  },
  {
   "cell_type": "code",
   "execution_count": null,
   "metadata": {},
   "outputs": [],
   "source": [
    "# Scatter Plot mit den tatsächlichen und den vorhergesagten Daten für die Test Data\n",
    "func_predictions=func_model.predict(X_test)\n",
    "plt.plot(y_test, func_predictions, 'o')\n",
    "plt.xlabel('Tatsächliche Werte (Test Daten)')\n",
    "plt.xticks(rotation=90)\n",
    "plt.ylabel('Vorhergesagte Werte (Test Daten)')"
   ]
  },
  {
   "cell_type": "code",
   "execution_count": null,
   "metadata": {},
   "outputs": [],
   "source": [
    "# Berechnung des R2-Scores (Bestimmtheitsmaß)\n",
    "r2_func = r2_score(y_test, func_predictions)\n",
    "r2_func"
   ]
  },
  {
   "cell_type": "code",
   "execution_count": null,
   "metadata": {},
   "outputs": [],
   "source": [
    "# Berechnung des adjustierten R2-Scores (adj. Bestimmtheitsmaß)\n",
    "adj_r2_func = 1-(1-r2_func)*((len(X_test)-1)/(len(X_test)-(len(cat)+len(con))))\n",
    "adj_r2_func"
   ]
  },
  {
   "cell_type": "code",
   "execution_count": null,
   "metadata": {
    "scrolled": false
   },
   "outputs": [],
   "source": [
    "print(('%.6f \\t %.6f \\t %.0f  \\t %.0f \\t %.0f' % \n",
    "      (r2_func, adj_r2_func, error_func[2], error_func[1], error_func[3])).replace('.', ','))"
   ]
  },
  {
   "cell_type": "code",
   "execution_count": null,
   "metadata": {},
   "outputs": [],
   "source": [
    "# Scatter Plot mit den tatsächlichen und den vorhergesagten Daten für die Training Data\n",
    "func_train_predictions=func_model.predict(X_train)\n",
    "plt.plot(y_train, func_train_predictions, 'o')\n",
    "plt.xlabel('Tatsächliche Werte (Trainings Daten)')\n",
    "plt.xticks(rotation=90)\n",
    "plt.ylabel('Vorhergesagte Werte (Trainings Daten)')"
   ]
  },
  {
   "cell_type": "code",
   "execution_count": null,
   "metadata": {},
   "outputs": [],
   "source": [
    "func_predictions = func_predictions.flatten()"
   ]
  },
  {
   "cell_type": "code",
   "execution_count": null,
   "metadata": {},
   "outputs": [],
   "source": [
    "func_train_predictions = func_train_predictions.flatten()"
   ]
  },
  {
   "cell_type": "code",
   "execution_count": null,
   "metadata": {},
   "outputs": [],
   "source": [
    "pred = pd.DataFrame({'Actual': y_test, 'Predicted': func_predictions})\n",
    "pred1 = pred.sample(50)\n",
    "\n",
    "pred1.plot(kind='bar',figsize=(20,16))\n",
    "plt.grid(which='major', linestyle='-', linewidth='0.5', color='green')\n",
    "plt.grid(which='minor', linestyle=':', linewidth='0.5', color='black')\n",
    "plt.show()"
   ]
  },
  {
   "cell_type": "code",
   "execution_count": null,
   "metadata": {},
   "outputs": [],
   "source": [
    "# Differenzen zwischen vorhergesagten und tatsächlichen Werten\n",
    "plt.scatter(func_train_predictions, func_train_predictions - y_train, c='b', s=40, alpha=0.5, label='Trainings Daten')\n",
    "plt.scatter(func_predictions, func_predictions - y_test, c='g', s=40, label='Test Daten')\n",
    "plt.hlines(y=0, xmin=-0.03, xmax=0.2)\n",
    "plt.title('Residuum Diagramm der Regression')\n",
    "plt.ylabel('Residuum')\n",
    "plt.xlabel('Infrastrukturschaden')\n",
    "plt.legend()\n",
    "plt.show()"
   ]
  },
  {
   "cell_type": "markdown",
   "metadata": {},
   "source": [
    "##  Regression with Scikit-Learn"
   ]
  },
  {
   "cell_type": "code",
   "execution_count": null,
   "metadata": {},
   "outputs": [],
   "source": [
    "def get_rmse_r2(mod, X_test, y_Test):\n",
    "    y_pred = mod.predict(X_test)\n",
    "    r2 = r2_score(y_Test, y_pred)\n",
    "    adj_r2 = 1-(1-r2)*((len(X_test)-1)/(len(X_test)-(len(cat)+len(con))))\n",
    "    return np.sqrt(mean_squared_error(y_Test, y_pred)), r2, adj_r2, mod.__class__.__name__"
   ]
  },
  {
   "cell_type": "code",
   "execution_count": null,
   "metadata": {},
   "outputs": [],
   "source": [
    "d_rmse = dict()\n",
    "d_r2 = dict()\n",
    "d_adj_r2 = dict()"
   ]
  },
  {
   "cell_type": "code",
   "execution_count": null,
   "metadata": {},
   "outputs": [],
   "source": [
    "rfr = RandomForestRegressor(random_state=0, n_estimators=100)\n",
    "rfr.fit(X_train, y_train)\n",
    "rmse, r2, adj_r2, rfr_name = get_rmse_r2(rfr, X_test, y_test)\n",
    "d_rmse['Random Forest Regression'] = [rmse]\n",
    "d_r2['Random Forest Regression'] = [r2]\n",
    "d_adj_r2['Random Forest Regression'] = [adj_r2]\n",
    "print ('(' + rfr_name + ') RMSE:', rmse, ' R2:' , r2, 'Adjusted R2:', adj_r2)"
   ]
  },
  {
   "cell_type": "code",
   "execution_count": null,
   "metadata": {},
   "outputs": [],
   "source": [
    "lr = LinearRegression().fit(X_train, y_train)\n",
    "rmse, r2, adj_r2, lr_name = get_rmse_r2(lr, X_test, y_test)\n",
    "d_rmse['Linear Regression'] = [rmse]\n",
    "d_r2['Linear Regression'] = [r2]\n",
    "d_adj_r2['Linear Regression'] = [adj_r2]\n",
    "print ('(' + lr_name + ') RMSE:', rmse, ' R2:' , r2, 'Adjusted R2:', adj_r2)"
   ]
  },
  {
   "cell_type": "code",
   "execution_count": null,
   "metadata": {},
   "outputs": [],
   "source": [
    "ridge = Ridge(random_state=0).fit(X_train, y_train)\n",
    "rmse, r2, adj_r2, ridge_name = get_rmse_r2(ridge, X_test, y_test)\n",
    "d_rmse['Ridge Regression'] = [rmse]\n",
    "d_r2['Ridge Regression'] = [r2]\n",
    "d_adj_r2['Ridge Regression'] = [adj_r2]\n",
    "print ('(' + ridge_name + ') RMSE:', rmse, ' R2:' , r2, 'Adjusted R2:', adj_r2)"
   ]
  },
  {
   "cell_type": "code",
   "execution_count": null,
   "metadata": {},
   "outputs": [],
   "source": [
    "lasso = Lasso(random_state=0).fit(X_train, y_train)\n",
    "rmse, r2, adj_r2, lasso_name = get_rmse_r2(lasso, X_test, y_test)\n",
    "d_rmse['Lasso Regression'] = [rmse]\n",
    "d_r2['Lasso Regression'] = [r2]\n",
    "d_adj_r2['Lasso Regression'] = [adj_r2]\n",
    "print ('(' + lasso_name + ') RMSE:', rmse, ' R2:' , r2, 'Adjusted R2:', adj_r2)"
   ]
  },
  {
   "cell_type": "code",
   "execution_count": null,
   "metadata": {},
   "outputs": [],
   "source": [
    "en = ElasticNet(random_state=0).fit(X_train, y_train)\n",
    "rmse, r2, adj_r2, en_name = get_rmse_r2(en, X_test, y_test)\n",
    "d_rmse['Elastic Net Regression'] = [rmse]\n",
    "d_r2['Elastic Net Regression'] = [r2]\n",
    "d_adj_r2['Elastic Net Regression'] = [adj_r2]\n",
    "print ('(' + en_name + ') RMSE:', rmse, ' R2:' , r2, 'Adjusted R2:', adj_r2)"
   ]
  },
  {
   "cell_type": "code",
   "execution_count": null,
   "metadata": {},
   "outputs": [],
   "source": [
    "d_rmse['Neuronale Netzwerk Regression']=[error[2]]\n",
    "d_r2['Neuronale Netzwerk Regression']=[r2_seq]\n",
    "d_adj_r2['Neuronale Netzwerk Regression']=[adj_r2_seq]"
   ]
  },
  {
   "cell_type": "code",
   "execution_count": null,
   "metadata": {},
   "outputs": [],
   "source": [
    "# Funktion zur Beschriftung der Säulen\n",
    "def bar_values(ax, scoretype = 'Default'):\n",
    "    for p in ax.patches:\n",
    "        if (scoretype == 'RMSE'):\n",
    "            ax.annotate(format(p.get_height(), ',.0f').replace(\",\",\".\"), (p.get_x() + p.get_width() / 2., p.get_height()), ha = 'center', va = 'center', xytext = (0, 10), textcoords = 'offset points')\n",
    "        else:\n",
    "            ax.annotate(format(p.get_height(), ',.4f').replace(\",\",\".\"), (p.get_x() + p.get_width() / 2., p.get_height()), ha = 'center', va = 'center', xytext = (0, 10), textcoords = 'offset points')\n",
    "    return ax"
   ]
  },
  {
   "cell_type": "code",
   "execution_count": null,
   "metadata": {},
   "outputs": [],
   "source": [
    "algo, rmse = [], []\n",
    "for key, value in d_rmse.items():\n",
    "    algo.append(key)\n",
    "    rmse.append(value[0]) \n",
    "plt.figure('RMSE', figsize=(12,10)) \n",
    "sns.set(style=\"whitegrid\")\n",
    "ax = sns.barplot(algo, rmse)\n",
    "ax = bar_values(ax, 'RMSE')\n",
    "plt.title('Zugunfall Regression Vergleich RMSE', fontsize=16)\n",
    "ax.set_xticklabels(ax.get_xticklabels(), rotation=45, horizontalalignment='right', fontsize=13)\n",
    "plt.xlabel('Regressor', fontsize=15) \n",
    "plt.ylabel('RMSE', fontsize=15) \n",
    "plt.show()\n",
    "plt.savefig('Images/Regression/RMSE_Vergleich.png', bbox_inches='tight')"
   ]
  },
  {
   "cell_type": "code",
   "execution_count": null,
   "metadata": {},
   "outputs": [],
   "source": [
    "r2_algo, r2 = [], []\n",
    "for key, value in d_r2.items():\n",
    "    r2_algo.append(key)\n",
    "    r2.append(value[0]) \n",
    "plt.figure('R2', figsize=(12,10)) \n",
    "sns.set(style=\"whitegrid\")\n",
    "ax = sns.barplot(r2_algo, r2) \n",
    "ax = bar_values(ax)\n",
    "plt.title('Zugunfall Regression Vergleich R2', fontsize=16)\n",
    "ax.set_xticklabels(ax.get_xticklabels(), rotation=45, horizontalalignment='right', fontsize=13)\n",
    "plt.xlabel('Regressor', fontsize=15) \n",
    "plt.ylabel('R2', fontsize=15) \n",
    "plt.show()\n",
    "plt.savefig('Images/Regression/R2_Vergleich.png', bbox_inches='tight')"
   ]
  },
  {
   "cell_type": "code",
   "execution_count": null,
   "metadata": {},
   "outputs": [],
   "source": [
    "adj_r2_algo, adj_r2 = [], []\n",
    "for key, value in d_adj_r2.items():\n",
    "    adj_r2_algo.append(key)\n",
    "    adj_r2.append(value[0]) \n",
    "plt.figure('Adjusted R2', figsize=(12,10)) \n",
    "sns.set(style=\"whitegrid\")\n",
    "ax = sns.barplot(adj_r2_algo, adj_r2) \n",
    "ax = bar_values(ax)\n",
    "plt.title('Zugunfall Regression Vergleich Adjusted R2', fontsize=16)\n",
    "ax.set_xticklabels(ax.get_xticklabels(), rotation=45, horizontalalignment='right', fontsize=13)\n",
    "plt.xlabel('Regressor', fontsize=15) \n",
    "plt.ylabel('Adjusted R2', fontsize=15) \n",
    "plt.show()\n",
    "plt.savefig('Images/Regression/Adj_R2_Vergleich.png', bbox_inches='tight')"
   ]
  },
  {
   "cell_type": "code",
   "execution_count": null,
   "metadata": {},
   "outputs": [],
   "source": []
  }
 ],
 "metadata": {
  "kernelspec": {
   "display_name": "Python (Master)",
   "language": "python",
   "name": "masterthesis"
  },
  "language_info": {
   "codemirror_mode": {
    "name": "ipython",
    "version": 3
   },
   "file_extension": ".py",
   "mimetype": "text/x-python",
   "name": "python",
   "nbconvert_exporter": "python",
   "pygments_lexer": "ipython3",
   "version": "3.7.3"
  }
 },
 "nbformat": 4,
 "nbformat_minor": 2
}
