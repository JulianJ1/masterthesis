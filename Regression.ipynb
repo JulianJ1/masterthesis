{
 "cells": [
  {
   "cell_type": "markdown",
   "metadata": {},
   "source": [
    "# Masterthesis\n",
    "## Regression\n",
    "\n",
    "#### Julian Jetz"
   ]
  },
  {
   "cell_type": "code",
   "execution_count": 1,
   "metadata": {},
   "outputs": [
    {
     "name": "stderr",
     "output_type": "stream",
     "text": [
      "Using TensorFlow backend.\n"
     ]
    }
   ],
   "source": [
    "import pandas as pd\n",
    "import numpy as np\n",
    "import tensorflow as tf\n",
    "import category_encoders as ce\n",
    "from tensorflow.python.data import Dataset\n",
    "from tensorflow.keras.models import Sequential\n",
    "from tensorflow.keras.layers import Dense, Dropout, BatchNormalization\n",
    "from tensorflow.keras import Input, Model\n",
    "from tensorflow.keras.utils import plot_model\n",
    "from tensorflow.keras.callbacks import EarlyStopping\n",
    "from keras.wrappers.scikit_learn import KerasRegressor \n",
    "from sklearn.model_selection import RandomizedSearchCV, KFold \n",
    "from sklearn.preprocessing import LabelEncoder, OneHotEncoder, OrdinalEncoder, MinMaxScaler, StandardScaler, LabelBinarizer, PolynomialFeatures\n",
    "from sklearn.model_selection import train_test_split\n",
    "from sklearn.metrics import mean_squared_error, r2_score, mean_absolute_error, mean_squared_log_error\n",
    "from sklearn.linear_model import LinearRegression, ElasticNet, Lasso, Ridge\n",
    "import matplotlib.pyplot as plt\n",
    "from scipy import stats"
   ]
  },
  {
   "cell_type": "code",
   "execution_count": 2,
   "metadata": {},
   "outputs": [],
   "source": [
    "na_values = ['nan', 'N/A', 'NaN', 'NaT']"
   ]
  },
  {
   "cell_type": "code",
   "execution_count": 3,
   "metadata": {},
   "outputs": [],
   "source": [
    "df = pd.read_csv('resources/accident_data.csv', sep=\";\", na_values=na_values, index_col=False, dtype = {\"STATE\" : \"str\", \"TYPE\" : \"str\", \"TYPEQ\" : \"str\", \"WEATHER\" : \"str\", \"VISIBLTY\" : \"str\", \"SPD_TOO_HIGH\" : \"str\"})"
   ]
  },
  {
   "cell_type": "code",
   "execution_count": 4,
   "metadata": {},
   "outputs": [],
   "source": [
    "df=df.dropna(subset=['WEATHER', 'VISIBLTY'])\n",
    "pd.set_option('display.max_columns', 500)\n",
    "#df.head(50)"
   ]
  },
  {
   "cell_type": "markdown",
   "metadata": {},
   "source": [
    "## Vorbereitungen"
   ]
  },
  {
   "cell_type": "markdown",
   "metadata": {},
   "source": [
    "Festlegen der abhängigen Variablen X und der vorherzusagenden Variable y"
   ]
  },
  {
   "cell_type": "code",
   "execution_count": 5,
   "metadata": {},
   "outputs": [],
   "source": [
    "x_data = df[['TEMP', 'TYPEQ', 'TRKCLAS', 'ACCCAUSE_LVL1', 'ACCCAUSE_LVL2', 'ACCAUSE', 'YEAR4', 'STATE', 'MONTH', 'LOCOMOTIVES1', 'LOADF1', 'LOADP1', 'EMPTYF1', 'EMPTYP1','LOCOMOTIVES2', 'LOADF2', 'EMPTYF2', 'LOADP2', 'EMPTYP2', 'TONS', 'TEMP_CLUSTER', 'SPEED', 'ACCCAUSE_LVL1', 'TYPE', 'EQUIPMENT_TYPE', 'TYPTRK', 'VISIBLTY', 'WEATHER', 'SPD_TOO_HIGH', 'ACCTYPE', 'ACCIDENT_TYPE', 'Jahreszeit']]"
   ]
  },
  {
   "cell_type": "code",
   "execution_count": 6,
   "metadata": {},
   "outputs": [],
   "source": [
    "y = df['INFRASTRUCTURE_DMG']"
   ]
  },
  {
   "cell_type": "code",
   "execution_count": 7,
   "metadata": {},
   "outputs": [
    {
     "name": "stdout",
     "output_type": "stream",
     "text": [
      "TEMP              0\n",
      "TYPEQ             0\n",
      "TRKCLAS           0\n",
      "ACCCAUSE_LVL1     0\n",
      "ACCCAUSE_LVL2     0\n",
      "ACCAUSE           0\n",
      "YEAR4             0\n",
      "STATE             0\n",
      "MONTH             0\n",
      "LOCOMOTIVES1      0\n",
      "LOADF1            0\n",
      "LOADP1            0\n",
      "EMPTYF1           0\n",
      "EMPTYP1           0\n",
      "LOCOMOTIVES2      0\n",
      "LOADF2            0\n",
      "EMPTYF2           0\n",
      "LOADP2            0\n",
      "EMPTYP2           0\n",
      "TONS              0\n",
      "TEMP_CLUSTER      0\n",
      "SPEED             0\n",
      "ACCCAUSE_LVL1     0\n",
      "TYPE              0\n",
      "EQUIPMENT_TYPE    0\n",
      "TYPTRK            0\n",
      "VISIBLTY          0\n",
      "WEATHER           0\n",
      "SPD_TOO_HIGH      0\n",
      "ACCTYPE           0\n",
      "ACCIDENT_TYPE     0\n",
      "Jahreszeit        0\n",
      "dtype: int64\n"
     ]
    }
   ],
   "source": [
    "print(x_data.isnull().sum())"
   ]
  },
  {
   "cell_type": "markdown",
   "metadata": {},
   "source": [
    "## Umwandlung der kategorialen Merkmale und Normalisierung der kontinuierlichen Merkmale"
   ]
  },
  {
   "cell_type": "code",
   "execution_count": 8,
   "metadata": {},
   "outputs": [],
   "source": [
    "# Funktion zur Umwandlung der kategorialen Merkmale mit dem One Hot Encoder \n",
    "# x = kategoriale Merkmale\n",
    "def prepare_inputs_One_Hot(x):\n",
    "    encoder = OneHotEncoder(sparse=False)\n",
    "    encoder.fit(x)\n",
    "    x_enc = encoder.transform(x)\n",
    "    return x_enc"
   ]
  },
  {
   "cell_type": "code",
   "execution_count": 9,
   "metadata": {},
   "outputs": [],
   "source": [
    "# Funktion zur Umwandlung der kategorialen Merkmale mit dem Ordinal Encoder \n",
    "# x = kategoriale Merkmale\n",
    "def prepare_inputs_Ordinal(x):\n",
    "    encoder = OrdinalEncoder()\n",
    "    encoder.fit(x)\n",
    "    x_enc = encoder.transform(x)\n",
    "    return x_enc"
   ]
  },
  {
   "cell_type": "code",
   "execution_count": 10,
   "metadata": {},
   "outputs": [],
   "source": [
    "# Funktion zur Umwandlung der kategorialen Merkmale mit dem Binary Encoder\n",
    "# x = Datensatz, cats = Liste mit Spaltenüberschriften der kategorialen Merkmale\n",
    "def prepare_inputs_Binary(x, cats):\n",
    "    encoder = ce.BinaryEncoder(cols=cats, return_df=True)\n",
    "    encoder.fit(x[cats])\n",
    "    df_bin = encoder.transform(x[cats])\n",
    "    return df_bin"
   ]
  },
  {
   "cell_type": "code",
   "execution_count": 11,
   "metadata": {},
   "outputs": [],
   "source": [
    "# Funktion zur Umwandlung der kategorialen Merkmale mit dem Target Encoder\n",
    "# x = Datensatz, cats = Liste mit Spaltenüberschriften der kategorialen Merkmale, Y = unabhägiges Merkmal\n",
    "def prepare_inputs_Target(x, Y, cats, smoothing):\n",
    "    encoder = ce.TargetEncoder(cols=cats, return_df=True, min_samples_leaf = 5, smoothing=smoothing)\n",
    "    encoder.fit(x[cats], Y)\n",
    "    df_te = encoder.transform(x[cats], Y)\n",
    "    return df_te"
   ]
  },
  {
   "cell_type": "code",
   "execution_count": 12,
   "metadata": {},
   "outputs": [],
   "source": [
    "# Funktion zur Umwandlung der kategorialen Merkmale mit dem Leave One Out Encoder\n",
    "# x = Datensatz, cats = Liste mit Spaltenüberschriften der kategorialen Merkmale, Y = unabhägiges Merkmal\n",
    "def prepare_inputs_Leave_One_Out(x, Y, cats):\n",
    "    encoder = ce.LeaveOneOutEncoder(cols=cats, return_df=True)\n",
    "    encoder.fit(x[cats], Y)\n",
    "    df_loo = encoder.transform(x[cats], Y)\n",
    "    return df_loo"
   ]
  },
  {
   "cell_type": "markdown",
   "metadata": {},
   "source": [
    "### Merkmale, die betrachtet werden\n",
    "\n",
    "\n",
    "\n"
   ]
  },
  {
   "cell_type": "code",
   "execution_count": 13,
   "metadata": {},
   "outputs": [],
   "source": [
    "#cat = ['TEMP_CLUSTER', 'Jahreszeit', 'EQUIPMENT_TYPE', 'ACCIDENT_TYPE', 'TYPTRK', 'WEATHER', 'VISIBLTY', 'STATE', 'ACCCAUSE_LVL1', 'SPD_TOO_HIGH', 'ACCTYPE', 'TRKCLAS']"
   ]
  },
  {
   "cell_type": "code",
   "execution_count": 14,
   "metadata": {},
   "outputs": [],
   "source": [
    "#con = ['SPEED', 'TONS', 'YEAR4', 'LOADF1', 'EMPTYF1', 'LOADP1', 'EMPTYP1', 'LOCOMOTIVES1', 'LOADF2', 'EMPTYF2', 'LOADP2', 'EMPTYP2', 'LOCOMOTIVES2']"
   ]
  },
  {
   "cell_type": "code",
   "execution_count": 15,
   "metadata": {},
   "outputs": [],
   "source": [
    "cat = ['TEMP_CLUSTER', 'Jahreszeit', 'EQUIPMENT_TYPE', 'ACCIDENT_TYPE', 'ACCTYPE', 'TRKCLAS']"
   ]
  },
  {
   "cell_type": "code",
   "execution_count": 16,
   "metadata": {},
   "outputs": [],
   "source": [
    "con = ['SPEED', 'TONS', 'YEAR4', 'LOADF1', 'EMPTYF1', 'LOADP1', 'EMPTYP1', 'LOCOMOTIVES1' , 'LOADF2', 'EMPTYF2', 'LOADP2', 'EMPTYP2', 'LOCOMOTIVES2']"
   ]
  },
  {
   "cell_type": "markdown",
   "metadata": {},
   "source": [
    "\n",
    "\n",
    "\n",
    "\n",
    "\n"
   ]
  },
  {
   "cell_type": "code",
   "execution_count": 17,
   "metadata": {},
   "outputs": [],
   "source": [
    "#x_enc_cat = prepare_inputs_Ordinal(x_data[cat])"
   ]
  },
  {
   "cell_type": "code",
   "execution_count": 18,
   "metadata": {},
   "outputs": [],
   "source": [
    "x_enc_cat = prepare_inputs_One_Hot(x_data[cat])"
   ]
  },
  {
   "cell_type": "code",
   "execution_count": 19,
   "metadata": {},
   "outputs": [],
   "source": [
    "#x_enc_cat = prepare_inputs_Binary(x_data, cat)"
   ]
  },
  {
   "cell_type": "code",
   "execution_count": 20,
   "metadata": {},
   "outputs": [],
   "source": [
    "#x_enc_cat = prepare_inputs_Target(x_data, y, cat, 1.0)"
   ]
  },
  {
   "cell_type": "code",
   "execution_count": 21,
   "metadata": {},
   "outputs": [],
   "source": [
    "#x_enc_cat = prepare_inputs_Target(x_data, y, cat, 10)"
   ]
  },
  {
   "cell_type": "code",
   "execution_count": 22,
   "metadata": {},
   "outputs": [],
   "source": [
    "#x_enc_cat = prepare_inputs_Leave_One_Out(x_data, y, cat)"
   ]
  },
  {
   "cell_type": "code",
   "execution_count": 23,
   "metadata": {},
   "outputs": [],
   "source": [
    "# Normalisierung der kontinuierlichen Merkmale mit dem StandardScaler oder dem MinMaxScaler\n",
    "#cs = MinMaxScaler().fit(x_data[con])\n",
    "cs = StandardScaler().fit(x_data[con])\n",
    "x_enc_con = cs.transform(x_data[con])\n",
    "#x_enc_con = x_data[con]"
   ]
  },
  {
   "cell_type": "code",
   "execution_count": 24,
   "metadata": {},
   "outputs": [],
   "source": [
    "#cs_y = MinMaxScaler().fit(y.values.reshape(-1, 1))\n",
    "#cs_y = StandardScaler().fit(y.values.reshape(-1, 1))\n",
    "#y = cs_y.transform(y.values.reshape(-1, 1))"
   ]
  },
  {
   "cell_type": "markdown",
   "metadata": {},
   "source": [
    "#### Zusammenfügen der kategorialen und kontinuierlichen Merkmale"
   ]
  },
  {
   "cell_type": "code",
   "execution_count": 25,
   "metadata": {},
   "outputs": [],
   "source": [
    "X_Data = np.hstack([x_enc_cat, x_enc_con])"
   ]
  },
  {
   "cell_type": "markdown",
   "metadata": {},
   "source": [
    "#### Aufteilen der Merkmale in Trainings- und Testdaten\n",
    "70% Trainingsdaten & 30 % Testdaten\n",
    "random_state: Kontrolliert die Zufallsverteilung -> Es werden immer die gleichen Werte Trainings- und Testdaten zugeteilt. Sonst könnte es zu Abweichungen bei den Ergebnissen des Modells kommen"
   ]
  },
  {
   "cell_type": "code",
   "execution_count": 26,
   "metadata": {},
   "outputs": [],
   "source": [
    "X_train, X_test, y_train, y_test = train_test_split(X_Data, y, test_size=0.3, random_state=42)"
   ]
  },
  {
   "cell_type": "code",
   "execution_count": 27,
   "metadata": {},
   "outputs": [],
   "source": [
    "n_features = X_train.shape[1]"
   ]
  },
  {
   "cell_type": "markdown",
   "metadata": {},
   "source": [
    "## Sequential regression model"
   ]
  },
  {
   "cell_type": "code",
   "execution_count": 28,
   "metadata": {},
   "outputs": [],
   "source": [
    "def create_model(learning_rate = 0.01, activation = 'relu'):\n",
    "    seq_model = Sequential()\n",
    "    dropout = 0\n",
    "    opt = tf.keras.optimizers.Adadelta(learning_rate=learning_rate)\n",
    "     \n",
    "    seq_model.add(Dense(int(n_features*2/3), activation=activation, input_shape=(n_features,)))\n",
    "    seq_model.add(BatchNormalization())\n",
    "    seq_model.add(Dropout(dropout))\n",
    "    seq_model.add(Dense(int(n_features*2/3*2/3), activation=activation))\n",
    "    #seq_model.add(BatchNormalization())\n",
    "    #seq_model.add(Dense(128, activation=activation))\n",
    "    #seq_model.add(Dropout(dropout))\n",
    "    #seq_model.add(Dense(64, activation=activation))\n",
    "    #seq_model.add(Dropout(dropout))\n",
    "    #seq_model.add(Dense(32, activation=activation))\n",
    "    #seq_model.add(Dropout(dropout))\n",
    "    seq_model.add(Dense(1))\n",
    "    seq_model.compile(optimizer=opt, loss='mse', metrics=['mse', tf.keras.metrics.RootMeanSquaredError(name='rmse'), 'mae'])\n",
    "    return seq_model"
   ]
  },
  {
   "cell_type": "code",
   "execution_count": 29,
   "metadata": {},
   "outputs": [],
   "source": [
    "model = KerasRegressor(build_fn = create_model)"
   ]
  },
  {
   "cell_type": "code",
   "execution_count": 30,
   "metadata": {},
   "outputs": [],
   "source": [
    "params = {'activation': [\"relu\", \"tanh\", \"sigmoid\", \"selu\", \"softmax\"],'batch_size': [32, 64], 'epochs': [50, 100, 300, 500, 1000],'learning_rate': [0.1, 0.01, 0.001, 0.0001]}"
   ]
  },
  {
   "cell_type": "code",
   "execution_count": 31,
   "metadata": {},
   "outputs": [],
   "source": [
    "random_search = RandomizedSearchCV(model, param_distributions = params,cv = KFold(10))"
   ]
  },
  {
   "cell_type": "code",
   "execution_count": 32,
   "metadata": {},
   "outputs": [],
   "source": [
    "#random_search_results = random_search.fit(X_train, y_train)"
   ]
  },
  {
   "cell_type": "code",
   "execution_count": 33,
   "metadata": {},
   "outputs": [],
   "source": [
    "#print(\"Best Score: \",random_search_results.best_score_,\"and Best Params: \",random_search_results.best_params_)"
   ]
  },
  {
   "cell_type": "markdown",
   "metadata": {},
   "source": [
    "### Regression Allgemein"
   ]
  },
  {
   "cell_type": "code",
   "execution_count": 34,
   "metadata": {},
   "outputs": [],
   "source": [
    "epochs = 150"
   ]
  },
  {
   "cell_type": "code",
   "execution_count": 35,
   "metadata": {},
   "outputs": [],
   "source": [
    "learning_rate = 0.01"
   ]
  },
  {
   "cell_type": "code",
   "execution_count": 36,
   "metadata": {},
   "outputs": [],
   "source": [
    "activation = 'relu'"
   ]
  },
  {
   "cell_type": "code",
   "execution_count": 37,
   "metadata": {},
   "outputs": [],
   "source": [
    "dropout = 0"
   ]
  },
  {
   "cell_type": "code",
   "execution_count": 38,
   "metadata": {},
   "outputs": [],
   "source": [
    "metrics = ['mse', tf.keras.metrics.RootMeanSquaredError(name='rmse'), 'mae']"
   ]
  },
  {
   "cell_type": "code",
   "execution_count": 39,
   "metadata": {},
   "outputs": [],
   "source": [
    "opt = tf.keras.optimizers.Adam()\n",
    "#opt = tf.keras.optimizers.Adamax()\n",
    "#opt = tf.keras.optimizers.Adagrad(learning_rate=learning_rate)\n",
    "#opt = tf.keras.optimizers.Nadam(learning_rate=learning_rate)\n",
    "#opt = tf.keras.optimizers.Ftrl(learning_rate=learning_rate)\n",
    "#opt = tf.keras.optimizers.RMSprop(learning_rate=learning_rate)\n",
    "#opt = tf.keras.optimizers.Adadelta(learning_rate=learning_rate)\n",
    "\n"
   ]
  },
  {
   "cell_type": "markdown",
   "metadata": {},
   "source": [
    "## Sequential Regression with Keras"
   ]
  },
  {
   "cell_type": "code",
   "execution_count": 40,
   "metadata": {},
   "outputs": [],
   "source": [
    "seq_model = Sequential()\n",
    "\n",
    "seq_model.add(Dense(512, activation=activation, input_shape=(n_features,)))\n",
    "#seq_model.add(BatchNormalization())\n",
    "seq_model.add(Dropout(dropout))\n",
    "seq_model.add(Dense(256, activation=activation))\n",
    "seq_model.add(BatchNormalization())\n",
    "#seq_model.add(Dense(128, activation=activation))\n",
    "#seq_model.add(Dropout(dropout))\n",
    "#seq_model.add(Dense(64, activation=activation))\n",
    "#seq_model.add(Dropout(dropout))\n",
    "#seq_model.add(Dense(32, activation=activation))\n",
    "#seq_model.add(Dropout(dropout))\n",
    "seq_model.add(Dense(1))\n",
    "seq_model.compile(optimizer=opt, loss='mse', metrics=metrics)"
   ]
  },
  {
   "cell_type": "code",
   "execution_count": 41,
   "metadata": {},
   "outputs": [
    {
     "name": "stdout",
     "output_type": "stream",
     "text": [
      "Model: \"sequential\"\n",
      "_________________________________________________________________\n",
      "Layer (type)                 Output Shape              Param #   \n",
      "=================================================================\n",
      "dense (Dense)                (None, 512)               24576     \n",
      "_________________________________________________________________\n",
      "dropout (Dropout)            (None, 512)               0         \n",
      "_________________________________________________________________\n",
      "dense_1 (Dense)              (None, 256)               131328    \n",
      "_________________________________________________________________\n",
      "dense_2 (Dense)              (None, 1)                 257       \n",
      "=================================================================\n",
      "Total params: 156,161\n",
      "Trainable params: 156,161\n",
      "Non-trainable params: 0\n",
      "_________________________________________________________________\n"
     ]
    }
   ],
   "source": [
    "seq_model.summary()"
   ]
  },
  {
   "cell_type": "code",
   "execution_count": 42,
   "metadata": {
    "scrolled": true
   },
   "outputs": [
    {
     "data": {
      "image/png": "[encoded data removed]",
      "text/plain": [
       "<IPython.core.display.Image object>"
      ]
     },
     "execution_count": 42,
     "metadata": {},
     "output_type": "execute_result"
    }
   ],
   "source": [
    "plot_model(seq_model, 'Images/Sequential Regression Model.png', show_shapes=True)"
   ]
  },
  {
   "cell_type": "code",
   "execution_count": 43,
   "metadata": {},
   "outputs": [],
   "source": [
    "es = EarlyStopping(monitor='val_loss', patience=5)"
   ]
  },
  {
   "cell_type": "code",
   "execution_count": 44,
   "metadata": {
    "scrolled": true
   },
   "outputs": [
    {
     "name": "stdout",
     "output_type": "stream",
     "text": [
      "Epoch 1/150\n",
      "1385/1385 [==============================] - 3s 2ms/step - loss: 14269355008.0000 - mse: 14269355008.0000 - rmse: 119454.4062 - mae: 56463.7695 - val_loss: 8692418560.0000 - val_mse: 8692418560.0000 - val_rmse: 93233.1406 - val_mae: 45755.8281\n",
      "Epoch 2/150\n",
      "1385/1385 [==============================] - 3s 2ms/step - loss: 7886804992.0000 - mse: 7886804992.0000 - rmse: 88807.6875 - mae: 41961.6133 - val_loss: 6974118400.0000 - val_mse: 6974118400.0000 - val_rmse: 83511.1875 - val_mae: 39298.4219\n",
      "Epoch 3/150\n",
      "1385/1385 [==============================] - 2s 2ms/step - loss: 7076121088.0000 - mse: 7076121088.0000 - rmse: 84119.6797 - mae: 39344.9062 - val_loss: 6634473984.0000 - val_mse: 6634473984.0000 - val_rmse: 81452.2812 - val_mae: 37765.7891\n",
      "Epoch 4/150\n",
      "1385/1385 [==============================] - 3s 2ms/step - loss: 6825289728.0000 - mse: 6825289728.0000 - rmse: 82615.3125 - mae: 38662.8477 - val_loss: 6498345984.0000 - val_mse: 6498345984.0000 - val_rmse: 80612.3203 - val_mae: 38441.8984\n",
      "Epoch 5/150\n",
      "1385/1385 [==============================] - 3s 2ms/step - loss: 6705481728.0000 - mse: 6705481728.0000 - rmse: 81887.0078 - mae: 38332.3438 - val_loss: 6474407424.0000 - val_mse: 6474407424.0000 - val_rmse: 80463.7031 - val_mae: 37542.7578\n",
      "Epoch 6/150\n",
      "1385/1385 [==============================] - 3s 2ms/step - loss: 6645363200.0000 - mse: 6645363200.0000 - rmse: 81519.0938 - mae: 38211.6562 - val_loss: 6425007104.0000 - val_mse: 6425007104.0000 - val_rmse: 80156.1406 - val_mae: 37568.0977\n",
      "Epoch 7/150\n",
      "1385/1385 [==============================] - 3s 2ms/step - loss: 6604227072.0000 - mse: 6604227072.0000 - rmse: 81266.3984 - mae: 38015.2695 - val_loss: 6418082816.0000 - val_mse: 6418082816.0000 - val_rmse: 80112.9375 - val_mae: 37442.9453\n",
      "Epoch 8/150\n",
      "1385/1385 [==============================] - 3s 2ms/step - loss: 6570191872.0000 - mse: 6570191872.0000 - rmse: 81056.7188 - mae: 37882.3984 - val_loss: 6410298368.0000 - val_mse: 6410298368.0000 - val_rmse: 80064.3359 - val_mae: 37279.6172\n",
      "Epoch 9/150\n",
      "1385/1385 [==============================] - 3s 2ms/step - loss: 6543577600.0000 - mse: 6543577600.0000 - rmse: 80892.3828 - mae: 37802.7695 - val_loss: 6416173056.0000 - val_mse: 6416173056.0000 - val_rmse: 80101.0156 - val_mae: 37286.1992\n",
      "Epoch 10/150\n",
      "1385/1385 [==============================] - 3s 2ms/step - loss: 6529755136.0000 - mse: 6529755136.0000 - rmse: 80806.8984 - mae: 37769.3867 - val_loss: 6387662848.0000 - val_mse: 6387662848.0000 - val_rmse: 79922.8594 - val_mae: 37556.2891\n",
      "Epoch 11/150\n",
      "1385/1385 [==============================] - 3s 2ms/step - loss: 6515769856.0000 - mse: 6515769856.0000 - rmse: 80720.3203 - mae: 37752.4180 - val_loss: 6373478400.0000 - val_mse: 6373478400.0000 - val_rmse: 79834.0703 - val_mae: 37571.4102\n",
      "Epoch 12/150\n",
      "1385/1385 [==============================] - 2s 2ms/step - loss: 6495237120.0000 - mse: 6495237120.0000 - rmse: 80593.0312 - mae: 37630.2969 - val_loss: 6358479872.0000 - val_mse: 6358479872.0000 - val_rmse: 79740.0781 - val_mae: 37219.8125\n",
      "Epoch 13/150\n",
      "1385/1385 [==============================] - 3s 2ms/step - loss: 6462970880.0000 - mse: 6462970880.0000 - rmse: 80392.6016 - mae: 37606.3320 - val_loss: 6350602240.0000 - val_mse: 6350602240.0000 - val_rmse: 79690.6641 - val_mae: 36882.7500\n",
      "Epoch 14/150\n",
      "1385/1385 [==============================] - 3s 2ms/step - loss: 6455734272.0000 - mse: 6455734272.0000 - rmse: 80347.5859 - mae: 37512.9258 - val_loss: 6322787840.0000 - val_mse: 6322787840.0000 - val_rmse: 79515.9609 - val_mae: 37522.0039\n",
      "Epoch 15/150\n",
      "1385/1385 [==============================] - 3s 2ms/step - loss: 6436091392.0000 - mse: 6436091392.0000 - rmse: 80225.2578 - mae: 37457.4961 - val_loss: 6311404544.0000 - val_mse: 6311404544.0000 - val_rmse: 79444.3516 - val_mae: 37565.7734\n",
      "Epoch 16/150\n",
      "1385/1385 [==============================] - 2s 2ms/step - loss: 6410744320.0000 - mse: 6410744320.0000 - rmse: 80067.1250 - mae: 37446.4297 - val_loss: 6318356992.0000 - val_mse: 6318356992.0000 - val_rmse: 79488.0938 - val_mae: 36972.4141\n",
      "Epoch 17/150\n",
      "1385/1385 [==============================] - 3s 2ms/step - loss: 6395941888.0000 - mse: 6395941888.0000 - rmse: 79974.6328 - mae: 37395.8047 - val_loss: 6285772800.0000 - val_mse: 6285772800.0000 - val_rmse: 79282.8672 - val_mae: 37285.4297\n",
      "Epoch 18/150\n",
      "1385/1385 [==============================] - 4s 3ms/step - loss: 6386284544.0000 - mse: 6386284544.0000 - rmse: 79914.2344 - mae: 37325.2812 - val_loss: 6255773696.0000 - val_mse: 6255773696.0000 - val_rmse: 79093.4453 - val_mae: 37197.6875\n",
      "Epoch 19/150\n",
      "1385/1385 [==============================] - 3s 2ms/step - loss: 6361843712.0000 - mse: 6361843712.0000 - rmse: 79761.1641 - mae: 37310.1133 - val_loss: 6240704000.0000 - val_mse: 6240704000.0000 - val_rmse: 78998.1250 - val_mae: 37034.8789\n",
      "Epoch 20/150\n",
      "1385/1385 [==============================] - 3s 2ms/step - loss: 6344068096.0000 - mse: 6344068096.0000 - rmse: 79649.6562 - mae: 37223.0469 - val_loss: 6241496576.0000 - val_mse: 6241496576.0000 - val_rmse: 79003.1406 - val_mae: 37559.6172\n",
      "Epoch 21/150\n",
      "1385/1385 [==============================] - 3s 2ms/step - loss: 6334532608.0000 - mse: 6334532608.0000 - rmse: 79589.7734 - mae: 37236.4336 - val_loss: 6203202560.0000 - val_mse: 6203202560.0000 - val_rmse: 78760.4141 - val_mae: 36770.7695\n",
      "Epoch 22/150\n",
      "1385/1385 [==============================] - 3s 2ms/step - loss: 6310178304.0000 - mse: 6310178304.0000 - rmse: 79436.6328 - mae: 37095.3438 - val_loss: 6198666752.0000 - val_mse: 6198666752.0000 - val_rmse: 78731.6094 - val_mae: 37263.8438\n",
      "Epoch 23/150\n",
      "1385/1385 [==============================] - 3s 2ms/step - loss: 6296388096.0000 - mse: 6296388096.0000 - rmse: 79349.7812 - mae: 37136.5195 - val_loss: 6210136064.0000 - val_mse: 6210136064.0000 - val_rmse: 78804.4141 - val_mae: 36450.6992\n",
      "Epoch 24/150\n",
      "1385/1385 [==============================] - 3s 2ms/step - loss: 6284913664.0000 - mse: 6284913664.0000 - rmse: 79277.4453 - mae: 37121.0859 - val_loss: 6173563904.0000 - val_mse: 6173563904.0000 - val_rmse: 78572.0312 - val_mae: 36481.2266\n",
      "Epoch 25/150\n",
      "1385/1385 [==============================] - 3s 2ms/step - loss: 6271219712.0000 - mse: 6271219712.0000 - rmse: 79191.0312 - mae: 37042.4570 - val_loss: 6158892544.0000 - val_mse: 6158892544.0000 - val_rmse: 78478.6094 - val_mae: 37060.7148\n",
      "Epoch 26/150\n",
      "1385/1385 [==============================] - 3s 2ms/step - loss: 6252059136.0000 - mse: 6252059136.0000 - rmse: 79069.9609 - mae: 37038.7148 - val_loss: 6130925056.0000 - val_mse: 6130925056.0000 - val_rmse: 78300.2266 - val_mae: 36633.0664\n",
      "Epoch 27/150\n",
      "1385/1385 [==============================] - 3s 2ms/step - loss: 6247136768.0000 - mse: 6247136768.0000 - rmse: 79038.8281 - mae: 36961.1211 - val_loss: 6155008512.0000 - val_mse: 6155008512.0000 - val_rmse: 78453.8594 - val_mae: 36281.5000\n",
      "Epoch 28/150\n",
      "1385/1385 [==============================] - 3s 2ms/step - loss: 6238667264.0000 - mse: 6238667264.0000 - rmse: 78985.2344 - mae: 36938.8672 - val_loss: 6111047680.0000 - val_mse: 6111047680.0000 - val_rmse: 78173.1875 - val_mae: 36859.6875\n",
      "Epoch 29/150\n",
      "1385/1385 [==============================] - 3s 2ms/step - loss: 6217529344.0000 - mse: 6217529344.0000 - rmse: 78851.3125 - mae: 36963.7500 - val_loss: 6101155840.0000 - val_mse: 6101155840.0000 - val_rmse: 78109.8984 - val_mae: 36340.8359\n",
      "Epoch 30/150\n",
      "1385/1385 [==============================] - 3s 2ms/step - loss: 6220234752.0000 - mse: 6220234752.0000 - rmse: 78868.4688 - mae: 36880.3750 - val_loss: 6103649280.0000 - val_mse: 6103649280.0000 - val_rmse: 78125.8516 - val_mae: 36592.7500\n",
      "Epoch 31/150\n",
      "1385/1385 [==============================] - 3s 2ms/step - loss: 6209811456.0000 - mse: 6209811456.0000 - rmse: 78802.3594 - mae: 36865.2578 - val_loss: 6081337856.0000 - val_mse: 6081337856.0000 - val_rmse: 77982.9297 - val_mae: 36619.2656\n",
      "Epoch 32/150\n",
      "1385/1385 [==============================] - 3s 2ms/step - loss: 6191457280.0000 - mse: 6191457280.0000 - rmse: 78685.8125 - mae: 36846.6562 - val_loss: 6091836416.0000 - val_mse: 6091836416.0000 - val_rmse: 78050.2188 - val_mae: 36523.6445\n",
      "Epoch 33/150\n"
     ]
    },
    {
     "name": "stdout",
     "output_type": "stream",
     "text": [
      "1385/1385 [==============================] - 3s 2ms/step - loss: 6191039488.0000 - mse: 6191039488.0000 - rmse: 78683.1562 - mae: 36783.7656 - val_loss: 6069890560.0000 - val_mse: 6069890560.0000 - val_rmse: 77909.5000 - val_mae: 36470.5664\n",
      "Epoch 34/150\n",
      "1385/1385 [==============================] - 3s 2ms/step - loss: 6182033408.0000 - mse: 6182033408.0000 - rmse: 78625.9062 - mae: 36804.4023 - val_loss: 6079768064.0000 - val_mse: 6079768064.0000 - val_rmse: 77972.8672 - val_mae: 36225.5156\n",
      "Epoch 35/150\n",
      "1385/1385 [==============================] - 4s 3ms/step - loss: 6167197184.0000 - mse: 6167197184.0000 - rmse: 78531.5078 - mae: 36776.4922 - val_loss: 6076140544.0000 - val_mse: 6076140544.0000 - val_rmse: 77949.6016 - val_mae: 36079.8438\n",
      "Epoch 36/150\n",
      "1385/1385 [==============================] - 3s 2ms/step - loss: 6163348992.0000 - mse: 6163348992.0000 - rmse: 78507.0000 - mae: 36702.6641 - val_loss: 6068152320.0000 - val_mse: 6068152320.0000 - val_rmse: 77898.3438 - val_mae: 37186.4844\n",
      "Epoch 37/150\n",
      "1385/1385 [==============================] - 3s 2ms/step - loss: 6149149184.0000 - mse: 6149149184.0000 - rmse: 78416.5078 - mae: 36761.9336 - val_loss: 6057920512.0000 - val_mse: 6057920512.0000 - val_rmse: 77832.6406 - val_mae: 36906.2930\n",
      "Epoch 38/150\n",
      "1385/1385 [==============================] - 3s 2ms/step - loss: 6142954496.0000 - mse: 6142954496.0000 - rmse: 78377.0000 - mae: 36738.4805 - val_loss: 6059820544.0000 - val_mse: 6059820544.0000 - val_rmse: 77844.8516 - val_mae: 36906.9219\n",
      "Epoch 39/150\n",
      "1385/1385 [==============================] - 3s 2ms/step - loss: 6146013696.0000 - mse: 6146013696.0000 - rmse: 78396.5156 - mae: 36741.8984 - val_loss: 6041425920.0000 - val_mse: 6041425920.0000 - val_rmse: 77726.6094 - val_mae: 36392.4141\n",
      "Epoch 40/150\n",
      "1385/1385 [==============================] - 2s 2ms/step - loss: 6123613696.0000 - mse: 6123613696.0000 - rmse: 78253.5234 - mae: 36670.0859 - val_loss: 6064299520.0000 - val_mse: 6064299520.0000 - val_rmse: 77873.6094 - val_mae: 36967.4688\n",
      "Epoch 41/150\n",
      "1385/1385 [==============================] - 2s 2ms/step - loss: 6126219264.0000 - mse: 6126219264.0000 - rmse: 78270.1719 - mae: 36628.7500 - val_loss: 6039221760.0000 - val_mse: 6039221760.0000 - val_rmse: 77712.4297 - val_mae: 36968.3633\n",
      "Epoch 42/150\n",
      "1385/1385 [==============================] - 3s 2ms/step - loss: 6115300864.0000 - mse: 6115300864.0000 - rmse: 78200.3906 - mae: 36696.8008 - val_loss: 6050603008.0000 - val_mse: 6050603008.0000 - val_rmse: 77785.6250 - val_mae: 36507.1680\n",
      "Epoch 43/150\n",
      "1385/1385 [==============================] - 3s 2ms/step - loss: 6114106880.0000 - mse: 6114106880.0000 - rmse: 78192.7578 - mae: 36651.2734 - val_loss: 6039555584.0000 - val_mse: 6039555584.0000 - val_rmse: 77714.5781 - val_mae: 36328.3320\n",
      "Epoch 44/150\n",
      "1385/1385 [==============================] - 3s 2ms/step - loss: 6104189952.0000 - mse: 6104189952.0000 - rmse: 78129.3125 - mae: 36626.4414 - val_loss: 6037602304.0000 - val_mse: 6037602304.0000 - val_rmse: 77702.0078 - val_mae: 36304.5000\n",
      "Epoch 45/150\n",
      "1385/1385 [==============================] - 2s 2ms/step - loss: 6096382464.0000 - mse: 6096382464.0000 - rmse: 78079.3359 - mae: 36648.7578 - val_loss: 6036899840.0000 - val_mse: 6036899840.0000 - val_rmse: 77697.4922 - val_mae: 36207.4375\n",
      "Epoch 46/150\n",
      "1385/1385 [==============================] - 2s 2ms/step - loss: 6087521280.0000 - mse: 6087521280.0000 - rmse: 78022.5703 - mae: 36583.9453 - val_loss: 6039977472.0000 - val_mse: 6039977472.0000 - val_rmse: 77717.2891 - val_mae: 35969.1289\n",
      "Epoch 47/150\n",
      "1385/1385 [==============================] - 3s 2ms/step - loss: 6085636096.0000 - mse: 6085636096.0000 - rmse: 78010.4844 - mae: 36555.0391 - val_loss: 6031288320.0000 - val_mse: 6031288320.0000 - val_rmse: 77661.3672 - val_mae: 36609.5859\n",
      "Epoch 48/150\n",
      "1385/1385 [==============================] - 3s 3ms/step - loss: 6077263872.0000 - mse: 6077263872.0000 - rmse: 77956.8047 - mae: 36598.3516 - val_loss: 6026406400.0000 - val_mse: 6026406400.0000 - val_rmse: 77629.9297 - val_mae: 36351.8906\n",
      "Epoch 49/150\n",
      "1385/1385 [==============================] - 4s 3ms/step - loss: 6074582016.0000 - mse: 6074582016.0000 - rmse: 77939.6016 - mae: 36511.2344 - val_loss: 6022850048.0000 - val_mse: 6022850048.0000 - val_rmse: 77607.0234 - val_mae: 36615.6719\n",
      "Epoch 50/150\n",
      "1385/1385 [==============================] - 3s 2ms/step - loss: 6071393792.0000 - mse: 6071393792.0000 - rmse: 77919.1484 - mae: 36522.7695 - val_loss: 6041533952.0000 - val_mse: 6041533952.0000 - val_rmse: 77727.3047 - val_mae: 36346.9062\n",
      "Epoch 51/150\n",
      "1385/1385 [==============================] - 3s 2ms/step - loss: 6059727360.0000 - mse: 6059727360.0000 - rmse: 77844.2500 - mae: 36548.4414 - val_loss: 6021517312.0000 - val_mse: 6021517312.0000 - val_rmse: 77598.4375 - val_mae: 36141.1094\n",
      "Epoch 52/150\n",
      "1385/1385 [==============================] - 4s 3ms/step - loss: 6053368832.0000 - mse: 6053368832.0000 - rmse: 77803.3984 - mae: 36504.4375 - val_loss: 6026850304.0000 - val_mse: 6026850304.0000 - val_rmse: 77632.7891 - val_mae: 36394.6719\n",
      "Epoch 53/150\n",
      "1385/1385 [==============================] - 3s 2ms/step - loss: 6059077120.0000 - mse: 6059077120.0000 - rmse: 77840.0703 - mae: 36498.8750 - val_loss: 6023094272.0000 - val_mse: 6023094272.0000 - val_rmse: 77608.5938 - val_mae: 36710.1680\n",
      "Epoch 54/150\n",
      "1385/1385 [==============================] - 3s 2ms/step - loss: 6041321472.0000 - mse: 6041321472.0000 - rmse: 77725.9375 - mae: 36491.5547 - val_loss: 6026710016.0000 - val_mse: 6026710016.0000 - val_rmse: 77631.8906 - val_mae: 36840.9453\n",
      "Epoch 55/150\n",
      "1385/1385 [==============================] - 3s 2ms/step - loss: 6039243776.0000 - mse: 6039243776.0000 - rmse: 77712.5703 - mae: 36427.1250 - val_loss: 6038823936.0000 - val_mse: 6038823936.0000 - val_rmse: 77709.8672 - val_mae: 37079.8867\n",
      "Epoch 56/150\n",
      "1385/1385 [==============================] - 2s 2ms/step - loss: 6034269184.0000 - mse: 6034269184.0000 - rmse: 77680.5625 - mae: 36475.2852 - val_loss: 6014474240.0000 - val_mse: 6014474240.0000 - val_rmse: 77553.0391 - val_mae: 36661.3477\n",
      "Epoch 57/150\n",
      "1385/1385 [==============================] - 2s 2ms/step - loss: 6034785792.0000 - mse: 6034785792.0000 - rmse: 77683.8828 - mae: 36445.3711 - val_loss: 6010169344.0000 - val_mse: 6010169344.0000 - val_rmse: 77525.2812 - val_mae: 36133.2617\n",
      "Epoch 58/150\n",
      "1385/1385 [==============================] - 3s 2ms/step - loss: 6018292224.0000 - mse: 6018292224.0000 - rmse: 77577.6562 - mae: 36389.4961 - val_loss: 6017160192.0000 - val_mse: 6017160192.0000 - val_rmse: 77570.3594 - val_mae: 36844.7656\n",
      "Epoch 59/150\n",
      "1385/1385 [==============================] - 3s 2ms/step - loss: 6015501312.0000 - mse: 6015501312.0000 - rmse: 77559.6641 - mae: 36486.5469 - val_loss: 6050787840.0000 - val_mse: 6050787840.0000 - val_rmse: 77786.8125 - val_mae: 36817.4219\n",
      "Epoch 60/150\n",
      "1385/1385 [==============================] - 3s 2ms/step - loss: 6016700416.0000 - mse: 6016700416.0000 - rmse: 77567.3906 - mae: 36430.1836 - val_loss: 6024855552.0000 - val_mse: 6024855552.0000 - val_rmse: 77619.9453 - val_mae: 35708.0352\n",
      "Epoch 61/150\n",
      "1385/1385 [==============================] - 3s 2ms/step - loss: 6007719936.0000 - mse: 6007719936.0000 - rmse: 77509.4844 - mae: 36405.9883 - val_loss: 6002147328.0000 - val_mse: 6002147328.0000 - val_rmse: 77473.5234 - val_mae: 36035.2422\n",
      "Epoch 62/150\n",
      "1385/1385 [==============================] - 3s 2ms/step - loss: 6003585536.0000 - mse: 6003585536.0000 - rmse: 77482.8047 - mae: 36364.3555 - val_loss: 6007741952.0000 - val_mse: 6007741952.0000 - val_rmse: 77509.6250 - val_mae: 36260.4180\n",
      "Epoch 63/150\n",
      "1385/1385 [==============================] - 2s 2ms/step - loss: 5997789696.0000 - mse: 5997789696.0000 - rmse: 77445.3984 - mae: 36324.3750 - val_loss: 6006158848.0000 - val_mse: 6006158848.0000 - val_rmse: 77499.4141 - val_mae: 36182.6406\n",
      "Epoch 64/150\n",
      "1385/1385 [==============================] - 2s 2ms/step - loss: 5986708480.0000 - mse: 5986708480.0000 - rmse: 77373.8203 - mae: 36366.8555 - val_loss: 6030807552.0000 - val_mse: 6030807552.0000 - val_rmse: 77658.2734 - val_mae: 35986.7773\n",
      "Epoch 65/150\n"
     ]
    },
    {
     "name": "stdout",
     "output_type": "stream",
     "text": [
      "1385/1385 [==============================] - 2s 2ms/step - loss: 5995187712.0000 - mse: 5995187712.0000 - rmse: 77428.5938 - mae: 36348.8516 - val_loss: 6004234752.0000 - val_mse: 6004234752.0000 - val_rmse: 77487.0000 - val_mae: 36288.0977\n",
      "Epoch 66/150\n",
      "1385/1385 [==============================] - 3s 2ms/step - loss: 5982854144.0000 - mse: 5982854144.0000 - rmse: 77348.9141 - mae: 36386.7617 - val_loss: 6018174464.0000 - val_mse: 6018174464.0000 - val_rmse: 77576.8906 - val_mae: 36360.9219\n",
      "Epoch 67/150\n",
      "1385/1385 [==============================] - 3s 2ms/step - loss: 5977311744.0000 - mse: 5977311744.0000 - rmse: 77313.0781 - mae: 36333.6680 - val_loss: 6014841344.0000 - val_mse: 6014841344.0000 - val_rmse: 77555.4062 - val_mae: 36054.4609\n",
      "Epoch 68/150\n",
      "1385/1385 [==============================] - 2s 2ms/step - loss: 5977524224.0000 - mse: 5977524224.0000 - rmse: 77314.4531 - mae: 36330.2148 - val_loss: 6009263616.0000 - val_mse: 6009263616.0000 - val_rmse: 77519.4375 - val_mae: 36205.4570\n",
      "Epoch 69/150\n",
      "1385/1385 [==============================] - 2s 2ms/step - loss: 5967664128.0000 - mse: 5967664128.0000 - rmse: 77250.6562 - mae: 36294.6836 - val_loss: 6019736576.0000 - val_mse: 6019736576.0000 - val_rmse: 77586.9609 - val_mae: 35876.0234\n",
      "Epoch 70/150\n",
      "1385/1385 [==============================] - 3s 2ms/step - loss: 5969717760.0000 - mse: 5969717760.0000 - rmse: 77263.9453 - mae: 36279.2305 - val_loss: 6014240256.0000 - val_mse: 6014240256.0000 - val_rmse: 77551.5312 - val_mae: 36275.4570\n",
      "Epoch 71/150\n",
      "1385/1385 [==============================] - 3s 2ms/step - loss: 5961266688.0000 - mse: 5961266688.0000 - rmse: 77209.2422 - mae: 36317.7695 - val_loss: 6010581504.0000 - val_mse: 6010581504.0000 - val_rmse: 77527.9375 - val_mae: 36666.4766\n",
      "Epoch 72/150\n",
      "1385/1385 [==============================] - 3s 2ms/step - loss: 5962541056.0000 - mse: 5962541056.0000 - rmse: 77217.4922 - mae: 36314.1289 - val_loss: 5994913280.0000 - val_mse: 5994913280.0000 - val_rmse: 77426.8281 - val_mae: 36279.4883\n",
      "Epoch 73/150\n",
      "1385/1385 [==============================] - 2s 2ms/step - loss: 5948801024.0000 - mse: 5948801024.0000 - rmse: 77128.4688 - mae: 36283.4648 - val_loss: 6006630400.0000 - val_mse: 6006630400.0000 - val_rmse: 77502.4531 - val_mae: 36212.4688\n",
      "Epoch 74/150\n",
      "1385/1385 [==============================] - 3s 2ms/step - loss: 5949789184.0000 - mse: 5949789184.0000 - rmse: 77134.8750 - mae: 36258.6641 - val_loss: 6004562944.0000 - val_mse: 6004562944.0000 - val_rmse: 77489.1172 - val_mae: 36445.7656\n",
      "Epoch 75/150\n",
      "1385/1385 [==============================] - 3s 2ms/step - loss: 5949774848.0000 - mse: 5949774848.0000 - rmse: 77134.7812 - mae: 36281.5430 - val_loss: 6032188416.0000 - val_mse: 6032188416.0000 - val_rmse: 77667.1641 - val_mae: 36821.9219\n",
      "Epoch 76/150\n",
      "1385/1385 [==============================] - 3s 2ms/step - loss: 5941932032.0000 - mse: 5941932032.0000 - rmse: 77083.9297 - mae: 36225.0586 - val_loss: 5999859200.0000 - val_mse: 5999859200.0000 - val_rmse: 77458.7578 - val_mae: 36545.0117\n",
      "Epoch 77/150\n",
      "1385/1385 [==============================] - 3s 2ms/step - loss: 5936884224.0000 - mse: 5936884224.0000 - rmse: 77051.1797 - mae: 36271.8203 - val_loss: 6011302912.0000 - val_mse: 6011302912.0000 - val_rmse: 77532.5938 - val_mae: 36545.8203\n",
      "Epoch 78/150\n",
      "1385/1385 [==============================] - 3s 2ms/step - loss: 5933842944.0000 - mse: 5933842944.0000 - rmse: 77031.4375 - mae: 36208.9219 - val_loss: 6023993344.0000 - val_mse: 6023993344.0000 - val_rmse: 77614.3906 - val_mae: 37284.2812\n",
      "Epoch 79/150\n",
      "1385/1385 [==============================] - 3s 2ms/step - loss: 5924453888.0000 - mse: 5924453888.0000 - rmse: 76970.4766 - mae: 36254.2461 - val_loss: 5987841024.0000 - val_mse: 5987841024.0000 - val_rmse: 77381.1406 - val_mae: 36309.2500\n",
      "Epoch 80/150\n",
      "1385/1385 [==============================] - 3s 2ms/step - loss: 5923252224.0000 - mse: 5923252224.0000 - rmse: 76962.6641 - mae: 36172.6133 - val_loss: 5989198336.0000 - val_mse: 5989198336.0000 - val_rmse: 77389.9141 - val_mae: 36587.5859\n",
      "Epoch 81/150\n",
      "1385/1385 [==============================] - 3s 2ms/step - loss: 5918101504.0000 - mse: 5918101504.0000 - rmse: 76929.1953 - mae: 36280.7930 - val_loss: 5989522432.0000 - val_mse: 5989522432.0000 - val_rmse: 77392.0078 - val_mae: 36126.1602\n",
      "Epoch 82/150\n",
      "1385/1385 [==============================] - 3s 2ms/step - loss: 5913340928.0000 - mse: 5913340928.0000 - rmse: 76898.2500 - mae: 36199.4648 - val_loss: 6010321408.0000 - val_mse: 6010321408.0000 - val_rmse: 77526.2656 - val_mae: 36700.4570\n",
      "Epoch 83/150\n",
      "1385/1385 [==============================] - 3s 2ms/step - loss: 5903591424.0000 - mse: 5903591424.0000 - rmse: 76834.8359 - mae: 36193.1133 - val_loss: 6006706688.0000 - val_mse: 6006706688.0000 - val_rmse: 77502.9453 - val_mae: 36275.4531\n",
      "Epoch 84/150\n",
      "1385/1385 [==============================] - 3s 2ms/step - loss: 5896997888.0000 - mse: 5896997888.0000 - rmse: 76791.9141 - mae: 36183.8711 - val_loss: 5978905088.0000 - val_mse: 5978905088.0000 - val_rmse: 77323.3828 - val_mae: 36451.5781\n",
      "Epoch 85/150\n",
      "1385/1385 [==============================] - 3s 2ms/step - loss: 5906098688.0000 - mse: 5906098688.0000 - rmse: 76851.1484 - mae: 36187.6953 - val_loss: 5996097024.0000 - val_mse: 5996097024.0000 - val_rmse: 77434.4688 - val_mae: 35814.6602\n",
      "Epoch 86/150\n",
      "1385/1385 [==============================] - 3s 2ms/step - loss: 5895759872.0000 - mse: 5895759872.0000 - rmse: 76783.8516 - mae: 36148.8398 - val_loss: 6009856000.0000 - val_mse: 6009856000.0000 - val_rmse: 77523.2578 - val_mae: 36305.9062\n",
      "Epoch 87/150\n",
      "1385/1385 [==============================] - 3s 2ms/step - loss: 5907497984.0000 - mse: 5907497984.0000 - rmse: 76860.2500 - mae: 36175.3398 - val_loss: 6007668736.0000 - val_mse: 6007668736.0000 - val_rmse: 77509.1562 - val_mae: 35856.8945\n",
      "Epoch 88/150\n",
      "1385/1385 [==============================] - 3s 2ms/step - loss: 5886102528.0000 - mse: 5886102528.0000 - rmse: 76720.9375 - mae: 36170.5664 - val_loss: 6018537472.0000 - val_mse: 6018537472.0000 - val_rmse: 77579.2344 - val_mae: 36709.1797\n",
      "Epoch 89/150\n",
      "1385/1385 [==============================] - 3s 2ms/step - loss: 5892402688.0000 - mse: 5892402688.0000 - rmse: 76761.9844 - mae: 36178.9570 - val_loss: 6001296384.0000 - val_mse: 6001296384.0000 - val_rmse: 77468.0312 - val_mae: 36466.2031\n",
      "Epoch 90/150\n",
      "1385/1385 [==============================] - 3s 2ms/step - loss: 5885382144.0000 - mse: 5885382144.0000 - rmse: 76716.2422 - mae: 36153.0156 - val_loss: 5983281664.0000 - val_mse: 5983281664.0000 - val_rmse: 77351.6719 - val_mae: 36050.2891\n",
      "Epoch 91/150\n",
      "1385/1385 [==============================] - 3s 2ms/step - loss: 5882709504.0000 - mse: 5882709504.0000 - rmse: 76698.8203 - mae: 36120.1328 - val_loss: 5987990528.0000 - val_mse: 5987990528.0000 - val_rmse: 77382.1094 - val_mae: 36267.9648\n",
      "Epoch 92/150\n",
      "1385/1385 [==============================] - 3s 2ms/step - loss: 5879720448.0000 - mse: 5879720448.0000 - rmse: 76679.3359 - mae: 36148.5625 - val_loss: 5996383232.0000 - val_mse: 5996383232.0000 - val_rmse: 77436.3203 - val_mae: 36121.2891\n",
      "Epoch 93/150\n",
      "1385/1385 [==============================] - 3s 2ms/step - loss: 5866967040.0000 - mse: 5866967040.0000 - rmse: 76596.1328 - mae: 36141.9492 - val_loss: 6000555520.0000 - val_mse: 6000555520.0000 - val_rmse: 77463.2500 - val_mae: 36049.7344\n",
      "Epoch 94/150\n",
      "1385/1385 [==============================] - 3s 2ms/step - loss: 5866567168.0000 - mse: 5866567168.0000 - rmse: 76593.5156 - mae: 36151.6836 - val_loss: 6000328192.0000 - val_mse: 6000328192.0000 - val_rmse: 77461.7891 - val_mae: 36515.9375\n",
      "Epoch 95/150\n",
      "1385/1385 [==============================] - 3s 2ms/step - loss: 5863050240.0000 - mse: 5863050240.0000 - rmse: 76570.5547 - mae: 36100.9805 - val_loss: 5997645312.0000 - val_mse: 5997645312.0000 - val_rmse: 77444.4688 - val_mae: 35783.4688\n",
      "Epoch 96/150\n",
      "1385/1385 [==============================] - 3s 2ms/step - loss: 5857587712.0000 - mse: 5857587712.0000 - rmse: 76534.8828 - mae: 36086.2539 - val_loss: 5993259520.0000 - val_mse: 5993259520.0000 - val_rmse: 77416.1484 - val_mae: 36210.3516\n",
      "Epoch 97/150\n"
     ]
    },
    {
     "name": "stdout",
     "output_type": "stream",
     "text": [
      "1385/1385 [==============================] - 3s 2ms/step - loss: 5848992768.0000 - mse: 5848992768.0000 - rmse: 76478.7109 - mae: 36083.4727 - val_loss: 5985662464.0000 - val_mse: 5985662464.0000 - val_rmse: 77367.0625 - val_mae: 36220.8633\n",
      "Epoch 98/150\n",
      "1385/1385 [==============================] - 3s 2ms/step - loss: 5858603008.0000 - mse: 5858603008.0000 - rmse: 76541.5078 - mae: 36130.8750 - val_loss: 5980729344.0000 - val_mse: 5980729344.0000 - val_rmse: 77335.1719 - val_mae: 36198.2578\n",
      "Epoch 99/150\n",
      "1385/1385 [==============================] - 3s 2ms/step - loss: 5839375872.0000 - mse: 5839375872.0000 - rmse: 76415.8125 - mae: 36049.5039 - val_loss: 5990551552.0000 - val_mse: 5990551552.0000 - val_rmse: 77398.6562 - val_mae: 35954.0078\n",
      "Epoch 100/150\n",
      "1385/1385 [==============================] - 3s 2ms/step - loss: 5829612544.0000 - mse: 5829612544.0000 - rmse: 76351.8984 - mae: 36056.7539 - val_loss: 6011758592.0000 - val_mse: 6011758592.0000 - val_rmse: 77535.5312 - val_mae: 35988.9219\n",
      "Epoch 101/150\n",
      "1385/1385 [==============================] - 3s 2ms/step - loss: 5826887168.0000 - mse: 5826887168.0000 - rmse: 76334.0469 - mae: 36067.4453 - val_loss: 5982257664.0000 - val_mse: 5982257664.0000 - val_rmse: 77345.0547 - val_mae: 36217.8555\n",
      "Epoch 102/150\n",
      "1385/1385 [==============================] - 3s 2ms/step - loss: 5827709440.0000 - mse: 5827709440.0000 - rmse: 76339.4375 - mae: 36036.4453 - val_loss: 5980678144.0000 - val_mse: 5980678144.0000 - val_rmse: 77334.8438 - val_mae: 36491.0430\n",
      "Epoch 103/150\n",
      "1385/1385 [==============================] - 3s 2ms/step - loss: 5827032064.0000 - mse: 5827032064.0000 - rmse: 76335.0000 - mae: 36096.3594 - val_loss: 5985950720.0000 - val_mse: 5985950720.0000 - val_rmse: 77368.9297 - val_mae: 36167.8086\n",
      "Epoch 104/150\n",
      "1385/1385 [==============================] - 3s 2ms/step - loss: 5818120192.0000 - mse: 5818120192.0000 - rmse: 76276.6016 - mae: 35998.9961 - val_loss: 6017284096.0000 - val_mse: 6017284096.0000 - val_rmse: 77571.1562 - val_mae: 36677.2656\n",
      "Epoch 105/150\n",
      "1385/1385 [==============================] - 3s 2ms/step - loss: 5811374592.0000 - mse: 5811374592.0000 - rmse: 76232.3750 - mae: 36005.0156 - val_loss: 5996932608.0000 - val_mse: 5996932608.0000 - val_rmse: 77439.8672 - val_mae: 36725.2812\n",
      "Epoch 106/150\n",
      "1385/1385 [==============================] - 3s 2ms/step - loss: 5811810304.0000 - mse: 5811810304.0000 - rmse: 76235.2266 - mae: 36077.9062 - val_loss: 5987602944.0000 - val_mse: 5987602944.0000 - val_rmse: 77379.6016 - val_mae: 35704.8008\n",
      "Epoch 107/150\n",
      "1385/1385 [==============================] - 2s 2ms/step - loss: 5806950912.0000 - mse: 5806950912.0000 - rmse: 76203.3516 - mae: 35980.1250 - val_loss: 5988148736.0000 - val_mse: 5988148736.0000 - val_rmse: 77383.1328 - val_mae: 36357.6172\n",
      "Epoch 108/150\n",
      "1385/1385 [==============================] - 2s 2ms/step - loss: 5797039104.0000 - mse: 5797039104.0000 - rmse: 76138.2891 - mae: 36058.9648 - val_loss: 5973893120.0000 - val_mse: 5973893120.0000 - val_rmse: 77290.9609 - val_mae: 36099.8320\n",
      "Epoch 109/150\n",
      "1385/1385 [==============================] - 3s 2ms/step - loss: 5791511040.0000 - mse: 5791511040.0000 - rmse: 76101.9766 - mae: 35904.6211 - val_loss: 5997791232.0000 - val_mse: 5997791232.0000 - val_rmse: 77445.4062 - val_mae: 35661.4336\n",
      "Epoch 110/150\n",
      "1385/1385 [==============================] - 3s 2ms/step - loss: 5792260096.0000 - mse: 5792260096.0000 - rmse: 76106.8984 - mae: 35953.8828 - val_loss: 5967872000.0000 - val_mse: 5967872000.0000 - val_rmse: 77252.0000 - val_mae: 36203.2773\n",
      "Epoch 111/150\n",
      "1385/1385 [==============================] - 3s 2ms/step - loss: 5777043968.0000 - mse: 5777043968.0000 - rmse: 76006.8672 - mae: 35963.2539 - val_loss: 5991897088.0000 - val_mse: 5991897088.0000 - val_rmse: 77407.3438 - val_mae: 36388.6914\n",
      "Epoch 112/150\n",
      "1385/1385 [==============================] - 3s 2ms/step - loss: 5768694784.0000 - mse: 5768694784.0000 - rmse: 75951.9219 - mae: 35942.2227 - val_loss: 5966601216.0000 - val_mse: 5966601216.0000 - val_rmse: 77243.7812 - val_mae: 36025.5664\n",
      "Epoch 113/150\n",
      "1385/1385 [==============================] - 3s 2ms/step - loss: 5765711872.0000 - mse: 5765711872.0000 - rmse: 75932.2812 - mae: 35886.3984 - val_loss: 5991693824.0000 - val_mse: 5991693824.0000 - val_rmse: 77406.0312 - val_mae: 36846.4336\n",
      "Epoch 114/150\n",
      "1385/1385 [==============================] - 3s 2ms/step - loss: 5773650432.0000 - mse: 5773650432.0000 - rmse: 75984.5391 - mae: 35945.1875 - val_loss: 5973954560.0000 - val_mse: 5973954560.0000 - val_rmse: 77291.3594 - val_mae: 36168.9570\n",
      "Epoch 115/150\n",
      "1385/1385 [==============================] - 3s 2ms/step - loss: 5756164096.0000 - mse: 5756164096.0000 - rmse: 75869.3906 - mae: 35884.1289 - val_loss: 5976279552.0000 - val_mse: 5976279552.0000 - val_rmse: 77306.3984 - val_mae: 36862.5273\n",
      "Epoch 116/150\n",
      "1385/1385 [==============================] - 3s 2ms/step - loss: 5741297664.0000 - mse: 5741297664.0000 - rmse: 75771.3516 - mae: 35874.3633 - val_loss: 5983831040.0000 - val_mse: 5983831040.0000 - val_rmse: 77355.2266 - val_mae: 36168.8750\n",
      "Epoch 117/150\n",
      "1385/1385 [==============================] - 3s 2ms/step - loss: 5738032640.0000 - mse: 5738032640.0000 - rmse: 75749.8047 - mae: 35903.5039 - val_loss: 5965243904.0000 - val_mse: 5965243904.0000 - val_rmse: 77234.9922 - val_mae: 36060.1211\n",
      "Epoch 118/150\n",
      "1385/1385 [==============================] - 3s 2ms/step - loss: 5731524096.0000 - mse: 5731524096.0000 - rmse: 75706.8281 - mae: 35853.7656 - val_loss: 5982789120.0000 - val_mse: 5982789120.0000 - val_rmse: 77348.4922 - val_mae: 35997.5586\n",
      "Epoch 119/150\n",
      "1385/1385 [==============================] - 3s 2ms/step - loss: 5728962560.0000 - mse: 5728962560.0000 - rmse: 75689.9141 - mae: 35832.6797 - val_loss: 5959702016.0000 - val_mse: 5959702016.0000 - val_rmse: 77199.1094 - val_mae: 36310.9648\n",
      "Epoch 120/150\n",
      "1385/1385 [==============================] - 3s 2ms/step - loss: 5705890304.0000 - mse: 5705890304.0000 - rmse: 75537.3438 - mae: 35793.6445 - val_loss: 5972850176.0000 - val_mse: 5972850176.0000 - val_rmse: 77284.2188 - val_mae: 36674.4141\n",
      "Epoch 121/150\n",
      "1385/1385 [==============================] - 3s 2ms/step - loss: 5716891648.0000 - mse: 5716891648.0000 - rmse: 75610.1328 - mae: 35803.8906 - val_loss: 5952569856.0000 - val_mse: 5952569856.0000 - val_rmse: 77152.8984 - val_mae: 36212.1602\n",
      "Epoch 122/150\n",
      "1385/1385 [==============================] - 3s 2ms/step - loss: 5714148864.0000 - mse: 5714148864.0000 - rmse: 75591.9922 - mae: 35752.4141 - val_loss: 5946223616.0000 - val_mse: 5946223616.0000 - val_rmse: 77111.7578 - val_mae: 36299.3867\n",
      "Epoch 123/150\n",
      "1385/1385 [==============================] - 3s 2ms/step - loss: 5690440704.0000 - mse: 5690440704.0000 - rmse: 75435.0078 - mae: 35790.3672 - val_loss: 5950372864.0000 - val_mse: 5950372864.0000 - val_rmse: 77138.6562 - val_mae: 36187.9883\n",
      "Epoch 124/150\n",
      "1385/1385 [==============================] - 3s 2ms/step - loss: 5689964544.0000 - mse: 5689964544.0000 - rmse: 75431.8516 - mae: 35735.6914 - val_loss: 5990817280.0000 - val_mse: 5990817280.0000 - val_rmse: 77400.3672 - val_mae: 35795.2148\n",
      "Epoch 125/150\n",
      "1385/1385 [==============================] - 3s 2ms/step - loss: 5697417728.0000 - mse: 5697417728.0000 - rmse: 75481.2422 - mae: 35736.9727 - val_loss: 5951925248.0000 - val_mse: 5951925248.0000 - val_rmse: 77148.7188 - val_mae: 36010.9336\n",
      "Epoch 126/150\n",
      "1385/1385 [==============================] - 3s 2ms/step - loss: 5675201024.0000 - mse: 5675201024.0000 - rmse: 75333.9297 - mae: 35730.3438 - val_loss: 5968339456.0000 - val_mse: 5968339456.0000 - val_rmse: 77255.0312 - val_mae: 36459.8398\n",
      "Epoch 127/150\n",
      "1385/1385 [==============================] - 3s 2ms/step - loss: 5669521920.0000 - mse: 5669521920.0000 - rmse: 75296.2266 - mae: 35726.1953 - val_loss: 5973806080.0000 - val_mse: 5973806080.0000 - val_rmse: 77290.3984 - val_mae: 36248.4844\n",
      "Epoch 128/150\n",
      "1385/1385 [==============================] - 3s 2ms/step - loss: 5671523328.0000 - mse: 5671523328.0000 - rmse: 75309.5156 - mae: 35722.2539 - val_loss: 5953580032.0000 - val_mse: 5953580032.0000 - val_rmse: 77159.4453 - val_mae: 35990.0547\n",
      "Epoch 129/150\n"
     ]
    },
    {
     "name": "stdout",
     "output_type": "stream",
     "text": [
      "1385/1385 [==============================] - 3s 2ms/step - loss: 5655516160.0000 - mse: 5655516160.0000 - rmse: 75203.1641 - mae: 35622.3359 - val_loss: 5959227392.0000 - val_mse: 5959227392.0000 - val_rmse: 77196.0312 - val_mae: 35883.3750\n",
      "Epoch 130/150\n",
      "1385/1385 [==============================] - 3s 2ms/step - loss: 5655655936.0000 - mse: 5655655936.0000 - rmse: 75204.0938 - mae: 35679.6211 - val_loss: 5958633472.0000 - val_mse: 5958633472.0000 - val_rmse: 77192.1875 - val_mae: 36373.5820\n",
      "Epoch 131/150\n",
      "1385/1385 [==============================] - 3s 2ms/step - loss: 5653525504.0000 - mse: 5653525504.0000 - rmse: 75189.9297 - mae: 35634.0195 - val_loss: 5935119872.0000 - val_mse: 5935119872.0000 - val_rmse: 77039.7266 - val_mae: 35753.1914\n",
      "Epoch 132/150\n",
      "1385/1385 [==============================] - 2s 2ms/step - loss: 5642762240.0000 - mse: 5642762240.0000 - rmse: 75118.3203 - mae: 35633.0195 - val_loss: 5944653824.0000 - val_mse: 5944653824.0000 - val_rmse: 77101.5781 - val_mae: 35807.8867\n",
      "Epoch 133/150\n",
      "1385/1385 [==============================] - 2s 2ms/step - loss: 5622356480.0000 - mse: 5622356480.0000 - rmse: 74982.3750 - mae: 35574.7383 - val_loss: 5951001088.0000 - val_mse: 5951001088.0000 - val_rmse: 77142.7344 - val_mae: 35708.4492\n",
      "Epoch 134/150\n",
      "1385/1385 [==============================] - 3s 2ms/step - loss: 5622842368.0000 - mse: 5622842368.0000 - rmse: 74985.6172 - mae: 35578.2383 - val_loss: 5935467008.0000 - val_mse: 5935467008.0000 - val_rmse: 77041.9844 - val_mae: 35862.8750\n",
      "Epoch 135/150\n",
      "1385/1385 [==============================] - 2s 2ms/step - loss: 5616976896.0000 - mse: 5616976896.0000 - rmse: 74946.4922 - mae: 35539.4883 - val_loss: 5955664896.0000 - val_mse: 5955664896.0000 - val_rmse: 77172.9531 - val_mae: 36141.3867\n",
      "Epoch 136/150\n",
      "1385/1385 [==============================] - 2s 2ms/step - loss: 5618052608.0000 - mse: 5618052608.0000 - rmse: 74953.6719 - mae: 35559.0742 - val_loss: 5937568256.0000 - val_mse: 5937568256.0000 - val_rmse: 77055.6172 - val_mae: 36189.2305\n",
      "Epoch 137/150\n",
      "1385/1385 [==============================] - 2s 2ms/step - loss: 5606289408.0000 - mse: 5606289408.0000 - rmse: 74875.1562 - mae: 35550.7266 - val_loss: 5943144448.0000 - val_mse: 5943144448.0000 - val_rmse: 77091.7891 - val_mae: 35641.1758\n",
      "Epoch 138/150\n",
      "1385/1385 [==============================] - 2s 2ms/step - loss: 5600628736.0000 - mse: 5600628736.0000 - rmse: 74837.3516 - mae: 35486.5742 - val_loss: 5959750144.0000 - val_mse: 5959750144.0000 - val_rmse: 77199.4219 - val_mae: 36170.1484\n",
      "Epoch 139/150\n",
      "1385/1385 [==============================] - 2s 2ms/step - loss: 5607665664.0000 - mse: 5607665664.0000 - rmse: 74884.3516 - mae: 35511.1484 - val_loss: 5937878016.0000 - val_mse: 5937878016.0000 - val_rmse: 77057.6250 - val_mae: 36239.2969\n",
      "Epoch 140/150\n",
      "1385/1385 [==============================] - 2s 2ms/step - loss: 5585241600.0000 - mse: 5585241600.0000 - rmse: 74734.4766 - mae: 35488.7422 - val_loss: 5953216512.0000 - val_mse: 5953216512.0000 - val_rmse: 77157.0859 - val_mae: 35876.9648\n",
      "Epoch 141/150\n",
      "1385/1385 [==============================] - 2s 2ms/step - loss: 5577841664.0000 - mse: 5577841664.0000 - rmse: 74684.9531 - mae: 35409.6914 - val_loss: 5949657600.0000 - val_mse: 5949657600.0000 - val_rmse: 77134.0234 - val_mae: 36185.0586\n",
      "Epoch 142/150\n",
      "1385/1385 [==============================] - 2s 2ms/step - loss: 5579336704.0000 - mse: 5579336704.0000 - rmse: 74694.9609 - mae: 35422.6719 - val_loss: 5938285056.0000 - val_mse: 5938285056.0000 - val_rmse: 77060.2656 - val_mae: 36392.3320\n",
      "Epoch 143/150\n",
      "1385/1385 [==============================] - 2s 2ms/step - loss: 5565262336.0000 - mse: 5565262336.0000 - rmse: 74600.6875 - mae: 35429.3516 - val_loss: 5944813568.0000 - val_mse: 5944813568.0000 - val_rmse: 77102.6172 - val_mae: 35942.0039\n",
      "Epoch 144/150\n",
      "1385/1385 [==============================] - 2s 2ms/step - loss: 5554534912.0000 - mse: 5554534912.0000 - rmse: 74528.7500 - mae: 35402.5039 - val_loss: 5934482432.0000 - val_mse: 5934482432.0000 - val_rmse: 77035.5938 - val_mae: 35905.4688\n",
      "Epoch 145/150\n",
      "1385/1385 [==============================] - 2s 2ms/step - loss: 5548526080.0000 - mse: 5548526080.0000 - rmse: 74488.4297 - mae: 35400.1602 - val_loss: 5954297344.0000 - val_mse: 5954297344.0000 - val_rmse: 77164.0938 - val_mae: 35224.4961\n",
      "Epoch 146/150\n",
      "1385/1385 [==============================] - 2s 2ms/step - loss: 5547061248.0000 - mse: 5547061248.0000 - rmse: 74478.5938 - mae: 35336.0781 - val_loss: 5941161472.0000 - val_mse: 5941161472.0000 - val_rmse: 77078.9297 - val_mae: 35973.8242\n",
      "Epoch 147/150\n",
      "1385/1385 [==============================] - 2s 2ms/step - loss: 5552060928.0000 - mse: 5552060928.0000 - rmse: 74512.1562 - mae: 35332.2578 - val_loss: 5933469184.0000 - val_mse: 5933469184.0000 - val_rmse: 77029.0156 - val_mae: 36007.3242\n",
      "Epoch 148/150\n",
      "1385/1385 [==============================] - 2s 2ms/step - loss: 5536170496.0000 - mse: 5536170496.0000 - rmse: 74405.4453 - mae: 35305.9219 - val_loss: 5957386752.0000 - val_mse: 5957386752.0000 - val_rmse: 77184.1094 - val_mae: 36757.0820\n",
      "Epoch 149/150\n",
      "1385/1385 [==============================] - 2s 2ms/step - loss: 5528520704.0000 - mse: 5528520704.0000 - rmse: 74354.0234 - mae: 35380.7266 - val_loss: 5956549120.0000 - val_mse: 5956549120.0000 - val_rmse: 77178.6797 - val_mae: 35054.8789\n",
      "Epoch 150/150\n",
      "1385/1385 [==============================] - 2s 2ms/step - loss: 5521321984.0000 - mse: 5521321984.0000 - rmse: 74305.6016 - mae: 35226.4102 - val_loss: 5950942720.0000 - val_mse: 5950942720.0000 - val_rmse: 77142.3516 - val_mae: 36326.8203\n"
     ]
    }
   ],
   "source": [
    "history = seq_model.fit(X_train, y_train, validation_data=(X_test, y_test), \n",
    "                        epochs=epochs, batch_size=32)"
   ]
  },
  {
   "cell_type": "code",
   "execution_count": 45,
   "metadata": {},
   "outputs": [
    {
     "data": {
      "image/png": "[encoded data removed]",
      "text/plain": [
       "<Figure size 720x720 with 1 Axes>"
      ]
     },
     "metadata": {
      "needs_background": "light"
     },
     "output_type": "display_data"
    }
   ],
   "source": [
    "plt.figure(figsize=(10,10))\n",
    "plt.plot(history.history['loss'], label='train')\n",
    "plt.plot(history.history['val_loss'], label='val')\n",
    "plt.title('Learning Curves')\n",
    "plt.xlabel('Epoch')\n",
    "plt.ylabel('Cross Entropy')\n",
    "plt.legend()\n",
    "plt.show()"
   ]
  },
  {
   "cell_type": "code",
   "execution_count": 46,
   "metadata": {},
   "outputs": [
    {
     "name": "stdout",
     "output_type": "stream",
     "text": [
      "594/594 [==============================] - 0s 704us/step - loss: 5950942720.0000 - mse: 5950942720.0000 - rmse: 77142.3516 - mae: 36326.8203\n"
     ]
    }
   ],
   "source": [
    "# Evaluation des Regressionsmodells\n",
    "error = seq_model.evaluate(X_test, y_test)"
   ]
  },
  {
   "cell_type": "code",
   "execution_count": 47,
   "metadata": {},
   "outputs": [
    {
     "name": "stdout",
     "output_type": "stream",
     "text": [
      "MSE: 5950942720.000, RMSE: 77142.352, MAE: 36326.820\n"
     ]
    }
   ],
   "source": [
    "print('MSE: %.3f, RMSE: %.3f, MAE: %.3f' % \n",
    "      (error[1], error[2], error[3]))"
   ]
  },
  {
   "cell_type": "code",
   "execution_count": 48,
   "metadata": {},
   "outputs": [
    {
     "data": {
      "text/plain": [
       "Text(0, 0.5, 'predicted values (test data)')"
      ]
     },
     "execution_count": 48,
     "metadata": {},
     "output_type": "execute_result"
    },
    {
     "data": {
      "image/png": "[encoded data removed]",
      "text/plain": [
       "<Figure size 432x288 with 1 Axes>"
      ]
     },
     "metadata": {
      "needs_background": "light"
     },
     "output_type": "display_data"
    }
   ],
   "source": [
    "# Scatter Plot mit den tatsächlichen und den vorhergesagten Daten für die Test Data\n",
    "\n",
    "predictions= seq_model.predict(X_test)\n",
    "plt.plot(y_test, predictions, 'o')\n",
    "plt.xlabel('Actual values (test data)')\n",
    "plt.xticks(rotation=90)\n",
    "plt.ylabel('predicted values (test data)')"
   ]
  },
  {
   "cell_type": "code",
   "execution_count": 49,
   "metadata": {},
   "outputs": [
    {
     "data": {
      "text/plain": [
       "0.6835925744432714"
      ]
     },
     "execution_count": 49,
     "metadata": {},
     "output_type": "execute_result"
    }
   ],
   "source": [
    "# Berechnung des R2-Scores (Bestimmtheitsmaß)\n",
    "r2_seq = r2_score(y_test, predictions)\n",
    "r2_seq"
   ]
  },
  {
   "cell_type": "code",
   "execution_count": 50,
   "metadata": {},
   "outputs": [],
   "source": [
    "# Berechnung des adjustierten R2-Scores (adj. Bestimmtheitsmaß)\n",
    "adj_r2_seq = 1-(1-r2_seq)*((len(X_test)-1)/(len(X_test)-(len(cat)+len(con))))"
   ]
  },
  {
   "cell_type": "code",
   "execution_count": 51,
   "metadata": {
    "scrolled": true
   },
   "outputs": [
    {
     "name": "stdout",
     "output_type": "stream",
     "text": [
      "0,683593 \t 0,683292 \t 77142  \t 5950942720 \t 36327\n"
     ]
    }
   ],
   "source": [
    "print(('%.6f \\t %.6f \\t %.0f  \\t %.0f \\t %.0f' % \n",
    "      (r2_seq, adj_r2_seq, error[2], error[1], error[3])).replace('.', ','))"
   ]
  },
  {
   "cell_type": "code",
   "execution_count": 52,
   "metadata": {},
   "outputs": [
    {
     "data": {
      "text/plain": [
       "Text(0, 0.5, 'predicted values (train data)')"
      ]
     },
     "execution_count": 52,
     "metadata": {},
     "output_type": "execute_result"
    },
    {
     "data": {
      "image/png": "[encoded data removed]",
      "text/plain": [
       "<Figure size 432x288 with 1 Axes>"
      ]
     },
     "metadata": {
      "needs_background": "light"
     },
     "output_type": "display_data"
    }
   ],
   "source": [
    "# Scatter Plot mit den tatsächlichen und den vorhergesagten Daten für die Training Data\n",
    "train_predictions = seq_model.predict(X_train)\n",
    "plt.plot(y_train, train_predictions, 'o')\n",
    "plt.xlabel('Actual values (train data)')\n",
    "plt.xticks(rotation=90)\n",
    "plt.ylabel('predicted values (train data)')"
   ]
  },
  {
   "cell_type": "code",
   "execution_count": 53,
   "metadata": {},
   "outputs": [],
   "source": [
    "predictions = predictions.flatten()"
   ]
  },
  {
   "cell_type": "code",
   "execution_count": 54,
   "metadata": {},
   "outputs": [],
   "source": [
    "train_predictions = train_predictions.flatten()"
   ]
  },
  {
   "cell_type": "code",
   "execution_count": 55,
   "metadata": {},
   "outputs": [
    {
     "data": {
      "image/png": "[encoded data removed]",
      "text/plain": [
       "<Figure size 1440x1152 with 1 Axes>"
      ]
     },
     "metadata": {
      "needs_background": "light"
     },
     "output_type": "display_data"
    }
   ],
   "source": [
    "pred = pd.DataFrame({'Actual': y_test, 'Predicted': predictions})\n",
    "pred1 = pred.sample(50)\n",
    "\n",
    "pred1.plot(kind='bar',figsize=(20,16))\n",
    "plt.grid(which='major', linestyle='-', linewidth='0.5', color='green')\n",
    "plt.grid(which='minor', linestyle=':', linewidth='0.5', color='black')\n",
    "plt.show()"
   ]
  },
  {
   "cell_type": "code",
   "execution_count": 56,
   "metadata": {},
   "outputs": [
    {
     "data": {
      "image/png": "[encoded data removed]",
      "text/plain": [
       "<Figure size 432x288 with 1 Axes>"
      ]
     },
     "metadata": {
      "needs_background": "light"
     },
     "output_type": "display_data"
    }
   ],
   "source": [
    "# Differenzen zwischen vorhergesagten und tatsächlichen Werten\n",
    "plt.scatter(train_predictions, train_predictions - y_train, c='b', s=40, alpha=0.5, label='Train Data')\n",
    "plt.scatter(predictions, predictions - y_test, c='g', s=40, label='Test Data')\n",
    "plt.hlines(y=0, xmin=-0.03, xmax=0.2)\n",
    "plt.title('Residual Plot of Regression')\n",
    "plt.ylabel('Residuals')\n",
    "plt.xlabel('Accident Damage')\n",
    "plt.legend()\n",
    "plt.show()"
   ]
  },
  {
   "cell_type": "markdown",
   "metadata": {},
   "source": [
    "## Functional API Regression Model with Keras"
   ]
  },
  {
   "cell_type": "code",
   "execution_count": 57,
   "metadata": {},
   "outputs": [],
   "source": [
    "x_in = Input(shape=(n_features,))\n",
    "dense = Dense(1024, activation=activation)\n",
    "x = dense(x_in)\n",
    "x = Dropout(dropout)(x)\n",
    "x = Dense(512, activation=activation)(x)\n",
    "#x = Dense(256, activation=activation)(x)\n",
    "#x = Dropout(dropout)(x)\n",
    "#x = Dense(128, activation=activation)(x)\n",
    "#x = Dropout(dropout)(x)\n",
    "#x = Dense(64, activation=activation)(x)\n",
    "#x = Dropout(dropout)(x)\n",
    "x_out = Dense(1)(x)\n",
    "func_model = Model(inputs=x_in, outputs=x_out)"
   ]
  },
  {
   "cell_type": "code",
   "execution_count": 58,
   "metadata": {},
   "outputs": [
    {
     "name": "stdout",
     "output_type": "stream",
     "text": [
      "Model: \"model\"\n",
      "_________________________________________________________________\n",
      "Layer (type)                 Output Shape              Param #   \n",
      "=================================================================\n",
      "input_1 (InputLayer)         [(None, 47)]              0         \n",
      "_________________________________________________________________\n",
      "dense_3 (Dense)              (None, 1024)              49152     \n",
      "_________________________________________________________________\n",
      "dropout_1 (Dropout)          (None, 1024)              0         \n",
      "_________________________________________________________________\n",
      "dense_4 (Dense)              (None, 512)               524800    \n",
      "_________________________________________________________________\n",
      "dense_5 (Dense)              (None, 1)                 513       \n",
      "=================================================================\n",
      "Total params: 574,465\n",
      "Trainable params: 574,465\n",
      "Non-trainable params: 0\n",
      "_________________________________________________________________\n"
     ]
    }
   ],
   "source": [
    "func_model.summary()"
   ]
  },
  {
   "cell_type": "code",
   "execution_count": 59,
   "metadata": {},
   "outputs": [
    {
     "data": {
      "image/png": "[encoded data removed]",
      "text/plain": [
       "<IPython.core.display.Image object>"
      ]
     },
     "execution_count": 59,
     "metadata": {},
     "output_type": "execute_result"
    }
   ],
   "source": [
    "plot_model(func_model, 'Images/Functional API Regression Model.png', show_shapes=True)"
   ]
  },
  {
   "cell_type": "code",
   "execution_count": 60,
   "metadata": {},
   "outputs": [],
   "source": [
    "func_model.compile(optimizer=opt, loss='mse', metrics=metrics)"
   ]
  },
  {
   "cell_type": "code",
   "execution_count": 61,
   "metadata": {},
   "outputs": [],
   "source": [
    "es = EarlyStopping(monitor='val_loss', patience=5)"
   ]
  },
  {
   "cell_type": "code",
   "execution_count": null,
   "metadata": {
    "scrolled": true
   },
   "outputs": [
    {
     "name": "stdout",
     "output_type": "stream",
     "text": [
      "Epoch 1/150\n",
      "1385/1385 [==============================] - 6s 4ms/step - loss: 8973685760.0000 - mse: 8973685760.0000 - rmse: 89815.6250 - mae: 44677.9531 - val_loss: 6781975552.0000 - val_mse: 6781975552.0000 - val_rmse: 82352.7500 - val_mae: 40131.5586\n",
      "Epoch 2/150\n",
      "1385/1385 [==============================] - 6s 4ms/step - loss: 6867386880.0000 - mse: 6867386880.0000 - rmse: 82869.6953 - mae: 38867.7656 - val_loss: 6484096512.0000 - val_mse: 6484096512.0000 - val_rmse: 80523.8906 - val_mae: 37538.9570\n",
      "Epoch 3/150\n",
      "1385/1385 [==============================] - 6s 4ms/step - loss: 6690936320.0000 - mse: 6690936320.0000 - rmse: 81798.1406 - mae: 38267.4297 - val_loss: 6424044032.0000 - val_mse: 6424044032.0000 - val_rmse: 80150.1328 - val_mae: 37751.2461\n",
      "Epoch 4/150\n",
      "1385/1385 [==============================] - 6s 4ms/step - loss: 6603603968.0000 - mse: 6603603968.0000 - rmse: 81262.5625 - mae: 38082.4648 - val_loss: 6401800192.0000 - val_mse: 6401800192.0000 - val_rmse: 80011.2500 - val_mae: 37611.1992\n",
      "Epoch 5/150\n",
      "1385/1385 [==============================] - 6s 5ms/step - loss: 6565293568.0000 - mse: 6565293568.0000 - rmse: 81026.5000 - mae: 37844.4336 - val_loss: 6398034944.0000 - val_mse: 6398034944.0000 - val_rmse: 79987.7188 - val_mae: 37651.4414\n",
      "Epoch 6/150\n",
      "1385/1385 [==============================] - 6s 4ms/step - loss: 6518573056.0000 - mse: 6518573056.0000 - rmse: 80737.6797 - mae: 37735.4219 - val_loss: 6372142080.0000 - val_mse: 6372142080.0000 - val_rmse: 79825.6953 - val_mae: 37566.2148\n",
      "Epoch 7/150\n",
      "1385/1385 [==============================] - 6s 4ms/step - loss: 6500754432.0000 - mse: 6500754432.0000 - rmse: 80627.2578 - mae: 37679.0000 - val_loss: 6341342720.0000 - val_mse: 6341342720.0000 - val_rmse: 79632.5469 - val_mae: 37609.5664\n",
      "Epoch 8/150\n",
      "1385/1385 [==============================] - 6s 4ms/step - loss: 6465210880.0000 - mse: 6465210880.0000 - rmse: 80406.5312 - mae: 37586.9180 - val_loss: 6334861312.0000 - val_mse: 6334861312.0000 - val_rmse: 79591.8438 - val_mae: 37198.4922\n",
      "Epoch 9/150\n",
      "1385/1385 [==============================] - 6s 4ms/step - loss: 6442288640.0000 - mse: 6442288640.0000 - rmse: 80263.8672 - mae: 37472.2812 - val_loss: 6297260544.0000 - val_mse: 6297260544.0000 - val_rmse: 79355.2812 - val_mae: 37424.9844\n",
      "Epoch 10/150\n",
      "1385/1385 [==============================] - 6s 4ms/step - loss: 6408481280.0000 - mse: 6408481280.0000 - rmse: 80052.9922 - mae: 37374.8477 - val_loss: 6354732544.0000 - val_mse: 6354732544.0000 - val_rmse: 79716.5781 - val_mae: 38588.8125\n",
      "Epoch 11/150\n",
      "1385/1385 [==============================] - 6s 4ms/step - loss: 6378129920.0000 - mse: 6378129920.0000 - rmse: 79863.1953 - mae: 37385.4766 - val_loss: 6233287168.0000 - val_mse: 6233287168.0000 - val_rmse: 78951.1719 - val_mae: 36624.3945\n",
      "Epoch 12/150\n",
      "1385/1385 [==============================] - 6s 4ms/step - loss: 6367034368.0000 - mse: 6367034368.0000 - rmse: 79793.6953 - mae: 37253.9453 - val_loss: 6214063104.0000 - val_mse: 6214063104.0000 - val_rmse: 78829.3281 - val_mae: 36908.4883\n",
      "Epoch 13/150\n",
      "1385/1385 [==============================] - 6s 4ms/step - loss: 6335756800.0000 - mse: 6335756800.0000 - rmse: 79597.4688 - mae: 37208.7383 - val_loss: 6200013312.0000 - val_mse: 6200013312.0000 - val_rmse: 78740.1641 - val_mae: 36249.9414\n",
      "Epoch 14/150\n",
      "1385/1385 [==============================] - 6s 4ms/step - loss: 6311497216.0000 - mse: 6311497216.0000 - rmse: 79444.9297 - mae: 37070.9258 - val_loss: 6170183168.0000 - val_mse: 6170183168.0000 - val_rmse: 78550.5156 - val_mae: 37251.4609\n",
      "Epoch 15/150\n",
      "1385/1385 [==============================] - 6s 4ms/step - loss: 6273483264.0000 - mse: 6273483264.0000 - rmse: 79205.3203 - mae: 37059.6328 - val_loss: 6219019264.0000 - val_mse: 6219019264.0000 - val_rmse: 78860.7578 - val_mae: 37582.7578\n",
      "Epoch 16/150\n",
      "1385/1385 [==============================] - 6s 4ms/step - loss: 6277430272.0000 - mse: 6277430272.0000 - rmse: 79230.2344 - mae: 37055.2539 - val_loss: 6134203392.0000 - val_mse: 6134203392.0000 - val_rmse: 78321.1562 - val_mae: 36865.5039\n",
      "Epoch 17/150\n",
      "1385/1385 [==============================] - 6s 4ms/step - loss: 6251966976.0000 - mse: 6251966976.0000 - rmse: 79069.3828 - mae: 36985.9180 - val_loss: 6116697600.0000 - val_mse: 6116697600.0000 - val_rmse: 78209.3203 - val_mae: 36418.5352\n",
      "Epoch 18/150\n",
      "1385/1385 [==============================] - 6s 4ms/step - loss: 6227963392.0000 - mse: 6227963392.0000 - rmse: 78917.4453 - mae: 36942.1875 - val_loss: 6186221056.0000 - val_mse: 6186221056.0000 - val_rmse: 78652.5312 - val_mae: 37408.6211\n",
      "Epoch 19/150\n",
      "1385/1385 [==============================] - 6s 4ms/step - loss: 6229043200.0000 - mse: 6229043200.0000 - rmse: 78924.2891 - mae: 36904.5547 - val_loss: 6106570240.0000 - val_mse: 6106570240.0000 - val_rmse: 78144.5469 - val_mae: 36853.9336\n",
      "Epoch 20/150\n",
      "1385/1385 [==============================] - 6s 4ms/step - loss: 6204673024.0000 - mse: 6204673024.0000 - rmse: 78769.7500 - mae: 36851.1797 - val_loss: 6099062272.0000 - val_mse: 6099062272.0000 - val_rmse: 78096.4922 - val_mae: 36310.8242\n",
      "Epoch 21/150\n",
      "1385/1385 [==============================] - 6s 4ms/step - loss: 6195549696.0000 - mse: 6195549696.0000 - rmse: 78711.8125 - mae: 36807.0273 - val_loss: 6070570496.0000 - val_mse: 6070570496.0000 - val_rmse: 77913.8672 - val_mae: 37172.0234\n",
      "Epoch 22/150\n",
      "1385/1385 [==============================] - 6s 4ms/step - loss: 6178739712.0000 - mse: 6178739712.0000 - rmse: 78604.9609 - mae: 36815.6641 - val_loss: 6077326848.0000 - val_mse: 6077326848.0000 - val_rmse: 77957.2109 - val_mae: 37158.3281\n",
      "Epoch 23/150\n",
      "1385/1385 [==============================] - 6s 4ms/step - loss: 6174299136.0000 - mse: 6174299136.0000 - rmse: 78576.7109 - mae: 36782.7188 - val_loss: 6070600704.0000 - val_mse: 6070600704.0000 - val_rmse: 77914.0625 - val_mae: 36276.7695\n",
      "Epoch 24/150\n",
      "1385/1385 [==============================] - 6s 4ms/step - loss: 6156323328.0000 - mse: 6156323328.0000 - rmse: 78462.2422 - mae: 36720.0234 - val_loss: 6059765760.0000 - val_mse: 6059765760.0000 - val_rmse: 77844.5000 - val_mae: 37113.0234\n",
      "Epoch 25/150\n",
      "1385/1385 [==============================] - 6s 4ms/step - loss: 6146135040.0000 - mse: 6146135040.0000 - rmse: 78397.2891 - mae: 36722.3008 - val_loss: 6076712448.0000 - val_mse: 6076712448.0000 - val_rmse: 77953.2734 - val_mae: 37421.9375\n",
      "Epoch 26/150\n",
      "1385/1385 [==============================] - 6s 4ms/step - loss: 6140331520.0000 - mse: 6140331520.0000 - rmse: 78360.2656 - mae: 36751.1992 - val_loss: 6054818304.0000 - val_mse: 6054818304.0000 - val_rmse: 77812.7109 - val_mae: 35976.7500\n",
      "Epoch 27/150\n",
      "1385/1385 [==============================] - 6s 4ms/step - loss: 6139474944.0000 - mse: 6139474944.0000 - rmse: 78354.8047 - mae: 36698.5273 - val_loss: 6049835008.0000 - val_mse: 6049835008.0000 - val_rmse: 77780.6875 - val_mae: 35882.4727\n",
      "Epoch 28/150\n",
      "1385/1385 [==============================] - 6s 4ms/step - loss: 6117887488.0000 - mse: 6117887488.0000 - rmse: 78216.9297 - mae: 36625.5000 - val_loss: 6039857664.0000 - val_mse: 6039857664.0000 - val_rmse: 77716.5234 - val_mae: 36414.4492\n",
      "Epoch 29/150\n",
      "1385/1385 [==============================] - 6s 4ms/step - loss: 6124948992.0000 - mse: 6124948992.0000 - rmse: 78262.0547 - mae: 36656.3359 - val_loss: 6034253312.0000 - val_mse: 6034253312.0000 - val_rmse: 77680.4531 - val_mae: 36409.1445\n",
      "Epoch 30/150\n",
      "1385/1385 [==============================] - 6s 4ms/step - loss: 6098602496.0000 - mse: 6098602496.0000 - rmse: 78093.5469 - mae: 36570.4062 - val_loss: 6046095360.0000 - val_mse: 6046095360.0000 - val_rmse: 77756.6406 - val_mae: 36744.2500\n",
      "Epoch 31/150\n",
      "1385/1385 [==============================] - 6s 4ms/step - loss: 6078851584.0000 - mse: 6078851584.0000 - rmse: 77966.9922 - mae: 36574.1602 - val_loss: 6105521152.0000 - val_mse: 6105521152.0000 - val_rmse: 78137.8359 - val_mae: 36019.2383\n",
      "Epoch 32/150\n",
      "1385/1385 [==============================] - 6s 4ms/step - loss: 6083662848.0000 - mse: 6083662848.0000 - rmse: 77997.8359 - mae: 36573.4609 - val_loss: 6017105920.0000 - val_mse: 6017105920.0000 - val_rmse: 77570.0078 - val_mae: 36540.9336\n",
      "Epoch 33/150\n"
     ]
    },
    {
     "name": "stdout",
     "output_type": "stream",
     "text": [
      "1385/1385 [==============================] - 6s 4ms/step - loss: 6074715648.0000 - mse: 6074715648.0000 - rmse: 77940.4609 - mae: 36551.6289 - val_loss: 6030956032.0000 - val_mse: 6030956032.0000 - val_rmse: 77659.2266 - val_mae: 36106.1953\n",
      "Epoch 34/150\n",
      "1385/1385 [==============================] - 6s 4ms/step - loss: 6067170304.0000 - mse: 6067170304.0000 - rmse: 77892.0391 - mae: 36533.5234 - val_loss: 6050484736.0000 - val_mse: 6050484736.0000 - val_rmse: 77784.8594 - val_mae: 35832.0664\n",
      "Epoch 35/150\n",
      "1385/1385 [==============================] - 6s 4ms/step - loss: 6041096704.0000 - mse: 6041096704.0000 - rmse: 77724.4922 - mae: 36513.2109 - val_loss: 6027042816.0000 - val_mse: 6027042816.0000 - val_rmse: 77634.0312 - val_mae: 36166.4492\n",
      "Epoch 36/150\n",
      "1385/1385 [==============================] - 6s 4ms/step - loss: 6059227136.0000 - mse: 6059227136.0000 - rmse: 77841.0391 - mae: 36455.9648 - val_loss: 6013867008.0000 - val_mse: 6013867008.0000 - val_rmse: 77549.1250 - val_mae: 36006.4297\n",
      "Epoch 37/150\n",
      "1385/1385 [==============================] - 6s 4ms/step - loss: 6041451520.0000 - mse: 6041451520.0000 - rmse: 77726.7734 - mae: 36424.9023 - val_loss: 6033349632.0000 - val_mse: 6033349632.0000 - val_rmse: 77674.6406 - val_mae: 36370.8125\n",
      "Epoch 38/150\n",
      "1385/1385 [==============================] - 5s 4ms/step - loss: 6039304192.0000 - mse: 6039304192.0000 - rmse: 77712.9609 - mae: 36469.5273 - val_loss: 6021277184.0000 - val_mse: 6021277184.0000 - val_rmse: 77596.8906 - val_mae: 36410.0898\n",
      "Epoch 39/150\n",
      "1385/1385 [==============================] - 6s 4ms/step - loss: 6021805568.0000 - mse: 6021805568.0000 - rmse: 77600.2969 - mae: 36416.6758 - val_loss: 6034884096.0000 - val_mse: 6034884096.0000 - val_rmse: 77684.5156 - val_mae: 36024.8359\n",
      "Epoch 40/150\n",
      "1385/1385 [==============================] - 6s 4ms/step - loss: 6019521024.0000 - mse: 6019521024.0000 - rmse: 77585.5703 - mae: 36412.3906 - val_loss: 6073751040.0000 - val_mse: 6073751040.0000 - val_rmse: 77934.2734 - val_mae: 37416.3555\n",
      "Epoch 41/150\n",
      "1385/1385 [==============================] - 6s 4ms/step - loss: 6012783616.0000 - mse: 6012783616.0000 - rmse: 77542.1406 - mae: 36416.6172 - val_loss: 6020044800.0000 - val_mse: 6020044800.0000 - val_rmse: 77588.9453 - val_mae: 36497.8789\n",
      "Epoch 42/150\n",
      "1385/1385 [==============================] - 6s 4ms/step - loss: 6022865408.0000 - mse: 6022865408.0000 - rmse: 77607.1250 - mae: 36453.8789 - val_loss: 6025849856.0000 - val_mse: 6025849856.0000 - val_rmse: 77626.3516 - val_mae: 35898.8672\n",
      "Epoch 43/150\n",
      "1385/1385 [==============================] - 6s 4ms/step - loss: 5993254912.0000 - mse: 5993254912.0000 - rmse: 77416.1172 - mae: 36352.8281 - val_loss: 6052582400.0000 - val_mse: 6052582400.0000 - val_rmse: 77798.3438 - val_mae: 35874.0586\n",
      "Epoch 44/150\n",
      "1385/1385 [==============================] - 6s 4ms/step - loss: 5989102592.0000 - mse: 5989102592.0000 - rmse: 77389.2891 - mae: 36353.5820 - val_loss: 6024105472.0000 - val_mse: 6024105472.0000 - val_rmse: 77615.1094 - val_mae: 36580.7070\n",
      "Epoch 45/150\n",
      "1385/1385 [==============================] - 6s 4ms/step - loss: 5983147008.0000 - mse: 5983147008.0000 - rmse: 77350.8047 - mae: 36338.8477 - val_loss: 6007959552.0000 - val_mse: 6007959552.0000 - val_rmse: 77511.0312 - val_mae: 36144.8750\n",
      "Epoch 46/150\n",
      "1385/1385 [==============================] - 6s 4ms/step - loss: 5986845696.0000 - mse: 5986845696.0000 - rmse: 77374.7109 - mae: 36321.1055 - val_loss: 6016950784.0000 - val_mse: 6016950784.0000 - val_rmse: 77569.0078 - val_mae: 36195.2344\n",
      "Epoch 47/150\n",
      "1385/1385 [==============================] - 6s 4ms/step - loss: 5975730176.0000 - mse: 5975730176.0000 - rmse: 77302.8438 - mae: 36349.1758 - val_loss: 6013846528.0000 - val_mse: 6013846528.0000 - val_rmse: 77548.9922 - val_mae: 36018.1836\n",
      "Epoch 48/150\n",
      "1385/1385 [==============================] - 6s 4ms/step - loss: 5976195584.0000 - mse: 5976195584.0000 - rmse: 77305.8594 - mae: 36310.6133 - val_loss: 6024821248.0000 - val_mse: 6024821248.0000 - val_rmse: 77619.7188 - val_mae: 36241.5625\n",
      "Epoch 49/150\n",
      "1385/1385 [==============================] - 6s 4ms/step - loss: 5966898176.0000 - mse: 5966898176.0000 - rmse: 77245.7031 - mae: 36363.3438 - val_loss: 6021115392.0000 - val_mse: 6021115392.0000 - val_rmse: 77595.8438 - val_mae: 35593.3906\n",
      "Epoch 50/150\n",
      "1385/1385 [==============================] - 6s 4ms/step - loss: 5956060672.0000 - mse: 5956060672.0000 - rmse: 77175.5156 - mae: 36224.2148 - val_loss: 6020332544.0000 - val_mse: 6020332544.0000 - val_rmse: 77590.8047 - val_mae: 35975.9531\n",
      "Epoch 51/150\n",
      "1385/1385 [==============================] - 6s 4ms/step - loss: 5954393088.0000 - mse: 5954393088.0000 - rmse: 77164.7109 - mae: 36251.5391 - val_loss: 6013033472.0000 - val_mse: 6013033472.0000 - val_rmse: 77543.7500 - val_mae: 36951.6562\n",
      "Epoch 52/150\n",
      "1385/1385 [==============================] - 6s 4ms/step - loss: 5943285248.0000 - mse: 5943285248.0000 - rmse: 77092.7031 - mae: 36318.6016 - val_loss: 6008706048.0000 - val_mse: 6008706048.0000 - val_rmse: 77515.8438 - val_mae: 35945.7227\n",
      "Epoch 53/150\n",
      "1385/1385 [==============================] - 6s 4ms/step - loss: 5940684288.0000 - mse: 5940684288.0000 - rmse: 77075.8359 - mae: 36260.5430 - val_loss: 6039389696.0000 - val_mse: 6039389696.0000 - val_rmse: 77713.5078 - val_mae: 36669.4883\n",
      "Epoch 54/150\n",
      "1385/1385 [==============================] - 6s 4ms/step - loss: 5930609152.0000 - mse: 5930609152.0000 - rmse: 77010.4453 - mae: 36286.5547 - val_loss: 6069534720.0000 - val_mse: 6069534720.0000 - val_rmse: 77907.2188 - val_mae: 37094.8320\n",
      "Epoch 55/150\n",
      "1385/1385 [==============================] - 6s 4ms/step - loss: 5932044288.0000 - mse: 5932044288.0000 - rmse: 77019.7656 - mae: 36189.3672 - val_loss: 6002867712.0000 - val_mse: 6002867712.0000 - val_rmse: 77478.1719 - val_mae: 36235.3281\n",
      "Epoch 56/150\n",
      "1385/1385 [==============================] - 6s 4ms/step - loss: 5920260096.0000 - mse: 5920260096.0000 - rmse: 76943.2266 - mae: 36231.5352 - val_loss: 6036781568.0000 - val_mse: 6036781568.0000 - val_rmse: 77696.7266 - val_mae: 36187.5859\n",
      "Epoch 57/150\n",
      "1385/1385 [==============================] - 6s 4ms/step - loss: 5931313664.0000 - mse: 5931313664.0000 - rmse: 77015.0234 - mae: 36220.7383 - val_loss: 6059175936.0000 - val_mse: 6059175936.0000 - val_rmse: 77840.7109 - val_mae: 37267.9180\n",
      "Epoch 58/150\n",
      "1385/1385 [==============================] - 6s 4ms/step - loss: 5910459392.0000 - mse: 5910459392.0000 - rmse: 76879.5156 - mae: 36217.2109 - val_loss: 6045269504.0000 - val_mse: 6045269504.0000 - val_rmse: 77751.3281 - val_mae: 35971.7969\n",
      "Epoch 59/150\n",
      "1385/1385 [==============================] - 6s 4ms/step - loss: 5914931712.0000 - mse: 5914931712.0000 - rmse: 76908.5938 - mae: 36212.1445 - val_loss: 6011895808.0000 - val_mse: 6011895808.0000 - val_rmse: 77536.4141 - val_mae: 35826.9531\n",
      "Epoch 60/150\n",
      "1385/1385 [==============================] - 6s 4ms/step - loss: 5911803392.0000 - mse: 5911803392.0000 - rmse: 76888.2500 - mae: 36193.8789 - val_loss: 6043536896.0000 - val_mse: 6043536896.0000 - val_rmse: 77740.1875 - val_mae: 37150.0547\n",
      "Epoch 61/150\n",
      "1385/1385 [==============================] - 6s 4ms/step - loss: 5896369152.0000 - mse: 5896369152.0000 - rmse: 76787.8203 - mae: 36202.4844 - val_loss: 5992463360.0000 - val_mse: 5992463360.0000 - val_rmse: 77411.0000 - val_mae: 36039.8633\n",
      "Epoch 62/150\n",
      "1385/1385 [==============================] - 6s 4ms/step - loss: 5892699136.0000 - mse: 5892699136.0000 - rmse: 76763.9219 - mae: 36146.9727 - val_loss: 6023417856.0000 - val_mse: 6023417856.0000 - val_rmse: 77610.6797 - val_mae: 36147.6641\n",
      "Epoch 63/150\n",
      "1385/1385 [==============================] - 6s 4ms/step - loss: 5881684480.0000 - mse: 5881684480.0000 - rmse: 76692.1406 - mae: 36146.8320 - val_loss: 5992036864.0000 - val_mse: 5992036864.0000 - val_rmse: 77408.2500 - val_mae: 36355.7109\n",
      "Epoch 64/150\n",
      "1385/1385 [==============================] - 6s 4ms/step - loss: 5888042496.0000 - mse: 5888042496.0000 - rmse: 76733.5781 - mae: 36164.0586 - val_loss: 6062874624.0000 - val_mse: 6062874624.0000 - val_rmse: 77864.4609 - val_mae: 35790.9141\n",
      "Epoch 65/150\n"
     ]
    },
    {
     "name": "stdout",
     "output_type": "stream",
     "text": [
      "1385/1385 [==============================] - 6s 4ms/step - loss: 5879934976.0000 - mse: 5879934976.0000 - rmse: 76680.7344 - mae: 36147.4062 - val_loss: 6046007296.0000 - val_mse: 6046007296.0000 - val_rmse: 77756.0781 - val_mae: 36778.8867\n",
      "Epoch 66/150\n",
      "1385/1385 [==============================] - 6s 4ms/step - loss: 5879914496.0000 - mse: 5879914496.0000 - rmse: 76680.6016 - mae: 36154.8281 - val_loss: 6013698048.0000 - val_mse: 6013698048.0000 - val_rmse: 77548.0391 - val_mae: 36483.6289\n",
      "Epoch 67/150\n",
      "1385/1385 [==============================] - 6s 4ms/step - loss: 5874526720.0000 - mse: 5874526720.0000 - rmse: 76645.4609 - mae: 36142.7344 - val_loss: 6026588160.0000 - val_mse: 6026588160.0000 - val_rmse: 77631.1016 - val_mae: 36541.2266\n",
      "Epoch 68/150\n",
      "1385/1385 [==============================] - 6s 4ms/step - loss: 5866720256.0000 - mse: 5866720256.0000 - rmse: 76594.5156 - mae: 36144.6680 - val_loss: 6022707200.0000 - val_mse: 6022707200.0000 - val_rmse: 77606.1016 - val_mae: 35616.5195\n",
      "Epoch 69/150\n",
      "1385/1385 [==============================] - 6s 4ms/step - loss: 5862332416.0000 - mse: 5862332416.0000 - rmse: 76565.8672 - mae: 36069.0078 - val_loss: 6049900544.0000 - val_mse: 6049900544.0000 - val_rmse: 77781.1094 - val_mae: 36779.9648\n",
      "Epoch 70/150\n",
      "1385/1385 [==============================] - 6s 4ms/step - loss: 5860753408.0000 - mse: 5860753408.0000 - rmse: 76555.5547 - mae: 36129.7969 - val_loss: 6110124544.0000 - val_mse: 6110124544.0000 - val_rmse: 78167.2891 - val_mae: 37329.2070\n",
      "Epoch 71/150\n",
      "1385/1385 [==============================] - 6s 4ms/step - loss: 5865274880.0000 - mse: 5865274880.0000 - rmse: 76585.0859 - mae: 36092.1914 - val_loss: 6017979904.0000 - val_mse: 6017979904.0000 - val_rmse: 77575.6406 - val_mae: 36330.0508\n",
      "Epoch 72/150\n",
      "1385/1385 [==============================] - 6s 4ms/step - loss: 5851468800.0000 - mse: 5851468800.0000 - rmse: 76494.8906 - mae: 36093.7852 - val_loss: 6015624192.0000 - val_mse: 6015624192.0000 - val_rmse: 77560.4531 - val_mae: 36479.0273\n",
      "Epoch 73/150\n",
      "1385/1385 [==============================] - 6s 4ms/step - loss: 5842084352.0000 - mse: 5842084352.0000 - rmse: 76433.5312 - mae: 36086.7461 - val_loss: 6019612160.0000 - val_mse: 6019612160.0000 - val_rmse: 77586.1562 - val_mae: 36556.6641\n",
      "Epoch 74/150\n",
      "1385/1385 [==============================] - 6s 4ms/step - loss: 5841001472.0000 - mse: 5841001472.0000 - rmse: 76426.4453 - mae: 36070.1680 - val_loss: 6017701888.0000 - val_mse: 6017701888.0000 - val_rmse: 77573.8516 - val_mae: 36912.4531\n",
      "Epoch 75/150\n",
      "1385/1385 [==============================] - 6s 4ms/step - loss: 5824347136.0000 - mse: 5824347136.0000 - rmse: 76317.4141 - mae: 36068.5820 - val_loss: 6146473472.0000 - val_mse: 6146473472.0000 - val_rmse: 78399.4453 - val_mae: 37406.2031\n",
      "Epoch 76/150\n",
      "1385/1385 [==============================] - 6s 4ms/step - loss: 5838277632.0000 - mse: 5838277632.0000 - rmse: 76408.6250 - mae: 36109.1562 - val_loss: 6074535424.0000 - val_mse: 6074535424.0000 - val_rmse: 77939.3047 - val_mae: 35428.3008\n",
      "Epoch 77/150\n",
      "1385/1385 [==============================] - 6s 4ms/step - loss: 5807335936.0000 - mse: 5807335936.0000 - rmse: 76205.8750 - mae: 36003.2188 - val_loss: 6082238976.0000 - val_mse: 6082238976.0000 - val_rmse: 77988.7109 - val_mae: 37467.8047\n",
      "Epoch 78/150\n",
      "1385/1385 [==============================] - 6s 4ms/step - loss: 5842216960.0000 - mse: 5842216960.0000 - rmse: 76434.3984 - mae: 36067.1250 - val_loss: 6039787008.0000 - val_mse: 6039787008.0000 - val_rmse: 77716.0703 - val_mae: 36115.0625\n",
      "Epoch 79/150\n",
      "1385/1385 [==============================] - 6s 4ms/step - loss: 5812742144.0000 - mse: 5812742144.0000 - rmse: 76241.3438 - mae: 36017.4336 - val_loss: 6018028544.0000 - val_mse: 6018028544.0000 - val_rmse: 77575.9531 - val_mae: 36866.5352\n",
      "Epoch 80/150\n",
      "1385/1385 [==============================] - 6s 4ms/step - loss: 5809633280.0000 - mse: 5809633280.0000 - rmse: 76220.9531 - mae: 36064.0156 - val_loss: 6026806784.0000 - val_mse: 6026806784.0000 - val_rmse: 77632.5078 - val_mae: 35943.5977\n",
      "Epoch 81/150\n",
      "1385/1385 [==============================] - 6s 4ms/step - loss: 5816714240.0000 - mse: 5816714240.0000 - rmse: 76267.3828 - mae: 36031.2344 - val_loss: 6033360384.0000 - val_mse: 6033360384.0000 - val_rmse: 77674.7109 - val_mae: 36083.2422\n",
      "Epoch 82/150\n",
      "1385/1385 [==============================] - 6s 4ms/step - loss: 5794693632.0000 - mse: 5794693632.0000 - rmse: 76122.8828 - mae: 36010.1406 - val_loss: 6016891392.0000 - val_mse: 6016891392.0000 - val_rmse: 77568.6250 - val_mae: 36059.2812\n",
      "Epoch 83/150\n",
      "1385/1385 [==============================] - 6s 4ms/step - loss: 5798471680.0000 - mse: 5798471680.0000 - rmse: 76147.6953 - mae: 35947.1133 - val_loss: 6034875904.0000 - val_mse: 6034875904.0000 - val_rmse: 77684.4609 - val_mae: 36138.9570\n",
      "Epoch 84/150\n",
      "1385/1385 [==============================] - 6s 4ms/step - loss: 5791428096.0000 - mse: 5791428096.0000 - rmse: 76101.4297 - mae: 36048.8242 - val_loss: 6031638016.0000 - val_mse: 6031638016.0000 - val_rmse: 77663.6172 - val_mae: 35796.9805\n",
      "Epoch 85/150\n",
      "1385/1385 [==============================] - 6s 4ms/step - loss: 5789871616.0000 - mse: 5789871616.0000 - rmse: 76091.2031 - mae: 35960.4648 - val_loss: 6017619968.0000 - val_mse: 6017619968.0000 - val_rmse: 77573.3203 - val_mae: 36031.1875\n",
      "Epoch 86/150\n",
      "1385/1385 [==============================] - 6s 4ms/step - loss: 5776581120.0000 - mse: 5776581120.0000 - rmse: 76003.8203 - mae: 35947.7109 - val_loss: 6020183552.0000 - val_mse: 6020183552.0000 - val_rmse: 77589.8438 - val_mae: 35904.1367\n",
      "Epoch 87/150\n",
      "1385/1385 [==============================] - 6s 4ms/step - loss: 5770199040.0000 - mse: 5770199040.0000 - rmse: 75961.8281 - mae: 35938.1758 - val_loss: 6034157568.0000 - val_mse: 6034157568.0000 - val_rmse: 77679.8438 - val_mae: 35841.6875\n",
      "Epoch 88/150\n",
      "1385/1385 [==============================] - 6s 4ms/step - loss: 5770414080.0000 - mse: 5770414080.0000 - rmse: 75963.2422 - mae: 35887.3086 - val_loss: 6017889792.0000 - val_mse: 6017889792.0000 - val_rmse: 77575.0625 - val_mae: 36841.0000\n",
      "Epoch 89/150\n",
      "1385/1385 [==============================] - 6s 4ms/step - loss: 5758014976.0000 - mse: 5758014976.0000 - rmse: 75881.5859 - mae: 35908.6094 - val_loss: 6022055936.0000 - val_mse: 6022055936.0000 - val_rmse: 77601.9062 - val_mae: 36392.6367\n",
      "Epoch 90/150\n",
      "1385/1385 [==============================] - 6s 4ms/step - loss: 5750423552.0000 - mse: 5750423552.0000 - rmse: 75831.5469 - mae: 35945.8125 - val_loss: 6029198848.0000 - val_mse: 6029198848.0000 - val_rmse: 77647.9141 - val_mae: 35756.5117\n",
      "Epoch 91/150\n",
      "1385/1385 [==============================] - 6s 4ms/step - loss: 5747804672.0000 - mse: 5747804672.0000 - rmse: 75814.2812 - mae: 35869.6328 - val_loss: 6035304960.0000 - val_mse: 6035304960.0000 - val_rmse: 77687.2266 - val_mae: 35918.7578\n",
      "Epoch 92/150\n",
      "1385/1385 [==============================] - 6s 4ms/step - loss: 5735500800.0000 - mse: 5735500800.0000 - rmse: 75733.0859 - mae: 35827.5469 - val_loss: 6020998144.0000 - val_mse: 6020998144.0000 - val_rmse: 77595.0938 - val_mae: 36132.8125\n",
      "Epoch 93/150\n",
      "1385/1385 [==============================] - 6s 4ms/step - loss: 5725901824.0000 - mse: 5725901824.0000 - rmse: 75669.6875 - mae: 35765.7891 - val_loss: 6000754688.0000 - val_mse: 6000754688.0000 - val_rmse: 77464.5391 - val_mae: 36002.6953\n",
      "Epoch 94/150\n",
      "1385/1385 [==============================] - 6s 4ms/step - loss: 5714131968.0000 - mse: 5714131968.0000 - rmse: 75591.8750 - mae: 35816.9844 - val_loss: 6051615744.0000 - val_mse: 6051615744.0000 - val_rmse: 77792.1328 - val_mae: 36659.6484\n",
      "Epoch 95/150\n",
      "1385/1385 [==============================] - 6s 4ms/step - loss: 5701503488.0000 - mse: 5701503488.0000 - rmse: 75508.3047 - mae: 35742.5742 - val_loss: 6017613824.0000 - val_mse: 6017613824.0000 - val_rmse: 77573.2812 - val_mae: 36200.1328\n",
      "Epoch 96/150\n",
      "1385/1385 [==============================] - 6s 4ms/step - loss: 5703596544.0000 - mse: 5703596544.0000 - rmse: 75522.1562 - mae: 35746.9180 - val_loss: 5989876736.0000 - val_mse: 5989876736.0000 - val_rmse: 77394.2969 - val_mae: 36127.2734\n",
      "Epoch 97/150\n"
     ]
    },
    {
     "name": "stdout",
     "output_type": "stream",
     "text": [
      "1385/1385 [==============================] - 6s 4ms/step - loss: 5675808256.0000 - mse: 5675808256.0000 - rmse: 75337.9609 - mae: 35673.1172 - val_loss: 6031899648.0000 - val_mse: 6031899648.0000 - val_rmse: 77665.3047 - val_mae: 35862.7852\n",
      "Epoch 98/150\n",
      "1385/1385 [==============================] - 6s 4ms/step - loss: 5684995584.0000 - mse: 5684995584.0000 - rmse: 75398.9062 - mae: 35698.2148 - val_loss: 6016955904.0000 - val_mse: 6016955904.0000 - val_rmse: 77569.0391 - val_mae: 36890.3242\n",
      "Epoch 99/150\n",
      "1385/1385 [==============================] - 6s 4ms/step - loss: 5656944640.0000 - mse: 5656944640.0000 - rmse: 75212.6641 - mae: 35650.4102 - val_loss: 6019282944.0000 - val_mse: 6019282944.0000 - val_rmse: 77584.0391 - val_mae: 35935.6680\n",
      "Epoch 100/150\n",
      "1385/1385 [==============================] - 6s 4ms/step - loss: 5661919232.0000 - mse: 5661919232.0000 - rmse: 75245.7266 - mae: 35620.5234 - val_loss: 6003176960.0000 - val_mse: 6003176960.0000 - val_rmse: 77480.1719 - val_mae: 36563.3867\n",
      "Epoch 101/150\n",
      "1385/1385 [==============================] - 6s 4ms/step - loss: 5642630656.0000 - mse: 5642630656.0000 - rmse: 75117.4453 - mae: 35635.6094 - val_loss: 5982347264.0000 - val_mse: 5982347264.0000 - val_rmse: 77345.6328 - val_mae: 35785.0469\n",
      "Epoch 102/150\n",
      "1385/1385 [==============================] - 6s 4ms/step - loss: 5630834176.0000 - mse: 5630834176.0000 - rmse: 75038.8828 - mae: 35560.1836 - val_loss: 5992448000.0000 - val_mse: 5992448000.0000 - val_rmse: 77410.9062 - val_mae: 36706.5586\n",
      "Epoch 103/150\n",
      "1385/1385 [==============================] - 6s 4ms/step - loss: 5628107264.0000 - mse: 5628107264.0000 - rmse: 75020.7109 - mae: 35568.5039 - val_loss: 6005774336.0000 - val_mse: 6005774336.0000 - val_rmse: 77496.9297 - val_mae: 35987.7148\n",
      "Epoch 104/150\n",
      "1385/1385 [==============================] - 6s 4ms/step - loss: 5616492032.0000 - mse: 5616492032.0000 - rmse: 74943.2578 - mae: 35521.0898 - val_loss: 6004932096.0000 - val_mse: 6004932096.0000 - val_rmse: 77491.5000 - val_mae: 35493.6797\n",
      "Epoch 105/150\n",
      "1385/1385 [==============================] - 6s 4ms/step - loss: 5585113088.0000 - mse: 5585113088.0000 - rmse: 74733.6172 - mae: 35464.3672 - val_loss: 6111100928.0000 - val_mse: 6111100928.0000 - val_rmse: 78173.5312 - val_mae: 37006.6328\n",
      "Epoch 106/150\n",
      "1385/1385 [==============================] - 6s 4ms/step - loss: 5591387136.0000 - mse: 5591387136.0000 - rmse: 74775.5781 - mae: 35486.5039 - val_loss: 5978586112.0000 - val_mse: 5978586112.0000 - val_rmse: 77321.3203 - val_mae: 35740.0117\n",
      "Epoch 107/150\n",
      " 348/1385 [======>.......................] - ETA: 3s - loss: 5423115264.0000 - mse: 5423115264.0000 - rmse: 73641.8047 - mae: 34849.0469"
     ]
    }
   ],
   "source": [
    "func_history = func_model.fit(X_train, y_train, validation_data=(X_test, y_test), \n",
    "                        epochs=epochs, batch_size=32)"
   ]
  },
  {
   "cell_type": "code",
   "execution_count": null,
   "metadata": {},
   "outputs": [],
   "source": [
    "plt.figure(figsize=(20,10))\n",
    "plt.plot(func_history.history['loss'], label='train')\n",
    "plt.plot(func_history.history['val_loss'], label='val')\n",
    "plt.title('Learning Curves')\n",
    "plt.xlabel('Epoch')\n",
    "plt.ylabel('Cross Entropy')\n",
    "plt.legend()\n",
    "plt.show()"
   ]
  },
  {
   "cell_type": "code",
   "execution_count": null,
   "metadata": {},
   "outputs": [],
   "source": [
    "# Evaluation des Regressionsmodells\n",
    "error_func = func_model.evaluate(X_test, y_test, verbose=0)\n",
    "print('MSE: %.3f, RMSE: %.3f, MAE: %.3f' % \n",
    "      (error_func[1], error_func[2], error_func[3]))"
   ]
  },
  {
   "cell_type": "code",
   "execution_count": null,
   "metadata": {},
   "outputs": [],
   "source": [
    "# Scatter Plot mit den tatsächlichen und den vorhergesagten Daten für die Test Data\n",
    "func_predictions=func_model.predict(X_test)\n",
    "plt.plot(y_test, func_predictions, 'o')\n",
    "plt.xlabel('Actual values (test data)')\n",
    "plt.xticks(rotation=90)\n",
    "plt.ylabel('predicted values (test data)')"
   ]
  },
  {
   "cell_type": "code",
   "execution_count": null,
   "metadata": {},
   "outputs": [],
   "source": [
    "# Berechnung des R2-Scores (Bestimmtheitsmaß)\n",
    "r2_func = r2_score(y_test, func_predictions)\n",
    "r2_func"
   ]
  },
  {
   "cell_type": "code",
   "execution_count": null,
   "metadata": {},
   "outputs": [],
   "source": [
    "# Berechnung des adjustierten R2-Scores (adj. Bestimmtheitsmaß)\n",
    "adj_r2_func = 1-(1-r2_func)*((len(X_test)-1)/(len(X_test)-(len(cat)+len(con))))\n",
    "adj_r2_func"
   ]
  },
  {
   "cell_type": "code",
   "execution_count": null,
   "metadata": {
    "scrolled": false
   },
   "outputs": [],
   "source": [
    "print(('%.6f \\t %.6f \\t %.0f  \\t %.0f \\t %.0f' % \n",
    "      (r2_func, adj_r2_func, error_func[2], error_func[1], error_func[3])).replace('.', ','))"
   ]
  },
  {
   "cell_type": "code",
   "execution_count": null,
   "metadata": {},
   "outputs": [],
   "source": [
    "# Scatter Plot mit den tatsächlichen und den vorhergesagten Daten für die Training Data\n",
    "func_train_predictions=func_model.predict(X_train)\n",
    "plt.plot(y_train, func_train_predictions, 'o')\n",
    "plt.xlabel('Actual values (train data)')\n",
    "plt.xticks(rotation=90)\n",
    "plt.ylabel('predicted values (train data)')"
   ]
  },
  {
   "cell_type": "code",
   "execution_count": null,
   "metadata": {},
   "outputs": [],
   "source": [
    "func_predictions = func_predictions.flatten()"
   ]
  },
  {
   "cell_type": "code",
   "execution_count": null,
   "metadata": {},
   "outputs": [],
   "source": [
    "func_train_predictions = func_train_predictions.flatten()"
   ]
  },
  {
   "cell_type": "code",
   "execution_count": null,
   "metadata": {},
   "outputs": [],
   "source": [
    "pred = pd.DataFrame({'Actual': y_test, 'Predicted': func_predictions})\n",
    "pred1 = pred.sample(50)\n",
    "\n",
    "pred1.plot(kind='bar',figsize=(20,16))\n",
    "plt.grid(which='major', linestyle='-', linewidth='0.5', color='green')\n",
    "plt.grid(which='minor', linestyle=':', linewidth='0.5', color='black')\n",
    "plt.show()"
   ]
  },
  {
   "cell_type": "code",
   "execution_count": null,
   "metadata": {},
   "outputs": [],
   "source": [
    "# Differenzen zwischen vorhergesagten und tatsächlichen Werten\n",
    "plt.scatter(func_train_predictions, func_train_predictions - y_train, c='b', s=40, alpha=0.5, label='Train Data')\n",
    "plt.scatter(func_predictions, func_predictions - y_test, c='g', s=40, label='Test Data')\n",
    "plt.hlines(y=0, xmin=-0.03, xmax=0.2)\n",
    "plt.title('Residual Plot of Regression')\n",
    "plt.ylabel('Residuals')\n",
    "plt.xlabel('Accident Damage')\n",
    "plt.legend()\n",
    "plt.show()"
   ]
  },
  {
   "cell_type": "markdown",
   "metadata": {},
   "source": [
    "## Polynomial Regression with Scikit-Learn\n",
    "* Polynomial Regression\n",
    "* Polynomial Regression with Lasso => Lasso Regression schrumpft Koeffizienten um absoluten Wert -> ausselektieren.\n",
    "* Polynomial Regression with Ridge (Ridge Regression or Tikhonov regularization) => Ridge Regression schrumpft Koeffizienten um relativen Wert."
   ]
  },
  {
   "cell_type": "code",
   "execution_count": null,
   "metadata": {},
   "outputs": [],
   "source": [
    "def poly_regression(X_train, X_test, Y_train, Y_test, reg):\n",
    "    reg.fit(X_train, Y_train)\n",
    "    y_pred = reg.predict(X_test)\n",
    "    coef = reg.coef_\n",
    "    intercept = reg.intercept_\n",
    "    r2 = r2_score(Y_test, y_pred)\n",
    "    MSA = mean_absolute_error(Y_test, y_pred) \n",
    "    MSE = mean_squared_error(Y_test, y_pred)\n",
    "    RMSE = np.sqrt(MSE)\n",
    "    MSLE = mean_squared_log_error(Y_test, y_pred)\n",
    "    \n",
    "    return [r2, MSA, MSE, RMSE, MSLE]"
   ]
  },
  {
   "cell_type": "code",
   "execution_count": null,
   "metadata": {},
   "outputs": [],
   "source": [
    "def create_polynomial_regression_model(degree, reg):  \n",
    "    poly_feat = PolynomialFeatures(degree=degree)\n",
    "    X_train_poly = poly_feat.fit_transform(X_train)\n",
    "    poly = reg[1].fit(X_train_poly, y_train)\n",
    "    y_train_pred = poly.predict(X_train_poly)\n",
    "    y_pred = poly.predict(poly_feat.fit_transform(X_test))\n",
    "    r2 = r2_score(y_test, y_pred)\n",
    "    adj_r2 = 1-(1-r2)*((len(X_test)-1)/(len(X_test)-(len(cat)+len(con))))\n",
    "    MSA = mean_absolute_error(y_test, y_pred) \n",
    "    MSE = mean_squared_error(y_test, y_pred)\n",
    "    RMSE = np.sqrt(MSE)\n",
    "    #MSLE = mean_squared_log_error(y_test, y_pred)\n",
    "    \n",
    "    #print(\"The model performance with %s and a degree of %s\" % (reg[0], degree))\n",
    "    #print(\"R2 score of test set is %s\" % (r2))\n",
    "    #print(\"RMSE score of test set is %s\" % (RMSE))\n",
    "    #print(\"MSE score of test set is %s\" % (MSE))\n",
    "    #print(\"-------------------------------------------\")\n",
    "    #print((\"%s \\t %s \\t %.6f \\t %.0f \\t %.4f\" % (reg[0], degree, r2, RMSE, MSE)).replace('.', ','))\n",
    "    print((\"%.6f \\t %.6f \\t %.0f \\t %.0f \\t %.0f\" % (r2, adj_r2, RMSE, MSE, MAE)).replace('.', ','))\n",
    "    return [r2, adj_r2, MSA, MSE, RMSE, reg[1].coef_]"
   ]
  },
  {
   "cell_type": "code",
   "execution_count": null,
   "metadata": {},
   "outputs": [],
   "source": [
    "#poly = PolynomialFeatures(n_features)"
   ]
  },
  {
   "cell_type": "code",
   "execution_count": null,
   "metadata": {},
   "outputs": [],
   "source": [
    "degrees = [10, 15, 20]\n",
    "poly_models = [[\"Lasso\", Lasso()], [\"ElasticNet\", ElasticNet()]]"
   ]
  },
  {
   "cell_type": "code",
   "execution_count": null,
   "metadata": {},
   "outputs": [],
   "source": [
    "import warnings\n",
    "warnings.filterwarnings(\"ignore\")"
   ]
  },
  {
   "cell_type": "code",
   "execution_count": null,
   "metadata": {
    "scrolled": false
   },
   "outputs": [],
   "source": [
    "#for mod in poly_models:\n",
    "#    for deg in degrees:\n",
    "#        poly_reg = create_polynomial_regression_model(deg, mod)"
   ]
  },
  {
   "cell_type": "code",
   "execution_count": null,
   "metadata": {},
   "outputs": [],
   "source": [
    "#poly_reg = poly_regression(X_train_poly, Y_train, X_test_poly, Y_test, LinearRegression())"
   ]
  },
  {
   "cell_type": "code",
   "execution_count": null,
   "metadata": {},
   "outputs": [],
   "source": [
    "#poly_lasso_reg = poly_regression(X_train_poly, Y_train, X_test_poly, Y_test, Lasso())"
   ]
  },
  {
   "cell_type": "code",
   "execution_count": null,
   "metadata": {},
   "outputs": [],
   "source": [
    "#poly_ridge_reg = poly_regression(X_train_poly, Y_train, X_test_poly, Y_test, Ridge())"
   ]
  }
 ],
 "metadata": {
  "kernelspec": {
   "display_name": "Python (Master)",
   "language": "python",
   "name": "masterthesis"
  },
  "language_info": {
   "codemirror_mode": {
    "name": "ipython",
    "version": 3
   },
   "file_extension": ".py",
   "mimetype": "text/x-python",
   "name": "python",
   "nbconvert_exporter": "python",
   "pygments_lexer": "ipython3",
   "version": "3.7.3"
  }
 },
 "nbformat": 4,
 "nbformat_minor": 2
}
