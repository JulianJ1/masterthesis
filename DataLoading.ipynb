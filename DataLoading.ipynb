{
 "cells": [
  {
   "cell_type": "markdown",
   "metadata": {},
   "source": [
    "# Masterthesis\n",
    "## Data Loading and Preparation\n",
    "\n",
    "#### Julian Jetz"
   ]
  },
  {
   "cell_type": "markdown",
   "metadata": {},
   "source": [
    "### Inhalt:\n",
    "\n",
    "* [Laden der CSV-Dateien](#csv)\n",
    "* [Löschen der sonstigen Unfalltypen](#sonstige)\n",
    "* [Unfallartendeklaration](#unfallart)\n",
    "* [Unfallurschaendeklaration](#ursache)\n",
    "* [Berechnung der beteiligten Lokomotiven](#Lok)\n",
    "* [Berechnung der Zuggeschwindigkeit](#spd)\n",
    "* [Berechnung des Infrastrukturschadens](#dmg)\n",
    "* [Deklaration der Wettertypen](#weather)\n",
    "* [Deklaration der Sichtbarkeit](#vis)\n",
    "* [Deklaration der Streckenart](#Streckenart)\n",
    "* [Deklaration der Staaten](#state)\n",
    "* [Umrechnung des Schadens in Euro](#euro)\n",
    "* [Bestimmung der Signifikanz des Unfalls](#sig)\n",
    "* [Clusterung der Temperatur](#temp)\n",
    "* [Reduzierung der MissingValues in der Spalte Streckenklasse](#trkcls)\n",
    "* [Überprüfung, ob es zu einer Geschwindigkeitsüberschreitung kam](#spd_too_high)\n",
    "* [Bestimmung der Jahreszeit](#jahreszeit)\n",
    "* [Bestimmung der Zugart](#EQUIPMENT_TYPE)\n",
    "* [Ersetzen der MissingValues in der Spalte Zuggewicht](#TONS)\n",
    "* [Entfernung aller MissingValues Werte](#nan)\n",
    "* [Aufteilen der Datensätze bei mehreren Zügen](#entfernen_mit_mehr_zügen)\n",
    "* [Mehrere beteiligte Züge](#multi)"
   ]
  },
  {
   "cell_type": "code",
   "execution_count": 1,
   "metadata": {},
   "outputs": [],
   "source": [
    "import glob\n",
    "import numpy as np\n",
    "import math\n",
    "import pandas as pd\n",
    "from currency_converter import CurrencyConverter\n",
    "from datetime import date, datetime\n",
    "\n",
    "from sklearn.experimental import enable_iterative_imputer\n",
    "from sklearn.impute import IterativeImputer as MICE"
   ]
  },
  {
   "cell_type": "code",
   "execution_count": 2,
   "metadata": {},
   "outputs": [],
   "source": [
    "# N/A Werte werden deklariert\n",
    "na_values = ['nan', 'N/A', 'NaN', 'NaT']\n",
    "# Deklaration der Spalten, die geladen warden sollen \n",
    "cols = ['INCDTNO', 'YEAR4', 'MONTH', 'DAY', 'ACCDMG', 'EQPDMG', 'TRKDMG', 'TYPE', 'TYPEQ', 'TRKCLAS', 'TYPTRK', 'TRNSPD', 'HIGHSPD', 'ACCAUSE', 'HEADEND1', 'MIDMAN1', 'MIDREM1', 'RMAN1', 'RREM1', 'HEADEND2', 'MIDMAN2', 'MIDREM2', 'RMAN2', 'RREM2', 'LOADF1', 'LOADP1', 'EMPTYF1', 'EMPTYP1', 'LOADF2', 'EMPTYF2', 'LOADP2', 'EMPTYP2', 'TEMP', 'TONS', 'VISIBLTY', 'WEATHER', 'STATE', 'RREMPKLD', 'PASSKLD', 'OTHERKLD', 'RREMPINJ', 'PASSINJ', 'OTHERINJ']"
   ]
  },
  {
   "cell_type": "markdown",
   "metadata": {},
   "source": [
    "### Laden der CSV <a class=\"anchor\" id=\"csv\"></a>"
   ]
  },
  {
   "cell_type": "code",
   "execution_count": 3,
   "metadata": {},
   "outputs": [],
   "source": [
    "# Funktion zum Laden und Zusammenfügen der CSV Dateien\n",
    "def get_merged_csv(flist, **kwargs):\n",
    "    return pd.concat([pd.read_csv(f, **kwargs) for f in flist], ignore_index=True)"
   ]
  },
  {
   "cell_type": "code",
   "execution_count": 4,
   "metadata": {},
   "outputs": [
    {
     "data": {
      "text/plain": [
       "116210"
      ]
     },
     "execution_count": 4,
     "metadata": {},
     "output_type": "execute_result"
    }
   ],
   "source": [
    "# Laden der CSV Dateien als ein Pandas DataFrame, Festlegen N/A Werte, Festlegen zu ladende Spalten, keine Index Spalte bei den Daten und Deklaration der Datentypen\n",
    "df = get_merged_csv(glob.glob('csvfiles/*.csv'), na_values=na_values, index_col=False, usecols = cols, dtype = {\"STATE\" : \"str\", \"TYPE\" : \"str\", \"TYPEQ\" : \"str\", \"WEATHER\" : \"str\", \"VISIBLTY\" : \"str\", \"TRKCLAS\" : \"str\"})\n",
    "df.shape[0]"
   ]
  },
  {
   "cell_type": "code",
   "execution_count": 5,
   "metadata": {},
   "outputs": [],
   "source": [
    "#df = get_merged_csv(glob.glob('csvfiles/*.csv'), na_values=na_values, index_col=False, usecols = cols, dtype = {\"STATE\" : \"str\", \"TYPE\" : \"str\", \"TYPEQ\" : \"str\", \"WEATHER\" : \"str\", \"VISIBLTY\" : \"str\", \"YEAR4\" : \"int64\", \"MONTH\" : \"int64\", \"DAY\" : \"int64\", \"TRKCLAS\" : \"str\"})\n",
    "#df.shape[0]"
   ]
  },
  {
   "cell_type": "markdown",
   "metadata": {},
   "source": [
    "#### Löschen der Unfalltypen Sonstige <a class=\"anchor\" id=\"sonstige\"></a>\n",
    "In diesem Schritt werden die Unfalltypen mit dem Typ Sonstige aus dem Datensatz entfernt"
   ]
  },
  {
   "cell_type": "code",
   "execution_count": 6,
   "metadata": {},
   "outputs": [],
   "source": [
    "df.drop(df.loc[df['TYPE']==\"12\"].index, inplace=True)\n",
    "df.drop(df.loc[df['TYPE']==\"13\"].index, inplace=True)\n",
    "df.drop(df.loc[df['TYPEQ']==\"9\"].index, inplace=True)"
   ]
  },
  {
   "cell_type": "code",
   "execution_count": 7,
   "metadata": {},
   "outputs": [
    {
     "data": {
      "text/plain": [
       "96491"
      ]
     },
     "execution_count": 7,
     "metadata": {},
     "output_type": "execute_result"
    }
   ],
   "source": [
    "df.shape[0]"
   ]
  },
  {
   "cell_type": "markdown",
   "metadata": {},
   "source": [
    "#### Unfallartendeklaration <a class=\"anchor\" id=\"unfallart\"></a>"
   ]
  },
  {
   "cell_type": "code",
   "execution_count": 8,
   "metadata": {},
   "outputs": [],
   "source": [
    "def getAccidentType(acctype):\n",
    "    switcher = {\n",
    "        \"01\" : \"Entgleisung\",\n",
    "        \"02\" : \"Kollision\",\n",
    "        \"03\" : \"Kollision\",\n",
    "        \"04\" : \"Kollision\",\n",
    "        \"05\" : \"Kollision\",\n",
    "        \"06\" : \"Kollision\",\n",
    "        \"07\" : \"Bahnübergang\",\n",
    "        \"08\" : \"Bahnübergang\",\n",
    "        \"09\" : \"Kollision\",\n",
    "        \"10\" : \"Fahrzeugbrand / Explosion\",\n",
    "        \"11\" : \"Fahrzeugbrand / Explosion\",\n",
    "        \n",
    "    }\n",
    "    return switcher.get(acctype,\"NaN\")"
   ]
  },
  {
   "cell_type": "code",
   "execution_count": 9,
   "metadata": {},
   "outputs": [],
   "source": [
    "df[\"ACCIDENT_TYPE\"] = df.apply(lambda row : getAccidentType(row[\"TYPE\"]), axis=1)"
   ]
  },
  {
   "cell_type": "code",
   "execution_count": 10,
   "metadata": {},
   "outputs": [
    {
     "data": {
      "text/plain": [
       "Entgleisung                  71021\n",
       "Kollision                    16463\n",
       "Bahnübergang                  7777\n",
       "Fahrzeugbrand / Explosion     1230\n",
       "Name: ACCIDENT_TYPE, dtype: int64"
      ]
     },
     "execution_count": 10,
     "metadata": {},
     "output_type": "execute_result"
    }
   ],
   "source": [
    "df[\"ACCIDENT_TYPE\"].value_counts()"
   ]
  },
  {
   "cell_type": "markdown",
   "metadata": {},
   "source": [
    "#### Laden der Daten mit den Unfallursachencluster und zuweisen dieser zu dem Dataset <a class=\"anchor\" id=\"ursache\"></a>"
   ]
  },
  {
   "cell_type": "code",
   "execution_count": 11,
   "metadata": {},
   "outputs": [],
   "source": [
    "acc_causes = pd.read_csv('resources/ACC_CAUSE_LIST.csv',sep=';', na_values=na_values, encoding='latin1',index_col='ACCAUSE')"
   ]
  },
  {
   "cell_type": "code",
   "execution_count": 12,
   "metadata": {},
   "outputs": [],
   "source": [
    "#Funktion zum Umwandeln der Unfallursache in die Unfall-ursache auf dem Abstraktionslevel 1\n",
    "def getAccCauseLvl1(accause):\n",
    "    return acc_causes.loc[accause]['ACCAUSE_LVL1']"
   ]
  },
  {
   "cell_type": "code",
   "execution_count": 13,
   "metadata": {},
   "outputs": [],
   "source": [
    "#Funktion zum Umwandeln der Unfallursache in die Unfall-ursache auf dem Abstraktionslevel 1\n",
    "def getAccCauseLvl2(accause):\n",
    "    return acc_causes.loc[accause]['ACCAUSE_LVL2']"
   ]
  },
  {
   "cell_type": "code",
   "execution_count": 14,
   "metadata": {},
   "outputs": [],
   "source": [
    "df=df.dropna(subset=['ACCAUSE'])"
   ]
  },
  {
   "cell_type": "code",
   "execution_count": 15,
   "metadata": {},
   "outputs": [],
   "source": [
    "df['ACCCAUSE_LVL1']=df.apply(lambda row : getAccCauseLvl1(row['ACCAUSE']),axis=1)"
   ]
  },
  {
   "cell_type": "code",
   "execution_count": 16,
   "metadata": {},
   "outputs": [],
   "source": [
    "df['ACCCAUSE_LVL2']=df.apply(lambda row : getAccCauseLvl2(row['ACCAUSE']),axis=1)"
   ]
  },
  {
   "cell_type": "code",
   "execution_count": 17,
   "metadata": {},
   "outputs": [
    {
     "name": "stdout",
     "output_type": "stream",
     "text": [
      "Unique Unfallursachen: 382 & (neue) Unique Unfallursachencluster (Ursachen Level 1): 31 & (neue) Unique Unfallursachencluster (Ursachen Level 2): 7\n"
     ]
    }
   ],
   "source": [
    "print('Unique Unfallursachen: %s & (neue) Unique Unfallursachencluster (Ursachen Level 1): %s & (neue) Unique Unfallursachencluster (Ursachen Level 2): %s' % (df['ACCAUSE'].nunique(), df['ACCCAUSE_LVL1'].nunique(), df['ACCCAUSE_LVL2'].nunique()))"
   ]
  },
  {
   "cell_type": "markdown",
   "metadata": {},
   "source": [
    "#### Bestimmung der Anzahl der involvierten und entgleisten Lokomotiven <a class=\"anchor\" id=\"Lok\"></a>\n",
    "Berechnung der Anzahl der involvierten und entgleisten Lokomotiven mit den 5 jeweiligen Variablen mit der Lokomotivenanzahl"
   ]
  },
  {
   "cell_type": "code",
   "execution_count": 18,
   "metadata": {},
   "outputs": [],
   "source": [
    "df['LOCOMOTIVES1']=df.apply(lambda row : row['HEADEND1']+row['MIDMAN1']+row['MIDREM1']+row['RMAN1']+row['RREM1'],axis=1)"
   ]
  },
  {
   "cell_type": "code",
   "execution_count": 19,
   "metadata": {},
   "outputs": [],
   "source": [
    "df['LOCOMOTIVES2']=df.apply(lambda row : row['HEADEND2']+row['MIDMAN2']+row['MIDREM2']+row['RMAN2']+row['RREM2'],axis=1)"
   ]
  },
  {
   "cell_type": "code",
   "execution_count": 20,
   "metadata": {},
   "outputs": [],
   "source": [
    "# Entfernung der Missing Values für die neue Variable Anzahl der Lokomotiven \n",
    "df=df.dropna(subset=['LOCOMOTIVES1'])\n",
    "df['LOCOMOTIVES1'] = df['LOCOMOTIVES1'].astype(int)"
   ]
  },
  {
   "cell_type": "code",
   "execution_count": 21,
   "metadata": {},
   "outputs": [
    {
     "data": {
      "text/plain": [
       "96483"
      ]
     },
     "execution_count": 21,
     "metadata": {},
     "output_type": "execute_result"
    }
   ],
   "source": [
    "df.shape[0]"
   ]
  },
  {
   "cell_type": "markdown",
   "metadata": {},
   "source": [
    "#### Berechnung der Geschwindigkeit <a class=\"anchor\" id=\"spd\"></a>\n",
    "Sollte keine Geschwindigkeit in der Variable trnspd hinterlegt sein, wird die Variable highspd verwendet "
   ]
  },
  {
   "cell_type": "code",
   "execution_count": 22,
   "metadata": {},
   "outputs": [
    {
     "data": {
      "text/html": [
       "<div>\n",
       "<style scoped>\n",
       "    .dataframe tbody tr th:only-of-type {\n",
       "        vertical-align: middle;\n",
       "    }\n",
       "\n",
       "    .dataframe tbody tr th {\n",
       "        vertical-align: top;\n",
       "    }\n",
       "\n",
       "    .dataframe thead th {\n",
       "        text-align: right;\n",
       "    }\n",
       "</style>\n",
       "<table border=\"1\" class=\"dataframe\">\n",
       "  <thead>\n",
       "    <tr style=\"text-align: right;\">\n",
       "      <th></th>\n",
       "      <th>TRNSPD</th>\n",
       "      <th>HIGHSPD</th>\n",
       "    </tr>\n",
       "  </thead>\n",
       "  <tbody>\n",
       "    <tr>\n",
       "      <th>0</th>\n",
       "      <td>5.000000</td>\n",
       "      <td>5.0</td>\n",
       "    </tr>\n",
       "    <tr>\n",
       "      <th>1</th>\n",
       "      <td>6.000000</td>\n",
       "      <td>6.0</td>\n",
       "    </tr>\n",
       "    <tr>\n",
       "      <th>2</th>\n",
       "      <td>5.000000</td>\n",
       "      <td>5.0</td>\n",
       "    </tr>\n",
       "    <tr>\n",
       "      <th>3</th>\n",
       "      <td>7.000000</td>\n",
       "      <td>7.0</td>\n",
       "    </tr>\n",
       "    <tr>\n",
       "      <th>4</th>\n",
       "      <td>4.000000</td>\n",
       "      <td>4.0</td>\n",
       "    </tr>\n",
       "    <tr>\n",
       "      <th>...</th>\n",
       "      <td>...</td>\n",
       "      <td>...</td>\n",
       "    </tr>\n",
       "    <tr>\n",
       "      <th>96478</th>\n",
       "      <td>10.000000</td>\n",
       "      <td>10.0</td>\n",
       "    </tr>\n",
       "    <tr>\n",
       "      <th>96479</th>\n",
       "      <td>8.000000</td>\n",
       "      <td>8.0</td>\n",
       "    </tr>\n",
       "    <tr>\n",
       "      <th>96480</th>\n",
       "      <td>5.000000</td>\n",
       "      <td>8.0</td>\n",
       "    </tr>\n",
       "    <tr>\n",
       "      <th>96481</th>\n",
       "      <td>9.852813</td>\n",
       "      <td>10.0</td>\n",
       "    </tr>\n",
       "    <tr>\n",
       "      <th>96482</th>\n",
       "      <td>10.000000</td>\n",
       "      <td>10.0</td>\n",
       "    </tr>\n",
       "  </tbody>\n",
       "</table>\n",
       "<p>96483 rows × 2 columns</p>\n",
       "</div>"
      ],
      "text/plain": [
       "          TRNSPD  HIGHSPD\n",
       "0       5.000000      5.0\n",
       "1       6.000000      6.0\n",
       "2       5.000000      5.0\n",
       "3       7.000000      7.0\n",
       "4       4.000000      4.0\n",
       "...          ...      ...\n",
       "96478  10.000000     10.0\n",
       "96479   8.000000      8.0\n",
       "96480   5.000000      8.0\n",
       "96481   9.852813     10.0\n",
       "96482  10.000000     10.0\n",
       "\n",
       "[96483 rows x 2 columns]"
      ]
     },
     "execution_count": 22,
     "metadata": {},
     "output_type": "execute_result"
    }
   ],
   "source": [
    "# Erstellen und Ausführen des IterativeImputer Modells zwischen den Variablen TRNSPD und HIGHSPD. Die Ergebnisse werden im DataFrame data_fit gespeichert\n",
    "df.loc[(df['HIGHSPD']!=0)&(df['TRNSPD']==0), 'TRNSPD'] = np.NaN\n",
    "data_fit = pd.DataFrame(MICE().fit_transform(df[['TRNSPD', 'HIGHSPD']]))\n",
    "data_fit.columns = ['TRNSPD', 'HIGHSPD']\n",
    "data_fit"
   ]
  },
  {
   "cell_type": "code",
   "execution_count": 23,
   "metadata": {},
   "outputs": [
    {
     "data": {
      "text/plain": [
       "False    84508\n",
       "True     11975\n",
       "Name: TRNSPD, dtype: int64"
      ]
     },
     "execution_count": 23,
     "metadata": {},
     "output_type": "execute_result"
    }
   ],
   "source": [
    "# Abfrage nach der Anzahl der Missing Values \n",
    "#(Wert = True)\n",
    "df['TRNSPD'].isnull().value_counts()"
   ]
  },
  {
   "cell_type": "code",
   "execution_count": 24,
   "metadata": {},
   "outputs": [],
   "source": [
    "# Einfügen der vorhergesagten Werte\n",
    "df['SPEED'] = data_fit[\"TRNSPD\"].values"
   ]
  },
  {
   "cell_type": "code",
   "execution_count": 25,
   "metadata": {},
   "outputs": [
    {
     "data": {
      "text/html": [
       "<div>\n",
       "<style scoped>\n",
       "    .dataframe tbody tr th:only-of-type {\n",
       "        vertical-align: middle;\n",
       "    }\n",
       "\n",
       "    .dataframe tbody tr th {\n",
       "        vertical-align: top;\n",
       "    }\n",
       "\n",
       "    .dataframe thead th {\n",
       "        text-align: right;\n",
       "    }\n",
       "</style>\n",
       "<table border=\"1\" class=\"dataframe\">\n",
       "  <thead>\n",
       "    <tr style=\"text-align: right;\">\n",
       "      <th></th>\n",
       "      <th>TRNSPD</th>\n",
       "      <th>HIGHSPD</th>\n",
       "    </tr>\n",
       "  </thead>\n",
       "  <tbody>\n",
       "    <tr>\n",
       "      <th>0</th>\n",
       "      <td>5.0</td>\n",
       "      <td>5</td>\n",
       "    </tr>\n",
       "    <tr>\n",
       "      <th>1</th>\n",
       "      <td>6.0</td>\n",
       "      <td>6</td>\n",
       "    </tr>\n",
       "    <tr>\n",
       "      <th>2</th>\n",
       "      <td>5.0</td>\n",
       "      <td>5</td>\n",
       "    </tr>\n",
       "    <tr>\n",
       "      <th>3</th>\n",
       "      <td>7.0</td>\n",
       "      <td>7</td>\n",
       "    </tr>\n",
       "    <tr>\n",
       "      <th>4</th>\n",
       "      <td>4.0</td>\n",
       "      <td>4</td>\n",
       "    </tr>\n",
       "    <tr>\n",
       "      <th>...</th>\n",
       "      <td>...</td>\n",
       "      <td>...</td>\n",
       "    </tr>\n",
       "    <tr>\n",
       "      <th>116203</th>\n",
       "      <td>10.0</td>\n",
       "      <td>10</td>\n",
       "    </tr>\n",
       "    <tr>\n",
       "      <th>116204</th>\n",
       "      <td>8.0</td>\n",
       "      <td>8</td>\n",
       "    </tr>\n",
       "    <tr>\n",
       "      <th>116205</th>\n",
       "      <td>5.0</td>\n",
       "      <td>8</td>\n",
       "    </tr>\n",
       "    <tr>\n",
       "      <th>116208</th>\n",
       "      <td>NaN</td>\n",
       "      <td>10</td>\n",
       "    </tr>\n",
       "    <tr>\n",
       "      <th>116209</th>\n",
       "      <td>10.0</td>\n",
       "      <td>10</td>\n",
       "    </tr>\n",
       "  </tbody>\n",
       "</table>\n",
       "<p>96483 rows × 2 columns</p>\n",
       "</div>"
      ],
      "text/plain": [
       "        TRNSPD  HIGHSPD\n",
       "0          5.0        5\n",
       "1          6.0        6\n",
       "2          5.0        5\n",
       "3          7.0        7\n",
       "4          4.0        4\n",
       "...        ...      ...\n",
       "116203    10.0       10\n",
       "116204     8.0        8\n",
       "116205     5.0        8\n",
       "116208     NaN       10\n",
       "116209    10.0       10\n",
       "\n",
       "[96483 rows x 2 columns]"
      ]
     },
     "execution_count": 25,
     "metadata": {},
     "output_type": "execute_result"
    }
   ],
   "source": [
    "# Anzeigen der Merkmale TRNSPD und HIGHSPD\n",
    "df[['TRNSPD', 'HIGHSPD']]"
   ]
  },
  {
   "cell_type": "code",
   "execution_count": 26,
   "metadata": {},
   "outputs": [
    {
     "data": {
      "text/html": [
       "<div>\n",
       "<style scoped>\n",
       "    .dataframe tbody tr th:only-of-type {\n",
       "        vertical-align: middle;\n",
       "    }\n",
       "\n",
       "    .dataframe tbody tr th {\n",
       "        vertical-align: top;\n",
       "    }\n",
       "\n",
       "    .dataframe thead th {\n",
       "        text-align: right;\n",
       "    }\n",
       "</style>\n",
       "<table border=\"1\" class=\"dataframe\">\n",
       "  <thead>\n",
       "    <tr style=\"text-align: right;\">\n",
       "      <th></th>\n",
       "      <th>TRNSPD</th>\n",
       "      <th>HIGHSPD</th>\n",
       "      <th>SPEED</th>\n",
       "    </tr>\n",
       "  </thead>\n",
       "  <tbody>\n",
       "    <tr>\n",
       "      <th>5</th>\n",
       "      <td>NaN</td>\n",
       "      <td>4</td>\n",
       "      <td>3.908545</td>\n",
       "    </tr>\n",
       "    <tr>\n",
       "      <th>9</th>\n",
       "      <td>NaN</td>\n",
       "      <td>4</td>\n",
       "      <td>3.908545</td>\n",
       "    </tr>\n",
       "    <tr>\n",
       "      <th>21</th>\n",
       "      <td>NaN</td>\n",
       "      <td>12</td>\n",
       "      <td>11.834236</td>\n",
       "    </tr>\n",
       "    <tr>\n",
       "      <th>38</th>\n",
       "      <td>NaN</td>\n",
       "      <td>2</td>\n",
       "      <td>1.927122</td>\n",
       "    </tr>\n",
       "    <tr>\n",
       "      <th>43</th>\n",
       "      <td>NaN</td>\n",
       "      <td>35</td>\n",
       "      <td>34.620598</td>\n",
       "    </tr>\n",
       "    <tr>\n",
       "      <th>...</th>\n",
       "      <td>...</td>\n",
       "      <td>...</td>\n",
       "      <td>...</td>\n",
       "    </tr>\n",
       "    <tr>\n",
       "      <th>116184</th>\n",
       "      <td>NaN</td>\n",
       "      <td>4</td>\n",
       "      <td>3.908545</td>\n",
       "    </tr>\n",
       "    <tr>\n",
       "      <th>116187</th>\n",
       "      <td>NaN</td>\n",
       "      <td>10</td>\n",
       "      <td>9.852813</td>\n",
       "    </tr>\n",
       "    <tr>\n",
       "      <th>116199</th>\n",
       "      <td>NaN</td>\n",
       "      <td>5</td>\n",
       "      <td>4.899256</td>\n",
       "    </tr>\n",
       "    <tr>\n",
       "      <th>116201</th>\n",
       "      <td>NaN</td>\n",
       "      <td>5</td>\n",
       "      <td>4.899256</td>\n",
       "    </tr>\n",
       "    <tr>\n",
       "      <th>116208</th>\n",
       "      <td>NaN</td>\n",
       "      <td>10</td>\n",
       "      <td>9.852813</td>\n",
       "    </tr>\n",
       "  </tbody>\n",
       "</table>\n",
       "<p>11975 rows × 3 columns</p>\n",
       "</div>"
      ],
      "text/plain": [
       "        TRNSPD  HIGHSPD      SPEED\n",
       "5          NaN        4   3.908545\n",
       "9          NaN        4   3.908545\n",
       "21         NaN       12  11.834236\n",
       "38         NaN        2   1.927122\n",
       "43         NaN       35  34.620598\n",
       "...        ...      ...        ...\n",
       "116184     NaN        4   3.908545\n",
       "116187     NaN       10   9.852813\n",
       "116199     NaN        5   4.899256\n",
       "116201     NaN        5   4.899256\n",
       "116208     NaN       10   9.852813\n",
       "\n",
       "[11975 rows x 3 columns]"
      ]
     },
     "execution_count": 26,
     "metadata": {},
     "output_type": "execute_result"
    }
   ],
   "source": [
    "# Überprüfung der neu berechneten Werte für das Merkmal SPEED\n",
    "df[df['TRNSPD'].isnull()][['TRNSPD', 'HIGHSPD', 'SPEED']]"
   ]
  },
  {
   "cell_type": "markdown",
   "metadata": {},
   "source": [
    "#### Berechnung des Infrastrukturschadens anhand der Material- und Streckenschadens <a class=\"anchor\" id=\"dmg\"></a>"
   ]
  },
  {
   "cell_type": "code",
   "execution_count": 27,
   "metadata": {},
   "outputs": [],
   "source": [
    "# Funktion für die Berechnung des Infrastrukturschadens \n",
    "def getInfrastrukturschaden(accdmg, eqpdmg, trkdmg):\n",
    "    if (accdmg > 0):\n",
    "        return accdmg\n",
    "    else:\n",
    "        return eqpdmg + trkdmg"
   ]
  },
  {
   "cell_type": "code",
   "execution_count": 28,
   "metadata": {},
   "outputs": [],
   "source": [
    "# Erstellung des Merkmals Inftrastrukturschaden mit den Merkmalen ACCDMG, EQPDMG und TRKDMG\n",
    "df['INFRASTRUCTURE_DMG']=df.apply(lambda row : getInfrastrukturschaden(row['ACCDMG'],row['EQPDMG'],row['TRKDMG']),axis=1)"
   ]
  },
  {
   "cell_type": "code",
   "execution_count": 29,
   "metadata": {},
   "outputs": [
    {
     "data": {
      "text/plain": [
       "96483"
      ]
     },
     "execution_count": 29,
     "metadata": {},
     "output_type": "execute_result"
    }
   ],
   "source": [
    "df.shape[0]"
   ]
  },
  {
   "cell_type": "markdown",
   "metadata": {},
   "source": [
    "#### Wetter <a class=\"anchor\" id=\"weather\"></a>"
   ]
  },
  {
   "cell_type": "code",
   "execution_count": 30,
   "metadata": {},
   "outputs": [],
   "source": [
    "def getWetter(wetter):\n",
    "    switcher= {\n",
    "        \"1\":'Klar',\n",
    "        \"2\":'Wolkig',\n",
    "        \"3\":'Regen',\n",
    "        \"4\":'Nebel',\n",
    "        \"5\":'Eisregen',\n",
    "        \"6\":'Schnee'  \n",
    "    }\n",
    "    return switcher.get(wetter,\"NaN\")"
   ]
  },
  {
   "cell_type": "code",
   "execution_count": 31,
   "metadata": {},
   "outputs": [],
   "source": [
    "df['WEATHER'] = df.apply(lambda row : getWetter(row['WEATHER']), axis=1)"
   ]
  },
  {
   "cell_type": "code",
   "execution_count": 32,
   "metadata": {},
   "outputs": [
    {
     "data": {
      "text/plain": [
       "False    96483\n",
       "Name: WEATHER, dtype: int64"
      ]
     },
     "execution_count": 32,
     "metadata": {},
     "output_type": "execute_result"
    }
   ],
   "source": [
    "df['WEATHER'].isnull().value_counts()"
   ]
  },
  {
   "cell_type": "markdown",
   "metadata": {},
   "source": [
    "#### Tageszeit <a class=\"anchor\" id=\"vis\"></a>\n",
    "Ersetzen des Zifferncodes mit den besser lesbaren Namen der Tageszeit"
   ]
  },
  {
   "cell_type": "code",
   "execution_count": 33,
   "metadata": {},
   "outputs": [],
   "source": [
    "def getVis(vis):\n",
    "    switcher= {\n",
    "        \"1\":'Morgendämmerung',\n",
    "        \"2\":'Tag',\n",
    "        \"3\":'Abenddämmerung',\n",
    "        \"4\":'Abend'\n",
    "    }\n",
    "    return switcher.get(vis,\"NaN\")"
   ]
  },
  {
   "cell_type": "code",
   "execution_count": 34,
   "metadata": {},
   "outputs": [],
   "source": [
    "df['VISIBLTY'] = df.apply(lambda row : getVis(row['VISIBLTY']), axis=1)"
   ]
  },
  {
   "cell_type": "markdown",
   "metadata": {},
   "source": [
    "#### Streckenart <a class=\"anchor\" id=\"Streckenart\"></a>\n",
    "Ersetzen des Zifferncodes mit den besser lesbaren Namen der Streckenart"
   ]
  },
  {
   "cell_type": "code",
   "execution_count": 35,
   "metadata": {},
   "outputs": [],
   "source": [
    "def getTyptrk(typtrk):\n",
    "    switcher= {\n",
    "        1.0 :'Hauptstrecke',\n",
    "        1 :'Hauptstrecke',\n",
    "        2.0 :'Depot',\n",
    "        2 :'Depot',\n",
    "        3.0 :'Nebengstrecke',\n",
    "        3 :'Nebenstrecke',\n",
    "        4.0 :'Industriestrecke',\n",
    "        4 :'Industriestrecke'\n",
    "    }\n",
    "    return switcher.get(typtrk,\"NaN\")"
   ]
  },
  {
   "cell_type": "code",
   "execution_count": 36,
   "metadata": {},
   "outputs": [],
   "source": [
    "df.loc[(df['TYPTRK']=='X'), 'TYPTRK'] = np.NaN\n",
    "df=df.dropna(subset=['TYPTRK'])\n",
    "df['TYPTRK'] = df['TYPTRK'].astype(int)\n",
    "df['TYPTRK'] = df.apply(lambda row : getTyptrk(row['TYPTRK']), axis=1)"
   ]
  },
  {
   "cell_type": "code",
   "execution_count": 37,
   "metadata": {},
   "outputs": [
    {
     "data": {
      "text/plain": [
       "95235"
      ]
     },
     "execution_count": 37,
     "metadata": {},
     "output_type": "execute_result"
    }
   ],
   "source": [
    "df.shape[0]"
   ]
  },
  {
   "cell_type": "markdown",
   "metadata": {},
   "source": [
    "#### Staat <a class=\"anchor\" id=\"state\"></a>\n",
    "Ersetzen des FIPS Code mit den besser lesbaren Namen der Staaten"
   ]
  },
  {
   "cell_type": "code",
   "execution_count": 38,
   "metadata": {},
   "outputs": [],
   "source": [
    "def getState(state):\n",
    "    switcher= {\n",
    "        1 :'Alabama',\n",
    "        2 :'Alaska',\n",
    "        3 :'Amerikanisch Samoa',\n",
    "        4 :'Arizona',\n",
    "        5 :'Arkansas',\n",
    "        6 :'Kalifornien',\n",
    "        7 :'Kanal',\n",
    "        8 :'Colorado',\n",
    "        9 :'Connecticut',\n",
    "        10 :'Delaware',\n",
    "        11 :'District of Columbia',\n",
    "        12 :'Florida',\n",
    "        13 :'Georgia',\n",
    "        14 :'Guam',\n",
    "        15 :'Hawaii',\n",
    "        16 :'Idaho',\n",
    "        17 :'Illinois',\n",
    "        18 :'Indiana',\n",
    "        19 :'Iowa',\n",
    "        20 :'Kansas',\n",
    "        21 :'Kentucky',\n",
    "        22 :'Louisiana',\n",
    "        23 :'Maine',\n",
    "        24 :'Maryland',\n",
    "        25 :'Massachusetts',\n",
    "        26 :'Michigan',\n",
    "        27 :'Minnesota',\n",
    "        28 :'Mississippi',\n",
    "        29 :'Missouri',\n",
    "        30 :'Montana',\n",
    "        31 :'Nebraska',\n",
    "        32 :'Nevada',\n",
    "        33 :'New Hampshire',\n",
    "        34 :'New Jersey',\n",
    "        35 :'New Mexico',\n",
    "        36 :'New York',\n",
    "        37 :'North Carolina',\n",
    "        38 :'North Dakota',\n",
    "        39 :'Ohio',\n",
    "        40 :'Oklahoma',\n",
    "        41 :'Oregon',\n",
    "        42 :'Pennsylvania',\n",
    "        43 :'Puerto Rico',\n",
    "        44 :'Rhode Island',\n",
    "        45 :'South Carolina',\n",
    "        46 :'South Dakota',\n",
    "        47 :'Tennessee',\n",
    "        48 :'Texas',\n",
    "        49 :'Utah',\n",
    "        50 :'Vermont',\n",
    "        51 :'Virginia',\n",
    "        52 :'Virgin Islands',\n",
    "        53 :'Washington',\n",
    "        54 :'West Virginia',\n",
    "        55 :'Wisconsion',\n",
    "        56 :'Wyoming'\n",
    "    }\n",
    "    return switcher.get(state,\"NaN\")"
   ]
  },
  {
   "cell_type": "code",
   "execution_count": 39,
   "metadata": {},
   "outputs": [],
   "source": [
    "df['STATE'] = df['STATE'].astype(int)\n",
    "df['STATE'] = df.apply(lambda row : getState(row['STATE']), axis=1)"
   ]
  },
  {
   "cell_type": "markdown",
   "metadata": {},
   "source": [
    "#### Umrechnung des Schadens in Euro <a class=\"anchor\" id=\"euro\"></a>\n",
    "Erhebliche Laufzeiteinsparungen durch das Erstellen einer eigenen kurz CSV Datei (Mittelwert der nächstliegenden vorhandenen Werte bei fehlenden Kursen)"
   ]
  },
  {
   "cell_type": "code",
   "execution_count": 40,
   "metadata": {},
   "outputs": [],
   "source": [
    "# Funktion zur Umrechnung der Schäden in Euro\n",
    "def getEuro(c, damage, year, month, day):\n",
    "    # print('Schaden: %s & Datum: %s - %s - %s' % (damage, year, month, day))\n",
    "    damage=c.convert(damage, 'USD', 'EUR', date=date(year, month, day))\n",
    "    return damage"
   ]
  },
  {
   "cell_type": "code",
   "execution_count": 41,
   "metadata": {},
   "outputs": [],
   "source": [
    "# Initialisierung des Currency Converters\n",
    "# Fehlende Wechselkurse werden über eine lineare Hochrechnung ermittel\n",
    "# Fallback für Daten außerhalb des Zeitraumes\n",
    "c = CurrencyConverter(fallback_on_missing_rate=True, fallback_on_wrong_date=True)"
   ]
  },
  {
   "cell_type": "code",
   "execution_count": 42,
   "metadata": {},
   "outputs": [],
   "source": [
    "df=df.dropna(subset=['YEAR4'])\n",
    "df['YEAR4'] = df['YEAR4'].astype(int)"
   ]
  },
  {
   "cell_type": "code",
   "execution_count": 43,
   "metadata": {},
   "outputs": [],
   "source": [
    "# Berechnung des Infrastrukturschadens in Euro\n",
    "df['ACCDMG_EUR'] = df.apply(lambda row : getEuro(c, row['INFRASTRUCTURE_DMG'], row['YEAR4'], row['MONTH'], row['DAY']), axis=1)"
   ]
  },
  {
   "cell_type": "markdown",
   "metadata": {},
   "source": [
    "#### Bestimmung der Schwere des Unfalls (Nicht Signifikant, Signifikant und Schwer) <a class=\"anchor\" id=\"sig\"></a>"
   ]
  },
  {
   "cell_type": "code",
   "execution_count": 44,
   "metadata": {},
   "outputs": [],
   "source": [
    "# Funktion für die Bestimmung der Signifikanz des Unfalls\n",
    "def isSerious(accdmg, killed, injured):\n",
    "    type=\"Nicht Signifikant\"\n",
    "    if accdmg>=150000 or injured > 0 or killed > 0:\n",
    "        type=\"Signifikant\"\n",
    "        if accdmg>=2000000 or injured >= 5 or killed >0:\n",
    "            type=\"Schwer\"\n",
    "    return type"
   ]
  },
  {
   "cell_type": "code",
   "execution_count": 45,
   "metadata": {},
   "outputs": [],
   "source": [
    "# Ermittlung der Signifikanz des Unfalls mit den Merkmalen Infrastrukturschaden in EUR, Anzahl Tote und Anzahl Verletzte\n",
    "df[\"ACCTYPE\"] = df.apply(lambda row : isSerious(row['ACCDMG_EUR'],row['RREMPKLD'] + row['PASSKLD'] + row['OTHERKLD'],row['RREMPINJ'] + row['PASSINJ'] + row['OTHERINJ']), axis=1)"
   ]
  },
  {
   "cell_type": "code",
   "execution_count": 46,
   "metadata": {},
   "outputs": [
    {
     "data": {
      "text/plain": [
       "95235"
      ]
     },
     "execution_count": 46,
     "metadata": {},
     "output_type": "execute_result"
    }
   ],
   "source": [
    "df.shape[0]"
   ]
  },
  {
   "cell_type": "code",
   "execution_count": 47,
   "metadata": {},
   "outputs": [
    {
     "data": {
      "text/plain": [
       "Nicht Signifikant    79487\n",
       "Signifikant          13722\n",
       "Schwer                2026\n",
       "Name: ACCTYPE, dtype: int64"
      ]
     },
     "execution_count": 47,
     "metadata": {},
     "output_type": "execute_result"
    }
   ],
   "source": [
    "df['ACCTYPE'].value_counts()"
   ]
  },
  {
   "cell_type": "markdown",
   "metadata": {},
   "source": [
    "#### Clusterung der Temperaturen <a class=\"anchor\" id=\"temp\"></a>"
   ]
  },
  {
   "cell_type": "code",
   "execution_count": 48,
   "metadata": {},
   "outputs": [],
   "source": [
    "# Funktion zur Aufteilung der Temperaturen in 5 Gruppen\n",
    "def clusterTemp(temp):\n",
    "    cluster = np.array([[32, \"Heiß (>= 32° C)\"],[20, \"Warm (20° bis 31,99° C)\"],[0, \"Moderat (0° bis 19,99° C)\"], [-30, \"Kalt (-30° - 0,01° C)\"], [-45, \"Sehr Kalt (-45° - 30,01° C)\"]])\n",
    "    for x in cluster:\n",
    "        if ((temp-32)*5/9) >= int(x[0]):\n",
    "            return x[1]"
   ]
  },
  {
   "cell_type": "code",
   "execution_count": 49,
   "metadata": {},
   "outputs": [],
   "source": [
    "# Erstellung des neuen Merkmals TEMP_CLUSTER\n",
    "df['TEMP_CLUSTER'] = df.apply(lambda row : clusterTemp(row[\"TEMP\"]), axis=1)"
   ]
  },
  {
   "cell_type": "markdown",
   "metadata": {},
   "source": [
    "#### Reduzierung der NaN Values bei Streckenklasse <a class=\"anchor\" id=\"trkcls\"></a>"
   ]
  },
  {
   "cell_type": "code",
   "execution_count": 50,
   "metadata": {},
   "outputs": [],
   "source": [
    "spd_limit = pd.read_csv('resources/TRACK_SPEED_LIMIT.csv',sep=';',encoding='latin1',dtype = {\"TRK_CLASS\" : \"str\"})"
   ]
  },
  {
   "cell_type": "code",
   "execution_count": 51,
   "metadata": {},
   "outputs": [],
   "source": [
    "def traintype(typeq):\n",
    "    switcher= {\n",
    "        \"1\":'Freight',\n",
    "        \"2\":'Passenger',\n",
    "        \"3\":'Passenger',\n",
    "        \"4\":'Freight',\n",
    "        \"5\":'Freight',\n",
    "        \"6\":'Freight',\n",
    "        \"7\":'Freight',\n",
    "        \"8\":'Freight',\n",
    "        \"9\":'Freight',\n",
    "        \"A\":'Freight',\n",
    "        \"B\":'Passenger',\n",
    "        \"C\":'Passenger',\n",
    "        \"D\":'Passenger',\n",
    "        \"E\":'Passenger'  \n",
    "    }\n",
    "    return switcher.get(typeq,\"NaN\")"
   ]
  },
  {
   "cell_type": "code",
   "execution_count": 52,
   "metadata": {},
   "outputs": [],
   "source": [
    "def getTrkClass(trkclas, trnspd, highspd, typeq):\n",
    "    if pd.notna(trkclas) and trkclas != \"\":\n",
    "        return trkclas\n",
    "    else :\n",
    "        if pd.notna(typeq):\n",
    "            trkclass = \"1\";\n",
    "            if highspd>0:\n",
    "                speed = highspd\n",
    "            else:\n",
    "                speed = trnspd\n",
    "            trntype = traintype (typeq)\n",
    "            for index, row in spd_limit.iterrows():\n",
    "                if speed >= row[trntype]:\n",
    "                    trkclass = row[\"TRK_CLASS\"]\n",
    "            return trkclass"
   ]
  },
  {
   "cell_type": "code",
   "execution_count": 53,
   "metadata": {},
   "outputs": [
    {
     "data": {
      "text/plain": [
       "False    93481\n",
       "True      1754\n",
       "Name: TRKCLAS, dtype: int64"
      ]
     },
     "execution_count": 53,
     "metadata": {},
     "output_type": "execute_result"
    }
   ],
   "source": [
    "df['TRKCLAS'].isnull().value_counts()"
   ]
  },
  {
   "cell_type": "code",
   "execution_count": 54,
   "metadata": {},
   "outputs": [],
   "source": [
    "df['TRKCLAS'] = df.apply(lambda row : getTrkClass(row['TRKCLAS'], row[\"TRNSPD\"], row[\"HIGHSPD\"], row[\"TYPEQ\"]), axis=1)"
   ]
  },
  {
   "cell_type": "code",
   "execution_count": 55,
   "metadata": {},
   "outputs": [
    {
     "data": {
      "text/plain": [
       "False    95126\n",
       "True       109\n",
       "Name: TRKCLAS, dtype: int64"
      ]
     },
     "execution_count": 55,
     "metadata": {},
     "output_type": "execute_result"
    }
   ],
   "source": [
    "df['TRKCLAS'].isnull().value_counts()"
   ]
  },
  {
   "cell_type": "markdown",
   "metadata": {},
   "source": [
    "#### Überprüfung, ob es zu einer Geschwindigkeitsüberschreitung kam <a class=\"anchor\" id=\"spd_too_high\"></a>"
   ]
  },
  {
   "cell_type": "code",
   "execution_count": 56,
   "metadata": {},
   "outputs": [],
   "source": [
    "def speedTooHigh(speed,trkclas,typeq):\n",
    "    if pd.notna(trkclas) and pd.notna(typeq) and pd.notna(speed) and trkclas != '':\n",
    "        trntype = traintype (typeq)\n",
    "        limit = spd_limit.loc[spd_limit['TRK_CLASS'] == trkclas, trntype]\n",
    "        if speed <= limit.values[0]:\n",
    "            return False\n",
    "        else:\n",
    "            return True"
   ]
  },
  {
   "cell_type": "code",
   "execution_count": 57,
   "metadata": {},
   "outputs": [],
   "source": [
    "df[\"SPD_TOO_HIGH\"] = df.apply(lambda row : speedTooHigh(row[\"SPEED\"], row[\"TRKCLAS\"], row[\"TYPEQ\"]), axis=1)"
   ]
  },
  {
   "cell_type": "code",
   "execution_count": 58,
   "metadata": {},
   "outputs": [
    {
     "data": {
      "text/plain": [
       "False    88326\n",
       "True      6909\n",
       "Name: SPD_TOO_HIGH, dtype: int64"
      ]
     },
     "execution_count": 58,
     "metadata": {},
     "output_type": "execute_result"
    }
   ],
   "source": [
    "df['SPD_TOO_HIGH'].isnull().value_counts()"
   ]
  },
  {
   "cell_type": "markdown",
   "metadata": {},
   "source": [
    "#### Bestimmung der Jahreszeit <a class=\"anchor\" id=\"jahreszeit\"></a>"
   ]
  },
  {
   "cell_type": "code",
   "execution_count": 59,
   "metadata": {},
   "outputs": [],
   "source": [
    "Y = 2000 # dummy leap year to allow input X-02-29 (leap day)\n",
    "seasons = [('Winter', (date(Y,  1,  1),  date(Y,  3, 20))),\n",
    "           ('Frühling', (date(Y,  3, 21),  date(Y,  6, 20))),\n",
    "           ('Sommer', (date(Y,  6, 21),  date(Y,  9, 22))),\n",
    "           ('Herbst', (date(Y,  9, 23),  date(Y, 12, 20))),\n",
    "           ('Winter', (date(Y, 12, 21),  date(Y, 12, 31)))]"
   ]
  },
  {
   "cell_type": "code",
   "execution_count": 60,
   "metadata": {},
   "outputs": [],
   "source": [
    "def getJahreszeiten(now):\n",
    "    if isinstance(now, datetime):\n",
    "        now = now.date()\n",
    "    now = now.replace(year=Y)\n",
    "    return next(season for season, (start, end) in seasons\n",
    "                if start <= now <= end)"
   ]
  },
  {
   "cell_type": "code",
   "execution_count": 61,
   "metadata": {},
   "outputs": [],
   "source": [
    "df['Jahreszeit'] = df.apply(lambda row : getJahreszeiten(datetime.strptime(str(row['DAY']) + \"/\" + str(row['MONTH']) + \"/\" + str(row['YEAR4']), '%d/%m/%Y')), axis=1)"
   ]
  },
  {
   "cell_type": "markdown",
   "metadata": {},
   "source": [
    "#### Bestimmung der Zugart  <a class=\"anchor\" id=\"EQUIPMENT_TYPE\"></a>"
   ]
  },
  {
   "cell_type": "code",
   "execution_count": 62,
   "metadata": {},
   "outputs": [],
   "source": [
    "def equipmenttype(typeq): \n",
    "    switcher= {\n",
    "        \"1\":'Güterzug',\n",
    "        \"2\":'Personenzug',\n",
    "        \"3\":'Nahverkehrszug',\n",
    "        \"4\":'Arbeitszug',\n",
    "        \"5\":'Einzelne Wagen',\n",
    "        \"6\":'Einzelne Wagen',\n",
    "        \"7\":'Depot/Rangieren',\n",
    "        \"8\":'Lokomotive',\n",
    "        \"9\":'Wartungszug',\n",
    "        \"A\":'Wartungszug',\n",
    "        \"B\":'Personenzug',\n",
    "        \"C\":'Nahverkehrszug',\n",
    "        \"D\":'Personenzug',\n",
    "        \"E\":'Personenzug'  \n",
    "    }\n",
    "    return switcher.get(typeq,\"NaN\")"
   ]
  },
  {
   "cell_type": "code",
   "execution_count": 63,
   "metadata": {},
   "outputs": [],
   "source": [
    "df.loc[(df['TYPEQ'].notnull()),'EQUIPMENT_TYPE'] = df.apply(lambda row : equipmenttype(row[\"TYPEQ\"]), axis=1)"
   ]
  },
  {
   "cell_type": "code",
   "execution_count": 64,
   "metadata": {},
   "outputs": [
    {
     "data": {
      "text/plain": [
       "Güterzug           48501\n",
       "Depot/Rangieren    24802\n",
       "Einzelne Wagen      6443\n",
       "Personenzug         3556\n",
       "Lokomotive          3428\n",
       "Nahverkehrszug       611\n",
       "Arbeitszug           546\n",
       "Wartungszug          439\n",
       "Name: EQUIPMENT_TYPE, dtype: int64"
      ]
     },
     "execution_count": 64,
     "metadata": {},
     "output_type": "execute_result"
    }
   ],
   "source": [
    "df['EQUIPMENT_TYPE'].value_counts()"
   ]
  },
  {
   "cell_type": "markdown",
   "metadata": {},
   "source": [
    "#### Ersetzen der MissingValues in der Spalte Zuggewicht <a class=\"anchor\" id=\"TONS\"></a>\n",
    "Die MV Werte in der Spalte TONS werden anhand einer Regression mit der Anzahl der leeren und beladenen Wagons ermittelt"
   ]
  },
  {
   "cell_type": "code",
   "execution_count": 65,
   "metadata": {},
   "outputs": [],
   "source": [
    "df.loc[(df['EQUIPMENT_TYPE']!='Locomotive')&(df['TONS']==0), 'TONS'] = np.NaN"
   ]
  },
  {
   "cell_type": "markdown",
   "metadata": {},
   "source": [
    "**Korrelationsanalyse der Wagons gegenüber des Zuggewichtes**"
   ]
  },
  {
   "cell_type": "code",
   "execution_count": 66,
   "metadata": {},
   "outputs": [
    {
     "data": {
      "text/html": [
       "<div>\n",
       "<style scoped>\n",
       "    .dataframe tbody tr th:only-of-type {\n",
       "        vertical-align: middle;\n",
       "    }\n",
       "\n",
       "    .dataframe tbody tr th {\n",
       "        vertical-align: top;\n",
       "    }\n",
       "\n",
       "    .dataframe thead th {\n",
       "        text-align: right;\n",
       "    }\n",
       "</style>\n",
       "<table border=\"1\" class=\"dataframe\">\n",
       "  <thead>\n",
       "    <tr style=\"text-align: right;\">\n",
       "      <th></th>\n",
       "      <th>TONS</th>\n",
       "      <th>LOADF1</th>\n",
       "      <th>LOADP1</th>\n",
       "      <th>EMPTYF1</th>\n",
       "      <th>EMPTYP1</th>\n",
       "      <th>LOADF2</th>\n",
       "      <th>EMPTYF2</th>\n",
       "      <th>LOADP2</th>\n",
       "      <th>EMPTYP2</th>\n",
       "    </tr>\n",
       "  </thead>\n",
       "  <tbody>\n",
       "    <tr>\n",
       "      <th>TONS</th>\n",
       "      <td>1.000000</td>\n",
       "      <td>0.809320</td>\n",
       "      <td>-0.016189</td>\n",
       "      <td>-0.051267</td>\n",
       "      <td>-0.011209</td>\n",
       "      <td>0.326347</td>\n",
       "      <td>-0.065324</td>\n",
       "      <td>-0.015614</td>\n",
       "      <td>-0.008901</td>\n",
       "    </tr>\n",
       "    <tr>\n",
       "      <th>LOADF1</th>\n",
       "      <td>0.809320</td>\n",
       "      <td>1.000000</td>\n",
       "      <td>-0.126643</td>\n",
       "      <td>-0.048710</td>\n",
       "      <td>-0.086957</td>\n",
       "      <td>0.478319</td>\n",
       "      <td>-0.051576</td>\n",
       "      <td>-0.045432</td>\n",
       "      <td>-0.057734</td>\n",
       "    </tr>\n",
       "    <tr>\n",
       "      <th>LOADP1</th>\n",
       "      <td>-0.016189</td>\n",
       "      <td>-0.126643</td>\n",
       "      <td>1.000000</td>\n",
       "      <td>-0.088790</td>\n",
       "      <td>-0.002417</td>\n",
       "      <td>-0.076259</td>\n",
       "      <td>-0.053538</td>\n",
       "      <td>0.350640</td>\n",
       "      <td>-0.000074</td>\n",
       "    </tr>\n",
       "    <tr>\n",
       "      <th>EMPTYF1</th>\n",
       "      <td>-0.051267</td>\n",
       "      <td>-0.048710</td>\n",
       "      <td>-0.088790</td>\n",
       "      <td>1.000000</td>\n",
       "      <td>-0.060414</td>\n",
       "      <td>-0.101451</td>\n",
       "      <td>0.439558</td>\n",
       "      <td>-0.031659</td>\n",
       "      <td>-0.039239</td>\n",
       "    </tr>\n",
       "    <tr>\n",
       "      <th>EMPTYP1</th>\n",
       "      <td>-0.011209</td>\n",
       "      <td>-0.086957</td>\n",
       "      <td>-0.002417</td>\n",
       "      <td>-0.060414</td>\n",
       "      <td>1.000000</td>\n",
       "      <td>-0.054401</td>\n",
       "      <td>-0.032860</td>\n",
       "      <td>0.000847</td>\n",
       "      <td>0.469875</td>\n",
       "    </tr>\n",
       "    <tr>\n",
       "      <th>LOADF2</th>\n",
       "      <td>0.326347</td>\n",
       "      <td>0.478319</td>\n",
       "      <td>-0.076259</td>\n",
       "      <td>-0.101451</td>\n",
       "      <td>-0.054401</td>\n",
       "      <td>1.000000</td>\n",
       "      <td>-0.010344</td>\n",
       "      <td>-0.025885</td>\n",
       "      <td>-0.034764</td>\n",
       "    </tr>\n",
       "    <tr>\n",
       "      <th>EMPTYF2</th>\n",
       "      <td>-0.065324</td>\n",
       "      <td>-0.051576</td>\n",
       "      <td>-0.053538</td>\n",
       "      <td>0.439558</td>\n",
       "      <td>-0.032860</td>\n",
       "      <td>-0.010344</td>\n",
       "      <td>1.000000</td>\n",
       "      <td>-0.019676</td>\n",
       "      <td>-0.022186</td>\n",
       "    </tr>\n",
       "    <tr>\n",
       "      <th>LOADP2</th>\n",
       "      <td>-0.015614</td>\n",
       "      <td>-0.045432</td>\n",
       "      <td>0.350640</td>\n",
       "      <td>-0.031659</td>\n",
       "      <td>0.000847</td>\n",
       "      <td>-0.025885</td>\n",
       "      <td>-0.019676</td>\n",
       "      <td>1.000000</td>\n",
       "      <td>0.008370</td>\n",
       "    </tr>\n",
       "    <tr>\n",
       "      <th>EMPTYP2</th>\n",
       "      <td>-0.008901</td>\n",
       "      <td>-0.057734</td>\n",
       "      <td>-0.000074</td>\n",
       "      <td>-0.039239</td>\n",
       "      <td>0.469875</td>\n",
       "      <td>-0.034764</td>\n",
       "      <td>-0.022186</td>\n",
       "      <td>0.008370</td>\n",
       "      <td>1.000000</td>\n",
       "    </tr>\n",
       "  </tbody>\n",
       "</table>\n",
       "</div>"
      ],
      "text/plain": [
       "             TONS    LOADF1    LOADP1   EMPTYF1   EMPTYP1    LOADF2   EMPTYF2  \\\n",
       "TONS     1.000000  0.809320 -0.016189 -0.051267 -0.011209  0.326347 -0.065324   \n",
       "LOADF1   0.809320  1.000000 -0.126643 -0.048710 -0.086957  0.478319 -0.051576   \n",
       "LOADP1  -0.016189 -0.126643  1.000000 -0.088790 -0.002417 -0.076259 -0.053538   \n",
       "EMPTYF1 -0.051267 -0.048710 -0.088790  1.000000 -0.060414 -0.101451  0.439558   \n",
       "EMPTYP1 -0.011209 -0.086957 -0.002417 -0.060414  1.000000 -0.054401 -0.032860   \n",
       "LOADF2   0.326347  0.478319 -0.076259 -0.101451 -0.054401  1.000000 -0.010344   \n",
       "EMPTYF2 -0.065324 -0.051576 -0.053538  0.439558 -0.032860 -0.010344  1.000000   \n",
       "LOADP2  -0.015614 -0.045432  0.350640 -0.031659  0.000847 -0.025885 -0.019676   \n",
       "EMPTYP2 -0.008901 -0.057734 -0.000074 -0.039239  0.469875 -0.034764 -0.022186   \n",
       "\n",
       "           LOADP2   EMPTYP2  \n",
       "TONS    -0.015614 -0.008901  \n",
       "LOADF1  -0.045432 -0.057734  \n",
       "LOADP1   0.350640 -0.000074  \n",
       "EMPTYF1 -0.031659 -0.039239  \n",
       "EMPTYP1  0.000847  0.469875  \n",
       "LOADF2  -0.025885 -0.034764  \n",
       "EMPTYF2 -0.019676 -0.022186  \n",
       "LOADP2   1.000000  0.008370  \n",
       "EMPTYP2  0.008370  1.000000  "
      ]
     },
     "execution_count": 66,
     "metadata": {},
     "output_type": "execute_result"
    }
   ],
   "source": [
    "df[df['EQUIPMENT_TYPE']!='Locomotive'][['INCDTNO','TONS','LOADF1', 'LOADP1', 'EMPTYF1', 'EMPTYP1', 'LOADF2', 'EMPTYF2', 'LOADP2', 'EMPTYP2']].corr()"
   ]
  },
  {
   "cell_type": "code",
   "execution_count": 67,
   "metadata": {},
   "outputs": [
    {
     "data": {
      "text/html": [
       "<div>\n",
       "<style scoped>\n",
       "    .dataframe tbody tr th:only-of-type {\n",
       "        vertical-align: middle;\n",
       "    }\n",
       "\n",
       "    .dataframe tbody tr th {\n",
       "        vertical-align: top;\n",
       "    }\n",
       "\n",
       "    .dataframe thead th {\n",
       "        text-align: right;\n",
       "    }\n",
       "</style>\n",
       "<table border=\"1\" class=\"dataframe\">\n",
       "  <thead>\n",
       "    <tr style=\"text-align: right;\">\n",
       "      <th></th>\n",
       "      <th>INCDTNO</th>\n",
       "      <th>TONS</th>\n",
       "      <th>LOADF1</th>\n",
       "      <th>LOADP1</th>\n",
       "      <th>EMPTYF1</th>\n",
       "      <th>EMPTYP1</th>\n",
       "      <th>LOADF2</th>\n",
       "      <th>EMPTYF2</th>\n",
       "      <th>LOADP2</th>\n",
       "      <th>EMPTYP2</th>\n",
       "    </tr>\n",
       "  </thead>\n",
       "  <tbody>\n",
       "    <tr>\n",
       "      <th>0</th>\n",
       "      <td>LA1904</td>\n",
       "      <td>7100.0</td>\n",
       "      <td>56</td>\n",
       "      <td>0</td>\n",
       "      <td>56</td>\n",
       "      <td>0</td>\n",
       "      <td>0</td>\n",
       "      <td>3</td>\n",
       "      <td>0</td>\n",
       "      <td>0</td>\n",
       "    </tr>\n",
       "    <tr>\n",
       "      <th>1</th>\n",
       "      <td>RE902</td>\n",
       "      <td>NaN</td>\n",
       "      <td>37</td>\n",
       "      <td>0</td>\n",
       "      <td>1</td>\n",
       "      <td>0</td>\n",
       "      <td>3</td>\n",
       "      <td>0</td>\n",
       "      <td>0</td>\n",
       "      <td>0</td>\n",
       "    </tr>\n",
       "    <tr>\n",
       "      <th>2</th>\n",
       "      <td>YKR0490</td>\n",
       "      <td>250.0</td>\n",
       "      <td>2</td>\n",
       "      <td>0</td>\n",
       "      <td>0</td>\n",
       "      <td>0</td>\n",
       "      <td>2</td>\n",
       "      <td>0</td>\n",
       "      <td>0</td>\n",
       "      <td>0</td>\n",
       "    </tr>\n",
       "    <tr>\n",
       "      <th>3</th>\n",
       "      <td>G1693</td>\n",
       "      <td>8744.0</td>\n",
       "      <td>75</td>\n",
       "      <td>0</td>\n",
       "      <td>12</td>\n",
       "      <td>0</td>\n",
       "      <td>5</td>\n",
       "      <td>0</td>\n",
       "      <td>0</td>\n",
       "      <td>0</td>\n",
       "    </tr>\n",
       "    <tr>\n",
       "      <th>4</th>\n",
       "      <td>G1694</td>\n",
       "      <td>NaN</td>\n",
       "      <td>2</td>\n",
       "      <td>0</td>\n",
       "      <td>0</td>\n",
       "      <td>0</td>\n",
       "      <td>0</td>\n",
       "      <td>0</td>\n",
       "      <td>0</td>\n",
       "      <td>0</td>\n",
       "    </tr>\n",
       "    <tr>\n",
       "      <th>...</th>\n",
       "      <td>...</td>\n",
       "      <td>...</td>\n",
       "      <td>...</td>\n",
       "      <td>...</td>\n",
       "      <td>...</td>\n",
       "      <td>...</td>\n",
       "      <td>...</td>\n",
       "      <td>...</td>\n",
       "      <td>...</td>\n",
       "      <td>...</td>\n",
       "    </tr>\n",
       "    <tr>\n",
       "      <th>116203</th>\n",
       "      <td>240189101</td>\n",
       "      <td>2500.0</td>\n",
       "      <td>38</td>\n",
       "      <td>0</td>\n",
       "      <td>0</td>\n",
       "      <td>0</td>\n",
       "      <td>0</td>\n",
       "      <td>0</td>\n",
       "      <td>0</td>\n",
       "      <td>0</td>\n",
       "    </tr>\n",
       "    <tr>\n",
       "      <th>116204</th>\n",
       "      <td>12889</td>\n",
       "      <td>NaN</td>\n",
       "      <td>1</td>\n",
       "      <td>0</td>\n",
       "      <td>0</td>\n",
       "      <td>0</td>\n",
       "      <td>1</td>\n",
       "      <td>0</td>\n",
       "      <td>0</td>\n",
       "      <td>0</td>\n",
       "    </tr>\n",
       "    <tr>\n",
       "      <th>116205</th>\n",
       "      <td>12889</td>\n",
       "      <td>NaN</td>\n",
       "      <td>20</td>\n",
       "      <td>0</td>\n",
       "      <td>50</td>\n",
       "      <td>0</td>\n",
       "      <td>0</td>\n",
       "      <td>0</td>\n",
       "      <td>0</td>\n",
       "      <td>0</td>\n",
       "    </tr>\n",
       "    <tr>\n",
       "      <th>116208</th>\n",
       "      <td>012589A</td>\n",
       "      <td>NaN</td>\n",
       "      <td>0</td>\n",
       "      <td>0</td>\n",
       "      <td>0</td>\n",
       "      <td>0</td>\n",
       "      <td>0</td>\n",
       "      <td>0</td>\n",
       "      <td>0</td>\n",
       "      <td>0</td>\n",
       "    </tr>\n",
       "    <tr>\n",
       "      <th>116209</th>\n",
       "      <td>EQ890102</td>\n",
       "      <td>NaN</td>\n",
       "      <td>0</td>\n",
       "      <td>0</td>\n",
       "      <td>0</td>\n",
       "      <td>10</td>\n",
       "      <td>0</td>\n",
       "      <td>0</td>\n",
       "      <td>0</td>\n",
       "      <td>3</td>\n",
       "    </tr>\n",
       "  </tbody>\n",
       "</table>\n",
       "<p>95235 rows × 10 columns</p>\n",
       "</div>"
      ],
      "text/plain": [
       "          INCDTNO    TONS  LOADF1  LOADP1  EMPTYF1  EMPTYP1  LOADF2  EMPTYF2  \\\n",
       "0          LA1904  7100.0      56       0       56        0       0        3   \n",
       "1           RE902     NaN      37       0        1        0       3        0   \n",
       "2         YKR0490   250.0       2       0        0        0       2        0   \n",
       "3           G1693  8744.0      75       0       12        0       5        0   \n",
       "4           G1694     NaN       2       0        0        0       0        0   \n",
       "...           ...     ...     ...     ...      ...      ...     ...      ...   \n",
       "116203  240189101  2500.0      38       0        0        0       0        0   \n",
       "116204      12889     NaN       1       0        0        0       1        0   \n",
       "116205      12889     NaN      20       0       50        0       0        0   \n",
       "116208    012589A     NaN       0       0        0        0       0        0   \n",
       "116209   EQ890102     NaN       0       0        0       10       0        0   \n",
       "\n",
       "        LOADP2  EMPTYP2  \n",
       "0            0        0  \n",
       "1            0        0  \n",
       "2            0        0  \n",
       "3            0        0  \n",
       "4            0        0  \n",
       "...        ...      ...  \n",
       "116203       0        0  \n",
       "116204       0        0  \n",
       "116205       0        0  \n",
       "116208       0        0  \n",
       "116209       0        3  \n",
       "\n",
       "[95235 rows x 10 columns]"
      ]
     },
     "execution_count": 67,
     "metadata": {},
     "output_type": "execute_result"
    }
   ],
   "source": [
    "df[df['EQUIPMENT_TYPE']!='Locomotive'][['INCDTNO','TONS','LOADF1', 'LOADP1', 'EMPTYF1', 'EMPTYP1', 'LOADF2', 'EMPTYF2', 'LOADP2', 'EMPTYP2']]"
   ]
  },
  {
   "cell_type": "code",
   "execution_count": 68,
   "metadata": {},
   "outputs": [],
   "source": [
    "data_fit = pd.DataFrame(MICE().fit_transform(df[['TONS', 'LOADF1', 'LOADP1', 'EMPTYF1', 'EMPTYP1', 'LOADF2', 'EMPTYF2', 'LOADP2', 'EMPTYP2']]))\n",
    "data_fit.columns = ['TONS', 'LOADF1', 'LOADP1', 'EMPTYF1', 'EMPTYP1', 'LOADF2', 'EMPTYF2', 'LOADP2', 'EMPTYP2']"
   ]
  },
  {
   "cell_type": "code",
   "execution_count": 69,
   "metadata": {},
   "outputs": [],
   "source": [
    "def negValue(tons):\n",
    "    if tons < 0: \n",
    "        return 0\n",
    "    else :\n",
    "        return tons"
   ]
  },
  {
   "cell_type": "code",
   "execution_count": 70,
   "metadata": {},
   "outputs": [],
   "source": [
    "data_fit['TONS'] = data_fit.apply(lambda row : negValue(row[\"TONS\"]), axis=1)"
   ]
  },
  {
   "cell_type": "code",
   "execution_count": 71,
   "metadata": {},
   "outputs": [],
   "source": [
    "df['TONS'] = data_fit[\"TONS\"].values"
   ]
  },
  {
   "cell_type": "code",
   "execution_count": 72,
   "metadata": {},
   "outputs": [
    {
     "data": {
      "text/html": [
       "<div>\n",
       "<style scoped>\n",
       "    .dataframe tbody tr th:only-of-type {\n",
       "        vertical-align: middle;\n",
       "    }\n",
       "\n",
       "    .dataframe tbody tr th {\n",
       "        vertical-align: top;\n",
       "    }\n",
       "\n",
       "    .dataframe thead th {\n",
       "        text-align: right;\n",
       "    }\n",
       "</style>\n",
       "<table border=\"1\" class=\"dataframe\">\n",
       "  <thead>\n",
       "    <tr style=\"text-align: right;\">\n",
       "      <th></th>\n",
       "      <th>INCDTNO</th>\n",
       "      <th>TONS</th>\n",
       "      <th>LOADF1</th>\n",
       "      <th>LOADP1</th>\n",
       "      <th>EMPTYF1</th>\n",
       "      <th>EMPTYP1</th>\n",
       "      <th>LOADF2</th>\n",
       "      <th>EMPTYF2</th>\n",
       "    </tr>\n",
       "  </thead>\n",
       "  <tbody>\n",
       "    <tr>\n",
       "      <th>0</th>\n",
       "      <td>LA1904</td>\n",
       "      <td>7100.000000</td>\n",
       "      <td>56</td>\n",
       "      <td>0</td>\n",
       "      <td>56</td>\n",
       "      <td>0</td>\n",
       "      <td>0</td>\n",
       "      <td>3</td>\n",
       "    </tr>\n",
       "    <tr>\n",
       "      <th>1</th>\n",
       "      <td>RE902</td>\n",
       "      <td>4333.188214</td>\n",
       "      <td>37</td>\n",
       "      <td>0</td>\n",
       "      <td>1</td>\n",
       "      <td>0</td>\n",
       "      <td>3</td>\n",
       "      <td>0</td>\n",
       "    </tr>\n",
       "    <tr>\n",
       "      <th>2</th>\n",
       "      <td>YKR0490</td>\n",
       "      <td>250.000000</td>\n",
       "      <td>2</td>\n",
       "      <td>0</td>\n",
       "      <td>0</td>\n",
       "      <td>0</td>\n",
       "      <td>2</td>\n",
       "      <td>0</td>\n",
       "    </tr>\n",
       "    <tr>\n",
       "      <th>3</th>\n",
       "      <td>G1693</td>\n",
       "      <td>8744.000000</td>\n",
       "      <td>75</td>\n",
       "      <td>0</td>\n",
       "      <td>12</td>\n",
       "      <td>0</td>\n",
       "      <td>5</td>\n",
       "      <td>0</td>\n",
       "    </tr>\n",
       "    <tr>\n",
       "      <th>4</th>\n",
       "      <td>G1694</td>\n",
       "      <td>262.404823</td>\n",
       "      <td>2</td>\n",
       "      <td>0</td>\n",
       "      <td>0</td>\n",
       "      <td>0</td>\n",
       "      <td>0</td>\n",
       "      <td>0</td>\n",
       "    </tr>\n",
       "    <tr>\n",
       "      <th>...</th>\n",
       "      <td>...</td>\n",
       "      <td>...</td>\n",
       "      <td>...</td>\n",
       "      <td>...</td>\n",
       "      <td>...</td>\n",
       "      <td>...</td>\n",
       "      <td>...</td>\n",
       "      <td>...</td>\n",
       "    </tr>\n",
       "    <tr>\n",
       "      <th>116203</th>\n",
       "      <td>240189101</td>\n",
       "      <td>2500.000000</td>\n",
       "      <td>38</td>\n",
       "      <td>0</td>\n",
       "      <td>0</td>\n",
       "      <td>0</td>\n",
       "      <td>0</td>\n",
       "      <td>0</td>\n",
       "    </tr>\n",
       "    <tr>\n",
       "      <th>116204</th>\n",
       "      <td>12889</td>\n",
       "      <td>168.256439</td>\n",
       "      <td>1</td>\n",
       "      <td>0</td>\n",
       "      <td>0</td>\n",
       "      <td>0</td>\n",
       "      <td>1</td>\n",
       "      <td>0</td>\n",
       "    </tr>\n",
       "    <tr>\n",
       "      <th>116205</th>\n",
       "      <td>12889</td>\n",
       "      <td>3832.358975</td>\n",
       "      <td>20</td>\n",
       "      <td>0</td>\n",
       "      <td>50</td>\n",
       "      <td>0</td>\n",
       "      <td>0</td>\n",
       "      <td>0</td>\n",
       "    </tr>\n",
       "    <tr>\n",
       "      <th>116208</th>\n",
       "      <td>012589A</td>\n",
       "      <td>34.889974</td>\n",
       "      <td>0</td>\n",
       "      <td>0</td>\n",
       "      <td>0</td>\n",
       "      <td>0</td>\n",
       "      <td>0</td>\n",
       "      <td>0</td>\n",
       "    </tr>\n",
       "    <tr>\n",
       "      <th>116209</th>\n",
       "      <td>EQ890102</td>\n",
       "      <td>223.827103</td>\n",
       "      <td>0</td>\n",
       "      <td>0</td>\n",
       "      <td>0</td>\n",
       "      <td>10</td>\n",
       "      <td>0</td>\n",
       "      <td>0</td>\n",
       "    </tr>\n",
       "  </tbody>\n",
       "</table>\n",
       "<p>95235 rows × 8 columns</p>\n",
       "</div>"
      ],
      "text/plain": [
       "          INCDTNO         TONS  LOADF1  LOADP1  EMPTYF1  EMPTYP1  LOADF2  \\\n",
       "0          LA1904  7100.000000      56       0       56        0       0   \n",
       "1           RE902  4333.188214      37       0        1        0       3   \n",
       "2         YKR0490   250.000000       2       0        0        0       2   \n",
       "3           G1693  8744.000000      75       0       12        0       5   \n",
       "4           G1694   262.404823       2       0        0        0       0   \n",
       "...           ...          ...     ...     ...      ...      ...     ...   \n",
       "116203  240189101  2500.000000      38       0        0        0       0   \n",
       "116204      12889   168.256439       1       0        0        0       1   \n",
       "116205      12889  3832.358975      20       0       50        0       0   \n",
       "116208    012589A    34.889974       0       0        0        0       0   \n",
       "116209   EQ890102   223.827103       0       0        0       10       0   \n",
       "\n",
       "        EMPTYF2  \n",
       "0             3  \n",
       "1             0  \n",
       "2             0  \n",
       "3             0  \n",
       "4             0  \n",
       "...         ...  \n",
       "116203        0  \n",
       "116204        0  \n",
       "116205        0  \n",
       "116208        0  \n",
       "116209        0  \n",
       "\n",
       "[95235 rows x 8 columns]"
      ]
     },
     "execution_count": 72,
     "metadata": {},
     "output_type": "execute_result"
    }
   ],
   "source": [
    "df[['INCDTNO','TONS','LOADF1', 'LOADP1', 'EMPTYF1', 'EMPTYP1', 'LOADF2', 'EMPTYF2']]"
   ]
  },
  {
   "cell_type": "code",
   "execution_count": 73,
   "metadata": {},
   "outputs": [
    {
     "data": {
      "text/plain": [
       "False    95235\n",
       "Name: EQPDMG, dtype: int64"
      ]
     },
     "execution_count": 73,
     "metadata": {},
     "output_type": "execute_result"
    }
   ],
   "source": [
    "df[\"EQPDMG\"].isna().value_counts()"
   ]
  },
  {
   "cell_type": "code",
   "execution_count": 74,
   "metadata": {},
   "outputs": [],
   "source": [
    "#df.loc[((df['ACCDMG']==0)|(df['ACCDMG'].isna()))&((df['TRKDMG']==0)|(df['TRKDMG'].isna()))&((df['EQPDMG']==0)|(df['EQPDMG'].isna())), 'TRKDMG'] = np.NaN\n",
    "#df.loc[((df['ACCDMG']==0)|(df['ACCDMG'].isna()))&((df['TRKDMG']==0)|(df['TRKDMG'].isna()))&((df['EQPDMG']==0)|(df['EQPDMG'].isna())), 'EQPDMG'] = np.NaN\n",
    "#df.loc[((df['ACCDMG']==0)|(df['ACCDMG'].isna()))&((df['TRKDMG']==0)|(df['TRKDMG'].isna()))&((df['EQPDMG']==0)|(df['EQPDMG'].isna())), 'INFRASTRUCTURE_DMG'] = np.NaN"
   ]
  },
  {
   "cell_type": "code",
   "execution_count": 75,
   "metadata": {},
   "outputs": [
    {
     "data": {
      "text/plain": [
       "False    95235\n",
       "Name: EQPDMG, dtype: int64"
      ]
     },
     "execution_count": 75,
     "metadata": {},
     "output_type": "execute_result"
    }
   ],
   "source": [
    "df[\"EQPDMG\"].isna().value_counts()"
   ]
  },
  {
   "cell_type": "code",
   "execution_count": 76,
   "metadata": {},
   "outputs": [
    {
     "data": {
      "text/plain": [
       "False    95235\n",
       "Name: INFRASTRUCTURE_DMG, dtype: int64"
      ]
     },
     "execution_count": 76,
     "metadata": {},
     "output_type": "execute_result"
    }
   ],
   "source": [
    "df[\"INFRASTRUCTURE_DMG\"].isna().value_counts()"
   ]
  },
  {
   "cell_type": "markdown",
   "metadata": {},
   "source": [
    "#### Entfernung aller Unfälle mit mehr als einen beteiligten Zug <a class=\"anchor\" id=\"entfernen_mit_mehr_zügen\"></a>"
   ]
  },
  {
   "cell_type": "code",
   "execution_count": 77,
   "metadata": {},
   "outputs": [
    {
     "data": {
      "text/plain": [
       "95235"
      ]
     },
     "execution_count": 77,
     "metadata": {},
     "output_type": "execute_result"
    }
   ],
   "source": [
    "df.shape[0]"
   ]
  },
  {
   "cell_type": "code",
   "execution_count": 78,
   "metadata": {},
   "outputs": [],
   "source": [
    "multi_train_df = df[df.duplicated(subset=[\"INCDTNO\",\"YEAR4\",\"MONTH\",\"DAY\"], keep=False)].copy()"
   ]
  },
  {
   "cell_type": "code",
   "execution_count": 79,
   "metadata": {},
   "outputs": [
    {
     "data": {
      "text/plain": [
       "17618"
      ]
     },
     "execution_count": 79,
     "metadata": {},
     "output_type": "execute_result"
    }
   ],
   "source": [
    "multi_train_df['INCDTNO'].shape[0]"
   ]
  },
  {
   "cell_type": "code",
   "execution_count": 80,
   "metadata": {},
   "outputs": [],
   "source": [
    "single_train_df=df.drop_duplicates(subset=[\"INCDTNO\",\"YEAR4\",\"MONTH\",\"DAY\"], keep=False).copy()"
   ]
  },
  {
   "cell_type": "code",
   "execution_count": 81,
   "metadata": {},
   "outputs": [
    {
     "data": {
      "text/plain": [
       "77617"
      ]
     },
     "execution_count": 81,
     "metadata": {},
     "output_type": "execute_result"
    }
   ],
   "source": [
    "single_train_df['INCDTNO'].shape[0]"
   ]
  },
  {
   "cell_type": "code",
   "execution_count": 82,
   "metadata": {},
   "outputs": [
    {
     "data": {
      "text/plain": [
       "True"
      ]
     },
     "execution_count": 82,
     "metadata": {},
     "output_type": "execute_result"
    }
   ],
   "source": [
    "True if (df.shape[0]==(multi_train_df['INCDTNO'].shape[0]+single_train_df['INCDTNO'].shape[0])) else False"
   ]
  },
  {
   "cell_type": "markdown",
   "metadata": {},
   "source": [
    "#### Entfernung aller NaN Werte <a class=\"anchor\" id=\"nan\"></a>"
   ]
  },
  {
   "cell_type": "code",
   "execution_count": 83,
   "metadata": {
    "scrolled": true
   },
   "outputs": [
    {
     "data": {
      "text/plain": [
       "77617"
      ]
     },
     "execution_count": 83,
     "metadata": {},
     "output_type": "execute_result"
    }
   ],
   "source": [
    "single_train_df.shape[0]"
   ]
  },
  {
   "cell_type": "code",
   "execution_count": 84,
   "metadata": {},
   "outputs": [
    {
     "data": {
      "text/plain": [
       "70759"
      ]
     },
     "execution_count": 84,
     "metadata": {},
     "output_type": "execute_result"
    }
   ],
   "source": [
    "single_train_df=single_train_df.dropna(subset=['TRKCLAS', 'EQUIPMENT_TYPE', 'TYPTRK', 'ACCIDENT_TYPE', 'STATE', 'WEATHER', 'VISIBLTY', 'Jahreszeit', 'TONS', 'ACCCAUSE_LVL1', 'SPEED', 'ACCCAUSE_LVL2', 'LOCOMOTIVES1', 'INFRASTRUCTURE_DMG'])\n",
    "single_train_df.shape[0]"
   ]
  },
  {
   "cell_type": "code",
   "execution_count": 85,
   "metadata": {},
   "outputs": [],
   "source": [
    "#single_train_df.to_csv (r'resources/accident_data.csv', index = False, header=True, sep=';')"
   ]
  },
  {
   "cell_type": "markdown",
   "metadata": {},
   "source": [
    "\n",
    "\n",
    "#### Mehrere beteiligte Züge <a class=\"anchor\" id=\"multi\"></a>\n"
   ]
  },
  {
   "cell_type": "code",
   "execution_count": 86,
   "metadata": {},
   "outputs": [],
   "source": [
    "train_count = multi_train_df.groupby([\"INCDTNO\",\"YEAR4\",\"MONTH\",\"DAY\"])[\"INCDTNO\"].count()"
   ]
  },
  {
   "cell_type": "code",
   "execution_count": 87,
   "metadata": {},
   "outputs": [],
   "source": [
    "def getTrainCount(incdtno, year, month, day):\n",
    "    return train_count[incdtno, year, month, day]"
   ]
  },
  {
   "cell_type": "code",
   "execution_count": 88,
   "metadata": {},
   "outputs": [],
   "source": [
    "multi_train_df['NUMBER_OF_TRAINS'] = multi_train_df.apply(lambda row : getTrainCount(row['INCDTNO'], row['YEAR4'], row['MONTH'], row['DAY']),axis=1)"
   ]
  },
  {
   "cell_type": "code",
   "execution_count": 89,
   "metadata": {},
   "outputs": [],
   "source": [
    "multi_train_df = multi_train_df.sort_values(by='EQUIPMENT_TYPE', ascending=True)\n",
    "multi_train_group = multi_train_df.groupby([\"INCDTNO\",\"YEAR4\",\"MONTH\",\"DAY\"], as_index=False)\n",
    "multi_train_list = multi_train_group.agg({'ACCDMG' : 'mean','INFRASTRUCTURE_DMG' : 'mean', 'TRKDMG' : 'sum', 'EQPDMG' : 'sum', \n",
    "                 'LOCOMOTIVES1': 'sum','LOCOMOTIVES2': 'sum', 'RREMPKLD': 'sum', 'RREMPINJ': 'sum', \n",
    "                 'PASSKLD': 'sum', 'PASSINJ': 'sum', 'OTHERKLD': 'sum', 'OTHERINJ': 'sum', 'SPEED' : 'mean', \n",
    "                 'LOADF1': 'sum', 'LOADF1': 'sum', 'LOADF2': 'sum', 'LOADF2': 'sum', 'EMPTYF1': 'sum', \n",
    "                 'EMPTYP1' : 'sum', 'LOADP1' : 'sum',\n",
    "                 'EMPTYF1': 'sum', 'EMPTYF2': 'sum', 'EMPTYF2': 'sum', 'TONS': 'sum', 'TYPE' : 'first', \n",
    "                 'TYPEQ' : 'first', 'TRKCLAS' : 'first', 'TYPTRK' : 'first', 'ACCAUSE' : 'first', \n",
    "                 'TEMP' : 'first', 'TEMP_CLUSTER' : 'first', 'VISIBLTY' : 'first', 'WEATHER' : 'first', 'STATE' : 'first', \n",
    "                 'Jahreszeit' : 'first', 'ACCIDENT_TYPE' : 'first', 'ACCCAUSE_LVL1' : 'first', 'ACCCAUSE_LVL2' : 'first', \n",
    "                                          'EQUIPMENT_TYPE' : lambda text: ''.join(text.to_string(index=False)).replace(' ', '').replace('\\n', ', ').replace('Train', ' Train').replace('CutofCars', 'Cut of Cars').replace('SingleCar', 'Single Car')})\n",
    "multi_train_list = multi_train_list.reset_index()\n",
    "multi_train_list['INFRASTRUCTURE_DMG']=multi_train_list.apply(lambda row : getInfrastrukturschaden(row['ACCDMG'],row['EQPDMG'],row['TRKDMG']),axis=1)\n",
    "multi_train_list['ACCDMG_EUR'] = multi_train_list.apply(lambda row : getEuro(c, row['INFRASTRUCTURE_DMG'], row['YEAR4'], row['MONTH'], row['DAY']), axis=1)\n",
    "multi_train_list[\"ACCTYPE\"] = multi_train_list.apply(lambda row : isSerious(row['ACCDMG_EUR'],row['RREMPKLD'] + row['PASSKLD'] + row['OTHERKLD'],row['RREMPINJ'] + row['PASSINJ'] + row['OTHERINJ']), axis=1)\n",
    "multi_train_list[\"SPD_TOO_HIGH\"] = multi_train_list.apply(lambda row : speedTooHigh(row[\"SPEED\"], row[\"TRKCLAS\"], row[\"TYPEQ\"]), axis=1)"
   ]
  },
  {
   "cell_type": "code",
   "execution_count": 90,
   "metadata": {},
   "outputs": [
    {
     "data": {
      "text/plain": [
       "False    8612\n",
       "Name: EQUIPMENT_TYPE, dtype: int64"
      ]
     },
     "execution_count": 90,
     "metadata": {},
     "output_type": "execute_result"
    }
   ],
   "source": [
    "multi_train_list['EQUIPMENT_TYPE'].isnull().value_counts()"
   ]
  },
  {
   "cell_type": "code",
   "execution_count": 91,
   "metadata": {},
   "outputs": [],
   "source": [
    "multi_train_list=multi_train_list.dropna(subset=['TRKCLAS', 'EQUIPMENT_TYPE', 'TYPTRK', 'ACCIDENT_TYPE', 'STATE', 'WEATHER', 'VISIBLTY', 'Jahreszeit', 'TONS', 'ACCCAUSE_LVL1', 'SPEED', 'ACCCAUSE_LVL2', 'LOCOMOTIVES1', 'INFRASTRUCTURE_DMG'])\n",
    "multi_train_list.shape[0]\n",
    "multi_train_list.loc[((multi_train_list['ACCDMG']>0)|(multi_train_list['ACCDMG'].isna()))&((multi_train_list['TRKDMG']==0)|(multi_train_list['TRKDMG'].isna()))&((multi_train_list['EQPDMG']==0)|(multi_train_list['EQPDMG'].isna())), 'TRKDMG'] = np.NaN\n",
    "multi_train_list.loc[((multi_train_list['ACCDMG']>0)|(multi_train_list['ACCDMG'].isna()))&((multi_train_list['TRKDMG']==0)|(multi_train_list['TRKDMG'].isna()))&((multi_train_list['EQPDMG']==0)|(multi_train_list['EQPDMG'].isna())), 'EQPDMG'] = np.NaN\n",
    "multi_train_list.loc[((multi_train_list['ACCDMG']>0)|(multi_train_list['ACCDMG'].isna()))&((multi_train_list['TRKDMG']==0)|(multi_train_list['TRKDMG'].isna()))&((multi_train_list['EQPDMG']==0)|(multi_train_list['EQPDMG'].isna())), 'INFRASTRUCTURE_DMG'] = np.NaN"
   ]
  },
  {
   "cell_type": "code",
   "execution_count": 92,
   "metadata": {},
   "outputs": [],
   "source": [
    "multi_train_list.to_csv (r'resources/multi_train_accident_data.csv', index = False, header=True, sep=';')"
   ]
  }
 ],
 "metadata": {
  "kernelspec": {
   "display_name": "Python 3",
   "language": "python",
   "name": "python3"
  },
  "language_info": {
   "codemirror_mode": {
    "name": "ipython",
    "version": 3
   },
   "file_extension": ".py",
   "mimetype": "text/x-python",
   "name": "python",
   "nbconvert_exporter": "python",
   "pygments_lexer": "ipython3",
   "version": "3.7.3"
  }
 },
 "nbformat": 4,
 "nbformat_minor": 2
}
